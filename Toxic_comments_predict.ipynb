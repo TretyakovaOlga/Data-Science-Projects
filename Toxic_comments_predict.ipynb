{
 "cells": [
  {
   "cell_type": "markdown",
   "id": "1df37b89",
   "metadata": {},
   "source": [
    "# Определение токсичности комментариев"
   ]
  },
  {
   "cell_type": "markdown",
   "id": "5e1ecf5c",
   "metadata": {},
   "source": [
    "\n",
    "**Задача:** построить модель, которая будет отсеивать токсичные комментарии на основании набора данных с разметкой о токсичности правок.</br>\n",
    "</br>\n",
    "**Условие:** метрика качества F1 не меньше 0.75."
   ]
  },
  {
   "cell_type": "markdown",
   "id": "559dcf0a",
   "metadata": {},
   "source": [
    "**План работ:**\n",
    "- подготовка данных\n",
    "- векторизация с помощью CountVectorizer\n",
    "- TF-IDF\n",
    "- Word2vec\n",
    "- Голосующий ансамбль\n",
    "- Финальное тестирование модели"
   ]
  },
  {
   "cell_type": "code",
   "execution_count": 1,
   "id": "e2253601",
   "metadata": {},
   "outputs": [
    {
     "name": "stdout",
     "output_type": "stream",
     "text": [
      "Requirement already satisfied: gensim in c:\\users\\trety\\anaconda3\\lib\\site-packages (4.2.0)\n",
      "Requirement already satisfied: numpy>=1.17.0 in c:\\users\\trety\\anaconda3\\lib\\site-packages (from gensim) (1.20.3)\n",
      "Requirement already satisfied: Cython==0.29.28 in c:\\users\\trety\\anaconda3\\lib\\site-packages (from gensim) (0.29.28)\n",
      "Requirement already satisfied: scipy>=0.18.1 in c:\\users\\trety\\anaconda3\\lib\\site-packages (from gensim) (1.7.1)\n",
      "Requirement already satisfied: smart-open>=1.8.1 in c:\\users\\trety\\anaconda3\\lib\\site-packages (from gensim) (6.1.0)\n"
     ]
    }
   ],
   "source": [
    "!pip install gensim"
   ]
  },
  {
   "cell_type": "code",
   "execution_count": 2,
   "id": "bf3cfe41",
   "metadata": {},
   "outputs": [],
   "source": [
    "#сначала импортируем необходимые библиотеки\n",
    "import pandas as pd\n",
    "import numpy as np\n",
    "import seaborn as sns\n",
    "import matplotlib.pyplot as plt\n",
    "\n",
    "import time\n",
    "\n",
    "import re\n",
    "\n",
    "from sklearn.feature_extraction.text import CountVectorizer\n",
    "from sklearn.feature_extraction.text import TfidfVectorizer\n",
    "\n",
    "import nltk\n",
    "from nltk.corpus import stopwords\n",
    "from nltk.stem import WordNetLemmatizer \n",
    "\n",
    "from gensim.models import Word2Vec\n",
    "\n",
    "from sklearn.linear_model import LogisticRegression\n",
    "from sklearn.linear_model import Ridge\n",
    "from sklearn.svm import LinearSVC\n",
    "from sklearn.tree import DecisionTreeClassifier\n",
    "from lightgbm import LGBMClassifier\n",
    "from sklearn.dummy import DummyClassifier\n",
    "\n",
    "from sklearn.model_selection import cross_val_score\n",
    "from sklearn.model_selection import train_test_split\n",
    "from sklearn.metrics import f1_score\n",
    "from sklearn.metrics import make_scorer\n",
    "\n",
    "from sklearn.preprocessing import MaxAbsScaler"
   ]
  },
  {
   "cell_type": "code",
   "execution_count": 3,
   "id": "95b26fee",
   "metadata": {},
   "outputs": [
    {
     "name": "stderr",
     "output_type": "stream",
     "text": [
      "[nltk_data] Downloading package wordnet to\n",
      "[nltk_data]     C:\\Users\\trety\\AppData\\Roaming\\nltk_data...\n",
      "[nltk_data]   Package wordnet is already up-to-date!\n",
      "[nltk_data] Downloading package punkt to\n",
      "[nltk_data]     C:\\Users\\trety\\AppData\\Roaming\\nltk_data...\n",
      "[nltk_data]   Package punkt is already up-to-date!\n",
      "[nltk_data] Downloading package stopwords to\n",
      "[nltk_data]     C:\\Users\\trety\\AppData\\Roaming\\nltk_data...\n",
      "[nltk_data]   Package stopwords is already up-to-date!\n"
     ]
    },
    {
     "data": {
      "text/plain": [
       "True"
      ]
     },
     "execution_count": 3,
     "metadata": {},
     "output_type": "execute_result"
    }
   ],
   "source": [
    "nltk.download('wordnet')\n",
    "nltk.download('punkt')\n",
    "nltk.download('stopwords')"
   ]
  },
  {
   "cell_type": "markdown",
   "id": "9c71437a",
   "metadata": {},
   "source": [
    "### Знакомство с данными и подготовка"
   ]
  },
  {
   "cell_type": "code",
   "execution_count": 4,
   "id": "3ad18103",
   "metadata": {},
   "outputs": [],
   "source": [
    "#откроем файл с данными\n",
    "\n",
    "try:\n",
    "    data = pd.read_csv('datasets/toxic_comments.csv')\n",
    "except FileNotFoundError:\n",
    "    data = pd.read_csv('/datasets/toxic_comments.csv')"
   ]
  },
  {
   "cell_type": "code",
   "execution_count": 5,
   "id": "ddae5937",
   "metadata": {},
   "outputs": [
    {
     "data": {
      "text/html": [
       "<div>\n",
       "<style scoped>\n",
       "    .dataframe tbody tr th:only-of-type {\n",
       "        vertical-align: middle;\n",
       "    }\n",
       "\n",
       "    .dataframe tbody tr th {\n",
       "        vertical-align: top;\n",
       "    }\n",
       "\n",
       "    .dataframe thead th {\n",
       "        text-align: right;\n",
       "    }\n",
       "</style>\n",
       "<table border=\"1\" class=\"dataframe\">\n",
       "  <thead>\n",
       "    <tr style=\"text-align: right;\">\n",
       "      <th></th>\n",
       "      <th>Unnamed: 0</th>\n",
       "      <th>text</th>\n",
       "      <th>toxic</th>\n",
       "    </tr>\n",
       "  </thead>\n",
       "  <tbody>\n",
       "    <tr>\n",
       "      <th>0</th>\n",
       "      <td>0</td>\n",
       "      <td>Explanation\\nWhy the edits made under my usern...</td>\n",
       "      <td>0</td>\n",
       "    </tr>\n",
       "    <tr>\n",
       "      <th>1</th>\n",
       "      <td>1</td>\n",
       "      <td>D'aww! He matches this background colour I'm s...</td>\n",
       "      <td>0</td>\n",
       "    </tr>\n",
       "    <tr>\n",
       "      <th>2</th>\n",
       "      <td>2</td>\n",
       "      <td>Hey man, I'm really not trying to edit war. It...</td>\n",
       "      <td>0</td>\n",
       "    </tr>\n",
       "    <tr>\n",
       "      <th>3</th>\n",
       "      <td>3</td>\n",
       "      <td>\"\\nMore\\nI can't make any real suggestions on ...</td>\n",
       "      <td>0</td>\n",
       "    </tr>\n",
       "    <tr>\n",
       "      <th>4</th>\n",
       "      <td>4</td>\n",
       "      <td>You, sir, are my hero. Any chance you remember...</td>\n",
       "      <td>0</td>\n",
       "    </tr>\n",
       "  </tbody>\n",
       "</table>\n",
       "</div>"
      ],
      "text/plain": [
       "   Unnamed: 0                                               text  toxic\n",
       "0           0  Explanation\\nWhy the edits made under my usern...      0\n",
       "1           1  D'aww! He matches this background colour I'm s...      0\n",
       "2           2  Hey man, I'm really not trying to edit war. It...      0\n",
       "3           3  \"\\nMore\\nI can't make any real suggestions on ...      0\n",
       "4           4  You, sir, are my hero. Any chance you remember...      0"
      ]
     },
     "execution_count": 5,
     "metadata": {},
     "output_type": "execute_result"
    }
   ],
   "source": [
    "#выведем основную информацию\n",
    "data.head()"
   ]
  },
  {
   "cell_type": "code",
   "execution_count": 6,
   "id": "bf72e474",
   "metadata": {},
   "outputs": [
    {
     "name": "stdout",
     "output_type": "stream",
     "text": [
      "<class 'pandas.core.frame.DataFrame'>\n",
      "RangeIndex: 159292 entries, 0 to 159291\n",
      "Data columns (total 3 columns):\n",
      " #   Column      Non-Null Count   Dtype \n",
      "---  ------      --------------   ----- \n",
      " 0   Unnamed: 0  159292 non-null  int64 \n",
      " 1   text        159292 non-null  object\n",
      " 2   toxic       159292 non-null  int64 \n",
      "dtypes: int64(2), object(1)\n",
      "memory usage: 3.6+ MB\n"
     ]
    }
   ],
   "source": [
    "data.info()"
   ]
  },
  {
   "cell_type": "code",
   "execution_count": 7,
   "id": "e7e4ea64",
   "metadata": {},
   "outputs": [
    {
     "data": {
      "image/png": "[encoded data removed]",
      "text/plain": [
       "<Figure size 432x288 with 1 Axes>"
      ]
     },
     "metadata": {
      "needs_background": "light"
     },
     "output_type": "display_data"
    }
   ],
   "source": [
    "data['toxic'].hist(bins=2);\n",
    "plt.title('Баланс классов в датасете')\n",
    "plt.xlabel('Токсичность - нет/ да')\n",
    "plt.show()"
   ]
  },
  {
   "cell_type": "code",
   "execution_count": 8,
   "id": "97b18b11",
   "metadata": {},
   "outputs": [
    {
     "data": {
      "text/plain": [
       "0    0.898388\n",
       "1    0.101612\n",
       "Name: toxic, dtype: float64"
      ]
     },
     "execution_count": 8,
     "metadata": {},
     "output_type": "execute_result"
    }
   ],
   "source": [
    "data['toxic'].value_counts(normalize=True)"
   ]
  },
  {
   "cell_type": "markdown",
   "id": "18819055",
   "metadata": {},
   "source": [
    "В нашем распоряжении 159.292 комментария с метками о токсичности. Выборка сильно несбалансирована - к токсичным комментариям относится только 10%, остальные 90% - к нетоксичным. Это необходимо будет учитывать при выборе и обучени моделей."
   ]
  },
  {
   "cell_type": "markdown",
   "id": "efc9f7a2",
   "metadata": {},
   "source": [
    "Чтобы снизить время обработки и обучения, выделим из датасета 50.000 комментариев для обучения и 12.500 комментариев для теста."
   ]
  },
  {
   "cell_type": "code",
   "execution_count": 9,
   "id": "ddba5579",
   "metadata": {},
   "outputs": [],
   "source": [
    "data_cut = data.sample(62500, random_state=7).reset_index(drop=True)\n",
    "corpus_all = data_cut['text'].values\n",
    "target_all = data_cut['toxic']"
   ]
  },
  {
   "cell_type": "markdown",
   "id": "281b0942",
   "metadata": {},
   "source": [
    "Приведем тексты к нижнему регистру:"
   ]
  },
  {
   "cell_type": "code",
   "execution_count": 10,
   "id": "f58a641b",
   "metadata": {},
   "outputs": [],
   "source": [
    "corpus_all = [item.lower() for item in corpus_all]"
   ]
  },
  {
   "cell_type": "markdown",
   "id": "8bc0419d",
   "metadata": {},
   "source": [
    "Разделим данные на тренировочные и тестовые и в дальнейших шагах будем работать только с тренировочным корпусом текстов."
   ]
  },
  {
   "cell_type": "code",
   "execution_count": 11,
   "id": "2fa967df",
   "metadata": {},
   "outputs": [],
   "source": [
    "corpus, corpus_test, target, target_test = train_test_split(corpus_all, target_all, test_size=0.20, random_state=17)"
   ]
  },
  {
   "cell_type": "code",
   "execution_count": 12,
   "id": "3a08a56e",
   "metadata": {},
   "outputs": [
    {
     "name": "stdout",
     "output_type": "stream",
     "text": [
      "Длина тренировочной выборки - 50000 , длина тестовой выборки - 12500\n"
     ]
    }
   ],
   "source": [
    "print('Длина тренировочной выборки -', len(corpus), ', длина тестовой выборки -', len(corpus_test))"
   ]
  },
  {
   "cell_type": "markdown",
   "id": "afbca6f5",
   "metadata": {},
   "source": [
    "Определим функцию, которая будет разбивать корпус текстов на батчи, объединять их через метку, затем токенизировать, лемматизировать и разбивать обратно на тексты"
   ]
  },
  {
   "cell_type": "code",
   "execution_count": 13,
   "id": "11c44ca0",
   "metadata": {},
   "outputs": [],
   "source": [
    "def step_lemmatizator(n_comments, corpus):\n",
    "    corpus_lemm = []\n",
    "    for batch_first_number in range (0, len(corpus), n_comments):\n",
    "        #print(batch_first_number)\n",
    "        corpus_batch = corpus[batch_first_number: batch_first_number+n_comments]\n",
    "        #print(corpus_batch[0], corpus_batch[4999])\n",
    "        corpus_batch_list = nltk.word_tokenize(\"/*/*/\".join(corpus_batch))\n",
    "        corpus_batch_lemm = \" \".join(lemmatizer.lemmatize(element) for element in corpus_batch_list)\n",
    "        corpus_batch_lemm_split = corpus_batch_lemm.split('/ * / * /')\n",
    "        corpus_lemm += corpus_batch_lemm_split\n",
    "    return corpus_lemm"
   ]
  },
  {
   "cell_type": "code",
   "execution_count": 14,
   "id": "da1e5c72",
   "metadata": {},
   "outputs": [],
   "source": [
    "n_comments = 5000"
   ]
  },
  {
   "cell_type": "code",
   "execution_count": 15,
   "id": "97728210",
   "metadata": {},
   "outputs": [],
   "source": [
    "lemmatizer = WordNetLemmatizer()"
   ]
  },
  {
   "cell_type": "code",
   "execution_count": 16,
   "id": "fee4bb75",
   "metadata": {},
   "outputs": [],
   "source": [
    "corpus_lemm = step_lemmatizator(n_comments, corpus)"
   ]
  },
  {
   "cell_type": "markdown",
   "id": "90f83955",
   "metadata": {},
   "source": [
    "Определим еще одну функцию - она будет выкидывать из текстов стоп-слова и символы, не несущие смысловой нагрузки"
   ]
  },
  {
   "cell_type": "code",
   "execution_count": 17,
   "id": "22666511",
   "metadata": {},
   "outputs": [],
   "source": [
    "def cleaner(corpus):\n",
    "    corpus_lemm_clear = []\n",
    "    for text in corpus: \n",
    "        sub_text = re.sub(r'[^a-zA-Z]', ' ', text)\n",
    "        split_text = sub_text.split()\n",
    "        split_text_stopwords = [word for word in split_text if word not in stop_words]\n",
    "        corpus_lemm_clear.append(\" \".join(split_text_stopwords))\n",
    "    return corpus_lemm_clear"
   ]
  },
  {
   "cell_type": "code",
   "execution_count": 18,
   "id": "965d00e4",
   "metadata": {},
   "outputs": [],
   "source": [
    "stop_words = set(stopwords.words('english'))"
   ]
  },
  {
   "cell_type": "code",
   "execution_count": 19,
   "id": "22b919b8",
   "metadata": {},
   "outputs": [],
   "source": [
    "corpus_lemm_clear = cleaner(corpus_lemm)"
   ]
  },
  {
   "cell_type": "code",
   "execution_count": 20,
   "id": "20f6b499",
   "metadata": {},
   "outputs": [
    {
     "data": {
      "text/plain": [
       "50000"
      ]
     },
     "execution_count": 20,
     "metadata": {},
     "output_type": "execute_result"
    }
   ],
   "source": [
    "#проверим длину итогового корпуса\n",
    "len(corpus_lemm_clear)"
   ]
  },
  {
   "cell_type": "markdown",
   "id": "df828b1c",
   "metadata": {},
   "source": [
    "Убедимся, что после всех преобразований тексты в исходном корпусе и в преобразованном совпадают."
   ]
  },
  {
   "cell_type": "code",
   "execution_count": 21,
   "id": "11b4a068",
   "metadata": {},
   "outputs": [
    {
     "data": {
      "text/plain": [
       "'\"\\n\\n jingoism \\n\\nmy wanting what is in an article to be properly cited is more a reflection of your attitude than mine\\nthats how your attitude looks from aside (no offence):\\n the cited reference had a name by which it is easy to google it. so when the ref link to the telegraph was broken, you could have fixed it, like i did. instead you immediately got rid of the whole (inconvenient?) interesting fact. \\n i\\'ve put this fact into the \"\"tank\"\" article long ago, and since than check it once in half a year. and it is either deleted, or is distorted badly. you seem to have the article in your watch list, but do nothing to prevent it. \\nlet\\'s make a deal, you will be as careful and watchful to the fact as to any other, and i stop thinking of you as of a jingoist? ;) deal? 84.52.101.196  \"'"
      ]
     },
     "execution_count": 21,
     "metadata": {},
     "output_type": "execute_result"
    }
   ],
   "source": [
    "corpus[306]"
   ]
  },
  {
   "cell_type": "code",
   "execution_count": 22,
   "id": "3dc4db15",
   "metadata": {
    "scrolled": true
   },
   "outputs": [
    {
     "data": {
      "text/plain": [
       "'jingoism wanting article properly cited reflection attitude mine thats attitude look aside offence cited reference name easy google ref link telegraph wa broken could fixed like instead immediately got rid whole inconvenient interesting fact put fact tank article long ago since check half year either deleted distorted badly seem article watch list nothing prevent let make deal careful watchful fact stop thinking jingoist deal'"
      ]
     },
     "execution_count": 22,
     "metadata": {},
     "output_type": "execute_result"
    }
   ],
   "source": [
    "corpus_lemm_clear[306]"
   ]
  },
  {
   "cell_type": "markdown",
   "id": "85bd2499",
   "metadata": {},
   "source": [
    "### Выводы"
   ]
  },
  {
   "cell_type": "markdown",
   "id": "91f29784",
   "metadata": {},
   "source": [
    "- При подготовке данных из датасета был выделен корпус из 50.000 текстов для обучения и 12.500 текстов для проверки моделей.\n",
    "- Тексты были лемматизированы, очищены от цифр, символов и стоп-стов."
   ]
  },
  {
   "cell_type": "markdown",
   "id": "22460766",
   "metadata": {},
   "source": [
    "## Подготовка признаков"
   ]
  },
  {
   "cell_type": "markdown",
   "id": "88bf3003",
   "metadata": {},
   "source": [
    "## Мешок слов"
   ]
  },
  {
   "cell_type": "markdown",
   "id": "e684f7ca",
   "metadata": {},
   "source": [
    "С помощью модуля CountVectorizer создадим мешок слов на основе лемматизированных текстов.\n",
    "Для предсказаний будем использовать логистическую регрессию, дерево решений и градиентный бустинг."
   ]
  },
  {
   "cell_type": "code",
   "execution_count": 23,
   "id": "be80b8e2",
   "metadata": {},
   "outputs": [],
   "source": [
    "#определим скорер для F1 метрики\n",
    "\n",
    "scorer = make_scorer(f1_score, greater_is_better=True)"
   ]
  },
  {
   "cell_type": "code",
   "execution_count": 24,
   "id": "f9b19f7b",
   "metadata": {},
   "outputs": [
    {
     "data": {
      "text/plain": [
       "(50000, 81985)"
      ]
     },
     "execution_count": 24,
     "metadata": {},
     "output_type": "execute_result"
    }
   ],
   "source": [
    "count_vector = CountVectorizer()\n",
    "corpus_lemm_clear_bow = count_vector.fit_transform(corpus_lemm_clear)\n",
    "\n",
    "#проверим количество признаков\n",
    "corpus_lemm_clear_bow.shape"
   ]
  },
  {
   "cell_type": "code",
   "execution_count": 25,
   "id": "98d2d2f5",
   "metadata": {},
   "outputs": [],
   "source": [
    "#features_train, features_test, target_train, target_test = (\n",
    "#    train_test_split(corpus_lemm_clear_bow, target, test_size=0.25, random_state=25))"
   ]
  },
  {
   "cell_type": "markdown",
   "id": "16d52135",
   "metadata": {},
   "source": [
    "**Логистическая регрессия**"
   ]
  },
  {
   "cell_type": "code",
   "execution_count": 26,
   "id": "c289c538",
   "metadata": {},
   "outputs": [],
   "source": [
    "model_cv_lr = LogisticRegression(class_weight='balanced', solver='lbfgs', max_iter=1000, random_state=25)"
   ]
  },
  {
   "cell_type": "code",
   "execution_count": 27,
   "id": "0e807884",
   "metadata": {},
   "outputs": [
    {
     "name": "stdout",
     "output_type": "stream",
     "text": [
      "0.7385379192296687\n",
      "Wall time: 12.5 s\n"
     ]
    }
   ],
   "source": [
    "%%time\n",
    "result =  cross_val_score(model_cv_lr, corpus_lemm_clear_bow, target, cv=3, scoring=scorer)\n",
    "print(result.mean())"
   ]
  },
  {
   "cell_type": "code",
   "execution_count": 28,
   "id": "98059f80",
   "metadata": {},
   "outputs": [
    {
     "data": {
      "text/html": [
       "<div>\n",
       "<style scoped>\n",
       "    .dataframe tbody tr th:only-of-type {\n",
       "        vertical-align: middle;\n",
       "    }\n",
       "\n",
       "    .dataframe tbody tr th {\n",
       "        vertical-align: top;\n",
       "    }\n",
       "\n",
       "    .dataframe thead th {\n",
       "        text-align: right;\n",
       "    }\n",
       "</style>\n",
       "<table border=\"1\" class=\"dataframe\">\n",
       "  <thead>\n",
       "    <tr style=\"text-align: right;\">\n",
       "      <th></th>\n",
       "      <th>preprocessing</th>\n",
       "      <th>model</th>\n",
       "      <th>f1_score</th>\n",
       "    </tr>\n",
       "  </thead>\n",
       "  <tbody>\n",
       "    <tr>\n",
       "      <th>0</th>\n",
       "      <td>CountVectorizer</td>\n",
       "      <td>LogisticRegression</td>\n",
       "      <td>0.738538</td>\n",
       "    </tr>\n",
       "  </tbody>\n",
       "</table>\n",
       "</div>"
      ],
      "text/plain": [
       "     preprocessing               model  f1_score\n",
       "0  CountVectorizer  LogisticRegression  0.738538"
      ]
     },
     "execution_count": 28,
     "metadata": {},
     "output_type": "execute_result"
    }
   ],
   "source": [
    "#создадим датафрейм для фиксации результатов\n",
    "score_table = pd.DataFrame([['CountVectorizer', 'LogisticRegression', result.mean()]], columns = ['preprocessing', 'model', 'f1_score'])\n",
    "score_table"
   ]
  },
  {
   "cell_type": "markdown",
   "id": "b3b6797b",
   "metadata": {},
   "source": [
    "**Градиентный бустинг**"
   ]
  },
  {
   "cell_type": "code",
   "execution_count": 29,
   "id": "f13a13ad",
   "metadata": {},
   "outputs": [],
   "source": [
    "model_cv_lgbm = LGBMClassifier(boosting_type='goss', n_estimators=500)"
   ]
  },
  {
   "cell_type": "code",
   "execution_count": 30,
   "id": "280aa526",
   "metadata": {},
   "outputs": [],
   "source": [
    "#преобразуем фичи и таргет, чтобы они работали с LGBM\n",
    "features_train_cv = corpus_lemm_clear_bow.astype('float32')\n",
    "target_train = target.astype('float32')"
   ]
  },
  {
   "cell_type": "code",
   "execution_count": 31,
   "id": "95e46eba",
   "metadata": {
    "scrolled": true
   },
   "outputs": [
    {
     "name": "stdout",
     "output_type": "stream",
     "text": [
      "0.7413844974321314\n",
      "Wall time: 1min 59s\n"
     ]
    }
   ],
   "source": [
    "%%time\n",
    "result =  cross_val_score(model_cv_lgbm, features_train_cv, target_train, cv=3, scoring=scorer)\n",
    "print(result.mean())"
   ]
  },
  {
   "cell_type": "code",
   "execution_count": 32,
   "id": "3f906811",
   "metadata": {},
   "outputs": [],
   "source": [
    "score_table = score_table.append({'preprocessing': 'CountVectorizer', 'model': 'LGBMClassifier', 'f1_score': result.mean()}, ignore_index=True)"
   ]
  },
  {
   "cell_type": "markdown",
   "id": "e217be6e",
   "metadata": {},
   "source": [
    "**Дерево решений**"
   ]
  },
  {
   "cell_type": "code",
   "execution_count": 33,
   "id": "7bb3ab6c",
   "metadata": {},
   "outputs": [],
   "source": [
    "model_cv_tree = DecisionTreeClassifier(random_state=7)"
   ]
  },
  {
   "cell_type": "code",
   "execution_count": 34,
   "id": "8bc128d3",
   "metadata": {},
   "outputs": [
    {
     "name": "stdout",
     "output_type": "stream",
     "text": [
      "0.6691087196396414\n",
      "Wall time: 1min 5s\n"
     ]
    }
   ],
   "source": [
    "%%time\n",
    "result =  cross_val_score(model_cv_tree, corpus_lemm_clear_bow, target, cv=3, scoring=scorer)\n",
    "print(result.mean())"
   ]
  },
  {
   "cell_type": "code",
   "execution_count": 35,
   "id": "3f9e1b46",
   "metadata": {},
   "outputs": [],
   "source": [
    "score_table = score_table.append({'preprocessing': 'CountVectorizer', 'model': 'DecisionTree', 'f1_score': result.mean()}, ignore_index=True)"
   ]
  },
  {
   "cell_type": "markdown",
   "id": "86054047",
   "metadata": {},
   "source": [
    "**Случайная модель**"
   ]
  },
  {
   "cell_type": "code",
   "execution_count": 36,
   "id": "e25a6146",
   "metadata": {},
   "outputs": [],
   "source": [
    "model_cv_dummy = DummyClassifier(strategy='stratified')"
   ]
  },
  {
   "cell_type": "code",
   "execution_count": 37,
   "id": "3525c7be",
   "metadata": {},
   "outputs": [
    {
     "name": "stdout",
     "output_type": "stream",
     "text": [
      "0.10495816015407013\n",
      "Wall time: 54.8 ms\n"
     ]
    }
   ],
   "source": [
    "%%time\n",
    "result =  cross_val_score(model_cv_dummy, corpus_lemm_clear_bow, target, cv=3, scoring=scorer)\n",
    "print(result.mean())"
   ]
  },
  {
   "cell_type": "code",
   "execution_count": 38,
   "id": "6d85c814",
   "metadata": {},
   "outputs": [],
   "source": [
    "score_table = score_table.append({'preprocessing': 'CountVectorizer', 'model': 'DummyClassifier', 'f1_score': result.mean()}, ignore_index=True)"
   ]
  },
  {
   "cell_type": "markdown",
   "id": "f66d390a",
   "metadata": {},
   "source": [
    "## Мешок с биграммами"
   ]
  },
  {
   "cell_type": "markdown",
   "id": "be9396e2",
   "metadata": {},
   "source": [
    "С помощью модуля CountVectorizer создадим не только мешок слов, но и биграммы на основе лемматизированных текстов.\n",
    "Для предсказаний будем использовать логистическую регрессию и градиентный бустинг."
   ]
  },
  {
   "cell_type": "code",
   "execution_count": 39,
   "id": "d98c2466",
   "metadata": {},
   "outputs": [],
   "source": [
    "bigram_vectorizer = CountVectorizer(ngram_range=(1, 2))"
   ]
  },
  {
   "cell_type": "code",
   "execution_count": 40,
   "id": "5d3e8a67",
   "metadata": {},
   "outputs": [],
   "source": [
    "corpus_lemm_clear_ngram = bigram_vectorizer.fit_transform(corpus_lemm_clear)"
   ]
  },
  {
   "cell_type": "code",
   "execution_count": 41,
   "id": "43deffea",
   "metadata": {},
   "outputs": [
    {
     "data": {
      "text/plain": [
       "(50000, 1065645)"
      ]
     },
     "execution_count": 41,
     "metadata": {},
     "output_type": "execute_result"
    }
   ],
   "source": [
    "corpus_lemm_clear_ngram.shape"
   ]
  },
  {
   "cell_type": "code",
   "execution_count": 42,
   "id": "861898c2",
   "metadata": {},
   "outputs": [],
   "source": [
    "#features_train, features_test, target_train, target_test = (\n",
    "#    train_test_split(corpus_lemm_clear_ngram, target, test_size=0.25, random_state=25))"
   ]
  },
  {
   "cell_type": "markdown",
   "id": "1e63e579",
   "metadata": {},
   "source": [
    "**Логистическая регрессия**"
   ]
  },
  {
   "cell_type": "code",
   "execution_count": 43,
   "id": "32666339",
   "metadata": {},
   "outputs": [],
   "source": [
    "model_cvgram_lr = LogisticRegression(class_weight='balanced', solver='lbfgs', max_iter=1000, random_state=17)"
   ]
  },
  {
   "cell_type": "code",
   "execution_count": 44,
   "id": "cb567637",
   "metadata": {},
   "outputs": [
    {
     "name": "stdout",
     "output_type": "stream",
     "text": [
      "0.7535489379869783\n",
      "Wall time: 1min 37s\n"
     ]
    }
   ],
   "source": [
    "%%time\n",
    "result =  cross_val_score(model_cvgram_lr, corpus_lemm_clear_ngram, target, cv=3, scoring=scorer)\n",
    "print(result.mean())"
   ]
  },
  {
   "cell_type": "code",
   "execution_count": 45,
   "id": "9e51bdb8",
   "metadata": {},
   "outputs": [],
   "source": [
    "score_table = score_table.append({'preprocessing': 'CountVectorizer+bigram', 'model': 'LogisticRegression', 'f1_score': result.mean()}, ignore_index=True)"
   ]
  },
  {
   "cell_type": "markdown",
   "id": "eeaa42b4",
   "metadata": {},
   "source": [
    "**Градиентный бустинг**"
   ]
  },
  {
   "cell_type": "code",
   "execution_count": 46,
   "id": "1786cc87",
   "metadata": {},
   "outputs": [],
   "source": [
    "model_cvgram_lgbm = LGBMClassifier(boosting_type='goss', n_estimators=500)"
   ]
  },
  {
   "cell_type": "code",
   "execution_count": 47,
   "id": "e49d300b",
   "metadata": {},
   "outputs": [],
   "source": [
    "features_train_cvgram = corpus_lemm_clear_ngram.astype('float32')\n",
    "target_train = target.astype('float32')"
   ]
  },
  {
   "cell_type": "code",
   "execution_count": 48,
   "id": "e8577cb8",
   "metadata": {},
   "outputs": [
    {
     "name": "stdout",
     "output_type": "stream",
     "text": [
      "0.7408764067512045\n",
      "Wall time: 2min 49s\n"
     ]
    }
   ],
   "source": [
    "%%time\n",
    "result =  cross_val_score(model_cvgram_lgbm, features_train_cvgram, target_train, cv=3, scoring=scorer)\n",
    "print(result.mean())"
   ]
  },
  {
   "cell_type": "code",
   "execution_count": 49,
   "id": "0705cf34",
   "metadata": {},
   "outputs": [],
   "source": [
    "score_table = score_table.append({'preprocessing': 'CountVectorizer+bigram', 'model': 'LGBMClassifier', 'f1_score': result.mean()}, ignore_index=True)"
   ]
  },
  {
   "cell_type": "markdown",
   "id": "b803ded2",
   "metadata": {},
   "source": [
    "**Случайная модель**"
   ]
  },
  {
   "cell_type": "code",
   "execution_count": 50,
   "id": "0bcb05a6",
   "metadata": {},
   "outputs": [],
   "source": [
    "model_cvgram_dummy = DummyClassifier(strategy='stratified')"
   ]
  },
  {
   "cell_type": "code",
   "execution_count": 51,
   "id": "df17f99e",
   "metadata": {},
   "outputs": [
    {
     "name": "stdout",
     "output_type": "stream",
     "text": [
      "0.10143700966966061\n",
      "Wall time: 171 ms\n"
     ]
    }
   ],
   "source": [
    "%%time\n",
    "result =  cross_val_score(model_cvgram_dummy, corpus_lemm_clear_ngram, target, cv=3, scoring=scorer)\n",
    "print(result.mean())"
   ]
  },
  {
   "cell_type": "code",
   "execution_count": 52,
   "id": "d0897566",
   "metadata": {},
   "outputs": [],
   "source": [
    "score_table = score_table.append({'preprocessing': 'CountVectorizer+bigram', 'model': 'DummyClassifier', 'f1_score': result.mean()}, ignore_index=True)"
   ]
  },
  {
   "cell_type": "markdown",
   "id": "9a2f9192",
   "metadata": {},
   "source": [
    "## TF IDF"
   ]
  },
  {
   "cell_type": "markdown",
   "id": "3deea78e",
   "metadata": {},
   "source": [
    "Получим метрику TF IDF на основе лемматизированных текстов.\n",
    "Для предсказаний будем использовать логистическую регрессию, линейный метод опорных векторов градиентный бустинг."
   ]
  },
  {
   "cell_type": "code",
   "execution_count": 53,
   "id": "8c016d0a",
   "metadata": {},
   "outputs": [],
   "source": [
    "tf_idf_vectorizer = TfidfVectorizer()\n",
    "corpus_lemm_clear_tfidf = tf_idf_vectorizer.fit_transform(corpus_lemm_clear)"
   ]
  },
  {
   "cell_type": "code",
   "execution_count": 54,
   "id": "c56986bd",
   "metadata": {},
   "outputs": [
    {
     "data": {
      "text/plain": [
       "(50000, 81985)"
      ]
     },
     "execution_count": 54,
     "metadata": {},
     "output_type": "execute_result"
    }
   ],
   "source": [
    "corpus_lemm_clear_tfidf.shape"
   ]
  },
  {
   "cell_type": "code",
   "execution_count": 55,
   "id": "cf6f3191",
   "metadata": {},
   "outputs": [],
   "source": [
    "#features_train, features_test, target_train, target_test = (\n",
    "#    train_test_split(corpus_lemm_clear_tfidf, target, test_size=0.25, random_state=25))"
   ]
  },
  {
   "cell_type": "markdown",
   "id": "65892199",
   "metadata": {},
   "source": [
    "**Логистическая регрессия**"
   ]
  },
  {
   "cell_type": "code",
   "execution_count": 56,
   "id": "876974e3",
   "metadata": {},
   "outputs": [],
   "source": [
    "model_tfivf_lr = LogisticRegression(class_weight='balanced', solver='lbfgs', max_iter=1000, random_state=25)"
   ]
  },
  {
   "cell_type": "code",
   "execution_count": 57,
   "id": "01900c10",
   "metadata": {},
   "outputs": [
    {
     "name": "stdout",
     "output_type": "stream",
     "text": [
      "0.7358390051327806\n",
      "Wall time: 5.85 s\n"
     ]
    }
   ],
   "source": [
    "%%time\n",
    "result =  cross_val_score(model_tfivf_lr, corpus_lemm_clear_tfidf, target, cv=5, scoring=scorer)\n",
    "print(result.mean())"
   ]
  },
  {
   "cell_type": "code",
   "execution_count": 58,
   "id": "976ae699",
   "metadata": {},
   "outputs": [],
   "source": [
    "score_table = score_table.append({'preprocessing': 'TF-IDF', 'model': 'LogisticRegression', 'f1_score': result.mean()}, ignore_index=True)"
   ]
  },
  {
   "cell_type": "markdown",
   "id": "0511237d",
   "metadata": {},
   "source": [
    "**Метод опорных векторов (линейный)**"
   ]
  },
  {
   "cell_type": "code",
   "execution_count": 59,
   "id": "b4789cdc",
   "metadata": {},
   "outputs": [],
   "source": [
    "model_tfidf_svc = LinearSVC(class_weight='balanced')"
   ]
  },
  {
   "cell_type": "code",
   "execution_count": 60,
   "id": "e4ed1d59",
   "metadata": {},
   "outputs": [
    {
     "name": "stdout",
     "output_type": "stream",
     "text": [
      "0.745719430674484\n",
      "Wall time: 1.66 s\n"
     ]
    }
   ],
   "source": [
    "%%time\n",
    "result =  cross_val_score(model_tfidf_svc, corpus_lemm_clear_tfidf, target, cv=3, scoring=scorer)\n",
    "print(result.mean())"
   ]
  },
  {
   "cell_type": "code",
   "execution_count": 61,
   "id": "9a603003",
   "metadata": {},
   "outputs": [],
   "source": [
    "score_table = score_table.append({'preprocessing': 'TF-IDF', 'model': 'LinearSVC', 'f1_score': result.mean()}, ignore_index=True)"
   ]
  },
  {
   "cell_type": "markdown",
   "id": "328e6838",
   "metadata": {},
   "source": [
    "**Градиентный бустинг**"
   ]
  },
  {
   "cell_type": "code",
   "execution_count": 62,
   "id": "8d47859c",
   "metadata": {},
   "outputs": [],
   "source": [
    "model_tfidf_lgbm = LGBMClassifier(boosting_type='goss', n_estimators=500)"
   ]
  },
  {
   "cell_type": "code",
   "execution_count": 63,
   "id": "8e4c3825",
   "metadata": {},
   "outputs": [],
   "source": [
    "features_train_tfidf = corpus_lemm_clear_tfidf.astype('float32')\n",
    "target_train = target.astype('float32')"
   ]
  },
  {
   "cell_type": "code",
   "execution_count": 64,
   "id": "24e4e7bd",
   "metadata": {},
   "outputs": [
    {
     "name": "stdout",
     "output_type": "stream",
     "text": [
      "0.7331476743280249\n",
      "Wall time: 3min 22s\n"
     ]
    }
   ],
   "source": [
    "%%time\n",
    "result =  cross_val_score(model_tfidf_lgbm, features_train_tfidf, target_train, cv=3, scoring=scorer)\n",
    "print(result.mean())"
   ]
  },
  {
   "cell_type": "code",
   "execution_count": 65,
   "id": "5a53f3bb",
   "metadata": {},
   "outputs": [],
   "source": [
    "score_table = score_table.append({'preprocessing': 'TF-IDF', 'model': 'LGBMClassifier', 'f1_score': result.mean()}, ignore_index=True)"
   ]
  },
  {
   "cell_type": "markdown",
   "id": "384d79e7",
   "metadata": {},
   "source": [
    "**Случайная модель**"
   ]
  },
  {
   "cell_type": "code",
   "execution_count": 66,
   "id": "a0936256",
   "metadata": {},
   "outputs": [],
   "source": [
    "model_tfidf_dummy = DummyClassifier(strategy='stratified')"
   ]
  },
  {
   "cell_type": "code",
   "execution_count": 67,
   "id": "817adb1e",
   "metadata": {},
   "outputs": [
    {
     "name": "stdout",
     "output_type": "stream",
     "text": [
      "0.09722889943356287\n",
      "Wall time: 78.1 ms\n"
     ]
    }
   ],
   "source": [
    "%%time\n",
    "result =  cross_val_score(model_tfidf_dummy, corpus_lemm_clear_tfidf, target, cv=3, scoring=scorer)\n",
    "print(result.mean())"
   ]
  },
  {
   "cell_type": "code",
   "execution_count": 68,
   "id": "d3ca9c6c",
   "metadata": {},
   "outputs": [],
   "source": [
    "score_table = score_table.append({'preprocessing': 'TF-IDF', 'model': 'DummyClassifier', 'f1_score': result.mean()}, ignore_index=True)"
   ]
  },
  {
   "cell_type": "markdown",
   "id": "053fee90",
   "metadata": {},
   "source": [
    "## TF IDF с биграммами"
   ]
  },
  {
   "cell_type": "code",
   "execution_count": 69,
   "id": "16d7d949",
   "metadata": {},
   "outputs": [],
   "source": [
    "tfidf_bigram_vectorizer = TfidfVectorizer(ngram_range=(1, 2))"
   ]
  },
  {
   "cell_type": "code",
   "execution_count": 70,
   "id": "ac5407f4",
   "metadata": {},
   "outputs": [],
   "source": [
    "corpus_lemm_clear_tfidf_ngram = tfidf_bigram_vectorizer.fit_transform(corpus_lemm_clear)"
   ]
  },
  {
   "cell_type": "code",
   "execution_count": 71,
   "id": "4bca2c40",
   "metadata": {},
   "outputs": [
    {
     "data": {
      "text/plain": [
       "(50000, 1065645)"
      ]
     },
     "execution_count": 71,
     "metadata": {},
     "output_type": "execute_result"
    }
   ],
   "source": [
    "corpus_lemm_clear_tfidf_ngram.shape"
   ]
  },
  {
   "cell_type": "markdown",
   "id": "c91aeb0b",
   "metadata": {},
   "source": [
    "**Логстическая регрессия**"
   ]
  },
  {
   "cell_type": "code",
   "execution_count": 72,
   "id": "963abe01",
   "metadata": {},
   "outputs": [],
   "source": [
    "model_tfidfngram_lr = LogisticRegression(class_weight='balanced', solver='lbfgs', max_iter=1000, random_state=25)"
   ]
  },
  {
   "cell_type": "code",
   "execution_count": 73,
   "id": "90395584",
   "metadata": {},
   "outputs": [
    {
     "name": "stdout",
     "output_type": "stream",
     "text": [
      "0.7297603865185757\n",
      "Wall time: 46.4 s\n"
     ]
    }
   ],
   "source": [
    "%%time\n",
    "result =  cross_val_score(model_tfidfngram_lr, corpus_lemm_clear_tfidf_ngram, target, cv=3, scoring=scorer)\n",
    "print(result.mean())"
   ]
  },
  {
   "cell_type": "code",
   "execution_count": 74,
   "id": "2046d214",
   "metadata": {},
   "outputs": [],
   "source": [
    "score_table = score_table.append({'preprocessing': 'TF-IDF bigrams', 'model': 'LogisticRegression', 'f1_score': result.mean()}, ignore_index=True)"
   ]
  },
  {
   "cell_type": "markdown",
   "id": "f7ceb8c7",
   "metadata": {},
   "source": [
    "**Linear SVC**"
   ]
  },
  {
   "cell_type": "code",
   "execution_count": 75,
   "id": "7bb96353",
   "metadata": {},
   "outputs": [],
   "source": [
    "model_tfidfngram_svc = LinearSVC(class_weight='balanced')"
   ]
  },
  {
   "cell_type": "code",
   "execution_count": 76,
   "id": "148e58f0",
   "metadata": {},
   "outputs": [
    {
     "name": "stdout",
     "output_type": "stream",
     "text": [
      "0.7255428915783956\n"
     ]
    }
   ],
   "source": [
    "result =  cross_val_score(model_tfidfngram_svc, corpus_lemm_clear_tfidf_ngram, target, cv=3, scoring=scorer)\n",
    "print(result.mean())"
   ]
  },
  {
   "cell_type": "code",
   "execution_count": 77,
   "id": "b71fa2a3",
   "metadata": {},
   "outputs": [],
   "source": [
    "score_table = score_table.append({'preprocessing': 'TF-IDF bigrams', 'model': 'LinearSVC', 'f1_score': result.mean()}, ignore_index=True)"
   ]
  },
  {
   "cell_type": "markdown",
   "id": "ace83232",
   "metadata": {},
   "source": [
    "**Градиентный бустинг**"
   ]
  },
  {
   "cell_type": "code",
   "execution_count": 78,
   "id": "fcd73ab5",
   "metadata": {},
   "outputs": [],
   "source": [
    "model_tfidfngram_lgbm = LGBMClassifier(boosting_type='goss', n_estimators=500)"
   ]
  },
  {
   "cell_type": "code",
   "execution_count": 79,
   "id": "4cd7aeee",
   "metadata": {},
   "outputs": [],
   "source": [
    "features_train_tfidfngram = corpus_lemm_clear_tfidf_ngram.astype('float32')\n",
    "target_train = target.astype('float32')"
   ]
  },
  {
   "cell_type": "code",
   "execution_count": 80,
   "id": "933ed0c1",
   "metadata": {},
   "outputs": [
    {
     "name": "stdout",
     "output_type": "stream",
     "text": [
      "0.7332662445394944\n",
      "Wall time: 4min 59s\n"
     ]
    }
   ],
   "source": [
    "%%time\n",
    "result =  cross_val_score(model_tfidfngram_lgbm, features_train_tfidfngram, target_train, cv=3, scoring=scorer)\n",
    "print(result.mean())"
   ]
  },
  {
   "cell_type": "code",
   "execution_count": 81,
   "id": "e864c569",
   "metadata": {},
   "outputs": [],
   "source": [
    "score_table = score_table.append({'preprocessing': 'TF-IDF bigrams', 'model': 'LGBMClassifier', 'f1_score': result.mean()}, ignore_index=True)"
   ]
  },
  {
   "cell_type": "markdown",
   "id": "e14e1adc",
   "metadata": {},
   "source": [
    "**Случайная модель**"
   ]
  },
  {
   "cell_type": "code",
   "execution_count": 82,
   "id": "05fe1be9",
   "metadata": {},
   "outputs": [],
   "source": [
    "model_tfidfngram_dummy = DummyClassifier(strategy='stratified')"
   ]
  },
  {
   "cell_type": "code",
   "execution_count": 83,
   "id": "0d632c18",
   "metadata": {},
   "outputs": [
    {
     "name": "stdout",
     "output_type": "stream",
     "text": [
      "0.10138115188958659\n",
      "Wall time: 123 ms\n"
     ]
    }
   ],
   "source": [
    "%%time\n",
    "result =  cross_val_score(model_tfidfngram_dummy, corpus_lemm_clear_tfidf_ngram, target, cv=3, scoring=scorer)\n",
    "print(result.mean())"
   ]
  },
  {
   "cell_type": "code",
   "execution_count": 84,
   "id": "3ddcb70e",
   "metadata": {},
   "outputs": [],
   "source": [
    "score_table = score_table.append({'preprocessing': 'TF-IDF bigrams', 'model': 'DummyClassifier', 'f1_score': result.mean()}, ignore_index=True)"
   ]
  },
  {
   "cell_type": "markdown",
   "id": "6410f741",
   "metadata": {},
   "source": [
    "## Word2vec"
   ]
  },
  {
   "cell_type": "markdown",
   "id": "563defc2",
   "metadata": {},
   "source": [
    "Воспульзуемся для создания векторных представлений слов алгоритм word2vec, который создает векторы слов с учетом их смысла.</br>\n",
    "Проделаем следующие шаги:\n",
    "- разобьем лемматизированный текст на токены\n",
    "- определим модель Word2Vec и с ее помощью создадим словарь векторов. Зададим окно = 10, минимальную повторяемость слова в корпусе = 10 и размер вектора = 400\n",
    "- получим вектор каждого текста, сложив все векторы слов в нём\n",
    "- используем получившиеся векторные представления для обучения моделей"
   ]
  },
  {
   "cell_type": "code",
   "execution_count": 85,
   "id": "13697dfe",
   "metadata": {},
   "outputs": [],
   "source": [
    "corpus_tokenize = [nltk.word_tokenize(element) for element in corpus_lemm_clear]"
   ]
  },
  {
   "cell_type": "code",
   "execution_count": 86,
   "id": "ca1fe997",
   "metadata": {},
   "outputs": [],
   "source": [
    "w2v_model = Word2Vec(corpus_tokenize, sg=1, vector_size=400, window=10, min_count=10)"
   ]
  },
  {
   "cell_type": "markdown",
   "id": "aba6d4cf",
   "metadata": {},
   "source": [
    "Проверим наиболее близкие векторы к слову 'fuck':"
   ]
  },
  {
   "cell_type": "code",
   "execution_count": 87,
   "id": "6a4d4111",
   "metadata": {},
   "outputs": [
    {
     "data": {
      "text/plain": [
       "[('yourselfgo', 0.7867441773414612),\n",
       " ('eppstein', 0.6798726320266724),\n",
       " ('bitches', 0.6778250932693481),\n",
       " ('ina', 0.6651097536087036),\n",
       " ('bongwarrior', 0.6488391160964966),\n",
       " ('motherfucking', 0.6315044164657593),\n",
       " ('tirade', 0.625715970993042),\n",
       " ('useless', 0.6150302290916443),\n",
       " ('fuckwit', 0.6121575832366943),\n",
       " ('scumbag', 0.611819326877594)]"
      ]
     },
     "execution_count": 87,
     "metadata": {},
     "output_type": "execute_result"
    }
   ],
   "source": [
    "w2v_model.wv.most_similar(positive=['fuck'])"
   ]
  },
  {
   "cell_type": "markdown",
   "id": "c3dce217",
   "metadata": {},
   "source": [
    "Видим, что по запросу \"наиболее близкие\" алгоритм выдает слова, которые в определенном контексте также могут быть классифицированы как токсичные"
   ]
  },
  {
   "cell_type": "code",
   "execution_count": 88,
   "id": "3071c94b",
   "metadata": {},
   "outputs": [],
   "source": [
    "def make_w2v_features(texts):\n",
    "    w2v_features = []\n",
    "    for element in texts:\n",
    "        comment = np.zeros(400)\n",
    "        element_tokenized = nltk.word_tokenize(element)\n",
    "        for word in element_tokenized:\n",
    "            if word in w2v_model.wv.key_to_index.keys():\n",
    "                word_vector = w2v_model.wv[word]\n",
    "                comment = comment + word_vector\n",
    "        #print(comment) \n",
    "        #comment = pd.DataFrame(comment)\n",
    "        w2v_features.append(comment)\n",
    "        #print(len(w2v_features))\n",
    "        \n",
    "    return w2v_features"
   ]
  },
  {
   "cell_type": "code",
   "execution_count": 89,
   "id": "e4ac86de",
   "metadata": {},
   "outputs": [],
   "source": [
    "features_w2v = make_w2v_features(corpus_lemm_clear)"
   ]
  },
  {
   "cell_type": "code",
   "execution_count": 90,
   "id": "5f064334",
   "metadata": {},
   "outputs": [],
   "source": [
    "features_w2v = pd.DataFrame(features_w2v)"
   ]
  },
  {
   "cell_type": "code",
   "execution_count": 91,
   "id": "74a8a1af",
   "metadata": {},
   "outputs": [
    {
     "data": {
      "text/plain": [
       "(50000, 400)"
      ]
     },
     "execution_count": 91,
     "metadata": {},
     "output_type": "execute_result"
    }
   ],
   "source": [
    "features_w2v.shape"
   ]
  },
  {
   "cell_type": "markdown",
   "id": "11d4e9d1",
   "metadata": {},
   "source": [
    "При отправке полученных данных сырьем на обучение, модели начинают выдавать варнинги о несходимости алгоритма из-за большого разброса величин в сильно разреженной матрице. Стандартизируем данные, применив MaxAbsScaler, который позволяет работать с разреженными данными."
   ]
  },
  {
   "cell_type": "code",
   "execution_count": 92,
   "id": "e37127d2",
   "metadata": {},
   "outputs": [],
   "source": [
    "scaler = MaxAbsScaler()"
   ]
  },
  {
   "cell_type": "code",
   "execution_count": 93,
   "id": "cf8e34d4",
   "metadata": {},
   "outputs": [
    {
     "data": {
      "text/plain": [
       "MaxAbsScaler()"
      ]
     },
     "execution_count": 93,
     "metadata": {},
     "output_type": "execute_result"
    }
   ],
   "source": [
    "scaler.fit(features_w2v)"
   ]
  },
  {
   "cell_type": "code",
   "execution_count": 94,
   "id": "ea5e1eac",
   "metadata": {},
   "outputs": [],
   "source": [
    "features_w2v_scaled = scaler.transform(features_w2v)"
   ]
  },
  {
   "cell_type": "markdown",
   "id": "a06f1422",
   "metadata": {},
   "source": [
    "**Логистическая регрессия**"
   ]
  },
  {
   "cell_type": "code",
   "execution_count": 95,
   "id": "88441099",
   "metadata": {},
   "outputs": [],
   "source": [
    "model_w2v_lr = LogisticRegression(class_weight='balanced', max_iter=1000, random_state=25)"
   ]
  },
  {
   "cell_type": "code",
   "execution_count": 96,
   "id": "78285067",
   "metadata": {},
   "outputs": [
    {
     "name": "stdout",
     "output_type": "stream",
     "text": [
      "0.5359697840904846\n",
      "Wall time: 5.57 s\n"
     ]
    }
   ],
   "source": [
    "%%time\n",
    "result = cross_val_score(model_w2v_lr, features_w2v_scaled, target, cv=3, scoring=scorer)\n",
    "print(result.mean())"
   ]
  },
  {
   "cell_type": "code",
   "execution_count": 97,
   "id": "9499b012",
   "metadata": {},
   "outputs": [],
   "source": [
    "score_table = score_table.append({'preprocessing': 'word2vec', 'model': 'LogisticRegression', 'f1_score': result.mean()}, ignore_index=True)"
   ]
  },
  {
   "cell_type": "markdown",
   "id": "0de27e25",
   "metadata": {},
   "source": [
    "**Linear SVC**"
   ]
  },
  {
   "cell_type": "code",
   "execution_count": 98,
   "id": "e454f619",
   "metadata": {},
   "outputs": [],
   "source": [
    "model_w2v_svc = LinearSVC(class_weight='balanced')"
   ]
  },
  {
   "cell_type": "code",
   "execution_count": 99,
   "id": "271296d1",
   "metadata": {},
   "outputs": [
    {
     "name": "stdout",
     "output_type": "stream",
     "text": [
      "0.6036974690822463\n"
     ]
    }
   ],
   "source": [
    "result =  cross_val_score(model_w2v_svc, features_w2v_scaled, target, cv=3, scoring=scorer)\n",
    "print(result.mean())"
   ]
  },
  {
   "cell_type": "code",
   "execution_count": 100,
   "id": "33241f3e",
   "metadata": {},
   "outputs": [],
   "source": [
    "score_table = score_table.append({'preprocessing': 'word2vec', 'model': 'LinearSVC', 'f1_score': result.mean()}, ignore_index=True)"
   ]
  },
  {
   "cell_type": "markdown",
   "id": "9b2f8e8d",
   "metadata": {},
   "source": [
    "**Градиентный бустинг**"
   ]
  },
  {
   "cell_type": "code",
   "execution_count": 101,
   "id": "8da95b2f",
   "metadata": {},
   "outputs": [],
   "source": [
    "model_w2v_lgbm = LGBMClassifier(boosting_type='goss', n_estimators=500, class_weight='balanced')"
   ]
  },
  {
   "cell_type": "code",
   "execution_count": 102,
   "id": "efbf2e86",
   "metadata": {},
   "outputs": [],
   "source": [
    "features_train_w2v = features_w2v.astype('float32')\n",
    "target_train = target.astype('float32')"
   ]
  },
  {
   "cell_type": "code",
   "execution_count": 103,
   "id": "70fb972f",
   "metadata": {},
   "outputs": [
    {
     "name": "stdout",
     "output_type": "stream",
     "text": [
      "0.7243413898746788\n"
     ]
    }
   ],
   "source": [
    "result =  cross_val_score(model_w2v_lgbm, features_train_w2v, target_train, cv=3, scoring=scorer)\n",
    "print(result.mean())"
   ]
  },
  {
   "cell_type": "code",
   "execution_count": 104,
   "id": "787d9a67",
   "metadata": {},
   "outputs": [],
   "source": [
    "score_table = score_table.append({'preprocessing': 'word2vec', 'model': 'LGBMClassifier', 'f1_score': result.mean()}, ignore_index=True)"
   ]
  },
  {
   "cell_type": "markdown",
   "id": "f4395052",
   "metadata": {},
   "source": [
    "**Случайная модель**"
   ]
  },
  {
   "cell_type": "code",
   "execution_count": 105,
   "id": "9e353aea",
   "metadata": {},
   "outputs": [],
   "source": [
    "model_w2v_dummy = DummyClassifier(strategy='stratified')"
   ]
  },
  {
   "cell_type": "code",
   "execution_count": 106,
   "id": "6cc954fe",
   "metadata": {},
   "outputs": [
    {
     "name": "stdout",
     "output_type": "stream",
     "text": [
      "0.10679805170992278\n"
     ]
    }
   ],
   "source": [
    "result =  cross_val_score(model_w2v_dummy, features_w2v_scaled, target_train, cv=3, scoring=scorer)\n",
    "print(result.mean())"
   ]
  },
  {
   "cell_type": "code",
   "execution_count": 107,
   "id": "3b50c502",
   "metadata": {},
   "outputs": [],
   "source": [
    "score_table = score_table.append({'preprocessing': 'word2vec', 'model': 'DummyClassifier', 'f1_score': result.mean()}, ignore_index=True)"
   ]
  },
  {
   "cell_type": "markdown",
   "id": "f4e24c81",
   "metadata": {},
   "source": [
    "**Итоговая таблица**"
   ]
  },
  {
   "cell_type": "code",
   "execution_count": 108,
   "id": "b2336aa9",
   "metadata": {},
   "outputs": [
    {
     "data": {
      "text/html": [
       "<div>\n",
       "<style scoped>\n",
       "    .dataframe tbody tr th:only-of-type {\n",
       "        vertical-align: middle;\n",
       "    }\n",
       "\n",
       "    .dataframe tbody tr th {\n",
       "        vertical-align: top;\n",
       "    }\n",
       "\n",
       "    .dataframe thead th {\n",
       "        text-align: right;\n",
       "    }\n",
       "</style>\n",
       "<table border=\"1\" class=\"dataframe\">\n",
       "  <thead>\n",
       "    <tr style=\"text-align: right;\">\n",
       "      <th></th>\n",
       "      <th>preprocessing</th>\n",
       "      <th>model</th>\n",
       "      <th>f1_score</th>\n",
       "    </tr>\n",
       "  </thead>\n",
       "  <tbody>\n",
       "    <tr>\n",
       "      <th>4</th>\n",
       "      <td>CountVectorizer+bigram</td>\n",
       "      <td>LogisticRegression</td>\n",
       "      <td>0.753549</td>\n",
       "    </tr>\n",
       "    <tr>\n",
       "      <th>8</th>\n",
       "      <td>TF-IDF</td>\n",
       "      <td>LinearSVC</td>\n",
       "      <td>0.745719</td>\n",
       "    </tr>\n",
       "    <tr>\n",
       "      <th>1</th>\n",
       "      <td>CountVectorizer</td>\n",
       "      <td>LGBMClassifier</td>\n",
       "      <td>0.741384</td>\n",
       "    </tr>\n",
       "    <tr>\n",
       "      <th>5</th>\n",
       "      <td>CountVectorizer+bigram</td>\n",
       "      <td>LGBMClassifier</td>\n",
       "      <td>0.740876</td>\n",
       "    </tr>\n",
       "    <tr>\n",
       "      <th>0</th>\n",
       "      <td>CountVectorizer</td>\n",
       "      <td>LogisticRegression</td>\n",
       "      <td>0.738538</td>\n",
       "    </tr>\n",
       "    <tr>\n",
       "      <th>7</th>\n",
       "      <td>TF-IDF</td>\n",
       "      <td>LogisticRegression</td>\n",
       "      <td>0.735839</td>\n",
       "    </tr>\n",
       "    <tr>\n",
       "      <th>13</th>\n",
       "      <td>TF-IDF bigrams</td>\n",
       "      <td>LGBMClassifier</td>\n",
       "      <td>0.733266</td>\n",
       "    </tr>\n",
       "    <tr>\n",
       "      <th>9</th>\n",
       "      <td>TF-IDF</td>\n",
       "      <td>LGBMClassifier</td>\n",
       "      <td>0.733148</td>\n",
       "    </tr>\n",
       "    <tr>\n",
       "      <th>11</th>\n",
       "      <td>TF-IDF bigrams</td>\n",
       "      <td>LogisticRegression</td>\n",
       "      <td>0.729760</td>\n",
       "    </tr>\n",
       "    <tr>\n",
       "      <th>12</th>\n",
       "      <td>TF-IDF bigrams</td>\n",
       "      <td>LinearSVC</td>\n",
       "      <td>0.725543</td>\n",
       "    </tr>\n",
       "    <tr>\n",
       "      <th>17</th>\n",
       "      <td>word2vec</td>\n",
       "      <td>LGBMClassifier</td>\n",
       "      <td>0.724341</td>\n",
       "    </tr>\n",
       "    <tr>\n",
       "      <th>2</th>\n",
       "      <td>CountVectorizer</td>\n",
       "      <td>DecisionTree</td>\n",
       "      <td>0.669109</td>\n",
       "    </tr>\n",
       "    <tr>\n",
       "      <th>16</th>\n",
       "      <td>word2vec</td>\n",
       "      <td>LinearSVC</td>\n",
       "      <td>0.603697</td>\n",
       "    </tr>\n",
       "    <tr>\n",
       "      <th>15</th>\n",
       "      <td>word2vec</td>\n",
       "      <td>LogisticRegression</td>\n",
       "      <td>0.535970</td>\n",
       "    </tr>\n",
       "    <tr>\n",
       "      <th>18</th>\n",
       "      <td>word2vec</td>\n",
       "      <td>DummyClassifier</td>\n",
       "      <td>0.106798</td>\n",
       "    </tr>\n",
       "    <tr>\n",
       "      <th>3</th>\n",
       "      <td>CountVectorizer</td>\n",
       "      <td>DummyClassifier</td>\n",
       "      <td>0.104958</td>\n",
       "    </tr>\n",
       "    <tr>\n",
       "      <th>6</th>\n",
       "      <td>CountVectorizer+bigram</td>\n",
       "      <td>DummyClassifier</td>\n",
       "      <td>0.101437</td>\n",
       "    </tr>\n",
       "    <tr>\n",
       "      <th>14</th>\n",
       "      <td>TF-IDF bigrams</td>\n",
       "      <td>DummyClassifier</td>\n",
       "      <td>0.101381</td>\n",
       "    </tr>\n",
       "    <tr>\n",
       "      <th>10</th>\n",
       "      <td>TF-IDF</td>\n",
       "      <td>DummyClassifier</td>\n",
       "      <td>0.097229</td>\n",
       "    </tr>\n",
       "  </tbody>\n",
       "</table>\n",
       "</div>"
      ],
      "text/plain": [
       "             preprocessing               model  f1_score\n",
       "4   CountVectorizer+bigram  LogisticRegression  0.753549\n",
       "8                   TF-IDF           LinearSVC  0.745719\n",
       "1          CountVectorizer      LGBMClassifier  0.741384\n",
       "5   CountVectorizer+bigram      LGBMClassifier  0.740876\n",
       "0          CountVectorizer  LogisticRegression  0.738538\n",
       "7                   TF-IDF  LogisticRegression  0.735839\n",
       "13          TF-IDF bigrams      LGBMClassifier  0.733266\n",
       "9                   TF-IDF      LGBMClassifier  0.733148\n",
       "11          TF-IDF bigrams  LogisticRegression  0.729760\n",
       "12          TF-IDF bigrams           LinearSVC  0.725543\n",
       "17                word2vec      LGBMClassifier  0.724341\n",
       "2          CountVectorizer        DecisionTree  0.669109\n",
       "16                word2vec           LinearSVC  0.603697\n",
       "15                word2vec  LogisticRegression  0.535970\n",
       "18                word2vec     DummyClassifier  0.106798\n",
       "3          CountVectorizer     DummyClassifier  0.104958\n",
       "6   CountVectorizer+bigram     DummyClassifier  0.101437\n",
       "14          TF-IDF bigrams     DummyClassifier  0.101381\n",
       "10                  TF-IDF     DummyClassifier  0.097229"
      ]
     },
     "execution_count": 108,
     "metadata": {},
     "output_type": "execute_result"
    }
   ],
   "source": [
    "score_table.sort_values('f1_score', ascending=False)"
   ]
  },
  {
   "cell_type": "markdown",
   "id": "844e2931",
   "metadata": {},
   "source": [
    "## Создаем ансамбль на основе лучших моделей"
   ]
  },
  {
   "cell_type": "markdown",
   "id": "79fd6689",
   "metadata": {},
   "source": [
    "Для того, чтобы улучшить метрику, создадим \"голосующий\" ансамбль на основе трёх лучших моделей. Создадим функцию, в которую будем передавать лучшие предсказания и \"большинством голосов\" выбирать ноль или единицу"
   ]
  },
  {
   "cell_type": "code",
   "execution_count": 109,
   "id": "b1d66dfc",
   "metadata": {},
   "outputs": [],
   "source": [
    "def ensemble(pred_1, pred_2, pred_3):\n",
    "    pred_result = np.zeros(len(pred_1))\n",
    "    for i in range(len(pred_1)):\n",
    "        pred_summ = pred_1[i] + pred_2[i] + pred_3[i]\n",
    "        if pred_summ >= 2:\n",
    "            pred_result[i] = 1\n",
    "        else:\n",
    "            pred_result[i] = 0\n",
    "    return pred_result"
   ]
  },
  {
   "cell_type": "markdown",
   "id": "f7c50ee0",
   "metadata": {},
   "source": [
    "Обучим три лучшие модели:"
   ]
  },
  {
   "cell_type": "code",
   "execution_count": 110,
   "id": "9cb6464e",
   "metadata": {},
   "outputs": [
    {
     "data": {
      "text/plain": [
       "LogisticRegression(class_weight='balanced', max_iter=1000, random_state=17)"
      ]
     },
     "execution_count": 110,
     "metadata": {},
     "output_type": "execute_result"
    }
   ],
   "source": [
    "model_cvgram_lr.fit(corpus_lemm_clear_ngram, target)"
   ]
  },
  {
   "cell_type": "code",
   "execution_count": 111,
   "id": "585c719b",
   "metadata": {},
   "outputs": [
    {
     "data": {
      "text/plain": [
       "LinearSVC(class_weight='balanced')"
      ]
     },
     "execution_count": 111,
     "metadata": {},
     "output_type": "execute_result"
    }
   ],
   "source": [
    "model_tfidf_svc.fit(corpus_lemm_clear_tfidf, target)"
   ]
  },
  {
   "cell_type": "code",
   "execution_count": 112,
   "id": "3ee749eb",
   "metadata": {},
   "outputs": [
    {
     "data": {
      "text/plain": [
       "LGBMClassifier(boosting_type='goss', n_estimators=500)"
      ]
     },
     "execution_count": 112,
     "metadata": {},
     "output_type": "execute_result"
    }
   ],
   "source": [
    "model_cv_lgbm.fit(features_train_cv, target)"
   ]
  },
  {
   "cell_type": "markdown",
   "id": "18c746a8",
   "metadata": {},
   "source": [
    "### Выводы:"
   ]
  },
  {
   "cell_type": "markdown",
   "id": "8fd5484b",
   "metadata": {},
   "source": [
    "- Для векторизации текста мы применили методы CountVectorizer, TF-IDF и Word2vec\n",
    "- Для задачи классификации были использованы логистическая регрессия, градиентный бустинг, метод опорных векторов и дерево решений\n",
    "- Все модели прошли проверку на адекватность в сравнении со случайной моделью\n",
    "- По итогам скоринговой таблицы лучшими оказались логистическая регрессия в применении к мешку слов с биграммами, градиентный бустинг в применении к мешку слов и метод опорных векторов для TF-IDF.\n",
    "- Три лучшие моделм были обучены на соответствующих данных\n",
    "- Была определена функция для простроения голосующего ансамбля из трех лучших моделей"
   ]
  },
  {
   "cell_type": "markdown",
   "id": "4b556c23",
   "metadata": {},
   "source": [
    "## Тестирование модели"
   ]
  },
  {
   "cell_type": "markdown",
   "id": "b44e0140",
   "metadata": {},
   "source": [
    "Для того, чтобы протестировать полученную модель на тестовых данных, необходимо набор тестовых данных привести к лемматизированной форме, а потом обработать соответствующим образом для работы с каждой из моделей"
   ]
  },
  {
   "cell_type": "markdown",
   "id": "a856a291",
   "metadata": {},
   "source": [
    "**Лемматизация и очистка**"
   ]
  },
  {
   "cell_type": "code",
   "execution_count": 113,
   "id": "2840711f",
   "metadata": {},
   "outputs": [],
   "source": [
    "n_comments = 2500"
   ]
  },
  {
   "cell_type": "code",
   "execution_count": 114,
   "id": "5cc3076d",
   "metadata": {},
   "outputs": [],
   "source": [
    "corpus_test_lemm = step_lemmatizator(n_comments, corpus_test)"
   ]
  },
  {
   "cell_type": "code",
   "execution_count": 115,
   "id": "ddd27e7b",
   "metadata": {},
   "outputs": [],
   "source": [
    "corpus_test_lemm_clear = cleaner(corpus_test_lemm)"
   ]
  },
  {
   "cell_type": "markdown",
   "id": "4fd00beb",
   "metadata": {},
   "source": [
    "Проверяем результат лемматизации и очистки"
   ]
  },
  {
   "cell_type": "code",
   "execution_count": 116,
   "id": "00011e29",
   "metadata": {},
   "outputs": [
    {
     "data": {
      "text/plain": [
       "'hamboards removed speedy deletion tag placed article admit tendency wa decided see google news would anything doe considerably material work article deserves chance think company pass wp company'"
      ]
     },
     "execution_count": 116,
     "metadata": {},
     "output_type": "execute_result"
    }
   ],
   "source": [
    "corpus_test_lemm_clear[345]"
   ]
  },
  {
   "cell_type": "code",
   "execution_count": 117,
   "id": "ac469cf5",
   "metadata": {},
   "outputs": [
    {
     "data": {
      "text/plain": [
       "\"hamboards \\n\\ni have removed the speedy deletion tag you placed on this article. i admit my tendency was to do the same, but i decided to see if google news would have anything, and it does. there's considerably material to work from there, and the article deserves a chance. i think the company passes wp:company.\""
      ]
     },
     "execution_count": 117,
     "metadata": {},
     "output_type": "execute_result"
    }
   ],
   "source": [
    "corpus_test[345]"
   ]
  },
  {
   "cell_type": "markdown",
   "id": "7726a6b6",
   "metadata": {},
   "source": [
    "Преобразуем полученный тестовый корпус следующим образом:\n",
    "1. Применим CountVectorizer с биграммами и получим предсказание с помощью Логистической регрессии\n",
    "2. Применим TF-IDF и получим предсказание с помощью метода опорных векторов\n",
    "3. Применим CountVectorizer и снова получим предсказание с помощью Логистической регрессии"
   ]
  },
  {
   "cell_type": "code",
   "execution_count": 118,
   "id": "9bb02dd3",
   "metadata": {},
   "outputs": [],
   "source": [
    "corpus_test_1 = bigram_vectorizer.transform(corpus_test_lemm_clear)"
   ]
  },
  {
   "cell_type": "code",
   "execution_count": 119,
   "id": "c262321e",
   "metadata": {},
   "outputs": [],
   "source": [
    "pred_1 = model_cvgram_lr.predict(corpus_test_1)"
   ]
  },
  {
   "cell_type": "code",
   "execution_count": 120,
   "id": "a9e379e6",
   "metadata": {},
   "outputs": [
    {
     "name": "stdout",
     "output_type": "stream",
     "text": [
      "f1_score для первой модели 0.7674703718839395\n"
     ]
    }
   ],
   "source": [
    "print('f1_score для первой модели', f1_score(target_test, pred_1))"
   ]
  },
  {
   "cell_type": "code",
   "execution_count": 121,
   "id": "2adb4cf5",
   "metadata": {},
   "outputs": [],
   "source": [
    "corpus_test_2 = tf_idf_vectorizer.transform(corpus_test_lemm_clear)"
   ]
  },
  {
   "cell_type": "code",
   "execution_count": 122,
   "id": "a4743c47",
   "metadata": {},
   "outputs": [],
   "source": [
    "pred_2 = model_tfidf_svc.predict(corpus_test_2)"
   ]
  },
  {
   "cell_type": "code",
   "execution_count": 123,
   "id": "b1071967",
   "metadata": {},
   "outputs": [
    {
     "name": "stdout",
     "output_type": "stream",
     "text": [
      "f1_score для второй модели 0.735483870967742\n"
     ]
    }
   ],
   "source": [
    "print('f1_score для второй модели', f1_score(target_test, pred_2))"
   ]
  },
  {
   "cell_type": "code",
   "execution_count": 124,
   "id": "19fdd340",
   "metadata": {},
   "outputs": [],
   "source": [
    "corpus_test_3 = count_vector.transform(corpus_test_lemm_clear).astype('float32')"
   ]
  },
  {
   "cell_type": "code",
   "execution_count": 125,
   "id": "c1a933b2",
   "metadata": {},
   "outputs": [],
   "source": [
    "pred_3 = model_cv_lgbm.predict(corpus_test_3)"
   ]
  },
  {
   "cell_type": "code",
   "execution_count": 126,
   "id": "9bbb1649",
   "metadata": {},
   "outputs": [
    {
     "name": "stdout",
     "output_type": "stream",
     "text": [
      "f1_score для третьей модели 0.7535979066724815\n"
     ]
    }
   ],
   "source": [
    "print('f1_score для третьей модели', f1_score(target_test, pred_3))"
   ]
  },
  {
   "cell_type": "code",
   "execution_count": 127,
   "id": "736eb87d",
   "metadata": {},
   "outputs": [],
   "source": [
    "total_prediction = ensemble(pred_1, pred_2, pred_3)"
   ]
  },
  {
   "cell_type": "code",
   "execution_count": 128,
   "id": "feca36fc",
   "metadata": {},
   "outputs": [
    {
     "data": {
      "text/plain": [
       "0.7710743801652893"
      ]
     },
     "execution_count": 128,
     "metadata": {},
     "output_type": "execute_result"
    }
   ],
   "source": [
    "f1_score(target_test, total_prediction)"
   ]
  },
  {
   "cell_type": "markdown",
   "id": "91bdca61",
   "metadata": {},
   "source": [
    "## Выводы"
   ]
  },
  {
   "cell_type": "markdown",
   "id": "97eeb7b4",
   "metadata": {},
   "source": [
    "Была создана модель классификации комментариев по уровню токсичности, опробованы различные методы векторизации и различные модели машинного обучения с учителем. На основе трех наиболее успешных моделей был создан ансамбль, который позволил добиться метрики f1 на тестовых данных = 0.77"
   ]
  }
 ],
 "metadata": {
  "kernelspec": {
   "display_name": "Python 3 (ipykernel)",
   "language": "python",
   "name": "python3"
  },
  "language_info": {
   "codemirror_mode": {
    "name": "ipython",
    "version": 3
   },
   "file_extension": ".py",
   "mimetype": "text/x-python",
   "name": "python",
   "nbconvert_exporter": "python",
   "pygments_lexer": "ipython3",
   "version": "3.9.7"
  },
  "toc": {
   "base_numbering": 1,
   "nav_menu": {},
   "number_sections": true,
   "sideBar": true,
   "skip_h1_title": true,
   "title_cell": "Table of Contents",
   "title_sidebar": "Contents",
   "toc_cell": false,
   "toc_position": {},
   "toc_section_display": true,
   "toc_window_display": false
  }
 },
 "nbformat": 4,
 "nbformat_minor": 5
}
