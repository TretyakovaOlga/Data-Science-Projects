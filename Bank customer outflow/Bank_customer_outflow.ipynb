{
 "cells": [
  {
   "cell_type": "markdown",
   "id": "7cdbbd85",
   "metadata": {},
   "source": [
    "## Прогноз оттока банковских клиентов"
   ]
  },
  {
   "cell_type": "markdown",
   "id": "0d560a2e",
   "metadata": {},
   "source": [
    "**Задача:** по имеющимся историческим данным о поведении клиентов построить модель, которая будет прогнозировать отток."
   ]
  },
  {
   "cell_type": "markdown",
   "id": "53d58d5b",
   "metadata": {},
   "source": [
    "**Описание данных:**</br>\n",
    "</br>\n",
    "**RowNumber** — индекс строки в данных</br>\n",
    "**CustomerId** — уникальный идентификатор клиента</br>\n",
    "**Surname** — фамилия</br>\n",
    "**CreditScore** — кредитный рейтинг</br>\n",
    "**Geography** — страна проживания</br>\n",
    "**Gender** — пол</br>\n",
    "**Age** — возраст</br>\n",
    "**Tenure** — сколько лет человек является клиентом банка</br>\n",
    "**Balance** — баланс на счёте</br>\n",
    "**NumOfProducts** — количество продуктов банка, используемых клиентом</br>\n",
    "**HasCrCard** — наличие кредитной карты</br>\n",
    "**IsActiveMember** — активность клиента</br>\n",
    "**EstimatedSalary** — предполагаемая зарплата</br>\n",
    "**Exited** — факт ухода клиента</br>"
   ]
  },
  {
   "cell_type": "markdown",
   "id": "fe47dab4",
   "metadata": {},
   "source": [
    "**План работы:**\n",
    "- изучение и предобработка данных\n",
    "- подготовка данных\n",
    "- обучение модели без учета баланса классов\n",
    "- балансировка классов и повторное обучение модели\n",
    "- настройка гиперпараметров модели\n",
    "- финальное тестирование"
   ]
  },
  {
   "cell_type": "markdown",
   "id": "966f756a",
   "metadata": {},
   "source": [
    "### Изучение и преобработка данных"
   ]
  },
  {
   "cell_type": "code",
   "execution_count": 1,
   "id": "8fddd103",
   "metadata": {},
   "outputs": [],
   "source": [
    "#импортируем необходимые библиотеки\n",
    "\n",
    "import pandas as pd\n",
    "import numpy as np\n",
    "import matplotlib.pyplot as plt\n",
    "from sklearn.model_selection import train_test_split\n",
    "from sklearn.impute import KNNImputer\n",
    "from sklearn.preprocessing import StandardScaler\n",
    "from sklearn.preprocessing import MinMaxScaler\n",
    "from sklearn.tree import DecisionTreeClassifier\n",
    "from sklearn.ensemble import RandomForestClassifier\n",
    "from sklearn.linear_model import LogisticRegression\n",
    "from sklearn.neighbors import KNeighborsClassifier\n",
    "from sklearn.svm import SVC\n",
    "from sklearn.naive_bayes import GaussianNB\n",
    "from sklearn.metrics import f1_score\n",
    "from sklearn.metrics import roc_auc_score\n",
    "from sklearn.dummy import DummyClassifier\n",
    "from sklearn.utils import shuffle\n",
    "import matplotlib.ticker as ticker\n"
   ]
  },
  {
   "cell_type": "code",
   "execution_count": 2,
   "id": "854ebf74",
   "metadata": {},
   "outputs": [],
   "source": [
    "#откроем файл с данными\n",
    "\n",
    "try:\n",
    "    users = pd.read_csv('datasets/Churn.csv')\n",
    "except FileNotFoundError:\n",
    "    users = pd.read_csv('/datasets/Churn.csv') "
   ]
  },
  {
   "cell_type": "code",
   "execution_count": 3,
   "id": "c2067eab",
   "metadata": {},
   "outputs": [
    {
     "name": "stdout",
     "output_type": "stream",
     "text": [
      "<class 'pandas.core.frame.DataFrame'>\n",
      "RangeIndex: 10000 entries, 0 to 9999\n",
      "Data columns (total 14 columns):\n",
      " #   Column           Non-Null Count  Dtype  \n",
      "---  ------           --------------  -----  \n",
      " 0   RowNumber        10000 non-null  int64  \n",
      " 1   CustomerId       10000 non-null  int64  \n",
      " 2   Surname          10000 non-null  object \n",
      " 3   CreditScore      10000 non-null  int64  \n",
      " 4   Geography        10000 non-null  object \n",
      " 5   Gender           10000 non-null  object \n",
      " 6   Age              10000 non-null  int64  \n",
      " 7   Tenure           9091 non-null   float64\n",
      " 8   Balance          10000 non-null  float64\n",
      " 9   NumOfProducts    10000 non-null  int64  \n",
      " 10  HasCrCard        10000 non-null  int64  \n",
      " 11  IsActiveMember   10000 non-null  int64  \n",
      " 12  EstimatedSalary  10000 non-null  float64\n",
      " 13  Exited           10000 non-null  int64  \n",
      "dtypes: float64(3), int64(8), object(3)\n",
      "memory usage: 1.1+ MB\n"
     ]
    },
    {
     "data": {
      "text/html": [
       "<div>\n",
       "<style scoped>\n",
       "    .dataframe tbody tr th:only-of-type {\n",
       "        vertical-align: middle;\n",
       "    }\n",
       "\n",
       "    .dataframe tbody tr th {\n",
       "        vertical-align: top;\n",
       "    }\n",
       "\n",
       "    .dataframe thead th {\n",
       "        text-align: right;\n",
       "    }\n",
       "</style>\n",
       "<table border=\"1\" class=\"dataframe\">\n",
       "  <thead>\n",
       "    <tr style=\"text-align: right;\">\n",
       "      <th></th>\n",
       "      <th>RowNumber</th>\n",
       "      <th>CustomerId</th>\n",
       "      <th>Surname</th>\n",
       "      <th>CreditScore</th>\n",
       "      <th>Geography</th>\n",
       "      <th>Gender</th>\n",
       "      <th>Age</th>\n",
       "      <th>Tenure</th>\n",
       "      <th>Balance</th>\n",
       "      <th>NumOfProducts</th>\n",
       "      <th>HasCrCard</th>\n",
       "      <th>IsActiveMember</th>\n",
       "      <th>EstimatedSalary</th>\n",
       "      <th>Exited</th>\n",
       "    </tr>\n",
       "  </thead>\n",
       "  <tbody>\n",
       "    <tr>\n",
       "      <th>0</th>\n",
       "      <td>1</td>\n",
       "      <td>15634602</td>\n",
       "      <td>Hargrave</td>\n",
       "      <td>619</td>\n",
       "      <td>France</td>\n",
       "      <td>Female</td>\n",
       "      <td>42</td>\n",
       "      <td>2.0</td>\n",
       "      <td>0.00</td>\n",
       "      <td>1</td>\n",
       "      <td>1</td>\n",
       "      <td>1</td>\n",
       "      <td>101348.88</td>\n",
       "      <td>1</td>\n",
       "    </tr>\n",
       "    <tr>\n",
       "      <th>1</th>\n",
       "      <td>2</td>\n",
       "      <td>15647311</td>\n",
       "      <td>Hill</td>\n",
       "      <td>608</td>\n",
       "      <td>Spain</td>\n",
       "      <td>Female</td>\n",
       "      <td>41</td>\n",
       "      <td>1.0</td>\n",
       "      <td>83807.86</td>\n",
       "      <td>1</td>\n",
       "      <td>0</td>\n",
       "      <td>1</td>\n",
       "      <td>112542.58</td>\n",
       "      <td>0</td>\n",
       "    </tr>\n",
       "    <tr>\n",
       "      <th>2</th>\n",
       "      <td>3</td>\n",
       "      <td>15619304</td>\n",
       "      <td>Onio</td>\n",
       "      <td>502</td>\n",
       "      <td>France</td>\n",
       "      <td>Female</td>\n",
       "      <td>42</td>\n",
       "      <td>8.0</td>\n",
       "      <td>159660.80</td>\n",
       "      <td>3</td>\n",
       "      <td>1</td>\n",
       "      <td>0</td>\n",
       "      <td>113931.57</td>\n",
       "      <td>1</td>\n",
       "    </tr>\n",
       "    <tr>\n",
       "      <th>3</th>\n",
       "      <td>4</td>\n",
       "      <td>15701354</td>\n",
       "      <td>Boni</td>\n",
       "      <td>699</td>\n",
       "      <td>France</td>\n",
       "      <td>Female</td>\n",
       "      <td>39</td>\n",
       "      <td>1.0</td>\n",
       "      <td>0.00</td>\n",
       "      <td>2</td>\n",
       "      <td>0</td>\n",
       "      <td>0</td>\n",
       "      <td>93826.63</td>\n",
       "      <td>0</td>\n",
       "    </tr>\n",
       "    <tr>\n",
       "      <th>4</th>\n",
       "      <td>5</td>\n",
       "      <td>15737888</td>\n",
       "      <td>Mitchell</td>\n",
       "      <td>850</td>\n",
       "      <td>Spain</td>\n",
       "      <td>Female</td>\n",
       "      <td>43</td>\n",
       "      <td>2.0</td>\n",
       "      <td>125510.82</td>\n",
       "      <td>1</td>\n",
       "      <td>1</td>\n",
       "      <td>1</td>\n",
       "      <td>79084.10</td>\n",
       "      <td>0</td>\n",
       "    </tr>\n",
       "  </tbody>\n",
       "</table>\n",
       "</div>"
      ],
      "text/plain": [
       "   RowNumber  CustomerId   Surname  CreditScore Geography  Gender  Age  \\\n",
       "0          1    15634602  Hargrave          619    France  Female   42   \n",
       "1          2    15647311      Hill          608     Spain  Female   41   \n",
       "2          3    15619304      Onio          502    France  Female   42   \n",
       "3          4    15701354      Boni          699    France  Female   39   \n",
       "4          5    15737888  Mitchell          850     Spain  Female   43   \n",
       "\n",
       "   Tenure    Balance  NumOfProducts  HasCrCard  IsActiveMember  \\\n",
       "0     2.0       0.00              1          1               1   \n",
       "1     1.0   83807.86              1          0               1   \n",
       "2     8.0  159660.80              3          1               0   \n",
       "3     1.0       0.00              2          0               0   \n",
       "4     2.0  125510.82              1          1               1   \n",
       "\n",
       "   EstimatedSalary  Exited  \n",
       "0        101348.88       1  \n",
       "1        112542.58       0  \n",
       "2        113931.57       1  \n",
       "3         93826.63       0  \n",
       "4         79084.10       0  "
      ]
     },
     "metadata": {},
     "output_type": "display_data"
    },
    {
     "data": {
      "text/plain": [
       "None"
      ]
     },
     "metadata": {},
     "output_type": "display_data"
    },
    {
     "data": {
      "text/html": [
       "<div>\n",
       "<style scoped>\n",
       "    .dataframe tbody tr th:only-of-type {\n",
       "        vertical-align: middle;\n",
       "    }\n",
       "\n",
       "    .dataframe tbody tr th {\n",
       "        vertical-align: top;\n",
       "    }\n",
       "\n",
       "    .dataframe thead th {\n",
       "        text-align: right;\n",
       "    }\n",
       "</style>\n",
       "<table border=\"1\" class=\"dataframe\">\n",
       "  <thead>\n",
       "    <tr style=\"text-align: right;\">\n",
       "      <th></th>\n",
       "      <th>RowNumber</th>\n",
       "      <th>CustomerId</th>\n",
       "      <th>CreditScore</th>\n",
       "      <th>Age</th>\n",
       "      <th>Tenure</th>\n",
       "      <th>Balance</th>\n",
       "      <th>NumOfProducts</th>\n",
       "      <th>HasCrCard</th>\n",
       "      <th>IsActiveMember</th>\n",
       "      <th>EstimatedSalary</th>\n",
       "      <th>Exited</th>\n",
       "    </tr>\n",
       "  </thead>\n",
       "  <tbody>\n",
       "    <tr>\n",
       "      <th>count</th>\n",
       "      <td>10000.00000</td>\n",
       "      <td>1.000000e+04</td>\n",
       "      <td>10000.000000</td>\n",
       "      <td>10000.000000</td>\n",
       "      <td>9091.000000</td>\n",
       "      <td>10000.000000</td>\n",
       "      <td>10000.000000</td>\n",
       "      <td>10000.00000</td>\n",
       "      <td>10000.000000</td>\n",
       "      <td>10000.000000</td>\n",
       "      <td>10000.000000</td>\n",
       "    </tr>\n",
       "    <tr>\n",
       "      <th>mean</th>\n",
       "      <td>5000.50000</td>\n",
       "      <td>1.569094e+07</td>\n",
       "      <td>650.528800</td>\n",
       "      <td>38.921800</td>\n",
       "      <td>4.997690</td>\n",
       "      <td>76485.889288</td>\n",
       "      <td>1.530200</td>\n",
       "      <td>0.70550</td>\n",
       "      <td>0.515100</td>\n",
       "      <td>100090.239881</td>\n",
       "      <td>0.203700</td>\n",
       "    </tr>\n",
       "    <tr>\n",
       "      <th>std</th>\n",
       "      <td>2886.89568</td>\n",
       "      <td>7.193619e+04</td>\n",
       "      <td>96.653299</td>\n",
       "      <td>10.487806</td>\n",
       "      <td>2.894723</td>\n",
       "      <td>62397.405202</td>\n",
       "      <td>0.581654</td>\n",
       "      <td>0.45584</td>\n",
       "      <td>0.499797</td>\n",
       "      <td>57510.492818</td>\n",
       "      <td>0.402769</td>\n",
       "    </tr>\n",
       "    <tr>\n",
       "      <th>min</th>\n",
       "      <td>1.00000</td>\n",
       "      <td>1.556570e+07</td>\n",
       "      <td>350.000000</td>\n",
       "      <td>18.000000</td>\n",
       "      <td>0.000000</td>\n",
       "      <td>0.000000</td>\n",
       "      <td>1.000000</td>\n",
       "      <td>0.00000</td>\n",
       "      <td>0.000000</td>\n",
       "      <td>11.580000</td>\n",
       "      <td>0.000000</td>\n",
       "    </tr>\n",
       "    <tr>\n",
       "      <th>25%</th>\n",
       "      <td>2500.75000</td>\n",
       "      <td>1.562853e+07</td>\n",
       "      <td>584.000000</td>\n",
       "      <td>32.000000</td>\n",
       "      <td>2.000000</td>\n",
       "      <td>0.000000</td>\n",
       "      <td>1.000000</td>\n",
       "      <td>0.00000</td>\n",
       "      <td>0.000000</td>\n",
       "      <td>51002.110000</td>\n",
       "      <td>0.000000</td>\n",
       "    </tr>\n",
       "    <tr>\n",
       "      <th>50%</th>\n",
       "      <td>5000.50000</td>\n",
       "      <td>1.569074e+07</td>\n",
       "      <td>652.000000</td>\n",
       "      <td>37.000000</td>\n",
       "      <td>5.000000</td>\n",
       "      <td>97198.540000</td>\n",
       "      <td>1.000000</td>\n",
       "      <td>1.00000</td>\n",
       "      <td>1.000000</td>\n",
       "      <td>100193.915000</td>\n",
       "      <td>0.000000</td>\n",
       "    </tr>\n",
       "    <tr>\n",
       "      <th>75%</th>\n",
       "      <td>7500.25000</td>\n",
       "      <td>1.575323e+07</td>\n",
       "      <td>718.000000</td>\n",
       "      <td>44.000000</td>\n",
       "      <td>7.000000</td>\n",
       "      <td>127644.240000</td>\n",
       "      <td>2.000000</td>\n",
       "      <td>1.00000</td>\n",
       "      <td>1.000000</td>\n",
       "      <td>149388.247500</td>\n",
       "      <td>0.000000</td>\n",
       "    </tr>\n",
       "    <tr>\n",
       "      <th>max</th>\n",
       "      <td>10000.00000</td>\n",
       "      <td>1.581569e+07</td>\n",
       "      <td>850.000000</td>\n",
       "      <td>92.000000</td>\n",
       "      <td>10.000000</td>\n",
       "      <td>250898.090000</td>\n",
       "      <td>4.000000</td>\n",
       "      <td>1.00000</td>\n",
       "      <td>1.000000</td>\n",
       "      <td>199992.480000</td>\n",
       "      <td>1.000000</td>\n",
       "    </tr>\n",
       "  </tbody>\n",
       "</table>\n",
       "</div>"
      ],
      "text/plain": [
       "         RowNumber    CustomerId   CreditScore           Age       Tenure  \\\n",
       "count  10000.00000  1.000000e+04  10000.000000  10000.000000  9091.000000   \n",
       "mean    5000.50000  1.569094e+07    650.528800     38.921800     4.997690   \n",
       "std     2886.89568  7.193619e+04     96.653299     10.487806     2.894723   \n",
       "min        1.00000  1.556570e+07    350.000000     18.000000     0.000000   \n",
       "25%     2500.75000  1.562853e+07    584.000000     32.000000     2.000000   \n",
       "50%     5000.50000  1.569074e+07    652.000000     37.000000     5.000000   \n",
       "75%     7500.25000  1.575323e+07    718.000000     44.000000     7.000000   \n",
       "max    10000.00000  1.581569e+07    850.000000     92.000000    10.000000   \n",
       "\n",
       "             Balance  NumOfProducts    HasCrCard  IsActiveMember  \\\n",
       "count   10000.000000   10000.000000  10000.00000    10000.000000   \n",
       "mean    76485.889288       1.530200      0.70550        0.515100   \n",
       "std     62397.405202       0.581654      0.45584        0.499797   \n",
       "min         0.000000       1.000000      0.00000        0.000000   \n",
       "25%         0.000000       1.000000      0.00000        0.000000   \n",
       "50%     97198.540000       1.000000      1.00000        1.000000   \n",
       "75%    127644.240000       2.000000      1.00000        1.000000   \n",
       "max    250898.090000       4.000000      1.00000        1.000000   \n",
       "\n",
       "       EstimatedSalary        Exited  \n",
       "count     10000.000000  10000.000000  \n",
       "mean     100090.239881      0.203700  \n",
       "std       57510.492818      0.402769  \n",
       "min          11.580000      0.000000  \n",
       "25%       51002.110000      0.000000  \n",
       "50%      100193.915000      0.000000  \n",
       "75%      149388.247500      0.000000  \n",
       "max      199992.480000      1.000000  "
      ]
     },
     "metadata": {},
     "output_type": "display_data"
    }
   ],
   "source": [
    "#ознакомимся с содержимым данных\n",
    "\n",
    "display(users.head(), users.info(), users.describe())"
   ]
  },
  {
   "cell_type": "code",
   "execution_count": 4,
   "id": "ed7c0c2d",
   "metadata": {},
   "outputs": [
    {
     "data": {
      "text/plain": [
       "array(['France', 'Spain', 'Germany'], dtype=object)"
      ]
     },
     "metadata": {},
     "output_type": "display_data"
    },
    {
     "data": {
      "text/plain": [
       "array(['Female', 'Male'], dtype=object)"
      ]
     },
     "metadata": {},
     "output_type": "display_data"
    },
    {
     "data": {
      "text/plain": [
       "2932"
      ]
     },
     "metadata": {},
     "output_type": "display_data"
    }
   ],
   "source": [
    "#посмотрим данные о категориальных признаках\n",
    "\n",
    "display(users['Geography'].unique())\n",
    "display(users['Gender'].unique())\n",
    "display(users['Surname'].nunique())"
   ]
  },
  {
   "cell_type": "markdown",
   "id": "68073cc9",
   "metadata": {},
   "source": [
    "В датасете 14 колонок с категориальными и количественными переменными. </br>\n",
    "Видим, что в столбце 'tenure' пропущено около 1000 значений, их нужно заполнить.</br>\n",
    "В колонке с ожидаемой зарплатой минимальное значение - всего 11 евро, нужно ознакомиться с содержимым столбца."
   ]
  },
  {
   "cell_type": "code",
   "execution_count": 5,
   "id": "3794c9e9",
   "metadata": {},
   "outputs": [
    {
     "data": {
      "text/plain": [
       "0"
      ]
     },
     "execution_count": 5,
     "metadata": {},
     "output_type": "execute_result"
    }
   ],
   "source": [
    "#проверим полные дубликаты\n",
    "\n",
    "users.duplicated().sum()"
   ]
  },
  {
   "cell_type": "code",
   "execution_count": 6,
   "id": "feebef3f",
   "metadata": {},
   "outputs": [],
   "source": [
    "#для удобства приведем названия колонок к нижнему регистру\n",
    "\n",
    "users.columns = map(str.lower, users.columns)"
   ]
  },
  {
   "cell_type": "code",
   "execution_count": 7,
   "id": "09368f06",
   "metadata": {},
   "outputs": [
    {
     "name": "stdout",
     "output_type": "stream",
     "text": [
      "Среднее до заполнения пропусков: 4.997690023099769\n",
      "Медиана до заполнения пропусков: 5.0\n",
      "Стандартное отклонение до заполнения пропусков: 2.894723234821264\n"
     ]
    }
   ],
   "source": [
    "print('Среднее до заполнения пропусков:', users['tenure'].mean())\n",
    "print('Медиана до заполнения пропусков:', users['tenure'].median())\n",
    "print('Стандартное отклонение до заполнения пропусков:', users['tenure'].std())"
   ]
  },
  {
   "cell_type": "code",
   "execution_count": 8,
   "id": "88a938ae",
   "metadata": {},
   "outputs": [],
   "source": [
    "#заполним пропуски в колонке 'tenure' с помощью KNNImputer\n",
    "\n",
    "imputer = KNNImputer()\n",
    "users['tenure'] = imputer.fit_transform(users[['tenure']])"
   ]
  },
  {
   "cell_type": "code",
   "execution_count": 9,
   "id": "af7f6d78",
   "metadata": {},
   "outputs": [
    {
     "name": "stdout",
     "output_type": "stream",
     "text": [
      "Среднее после заполнения пропусков: 4.997690023099746\n",
      "Медиана после заполнения пропусков: 4.997690023099769\n",
      "Стандартное отклонение после заполнения пропусков: 2.760010310622057\n"
     ]
    }
   ],
   "source": [
    "print('Среднее после заполнения пропусков:', users['tenure'].mean())\n",
    "print('Медиана после заполнения пропусков:', users['tenure'].median())\n",
    "print('Стандартное отклонение после заполнения пропусков:', users['tenure'].std())"
   ]
  },
  {
   "cell_type": "code",
   "execution_count": 11,
   "id": "454ba1c3",
   "metadata": {},
   "outputs": [
    {
     "data": {
      "image/png": "[encoded data removed]",
      "text/plain": [
       "<Figure size 432x288 with 1 Axes>"
      ]
     },
     "metadata": {
      "needs_background": "light"
     },
     "output_type": "display_data"
    }
   ],
   "source": [
    "users['estimatedsalary'].hist(bins=100);\n",
    "plt.title('Estimated Salary histogram', fontsize=12)\n",
    "plt.xlabel('Est. customer salary')\n",
    "plt.ylabel('Density')\n",
    "plt.show()"
   ]
  },
  {
   "cell_type": "markdown",
   "id": "9e612863",
   "metadata": {},
   "source": [
    "11 (вероятно) евро - не единственная странная цифра в колонке с ожидаемыми зарплатами. Видимо, данные сюда вносятся исходя из движения средств клиента на счёте какой-то внутренней моделью банка. Дополнительная обработка здесь не требуется."
   ]
  },
  {
   "cell_type": "code",
   "execution_count": 12,
   "id": "75ec7152",
   "metadata": {},
   "outputs": [
    {
     "data": {
      "text/plain": [
       "0    0.7963\n",
       "1    0.2037\n",
       "Name: exited, dtype: float64"
      ]
     },
     "execution_count": 12,
     "metadata": {},
     "output_type": "execute_result"
    }
   ],
   "source": [
    "#посмотрим, какой процент клиентов из текущей выборки покинул банк\n",
    "\n",
    "users['exited'].value_counts(normalize=True)"
   ]
  },
  {
   "cell_type": "code",
   "execution_count": 13,
   "id": "2ed83a5e",
   "metadata": {},
   "outputs": [
    {
     "data": {
      "text/plain": [
       "exited             1.000000\n",
       "age                0.285323\n",
       "isactivemember     0.156128\n",
       "balance            0.118533\n",
       "numofproducts      0.047820\n",
       "creditscore        0.027094\n",
       "rownumber          0.016571\n",
       "tenure             0.015988\n",
       "estimatedsalary    0.012097\n",
       "hascrcard          0.007138\n",
       "customerid         0.006248\n",
       "Name: exited, dtype: float64"
      ]
     },
     "execution_count": 13,
     "metadata": {},
     "output_type": "execute_result"
    }
   ],
   "source": [
    "#посмотрим корреляцию между фактом ухода и остальными признаками\n",
    "\n",
    "data_corr = users.corr()\n",
    "abs(data_corr['exited']).sort_values(ascending=False)"
   ]
  },
  {
   "cell_type": "markdown",
   "id": "b67aaae5",
   "metadata": {},
   "source": [
    "### Выводы"
   ]
  },
  {
   "cell_type": "markdown",
   "id": "3393492a",
   "metadata": {},
   "source": [
    "Нам доступны 10.000 записей о банковском поведении клиентов обоих полов из Франции, Германии и Испании. Из банка ушли около 20% из них, т.е. по целевому признаку выборка является несбалансированной.</br>\n",
    "Мы заполнили пропуски в столбце длительностью сотрудничества с банком с помощью KNNImputer с базовыми настройками (метод работает по принципу ближайших соседей).</br>\n",
    "Также для удобства мы привели к нижнему регистру названия столбцов.</br>\n",
    "</br>\n",
    "С точки зрения дальнейшего обучения модели бесполезны столбцы 'rownumber', 'cusomerid' и 'surname', содержащие номер ряда, внутренний id банка и фамилию клиента.</br>\n",
    "</br>\n",
    "Столбцы 'gender' и 'geography' (пол и страна) - категориальные, их необходимо преобразовать прямым или порядковым кодированием.</br>\n",
    "</br>\n",
    "Количественные признаки:</br>\n",
    "- кредитный рейтинг меняется в диапазоне от 350 до 850 со средним около 650\n",
    "- количество лет, которые клиент сотрудничает с банком меняется от 0 до 10 лет, среднее и медиана - 5 лет\n",
    "- баланс в (видимо) евро меняется от 0 до 250.000\n",
    "- число продуктов банка, которым пользуется клиент - от 1 до 4, медиана равна 1\n",
    "- ожидаемая зарплата до 11 до 200.000 (вероятно, прогнозируется банком по движению средств на счёте)\n",
    "</br>\n",
    "</br>\n",
    "\n",
    "Бинарные признаки:</br>\n",
    "- наличие кредитной карты\n",
    "- является ли человек активным пользователем банка\n",
    "- ушел или не ушёл человек из банка (целевой признак)\n",
    "</br>\n",
    "\n",
    "\n",
    "Количественные признаки изменяются в очень разных диапазонах и потребуют масштабирования."
   ]
  },
  {
   "cell_type": "markdown",
   "id": "027ec115",
   "metadata": {},
   "source": [
    "### Подготовка данных"
   ]
  },
  {
   "cell_type": "markdown",
   "id": "60bcbdcb",
   "metadata": {},
   "source": [
    "В этом разделе разобьем данные на тестовую, валидационную и обучающую выборки в соотношении 20/20/60, обработаем категориальные признаки и масштабируем количественные признаки (бинарные оставим как есть)."
   ]
  },
  {
   "cell_type": "code",
   "execution_count": 14,
   "id": "e11827b5",
   "metadata": {},
   "outputs": [],
   "source": [
    "#отберем \"полезные\" признаки в отдельный датафрейм, а целевой признак - в отдельный столбец\n",
    "\n",
    "features = users[['creditscore', 'geography', 'gender', 'age', 'tenure', 'balance', 'numofproducts', 'hascrcard', 'isactivemember', 'estimatedsalary']]\n",
    "target = users['exited']"
   ]
  },
  {
   "cell_type": "code",
   "execution_count": 15,
   "id": "e8f22dd6",
   "metadata": {},
   "outputs": [],
   "source": [
    "#разобьем признаки и целевой признак на обучающую, валидационную и тестовую выборки с учетом существующего баланса классов\n",
    "\n",
    "features_for_work, features_test, target_for_work, target_test = (\n",
    "    train_test_split(features, target, test_size=0.2, stratify=target, random_state=17))\n",
    "features_train, features_valid, target_train, target_valid = (\n",
    "    train_test_split(features_for_work, target_for_work, test_size=0.25, stratify=target_for_work, random_state=17))"
   ]
  },
  {
   "cell_type": "code",
   "execution_count": 16,
   "id": "77c423f7",
   "metadata": {},
   "outputs": [
    {
     "data": {
      "text/plain": [
       "0    0.7965\n",
       "1    0.2035\n",
       "Name: exited, dtype: float64"
      ]
     },
     "metadata": {},
     "output_type": "display_data"
    },
    {
     "data": {
      "text/plain": [
       "0    0.796333\n",
       "1    0.203667\n",
       "Name: exited, dtype: float64"
      ]
     },
     "metadata": {},
     "output_type": "display_data"
    },
    {
     "data": {
      "text/plain": [
       "0    0.796\n",
       "1    0.204\n",
       "Name: exited, dtype: float64"
      ]
     },
     "metadata": {},
     "output_type": "display_data"
    }
   ],
   "source": [
    "#убедимся, что баланс классов соблюден\n",
    "\n",
    "display(target_test.value_counts(normalize=True))\n",
    "display(target_train.value_counts(normalize=True))\n",
    "display(target_valid.value_counts(normalize=True))"
   ]
  },
  {
   "cell_type": "code",
   "execution_count": 17,
   "id": "b5f1eed9",
   "metadata": {},
   "outputs": [
    {
     "data": {
      "image/png": "[encoded data removed]",
      "text/plain": [
       "<Figure size 432x288 with 1 Axes>"
      ]
     },
     "metadata": {
      "needs_background": "light"
     },
     "output_type": "display_data"
    }
   ],
   "source": [
    "#отобразим распределение классов в обучающей выборке\n",
    "\n",
    "target_train.value_counts(normalize=True).plot(kind='bar');\n",
    "plt.title('Class Balance', fontsize=12)\n",
    "plt.xlabel('Customer exit: 1 - yes, 0 - no')\n",
    "plt.ylabel('Share, %')\n",
    "plt.show()"
   ]
  },
  {
   "cell_type": "markdown",
   "id": "95bcff5c",
   "metadata": {},
   "source": [
    "Как видим, классы в целевом признаке несбалансированы. Улучшением модели по этому признаку мы займемся на втором этапе."
   ]
  },
  {
   "cell_type": "markdown",
   "id": "883ddf15",
   "metadata": {},
   "source": [
    "Преобразуем категориальные признаки в количественные с помощью прямого кодирования One-Hot-Encoding со сбрасыванием первого столбца, чтобы избежать избыточных данных в модели."
   ]
  },
  {
   "cell_type": "code",
   "execution_count": 18,
   "id": "f4d87881",
   "metadata": {},
   "outputs": [],
   "source": [
    "#преобразуем категориальные признаки\n",
    "\n",
    "features_train = pd.get_dummies(features_train, drop_first=True)\n",
    "features_valid = pd.get_dummies(features_valid, drop_first=True)\n",
    "features_test = pd.get_dummies(features_test, drop_first=True)"
   ]
  },
  {
   "cell_type": "code",
   "execution_count": 19,
   "id": "685e4d50",
   "metadata": {},
   "outputs": [
    {
     "data": {
      "text/html": [
       "<div>\n",
       "<style scoped>\n",
       "    .dataframe tbody tr th:only-of-type {\n",
       "        vertical-align: middle;\n",
       "    }\n",
       "\n",
       "    .dataframe tbody tr th {\n",
       "        vertical-align: top;\n",
       "    }\n",
       "\n",
       "    .dataframe thead th {\n",
       "        text-align: right;\n",
       "    }\n",
       "</style>\n",
       "<table border=\"1\" class=\"dataframe\">\n",
       "  <thead>\n",
       "    <tr style=\"text-align: right;\">\n",
       "      <th></th>\n",
       "      <th>creditscore</th>\n",
       "      <th>age</th>\n",
       "      <th>tenure</th>\n",
       "      <th>balance</th>\n",
       "      <th>numofproducts</th>\n",
       "      <th>hascrcard</th>\n",
       "      <th>isactivemember</th>\n",
       "      <th>estimatedsalary</th>\n",
       "      <th>geography_Germany</th>\n",
       "      <th>geography_Spain</th>\n",
       "      <th>gender_Male</th>\n",
       "    </tr>\n",
       "  </thead>\n",
       "  <tbody>\n",
       "    <tr>\n",
       "      <th>4320</th>\n",
       "      <td>701</td>\n",
       "      <td>36</td>\n",
       "      <td>7.00000</td>\n",
       "      <td>95448.32</td>\n",
       "      <td>2</td>\n",
       "      <td>1</td>\n",
       "      <td>0</td>\n",
       "      <td>189085.07</td>\n",
       "      <td>1</td>\n",
       "      <td>0</td>\n",
       "      <td>1</td>\n",
       "    </tr>\n",
       "    <tr>\n",
       "      <th>2664</th>\n",
       "      <td>586</td>\n",
       "      <td>29</td>\n",
       "      <td>4.99769</td>\n",
       "      <td>0.00</td>\n",
       "      <td>2</td>\n",
       "      <td>1</td>\n",
       "      <td>1</td>\n",
       "      <td>142238.54</td>\n",
       "      <td>0</td>\n",
       "      <td>0</td>\n",
       "      <td>1</td>\n",
       "    </tr>\n",
       "    <tr>\n",
       "      <th>2766</th>\n",
       "      <td>705</td>\n",
       "      <td>30</td>\n",
       "      <td>1.00000</td>\n",
       "      <td>0.00</td>\n",
       "      <td>1</td>\n",
       "      <td>1</td>\n",
       "      <td>1</td>\n",
       "      <td>181300.32</td>\n",
       "      <td>0</td>\n",
       "      <td>0</td>\n",
       "      <td>1</td>\n",
       "    </tr>\n",
       "    <tr>\n",
       "      <th>7953</th>\n",
       "      <td>622</td>\n",
       "      <td>33</td>\n",
       "      <td>3.00000</td>\n",
       "      <td>96926.12</td>\n",
       "      <td>2</td>\n",
       "      <td>1</td>\n",
       "      <td>0</td>\n",
       "      <td>48553.77</td>\n",
       "      <td>1</td>\n",
       "      <td>0</td>\n",
       "      <td>1</td>\n",
       "    </tr>\n",
       "    <tr>\n",
       "      <th>312</th>\n",
       "      <td>642</td>\n",
       "      <td>38</td>\n",
       "      <td>3.00000</td>\n",
       "      <td>0.00</td>\n",
       "      <td>2</td>\n",
       "      <td>0</td>\n",
       "      <td>0</td>\n",
       "      <td>171463.83</td>\n",
       "      <td>0</td>\n",
       "      <td>0</td>\n",
       "      <td>1</td>\n",
       "    </tr>\n",
       "  </tbody>\n",
       "</table>\n",
       "</div>"
      ],
      "text/plain": [
       "      creditscore  age   tenure   balance  numofproducts  hascrcard  \\\n",
       "4320          701   36  7.00000  95448.32              2          1   \n",
       "2664          586   29  4.99769      0.00              2          1   \n",
       "2766          705   30  1.00000      0.00              1          1   \n",
       "7953          622   33  3.00000  96926.12              2          1   \n",
       "312           642   38  3.00000      0.00              2          0   \n",
       "\n",
       "      isactivemember  estimatedsalary  geography_Germany  geography_Spain  \\\n",
       "4320               0        189085.07                  1                0   \n",
       "2664               1        142238.54                  0                0   \n",
       "2766               1        181300.32                  0                0   \n",
       "7953               0         48553.77                  1                0   \n",
       "312                0        171463.83                  0                0   \n",
       "\n",
       "      gender_Male  \n",
       "4320            1  \n",
       "2664            1  \n",
       "2766            1  \n",
       "7953            1  \n",
       "312             1  "
      ]
     },
     "execution_count": 19,
     "metadata": {},
     "output_type": "execute_result"
    }
   ],
   "source": [
    "#смотрим, что получилось\n",
    "\n",
    "features_train.head()"
   ]
  },
  {
   "cell_type": "markdown",
   "id": "0fb19aee",
   "metadata": {},
   "source": [
    "Следующим этапом проведем масштабирования признаков методом StandartScaler."
   ]
  },
  {
   "cell_type": "code",
   "execution_count": 20,
   "id": "70279446",
   "metadata": {},
   "outputs": [
    {
     "data": {
      "image/png": "[encoded data removed]",
      "text/plain": [
       "<Figure size 720x432 with 6 Axes>"
      ]
     },
     "metadata": {
      "needs_background": "light"
     },
     "output_type": "display_data"
    }
   ],
   "source": [
    "#вынесем в отдельную переменную названия признаков, требующих масштабирования\n",
    "#отобразим их в виде гистограмм\n",
    "\n",
    "numeric = ['creditscore', 'age', 'tenure', 'balance', 'numofproducts', 'estimatedsalary']\n",
    "features_train[numeric].hist(figsize=(10,6));\n",
    "plt.suptitle('Features for scaling', fontsize=12)\n",
    "plt.show()"
   ]
  },
  {
   "cell_type": "code",
   "execution_count": 21,
   "id": "32b319bd",
   "metadata": {},
   "outputs": [],
   "source": [
    "#проведем масштабирование\n",
    "\n",
    "scaler = StandardScaler()\n",
    "scaler.fit(features_train[numeric])\n",
    "features_train[numeric] = scaler.transform(features_train[numeric])\n",
    "features_valid[numeric] = scaler.transform(features_valid[numeric])\n",
    "features_test[numeric] = scaler.transform(features_test[numeric])"
   ]
  },
  {
   "cell_type": "code",
   "execution_count": 22,
   "id": "3c9b8c4f",
   "metadata": {},
   "outputs": [
    {
     "data": {
      "text/html": [
       "<div>\n",
       "<style scoped>\n",
       "    .dataframe tbody tr th:only-of-type {\n",
       "        vertical-align: middle;\n",
       "    }\n",
       "\n",
       "    .dataframe tbody tr th {\n",
       "        vertical-align: top;\n",
       "    }\n",
       "\n",
       "    .dataframe thead th {\n",
       "        text-align: right;\n",
       "    }\n",
       "</style>\n",
       "<table border=\"1\" class=\"dataframe\">\n",
       "  <thead>\n",
       "    <tr style=\"text-align: right;\">\n",
       "      <th></th>\n",
       "      <th>creditscore</th>\n",
       "      <th>age</th>\n",
       "      <th>tenure</th>\n",
       "      <th>balance</th>\n",
       "      <th>numofproducts</th>\n",
       "      <th>hascrcard</th>\n",
       "      <th>isactivemember</th>\n",
       "      <th>estimatedsalary</th>\n",
       "      <th>geography_Germany</th>\n",
       "      <th>geography_Spain</th>\n",
       "      <th>gender_Male</th>\n",
       "    </tr>\n",
       "  </thead>\n",
       "  <tbody>\n",
       "    <tr>\n",
       "      <th>4320</th>\n",
       "      <td>0.539702</td>\n",
       "      <td>-0.273366</td>\n",
       "      <td>0.719904</td>\n",
       "      <td>0.325772</td>\n",
       "      <td>0.796219</td>\n",
       "      <td>1</td>\n",
       "      <td>0</td>\n",
       "      <td>1.560813</td>\n",
       "      <td>1</td>\n",
       "      <td>0</td>\n",
       "      <td>1</td>\n",
       "    </tr>\n",
       "    <tr>\n",
       "      <th>2664</th>\n",
       "      <td>-0.651925</td>\n",
       "      <td>-0.938452</td>\n",
       "      <td>-0.005408</td>\n",
       "      <td>-1.211400</td>\n",
       "      <td>0.796219</td>\n",
       "      <td>1</td>\n",
       "      <td>1</td>\n",
       "      <td>0.743461</td>\n",
       "      <td>0</td>\n",
       "      <td>0</td>\n",
       "      <td>1</td>\n",
       "    </tr>\n",
       "    <tr>\n",
       "      <th>2766</th>\n",
       "      <td>0.581150</td>\n",
       "      <td>-0.843440</td>\n",
       "      <td>-1.453523</td>\n",
       "      <td>-1.211400</td>\n",
       "      <td>-0.920387</td>\n",
       "      <td>1</td>\n",
       "      <td>1</td>\n",
       "      <td>1.424989</td>\n",
       "      <td>0</td>\n",
       "      <td>0</td>\n",
       "      <td>1</td>\n",
       "    </tr>\n",
       "    <tr>\n",
       "      <th>7953</th>\n",
       "      <td>-0.278894</td>\n",
       "      <td>-0.558403</td>\n",
       "      <td>-0.729047</td>\n",
       "      <td>0.349571</td>\n",
       "      <td>0.796219</td>\n",
       "      <td>1</td>\n",
       "      <td>0</td>\n",
       "      <td>-0.891097</td>\n",
       "      <td>1</td>\n",
       "      <td>0</td>\n",
       "      <td>1</td>\n",
       "    </tr>\n",
       "    <tr>\n",
       "      <th>312</th>\n",
       "      <td>-0.071655</td>\n",
       "      <td>-0.083342</td>\n",
       "      <td>-0.729047</td>\n",
       "      <td>-1.211400</td>\n",
       "      <td>0.796219</td>\n",
       "      <td>0</td>\n",
       "      <td>0</td>\n",
       "      <td>1.253367</td>\n",
       "      <td>0</td>\n",
       "      <td>0</td>\n",
       "      <td>1</td>\n",
       "    </tr>\n",
       "  </tbody>\n",
       "</table>\n",
       "</div>"
      ],
      "text/plain": [
       "      creditscore       age    tenure   balance  numofproducts  hascrcard  \\\n",
       "4320     0.539702 -0.273366  0.719904  0.325772       0.796219          1   \n",
       "2664    -0.651925 -0.938452 -0.005408 -1.211400       0.796219          1   \n",
       "2766     0.581150 -0.843440 -1.453523 -1.211400      -0.920387          1   \n",
       "7953    -0.278894 -0.558403 -0.729047  0.349571       0.796219          1   \n",
       "312     -0.071655 -0.083342 -0.729047 -1.211400       0.796219          0   \n",
       "\n",
       "      isactivemember  estimatedsalary  geography_Germany  geography_Spain  \\\n",
       "4320               0         1.560813                  1                0   \n",
       "2664               1         0.743461                  0                0   \n",
       "2766               1         1.424989                  0                0   \n",
       "7953               0        -0.891097                  1                0   \n",
       "312                0         1.253367                  0                0   \n",
       "\n",
       "      gender_Male  \n",
       "4320            1  \n",
       "2664            1  \n",
       "2766            1  \n",
       "7953            1  \n",
       "312             1  "
      ]
     },
     "execution_count": 22,
     "metadata": {},
     "output_type": "execute_result"
    }
   ],
   "source": [
    "#посмотрим, что получилось\n",
    "\n",
    "features_train.head()"
   ]
  },
  {
   "cell_type": "code",
   "execution_count": 23,
   "id": "73d11a5d",
   "metadata": {},
   "outputs": [
    {
     "data": {
      "text/html": [
       "<div>\n",
       "<style scoped>\n",
       "    .dataframe tbody tr th:only-of-type {\n",
       "        vertical-align: middle;\n",
       "    }\n",
       "\n",
       "    .dataframe tbody tr th {\n",
       "        vertical-align: top;\n",
       "    }\n",
       "\n",
       "    .dataframe thead th {\n",
       "        text-align: right;\n",
       "    }\n",
       "</style>\n",
       "<table border=\"1\" class=\"dataframe\">\n",
       "  <thead>\n",
       "    <tr style=\"text-align: right;\">\n",
       "      <th></th>\n",
       "      <th>creditscore</th>\n",
       "      <th>age</th>\n",
       "      <th>tenure</th>\n",
       "      <th>balance</th>\n",
       "      <th>numofproducts</th>\n",
       "      <th>hascrcard</th>\n",
       "      <th>isactivemember</th>\n",
       "      <th>estimatedsalary</th>\n",
       "      <th>geography_Germany</th>\n",
       "      <th>geography_Spain</th>\n",
       "      <th>gender_Male</th>\n",
       "    </tr>\n",
       "  </thead>\n",
       "  <tbody>\n",
       "    <tr>\n",
       "      <th>count</th>\n",
       "      <td>6.000000e+03</td>\n",
       "      <td>6.000000e+03</td>\n",
       "      <td>6.000000e+03</td>\n",
       "      <td>6.000000e+03</td>\n",
       "      <td>6.000000e+03</td>\n",
       "      <td>6000.000000</td>\n",
       "      <td>6000.000000</td>\n",
       "      <td>6.000000e+03</td>\n",
       "      <td>6000.000000</td>\n",
       "      <td>6000.000000</td>\n",
       "      <td>6000.000000</td>\n",
       "    </tr>\n",
       "    <tr>\n",
       "      <th>mean</th>\n",
       "      <td>-7.112829e-17</td>\n",
       "      <td>-6.716849e-17</td>\n",
       "      <td>-4.298413e-17</td>\n",
       "      <td>-5.223599e-17</td>\n",
       "      <td>3.383220e-16</td>\n",
       "      <td>0.703000</td>\n",
       "      <td>0.516500</td>\n",
       "      <td>1.146305e-16</td>\n",
       "      <td>0.253167</td>\n",
       "      <td>0.245667</td>\n",
       "      <td>0.535833</td>\n",
       "    </tr>\n",
       "    <tr>\n",
       "      <th>std</th>\n",
       "      <td>1.000083e+00</td>\n",
       "      <td>1.000083e+00</td>\n",
       "      <td>1.000083e+00</td>\n",
       "      <td>1.000083e+00</td>\n",
       "      <td>1.000083e+00</td>\n",
       "      <td>0.456975</td>\n",
       "      <td>0.499769</td>\n",
       "      <td>1.000083e+00</td>\n",
       "      <td>0.434862</td>\n",
       "      <td>0.430518</td>\n",
       "      <td>0.498756</td>\n",
       "    </tr>\n",
       "    <tr>\n",
       "      <th>min</th>\n",
       "      <td>-3.097351e+00</td>\n",
       "      <td>-1.983587e+00</td>\n",
       "      <td>-1.815761e+00</td>\n",
       "      <td>-1.211400e+00</td>\n",
       "      <td>-9.203867e-01</td>\n",
       "      <td>0.000000</td>\n",
       "      <td>0.000000</td>\n",
       "      <td>-1.736555e+00</td>\n",
       "      <td>0.000000</td>\n",
       "      <td>0.000000</td>\n",
       "      <td>0.000000</td>\n",
       "    </tr>\n",
       "    <tr>\n",
       "      <th>25%</th>\n",
       "      <td>-6.933732e-01</td>\n",
       "      <td>-6.534151e-01</td>\n",
       "      <td>-7.290474e-01</td>\n",
       "      <td>-1.211400e+00</td>\n",
       "      <td>-9.203867e-01</td>\n",
       "      <td>0.000000</td>\n",
       "      <td>0.000000</td>\n",
       "      <td>-8.468864e-01</td>\n",
       "      <td>0.000000</td>\n",
       "      <td>0.000000</td>\n",
       "      <td>0.000000</td>\n",
       "    </tr>\n",
       "    <tr>\n",
       "      <th>50%</th>\n",
       "      <td>1.124101e-02</td>\n",
       "      <td>-1.783538e-01</td>\n",
       "      <td>-5.408498e-03</td>\n",
       "      <td>3.386068e-01</td>\n",
       "      <td>-9.203867e-01</td>\n",
       "      <td>1.000000</td>\n",
       "      <td>1.000000</td>\n",
       "      <td>-8.631294e-03</td>\n",
       "      <td>0.000000</td>\n",
       "      <td>0.000000</td>\n",
       "      <td>1.000000</td>\n",
       "    </tr>\n",
       "    <tr>\n",
       "      <th>75%</th>\n",
       "      <td>6.951313e-01</td>\n",
       "      <td>4.867319e-01</td>\n",
       "      <td>7.199039e-01</td>\n",
       "      <td>8.279503e-01</td>\n",
       "      <td>7.962189e-01</td>\n",
       "      <td>1.000000</td>\n",
       "      <td>1.000000</td>\n",
       "      <td>8.549920e-01</td>\n",
       "      <td>1.000000</td>\n",
       "      <td>0.000000</td>\n",
       "      <td>1.000000</td>\n",
       "    </tr>\n",
       "    <tr>\n",
       "      <th>max</th>\n",
       "      <td>2.083636e+00</td>\n",
       "      <td>5.047320e+00</td>\n",
       "      <td>1.806617e+00</td>\n",
       "      <td>2.829251e+00</td>\n",
       "      <td>4.229430e+00</td>\n",
       "      <td>1.000000</td>\n",
       "      <td>1.000000</td>\n",
       "      <td>1.750740e+00</td>\n",
       "      <td>1.000000</td>\n",
       "      <td>1.000000</td>\n",
       "      <td>1.000000</td>\n",
       "    </tr>\n",
       "  </tbody>\n",
       "</table>\n",
       "</div>"
      ],
      "text/plain": [
       "        creditscore           age        tenure       balance  numofproducts  \\\n",
       "count  6.000000e+03  6.000000e+03  6.000000e+03  6.000000e+03   6.000000e+03   \n",
       "mean  -7.112829e-17 -6.716849e-17 -4.298413e-17 -5.223599e-17   3.383220e-16   \n",
       "std    1.000083e+00  1.000083e+00  1.000083e+00  1.000083e+00   1.000083e+00   \n",
       "min   -3.097351e+00 -1.983587e+00 -1.815761e+00 -1.211400e+00  -9.203867e-01   \n",
       "25%   -6.933732e-01 -6.534151e-01 -7.290474e-01 -1.211400e+00  -9.203867e-01   \n",
       "50%    1.124101e-02 -1.783538e-01 -5.408498e-03  3.386068e-01  -9.203867e-01   \n",
       "75%    6.951313e-01  4.867319e-01  7.199039e-01  8.279503e-01   7.962189e-01   \n",
       "max    2.083636e+00  5.047320e+00  1.806617e+00  2.829251e+00   4.229430e+00   \n",
       "\n",
       "         hascrcard  isactivemember  estimatedsalary  geography_Germany  \\\n",
       "count  6000.000000     6000.000000     6.000000e+03        6000.000000   \n",
       "mean      0.703000        0.516500     1.146305e-16           0.253167   \n",
       "std       0.456975        0.499769     1.000083e+00           0.434862   \n",
       "min       0.000000        0.000000    -1.736555e+00           0.000000   \n",
       "25%       0.000000        0.000000    -8.468864e-01           0.000000   \n",
       "50%       1.000000        1.000000    -8.631294e-03           0.000000   \n",
       "75%       1.000000        1.000000     8.549920e-01           1.000000   \n",
       "max       1.000000        1.000000     1.750740e+00           1.000000   \n",
       "\n",
       "       geography_Spain  gender_Male  \n",
       "count      6000.000000  6000.000000  \n",
       "mean          0.245667     0.535833  \n",
       "std           0.430518     0.498756  \n",
       "min           0.000000     0.000000  \n",
       "25%           0.000000     0.000000  \n",
       "50%           0.000000     1.000000  \n",
       "75%           0.000000     1.000000  \n",
       "max           1.000000     1.000000  "
      ]
     },
     "execution_count": 23,
     "metadata": {},
     "output_type": "execute_result"
    }
   ],
   "source": [
    "#и посмотрим, как изменились признаки\n",
    "\n",
    "features_train.describe()"
   ]
  },
  {
   "cell_type": "markdown",
   "id": "fbcd1acc",
   "metadata": {},
   "source": [
    "Строго говоря, StandartScaler исходит из предположения, что масштабируемый признак распределён нормально, однако в нашем случае это не так. Кроме того, после преобразования масштаб у признаков остался разный, а бинарные признаки, по сравнению с количественными, оказываются смещены относительно нуля."
   ]
  },
  {
   "cell_type": "markdown",
   "id": "577f57ae",
   "metadata": {},
   "source": [
    "### Выводы"
   ]
  },
  {
   "cell_type": "markdown",
   "id": "14a19a9e",
   "metadata": {},
   "source": [
    "Проведен отбор признаков и разбиение выборки на обучающую, валидационную и тестовую.</br>\n",
    "Изучен баланс классов.</br>\n",
    "Проведено прямое кодирование категориальных признаков.</br>\n",
    "Проведено масштабирование количественных признаков.</br>"
   ]
  },
  {
   "cell_type": "markdown",
   "id": "4865f7df",
   "metadata": {},
   "source": [
    "### Обучение моделей без учета баланса классов"
   ]
  },
  {
   "cell_type": "markdown",
   "id": "dbe3e82d",
   "metadata": {},
   "source": [
    "В этом разделе мы инициируем и обучим несколько моделей с параметрами \"по умолчанию\":\n",
    "- логистическую регрессию\n",
    "- дерево решений\n",
    "- случайный лес\n",
    "- метод К-ближайших соседей\n",
    "- метод оборных векторов\n",
    "- наивный байесовский классификатор\n",
    "</br>\n",
    "</br>\n",
    "Для каждой модели рассчитаем F1 и площадь под ROC-кривой и внесём эти данные в отдельную таблицу.</br>\n",
    "Кроме того, проверим модели на адекватность с помощью DummyClassifier."
   ]
  },
  {
   "cell_type": "code",
   "execution_count": 24,
   "id": "2c9a27ae",
   "metadata": {},
   "outputs": [
    {
     "name": "stdout",
     "output_type": "stream",
     "text": [
      "Best f1 0.332129963898917 was achieved with max_iter = 30\n"
     ]
    }
   ],
   "source": [
    "#Начнём с логистической регрессии\n",
    "\n",
    "best_f1 = 0\n",
    "best_iter = 0\n",
    "\n",
    "for max_iter in range (30, 301, 10):\n",
    "    model = LogisticRegression(max_iter=max_iter, random_state=17)\n",
    "    model.fit(features_train, target_train)\n",
    "    predicted_valid = model.predict(features_valid)\n",
    "    f1_value = f1_score(target_valid, predicted_valid)\n",
    "    if f1_value > best_f1:\n",
    "        best_f1 = f1_value\n",
    "        best_iter = max_iter\n",
    "\n",
    "probabilities_one_valid = model.predict_proba(features_valid)[:, 1]\n",
    "roc_auc_value = roc_auc_score(target_valid, probabilities_one_valid)\n",
    "print('Best f1', best_f1, 'was achieved with max_iter =', best_iter)\n",
    "\n",
    "model = LogisticRegression(max_iter=best_iter, random_state=17);\n",
    "model.fit(features_train, target_train);"
   ]
  },
  {
   "cell_type": "code",
   "execution_count": 25,
   "id": "f570f092",
   "metadata": {},
   "outputs": [
    {
     "data": {
      "text/html": [
       "<div>\n",
       "<style scoped>\n",
       "    .dataframe tbody tr th:only-of-type {\n",
       "        vertical-align: middle;\n",
       "    }\n",
       "\n",
       "    .dataframe tbody tr th {\n",
       "        vertical-align: top;\n",
       "    }\n",
       "\n",
       "    .dataframe thead th {\n",
       "        text-align: right;\n",
       "    }\n",
       "</style>\n",
       "<table border=\"1\" class=\"dataframe\">\n",
       "  <thead>\n",
       "    <tr style=\"text-align: right;\">\n",
       "      <th></th>\n",
       "      <th>model</th>\n",
       "      <th>f1</th>\n",
       "      <th>roc-auc score</th>\n",
       "    </tr>\n",
       "  </thead>\n",
       "  <tbody>\n",
       "    <tr>\n",
       "      <th>0</th>\n",
       "      <td>LogisticRegression</td>\n",
       "      <td>0.33213</td>\n",
       "      <td>0.756922</td>\n",
       "    </tr>\n",
       "  </tbody>\n",
       "</table>\n",
       "</div>"
      ],
      "text/plain": [
       "                model       f1  roc-auc score\n",
       "0  LogisticRegression  0.33213       0.756922"
      ]
     },
     "execution_count": 25,
     "metadata": {},
     "output_type": "execute_result"
    }
   ],
   "source": [
    "#создадим датафрейм, куда будем вносить данные об f1 и roc-auc для каждой модели\n",
    "\n",
    "list_of_col = ['model', 'f1', 'roc-auc score']\n",
    "score_table = pd.DataFrame([['LogisticRegression', best_f1, roc_auc_value]], columns=list_of_col)\n",
    "score_table"
   ]
  },
  {
   "cell_type": "code",
   "execution_count": 26,
   "id": "21bcfb26",
   "metadata": {},
   "outputs": [],
   "source": [
    "#определим функцию, которая будет рассчитывать метрики и записывать их в датафрейм\n",
    "\n",
    "def get_scores(target_valid, predicted_valid, score_table):\n",
    "    f1_value = f1_score(target_valid, predicted_valid)\n",
    "    #print(f1_value)\n",
    "\n",
    "    probabilities_one_valid = model.predict_proba(features_valid)[:, 1]\n",
    "    roc_auc_value = roc_auc_score(target_valid, probabilities_one_valid)\n",
    "\n",
    "    score_table = score_table.append(pd.DataFrame(\n",
    "        [[type(model).__name__, f1_value, roc_auc_value]],\n",
    "        columns=list_of_col), \n",
    "        ignore_index=True)\n",
    "    return score_table"
   ]
  },
  {
   "cell_type": "code",
   "execution_count": 27,
   "id": "b28aa24d",
   "metadata": {},
   "outputs": [
    {
     "name": "stdout",
     "output_type": "stream",
     "text": [
      "Best f1 0.5838150289017341 was achieved with tree_depth = 7\n"
     ]
    }
   ],
   "source": [
    "#Решающее Дерево\n",
    "\n",
    "best_f1 = 0\n",
    "best_tree_depth = 0\n",
    "\n",
    "for tree_depth in range (1, 16):\n",
    "    model = DecisionTreeClassifier(max_depth=tree_depth, random_state=17)\n",
    "    model.fit(features_train, target_train)\n",
    "    predicted_valid = model.predict(features_valid)\n",
    "    f1_value = f1_score(target_valid, predicted_valid)\n",
    "    if f1_value > best_f1:\n",
    "        best_f1 = f1_value\n",
    "        best_tree_depth = tree_depth\n",
    "        \n",
    "print('Best f1', best_f1, 'was achieved with tree_depth =', best_tree_depth)\n",
    "model = DecisionTreeClassifier(max_depth=best_tree_depth, random_state=17)\n",
    "model.fit(features_train, target_train)\n",
    "predicted_valid = model.predict(features_valid)\n",
    "score_table = get_scores(target_valid, predicted_valid, score_table)"
   ]
  },
  {
   "cell_type": "code",
   "execution_count": 28,
   "id": "9a4191ed",
   "metadata": {},
   "outputs": [
    {
     "name": "stdout",
     "output_type": "stream",
     "text": [
      "Best f1 0.5996908809891809 was achieved with tree_depth = 9 and n_estimators = 10\n"
     ]
    }
   ],
   "source": [
    "#Случайный лес\n",
    "\n",
    "best_f1 = 0\n",
    "best_tree_depth = 0\n",
    "best_nestimators = 0\n",
    "\n",
    "for tree_depth in range(1, 16):\n",
    "    for estimators in range(10, 151, 10):\n",
    "        model = RandomForestClassifier(n_estimators=estimators, max_depth=tree_depth, random_state=17)\n",
    "        model.fit(features_train, target_train)\n",
    "        predicted_valid = model.predict(features_valid)\n",
    "        f1_value = f1_score(target_valid, predicted_valid)\n",
    "        if f1_value > best_f1:\n",
    "            best_f1 = f1_value\n",
    "            best_tree_depth = tree_depth\n",
    "            best_nestimators = estimators\n",
    "\n",
    "print('Best f1', best_f1, 'was achieved with tree_depth =', best_tree_depth, 'and n_estimators =', best_nestimators)\n",
    "model = RandomForestClassifier(n_estimators=best_nestimators, max_depth=best_tree_depth, random_state=17)\n",
    "model.fit(features_train, target_train)\n",
    "predicted_valid = model.predict(features_valid)\n",
    "score_table = get_scores(target_valid, predicted_valid, score_table)"
   ]
  },
  {
   "cell_type": "code",
   "execution_count": 29,
   "id": "4a3592b2",
   "metadata": {},
   "outputs": [
    {
     "name": "stdout",
     "output_type": "stream",
     "text": [
      "Best f1 0.5462686567164179 was achieved with n_neighbors = 7\n"
     ]
    }
   ],
   "source": [
    "#K-ближайших соседей\n",
    "\n",
    "best_f1 = 0\n",
    "best_nneighbors = 0\n",
    "\n",
    "for neighbors in range(1, 51):\n",
    "    model = KNeighborsClassifier(n_neighbors=neighbors)\n",
    "    model.fit(features_train, target_train)\n",
    "    predicted_valid = model.predict(features_valid)\n",
    "    f1_value = f1_score(target_valid, predicted_valid)\n",
    "    if f1_value > best_f1:\n",
    "        best_f1 = f1_value\n",
    "        best_nneighbors = neighbors\n",
    "\n",
    "print('Best f1', best_f1, 'was achieved with n_neighbors =', best_nneighbors)\n",
    "model = KNeighborsClassifier(n_neighbors=best_nneighbors)\n",
    "model.fit(features_train, target_train)\n",
    "predicted_valid = model.predict(features_valid)\n",
    "score_table = get_scores(target_valid, predicted_valid, score_table)"
   ]
  },
  {
   "cell_type": "code",
   "execution_count": 30,
   "id": "69a3d6af",
   "metadata": {},
   "outputs": [
    {
     "name": "stdout",
     "output_type": "stream",
     "text": [
      "Best f1 0.5310924369747899 was achieved with rbf\n"
     ]
    }
   ],
   "source": [
    "#метод опорных векторов (у SVC нет метода predict_proba, поэтому функцию get_scores мы не используем)\n",
    "kernel_vars = ['linear', 'poly', 'rbf', 'sigmoid']\n",
    "opt_kernel = []\n",
    "best_f1 = 0\n",
    "\n",
    "for kernel_var in kernel_vars:\n",
    "    model = SVC(kernel=kernel_var)\n",
    "    model.fit(features_train, target_train)\n",
    "    predicted_valid = model.predict(features_valid)\n",
    "    f1_value = f1_score(target_valid, predicted_valid)\n",
    "    if f1_value > best_f1:\n",
    "        best_f1 = f1_value\n",
    "        opt_kernel = kernel_var\n",
    "\n",
    "print('Best f1', best_f1, 'was achieved with', opt_kernel)\n",
    "model = SVC(kernel=opt_kernel)\n",
    "model.fit(features_train, target_train)\n",
    "predicted_valid = model.predict(features_valid)\n",
    "\n",
    "f1_value = f1_score(target_valid, predicted_valid)\n",
    "decision_score = model.decision_function(features_valid)\n",
    "roc_auc_value = roc_auc_score(target_valid, decision_score)\n",
    "\n",
    "score_table = score_table.append(pd.DataFrame(\n",
    "    [[type(model).__name__, f1_value, roc_auc_value]],\n",
    "    columns=list_of_col), \n",
    "    ignore_index=True)"
   ]
  },
  {
   "cell_type": "code",
   "execution_count": 31,
   "id": "2ca63371",
   "metadata": {},
   "outputs": [],
   "source": [
    "#ради интереса посмотрим, какой результат даст наивный байесовский классификатор\n",
    "\n",
    "model = GaussianNB()\n",
    "model.fit(features_train, target_train)\n",
    "predicted_valid = model.predict(features_valid)\n",
    "\n",
    "score_table = get_scores(target_valid, predicted_valid, score_table)"
   ]
  },
  {
   "cell_type": "code",
   "execution_count": 32,
   "id": "5591d9ae",
   "metadata": {},
   "outputs": [],
   "source": [
    "#обучим случайную модель с учетом баланса классов в обучающей выборке и получим метрики\n",
    "\n",
    "model = DummyClassifier(strategy='stratified', random_state=17)\n",
    "model.fit(features_train, target_train)\n",
    "predicted_valid = model.predict(features_valid)\n",
    "\n",
    "score_table = get_scores(target_valid, predicted_valid, score_table)"
   ]
  },
  {
   "cell_type": "code",
   "execution_count": 33,
   "id": "aecf5143",
   "metadata": {},
   "outputs": [
    {
     "data": {
      "text/html": [
       "<div>\n",
       "<style scoped>\n",
       "    .dataframe tbody tr th:only-of-type {\n",
       "        vertical-align: middle;\n",
       "    }\n",
       "\n",
       "    .dataframe tbody tr th {\n",
       "        vertical-align: top;\n",
       "    }\n",
       "\n",
       "    .dataframe thead th {\n",
       "        text-align: right;\n",
       "    }\n",
       "</style>\n",
       "<table border=\"1\" class=\"dataframe\">\n",
       "  <thead>\n",
       "    <tr style=\"text-align: right;\">\n",
       "      <th></th>\n",
       "      <th>model</th>\n",
       "      <th>f1</th>\n",
       "      <th>roc-auc score</th>\n",
       "    </tr>\n",
       "  </thead>\n",
       "  <tbody>\n",
       "    <tr>\n",
       "      <th>2</th>\n",
       "      <td>RandomForestClassifier</td>\n",
       "      <td>0.599691</td>\n",
       "      <td>0.846798</td>\n",
       "    </tr>\n",
       "    <tr>\n",
       "      <th>1</th>\n",
       "      <td>DecisionTreeClassifier</td>\n",
       "      <td>0.583815</td>\n",
       "      <td>0.818025</td>\n",
       "    </tr>\n",
       "    <tr>\n",
       "      <th>3</th>\n",
       "      <td>KNeighborsClassifier</td>\n",
       "      <td>0.546269</td>\n",
       "      <td>0.799184</td>\n",
       "    </tr>\n",
       "    <tr>\n",
       "      <th>4</th>\n",
       "      <td>SVC</td>\n",
       "      <td>0.531092</td>\n",
       "      <td>0.824228</td>\n",
       "    </tr>\n",
       "    <tr>\n",
       "      <th>5</th>\n",
       "      <td>GaussianNB</td>\n",
       "      <td>0.447244</td>\n",
       "      <td>0.788304</td>\n",
       "    </tr>\n",
       "    <tr>\n",
       "      <th>0</th>\n",
       "      <td>LogisticRegression</td>\n",
       "      <td>0.332130</td>\n",
       "      <td>0.756922</td>\n",
       "    </tr>\n",
       "    <tr>\n",
       "      <th>6</th>\n",
       "      <td>DummyClassifier</td>\n",
       "      <td>0.171206</td>\n",
       "      <td>0.487603</td>\n",
       "    </tr>\n",
       "  </tbody>\n",
       "</table>\n",
       "</div>"
      ],
      "text/plain": [
       "                    model        f1  roc-auc score\n",
       "2  RandomForestClassifier  0.599691       0.846798\n",
       "1  DecisionTreeClassifier  0.583815       0.818025\n",
       "3    KNeighborsClassifier  0.546269       0.799184\n",
       "4                     SVC  0.531092       0.824228\n",
       "5              GaussianNB  0.447244       0.788304\n",
       "0      LogisticRegression  0.332130       0.756922\n",
       "6         DummyClassifier  0.171206       0.487603"
      ]
     },
     "execution_count": 33,
     "metadata": {},
     "output_type": "execute_result"
    }
   ],
   "source": [
    "#отсортируем таблицу с метриками по F-мере и выведем на экран\n",
    "\n",
    "score_table.sort_values(by='f1', ascending=False)"
   ]
  },
  {
   "cell_type": "markdown",
   "id": "0cee9b7c",
   "metadata": {},
   "source": [
    "### Выводы"
   ]
  },
  {
   "cell_type": "markdown",
   "id": "07720299",
   "metadata": {},
   "source": [
    "Проведено исследование моделей без балансировки классов. </br>\n",
    "Самые лучшие показатели - у случайного леса и решающего дерева. Хуже всего на несбалансированной выборке оказалась логистическая регрессия.</br>\n",
    "Все модели прошли \"тест на адекватность\", - их результаты лучше случайной модели.</br>\n",
    "</br>\n"
   ]
  },
  {
   "cell_type": "markdown",
   "id": "a8464094",
   "metadata": {},
   "source": [
    "### Балансировка классов"
   ]
  },
  {
   "cell_type": "markdown",
   "id": "c8d62513",
   "metadata": {},
   "source": [
    "Отношение клиентов, которые остались в банке к клиентам, которые ушли, примерно 4:1.</br>\n",
    "В этом блоке мы проведем балансировку классов тремя методами:</br>\n",
    "- встроенным инструментом 'class weight'\n",
    "- увеличением выборки за счет копирования меньшего класса (апсемплинг)\n",
    "- уменьшением выборки за счёт сокрашения большего класса (даунсемплинг)"
   ]
  },
  {
   "cell_type": "code",
   "execution_count": 34,
   "id": "0df38dcd",
   "metadata": {},
   "outputs": [
    {
     "data": {
      "image/png": "[encoded data removed]",
      "text/plain": [
       "<Figure size 432x288 with 1 Axes>"
      ]
     },
     "metadata": {
      "needs_background": "light"
     },
     "output_type": "display_data"
    }
   ],
   "source": [
    "#еще раз выведем диаграмму с балансом классов\n",
    "\n",
    "users['exited'].value_counts().plot(kind='bar');\n",
    "plt.title('Class Balance', fontsize=12)\n",
    "plt.xlabel('Customer exit: 1 - yes, 0 - no')\n",
    "plt.ylabel('Share, %')\n",
    "plt.show()"
   ]
  },
  {
   "cell_type": "markdown",
   "id": "5637aba8",
   "metadata": {},
   "source": [
    "### Взвешивание классов"
   ]
  },
  {
   "cell_type": "markdown",
   "id": "14a4d6a9",
   "metadata": {},
   "source": [
    "Этот метод мы опробуем для LogisticRegression, DesicionTree, RandomForest и SVC. GaussianNB и KNN не предполагают балансировку классов, при необходимости предлагается использовать веса образцов при обучении - однако это другой механизм и мы не будем его использовать. "
   ]
  },
  {
   "cell_type": "code",
   "execution_count": 35,
   "id": "26cb3d2e",
   "metadata": {},
   "outputs": [],
   "source": [
    "#переопределим функцию для получения метрик (она будет записывать имя модели в таблицу с меткой class_weight)\n",
    "\n",
    "def get_scores(target_valid, predicted_valid, score_table):\n",
    "    f1_value = f1_score(target_valid, predicted_valid)\n",
    "\n",
    "    probabilities_one_valid = model.predict_proba(features_valid)[:, 1]\n",
    "    roc_auc_value = roc_auc_score(target_valid, probabilities_one_valid)\n",
    "\n",
    "    score_table = score_table.append(pd.DataFrame(\n",
    "        [[type(model).__name__+'_class_weight', f1_value, roc_auc_value]],\n",
    "        columns=list_of_col), \n",
    "        ignore_index=True)\n",
    "    return score_table"
   ]
  },
  {
   "cell_type": "code",
   "execution_count": 36,
   "id": "916ab02f",
   "metadata": {},
   "outputs": [
    {
     "name": "stdout",
     "output_type": "stream",
     "text": [
      "Best f1 0.4906666666666666 was achieved with max_iter = 30\n"
     ]
    }
   ],
   "source": [
    "best_f1 = 0\n",
    "best_iter = 0\n",
    "\n",
    "for max_iter in range (30, 301, 10):\n",
    "    model = LogisticRegression(max_iter=max_iter, random_state=17, class_weight='balanced')\n",
    "    model.fit(features_train, target_train)\n",
    "    predicted_valid = model.predict(features_valid)\n",
    "    f1_value = f1_score(target_valid, predicted_valid)\n",
    "    if f1_value > best_f1:\n",
    "        best_f1 = f1_value\n",
    "        best_iter = max_iter\n",
    "\n",
    "probabilities_one_valid = model.predict_proba(features_valid)[:, 1]\n",
    "roc_auc_value = roc_auc_score(target_valid, probabilities_one_valid)\n",
    "print('Best f1', best_f1, 'was achieved with max_iter =', best_iter)\n",
    "\n",
    "model = LogisticRegression(max_iter=best_iter, random_state=17, class_weight='balanced');\n",
    "model.fit(features_train, target_train);\n",
    "predicted_valid = model.predict(features_valid)\n",
    "\n",
    "score_table = get_scores(target_valid, predicted_valid, score_table)"
   ]
  },
  {
   "cell_type": "code",
   "execution_count": 37,
   "id": "2eb9d8b8",
   "metadata": {},
   "outputs": [
    {
     "name": "stdout",
     "output_type": "stream",
     "text": [
      "Best f1 0.562862669245648 was achieved with tree_depth = 7\n"
     ]
    }
   ],
   "source": [
    "best_f1 = 0\n",
    "best_tree_depth = 0\n",
    "\n",
    "for tree_depth in range (1, 16):\n",
    "    model = DecisionTreeClassifier(max_depth=tree_depth, random_state=17, class_weight='balanced')\n",
    "    model.fit(features_train, target_train)\n",
    "    predicted_valid = model.predict(features_valid)\n",
    "    f1_value = f1_score(target_valid, predicted_valid)\n",
    "    if f1_value > best_f1:\n",
    "        best_f1 = f1_value\n",
    "        best_tree_depth = tree_depth\n",
    "        \n",
    "print('Best f1', best_f1, 'was achieved with tree_depth =', best_tree_depth)\n",
    "model = DecisionTreeClassifier(max_depth=best_tree_depth, random_state=17, class_weight='balanced')\n",
    "model.fit(features_train, target_train)\n",
    "predicted_valid = model.predict(features_valid)\n",
    "score_table = get_scores(target_valid, predicted_valid, score_table)"
   ]
  },
  {
   "cell_type": "code",
   "execution_count": 38,
   "id": "99b0dc7e",
   "metadata": {},
   "outputs": [
    {
     "name": "stdout",
     "output_type": "stream",
     "text": [
      "Best f1 0.6240963855421687 was achieved with tree_depth = 10 and n_estimators = 30\n"
     ]
    }
   ],
   "source": [
    "best_f1 = 0\n",
    "best_tree_depth = 0\n",
    "best_nestimators = 0\n",
    "\n",
    "for tree_depth in range(1, 16):\n",
    "    for estimators in range(10, 151, 10):\n",
    "        model = RandomForestClassifier(n_estimators=estimators, max_depth=tree_depth, random_state=17, class_weight='balanced')\n",
    "        model.fit(features_train, target_train)\n",
    "        predicted_valid = model.predict(features_valid)\n",
    "        f1_value = f1_score(target_valid, predicted_valid)\n",
    "        if f1_value > best_f1:\n",
    "            best_f1 = f1_value\n",
    "            best_tree_depth = tree_depth\n",
    "            best_nestimators = estimators\n",
    "\n",
    "print('Best f1', best_f1, 'was achieved with tree_depth =', best_tree_depth, 'and n_estimators =', best_nestimators)\n",
    "model = RandomForestClassifier(n_estimators=best_nestimators, max_depth=best_tree_depth, random_state=17, class_weight='balanced')\n",
    "model.fit(features_train, target_train)\n",
    "predicted_valid = model.predict(features_valid)\n",
    "score_table = get_scores(target_valid, predicted_valid, score_table)"
   ]
  },
  {
   "cell_type": "code",
   "execution_count": 39,
   "id": "b1749972",
   "metadata": {},
   "outputs": [
    {
     "name": "stdout",
     "output_type": "stream",
     "text": [
      "Best f1 0.5943852855759922 was achieved with rbf\n"
     ]
    }
   ],
   "source": [
    "kernel_vars = ['linear', 'poly', 'rbf', 'sigmoid']\n",
    "opt_kernel = []\n",
    "best_f1 = 0\n",
    "\n",
    "for kernel_var in kernel_vars:\n",
    "    model = SVC(kernel=kernel_var, class_weight='balanced')\n",
    "    model.fit(features_train, target_train)\n",
    "    predicted_valid = model.predict(features_valid)\n",
    "    f1_value = f1_score(target_valid, predicted_valid)\n",
    "    if f1_value > best_f1:\n",
    "        best_f1 = f1_value\n",
    "        opt_kernel = kernel_var\n",
    "\n",
    "print('Best f1', best_f1, 'was achieved with', opt_kernel)\n",
    "model = SVC(kernel=opt_kernel, class_weight='balanced')\n",
    "model.fit(features_train, target_train)\n",
    "predicted_valid = model.predict(features_valid)\n",
    "\n",
    "f1_value = f1_score(target_valid, predicted_valid)\n",
    "decision_score = model.decision_function(features_valid)\n",
    "roc_auc_value = roc_auc_score(target_valid, decision_score)\n",
    "\n",
    "score_table = score_table.append(pd.DataFrame(\n",
    "    [[type(model).__name__+'_class_weight', f1_value, roc_auc_value]],\n",
    "    columns=list_of_col), \n",
    "    ignore_index=True)"
   ]
  },
  {
   "cell_type": "code",
   "execution_count": 40,
   "id": "4b3103a5",
   "metadata": {},
   "outputs": [
    {
     "data": {
      "text/html": [
       "<div>\n",
       "<style scoped>\n",
       "    .dataframe tbody tr th:only-of-type {\n",
       "        vertical-align: middle;\n",
       "    }\n",
       "\n",
       "    .dataframe tbody tr th {\n",
       "        vertical-align: top;\n",
       "    }\n",
       "\n",
       "    .dataframe thead th {\n",
       "        text-align: right;\n",
       "    }\n",
       "</style>\n",
       "<table border=\"1\" class=\"dataframe\">\n",
       "  <thead>\n",
       "    <tr style=\"text-align: right;\">\n",
       "      <th></th>\n",
       "      <th>model</th>\n",
       "      <th>f1</th>\n",
       "      <th>roc-auc score</th>\n",
       "    </tr>\n",
       "  </thead>\n",
       "  <tbody>\n",
       "    <tr>\n",
       "      <th>9</th>\n",
       "      <td>RandomForestClassifier_class_weight</td>\n",
       "      <td>0.624096</td>\n",
       "      <td>0.845564</td>\n",
       "    </tr>\n",
       "    <tr>\n",
       "      <th>2</th>\n",
       "      <td>RandomForestClassifier</td>\n",
       "      <td>0.599691</td>\n",
       "      <td>0.846798</td>\n",
       "    </tr>\n",
       "    <tr>\n",
       "      <th>10</th>\n",
       "      <td>SVC_class_weight</td>\n",
       "      <td>0.594385</td>\n",
       "      <td>0.838072</td>\n",
       "    </tr>\n",
       "    <tr>\n",
       "      <th>1</th>\n",
       "      <td>DecisionTreeClassifier</td>\n",
       "      <td>0.583815</td>\n",
       "      <td>0.818025</td>\n",
       "    </tr>\n",
       "    <tr>\n",
       "      <th>8</th>\n",
       "      <td>DecisionTreeClassifier_class_weight</td>\n",
       "      <td>0.562863</td>\n",
       "      <td>0.822582</td>\n",
       "    </tr>\n",
       "    <tr>\n",
       "      <th>3</th>\n",
       "      <td>KNeighborsClassifier</td>\n",
       "      <td>0.546269</td>\n",
       "      <td>0.799184</td>\n",
       "    </tr>\n",
       "    <tr>\n",
       "      <th>4</th>\n",
       "      <td>SVC</td>\n",
       "      <td>0.531092</td>\n",
       "      <td>0.824228</td>\n",
       "    </tr>\n",
       "    <tr>\n",
       "      <th>7</th>\n",
       "      <td>LogisticRegression_class_weight</td>\n",
       "      <td>0.490667</td>\n",
       "      <td>0.761157</td>\n",
       "    </tr>\n",
       "    <tr>\n",
       "      <th>5</th>\n",
       "      <td>GaussianNB</td>\n",
       "      <td>0.447244</td>\n",
       "      <td>0.788304</td>\n",
       "    </tr>\n",
       "    <tr>\n",
       "      <th>0</th>\n",
       "      <td>LogisticRegression</td>\n",
       "      <td>0.332130</td>\n",
       "      <td>0.756922</td>\n",
       "    </tr>\n",
       "    <tr>\n",
       "      <th>6</th>\n",
       "      <td>DummyClassifier</td>\n",
       "      <td>0.171206</td>\n",
       "      <td>0.487603</td>\n",
       "    </tr>\n",
       "  </tbody>\n",
       "</table>\n",
       "</div>"
      ],
      "text/plain": [
       "                                  model        f1  roc-auc score\n",
       "9   RandomForestClassifier_class_weight  0.624096       0.845564\n",
       "2                RandomForestClassifier  0.599691       0.846798\n",
       "10                     SVC_class_weight  0.594385       0.838072\n",
       "1                DecisionTreeClassifier  0.583815       0.818025\n",
       "8   DecisionTreeClassifier_class_weight  0.562863       0.822582\n",
       "3                  KNeighborsClassifier  0.546269       0.799184\n",
       "4                                   SVC  0.531092       0.824228\n",
       "7       LogisticRegression_class_weight  0.490667       0.761157\n",
       "5                            GaussianNB  0.447244       0.788304\n",
       "0                    LogisticRegression  0.332130       0.756922\n",
       "6                       DummyClassifier  0.171206       0.487603"
      ]
     },
     "execution_count": 40,
     "metadata": {},
     "output_type": "execute_result"
    }
   ],
   "source": [
    "#выведем таблицу на экран, отсортируем по значению F1\n",
    "\n",
    "score_table.sort_values(by='f1', ascending=False)"
   ]
  },
  {
   "cell_type": "markdown",
   "id": "a26fb978",
   "metadata": {},
   "source": [
    "**Промежуточные выводы:**</br>\n",
    "Балансировка классов заметно улучшила показатели случайного леса, SVC и логистической регрессии. При этом для решающего дерева она оказалась бесполезна.</br>"
   ]
  },
  {
   "cell_type": "markdown",
   "id": "ed023bd3",
   "metadata": {},
   "source": [
    "### Апсемплинг"
   ]
  },
  {
   "cell_type": "markdown",
   "id": "25527a0c",
   "metadata": {},
   "source": [
    "Сбалансируем классы за счёт копирования меньшего класса и перемешивания с бОльшим классом."
   ]
  },
  {
   "cell_type": "code",
   "execution_count": 41,
   "id": "f26e39ac",
   "metadata": {},
   "outputs": [],
   "source": [
    "#определим функцию, которая будет разделять обучающую выборку на два класса, копировать меньший, соединять обратно и перемешивать\n",
    "\n",
    "def upsample(features, target, repeat):\n",
    "    features_zeros = features[target == 0]\n",
    "    features_ones = features[target == 1]\n",
    "    target_zeros = target[target == 0]\n",
    "    target_ones = target[target == 1]\n",
    "\n",
    "    features_upsampled = pd.concat([features_zeros] + [features_ones] * repeat)\n",
    "    target_upsampled = pd.concat([target_zeros] + [target_ones] * repeat)\n",
    "    \n",
    "    features_upsampled, target_upsampled = shuffle(\n",
    "        features_upsampled, target_upsampled, random_state=17)\n",
    "    \n",
    "    return features_upsampled, target_upsampled"
   ]
  },
  {
   "cell_type": "code",
   "execution_count": 42,
   "id": "488dc498",
   "metadata": {},
   "outputs": [],
   "source": [
    "#переопределим функцию получения метрик\n",
    "\n",
    "def get_scores(target_valid, predicted_valid, score_table):\n",
    "    f1_value = f1_score(target_valid, predicted_valid)\n",
    "\n",
    "    probabilities_one_valid = model.predict_proba(features_valid)[:, 1]\n",
    "    roc_auc_value = roc_auc_score(target_valid, probabilities_one_valid)\n",
    "\n",
    "    score_table = score_table.append(pd.DataFrame(\n",
    "        [[type(model).__name__+'_upsampled', f1_value, roc_auc_value]],\n",
    "        columns=list_of_col), \n",
    "        ignore_index=True)\n",
    "    return score_table"
   ]
  },
  {
   "cell_type": "code",
   "execution_count": 43,
   "id": "cf3d5094",
   "metadata": {},
   "outputs": [],
   "source": [
    "features_upsampled, target_upsampled = upsample(features_train, target_train, 4)"
   ]
  },
  {
   "cell_type": "code",
   "execution_count": 44,
   "id": "5721dedc",
   "metadata": {
    "scrolled": true
   },
   "outputs": [
    {
     "name": "stdout",
     "output_type": "stream",
     "text": [
      "(6000, 11) (9666, 11)\n"
     ]
    },
    {
     "data": {
      "image/png": "[encoded data removed]",
      "text/plain": [
       "<Figure size 432x288 with 1 Axes>"
      ]
     },
     "metadata": {
      "needs_background": "light"
     },
     "output_type": "display_data"
    }
   ],
   "source": [
    "#посмотрим как поменялась форма выборки после апсемплинга и выведем на экран новый баланс классов\n",
    "\n",
    "print(features_train.shape, features_upsampled.shape)\n",
    "target_upsampled.value_counts(normalize=True).plot(kind='bar');\n",
    "plt.title('Class Balance after upsampling', fontsize=12)\n",
    "plt.xlabel('Customer exit: 1 - yes, 0 - no')\n",
    "plt.ylabel('Share, %')\n",
    "plt.show()"
   ]
  },
  {
   "cell_type": "markdown",
   "id": "7e6c1cdb",
   "metadata": {},
   "source": [
    "**Обучаем модели на новой выборке + делаем проверку на случайной модели**"
   ]
  },
  {
   "cell_type": "code",
   "execution_count": 45,
   "id": "d350340c",
   "metadata": {},
   "outputs": [
    {
     "name": "stdout",
     "output_type": "stream",
     "text": [
      "Best f1 0.4912587412587412 was achieved with max_iter = 30\n"
     ]
    }
   ],
   "source": [
    "best_f1 = 0\n",
    "best_iter = 0\n",
    "\n",
    "for max_iter in range (30, 301, 10):\n",
    "    model = LogisticRegression(max_iter=max_iter, random_state=17)\n",
    "    model.fit(features_upsampled, target_upsampled)\n",
    "    predicted_valid = model.predict(features_valid)\n",
    "    f1_value = f1_score(target_valid, predicted_valid)\n",
    "    if f1_value > best_f1:\n",
    "        best_f1 = f1_value\n",
    "        best_iter = max_iter\n",
    "\n",
    "probabilities_one_valid = model.predict_proba(features_valid)[:, 1]\n",
    "roc_auc_value = roc_auc_score(target_valid, probabilities_one_valid)\n",
    "print('Best f1', best_f1, 'was achieved with max_iter =', best_iter)\n",
    "\n",
    "model = LogisticRegression(max_iter=best_iter, random_state=17);\n",
    "model.fit(features_upsampled, target_upsampled);\n",
    "predicted_valid = model.predict(features_valid)\n",
    "\n",
    "score_table = get_scores(target_valid, predicted_valid, score_table)\n",
    "\n",
    "\n",
    "model = LogisticRegression(random_state=17)\n",
    "model.fit(features_upsampled, target_upsampled)\n",
    "predicted_valid = model.predict(features_valid)\n",
    "\n",
    "score_table = get_scores(target_valid, predicted_valid, score_table)"
   ]
  },
  {
   "cell_type": "code",
   "execution_count": 46,
   "id": "6907280d",
   "metadata": {},
   "outputs": [
    {
     "name": "stdout",
     "output_type": "stream",
     "text": [
      "Best f1 0.5564738292011019 was achieved with tree_depth = 8\n"
     ]
    }
   ],
   "source": [
    "best_f1 = 0\n",
    "best_tree_depth = 0\n",
    "\n",
    "for tree_depth in range (1, 16):\n",
    "    model = DecisionTreeClassifier(max_depth=tree_depth, random_state=17)\n",
    "    model.fit(features_upsampled, target_upsampled)\n",
    "    predicted_valid = model.predict(features_valid)\n",
    "    f1_value = f1_score(target_valid, predicted_valid)\n",
    "    if f1_value > best_f1:\n",
    "        best_f1 = f1_value\n",
    "        best_tree_depth = tree_depth\n",
    "        \n",
    "print('Best f1', best_f1, 'was achieved with tree_depth =', best_tree_depth)\n",
    "model = DecisionTreeClassifier(max_depth=best_tree_depth, random_state=17)\n",
    "model.fit(features_upsampled, target_upsampled)\n",
    "predicted_valid = model.predict(features_valid)\n",
    "score_table = get_scores(target_valid, predicted_valid, score_table)"
   ]
  },
  {
   "cell_type": "code",
   "execution_count": 47,
   "id": "f0318085",
   "metadata": {},
   "outputs": [
    {
     "name": "stdout",
     "output_type": "stream",
     "text": [
      "Best f1 0.6187576126674788 was achieved with tree_depth = 13 and n_estimators = 140\n"
     ]
    }
   ],
   "source": [
    "best_f1 = 0\n",
    "best_tree_depth = 0\n",
    "best_nestimators = 0\n",
    "\n",
    "for tree_depth in range(1, 16):\n",
    "    for estimators in range(10, 151, 10):\n",
    "        model = RandomForestClassifier(n_estimators=estimators, max_depth=tree_depth, random_state=17)\n",
    "        model.fit(features_upsampled, target_upsampled)\n",
    "        predicted_valid = model.predict(features_valid)\n",
    "        f1_value = f1_score(target_valid, predicted_valid)\n",
    "        if f1_value > best_f1:\n",
    "            best_f1 = f1_value\n",
    "            best_tree_depth = tree_depth\n",
    "            best_nestimators = estimators\n",
    "\n",
    "print('Best f1', best_f1, 'was achieved with tree_depth =', best_tree_depth, 'and n_estimators =', best_nestimators)\n",
    "model = RandomForestClassifier(n_estimators=best_nestimators, max_depth=best_tree_depth, random_state=17)\n",
    "model.fit(features_upsampled, target_upsampled)\n",
    "predicted_valid = model.predict(features_valid)\n",
    "score_table = get_scores(target_valid, predicted_valid, score_table)"
   ]
  },
  {
   "cell_type": "code",
   "execution_count": 48,
   "id": "c54f2e8a",
   "metadata": {},
   "outputs": [
    {
     "name": "stdout",
     "output_type": "stream",
     "text": [
      "Best f1 0.567251461988304 was achieved with n_neighbors = 32\n"
     ]
    }
   ],
   "source": [
    "best_f1 = 0\n",
    "best_nneighbors = 0\n",
    "\n",
    "for neighbors in range(1, 51):\n",
    "    model = KNeighborsClassifier(n_neighbors=neighbors)\n",
    "    model.fit(features_upsampled, target_upsampled)\n",
    "    predicted_valid = model.predict(features_valid)\n",
    "    f1_value = f1_score(target_valid, predicted_valid)\n",
    "    if f1_value > best_f1:\n",
    "        best_f1 = f1_value\n",
    "        best_nneighbors = neighbors\n",
    "\n",
    "print('Best f1', best_f1, 'was achieved with n_neighbors =', best_nneighbors)\n",
    "model = KNeighborsClassifier(n_neighbors=best_nneighbors)\n",
    "model.fit(features_upsampled, target_upsampled)\n",
    "predicted_valid = model.predict(features_valid)\n",
    "score_table = get_scores(target_valid, predicted_valid, score_table)"
   ]
  },
  {
   "cell_type": "code",
   "execution_count": 49,
   "id": "1b0b7118",
   "metadata": {},
   "outputs": [
    {
     "name": "stdout",
     "output_type": "stream",
     "text": [
      "Best f1 0.586565752128666 was achieved with rbf\n"
     ]
    }
   ],
   "source": [
    "kernel_vars = ['linear', 'poly', 'rbf', 'sigmoid']\n",
    "opt_kernel = []\n",
    "best_f1 = 0\n",
    "\n",
    "for kernel_var in kernel_vars:\n",
    "    model = SVC(kernel=kernel_var)\n",
    "    model.fit(features_upsampled, target_upsampled)\n",
    "    predicted_valid = model.predict(features_valid)\n",
    "    f1_value = f1_score(target_valid, predicted_valid)\n",
    "    if f1_value > best_f1:\n",
    "        best_f1 = f1_value\n",
    "        opt_kernel = kernel_var\n",
    "\n",
    "print('Best f1', best_f1, 'was achieved with', opt_kernel)\n",
    "model = SVC(kernel=opt_kernel)\n",
    "model.fit(features_upsampled, target_upsampled)\n",
    "predicted_valid = model.predict(features_valid)\n",
    "\n",
    "f1_value = f1_score(target_valid, predicted_valid)\n",
    "decision_score = model.decision_function(features_valid)\n",
    "roc_auc_value = roc_auc_score(target_valid, decision_score)\n",
    "\n",
    "score_table = score_table.append(pd.DataFrame(\n",
    "    [[type(model).__name__+'_upsampled', f1_value, roc_auc_value]],\n",
    "    columns=list_of_col), \n",
    "    ignore_index=True)"
   ]
  },
  {
   "cell_type": "code",
   "execution_count": 50,
   "id": "21dc3566",
   "metadata": {},
   "outputs": [],
   "source": [
    "model = GaussianNB()\n",
    "model.fit(features_upsampled, target_upsampled)\n",
    "predicted_valid = model.predict(features_valid)\n",
    "\n",
    "score_table = get_scores(target_valid, predicted_valid, score_table)"
   ]
  },
  {
   "cell_type": "code",
   "execution_count": 51,
   "id": "c6077c5c",
   "metadata": {},
   "outputs": [],
   "source": [
    "model = DummyClassifier(strategy='stratified', random_state=17)\n",
    "model.fit(features_upsampled, target_upsampled)\n",
    "predicted_valid = model.predict(features_valid)\n",
    "\n",
    "score_table = get_scores(target_valid, predicted_valid, score_table)"
   ]
  },
  {
   "cell_type": "code",
   "execution_count": 52,
   "id": "9d7b295f",
   "metadata": {},
   "outputs": [
    {
     "data": {
      "text/html": [
       "<div>\n",
       "<style scoped>\n",
       "    .dataframe tbody tr th:only-of-type {\n",
       "        vertical-align: middle;\n",
       "    }\n",
       "\n",
       "    .dataframe tbody tr th {\n",
       "        vertical-align: top;\n",
       "    }\n",
       "\n",
       "    .dataframe thead th {\n",
       "        text-align: right;\n",
       "    }\n",
       "</style>\n",
       "<table border=\"1\" class=\"dataframe\">\n",
       "  <thead>\n",
       "    <tr style=\"text-align: right;\">\n",
       "      <th></th>\n",
       "      <th>model</th>\n",
       "      <th>f1</th>\n",
       "      <th>roc-auc score</th>\n",
       "    </tr>\n",
       "  </thead>\n",
       "  <tbody>\n",
       "    <tr>\n",
       "      <th>9</th>\n",
       "      <td>RandomForestClassifier_class_weight</td>\n",
       "      <td>0.624096</td>\n",
       "      <td>0.845564</td>\n",
       "    </tr>\n",
       "    <tr>\n",
       "      <th>14</th>\n",
       "      <td>RandomForestClassifier_upsampled</td>\n",
       "      <td>0.618758</td>\n",
       "      <td>0.848218</td>\n",
       "    </tr>\n",
       "    <tr>\n",
       "      <th>2</th>\n",
       "      <td>RandomForestClassifier</td>\n",
       "      <td>0.599691</td>\n",
       "      <td>0.846798</td>\n",
       "    </tr>\n",
       "    <tr>\n",
       "      <th>10</th>\n",
       "      <td>SVC_class_weight</td>\n",
       "      <td>0.594385</td>\n",
       "      <td>0.838072</td>\n",
       "    </tr>\n",
       "    <tr>\n",
       "      <th>16</th>\n",
       "      <td>SVC_upsampled</td>\n",
       "      <td>0.586566</td>\n",
       "      <td>0.835951</td>\n",
       "    </tr>\n",
       "    <tr>\n",
       "      <th>1</th>\n",
       "      <td>DecisionTreeClassifier</td>\n",
       "      <td>0.583815</td>\n",
       "      <td>0.818025</td>\n",
       "    </tr>\n",
       "    <tr>\n",
       "      <th>15</th>\n",
       "      <td>KNeighborsClassifier_upsampled</td>\n",
       "      <td>0.567251</td>\n",
       "      <td>0.828387</td>\n",
       "    </tr>\n",
       "    <tr>\n",
       "      <th>8</th>\n",
       "      <td>DecisionTreeClassifier_class_weight</td>\n",
       "      <td>0.562863</td>\n",
       "      <td>0.822582</td>\n",
       "    </tr>\n",
       "    <tr>\n",
       "      <th>13</th>\n",
       "      <td>DecisionTreeClassifier_upsampled</td>\n",
       "      <td>0.556474</td>\n",
       "      <td>0.815623</td>\n",
       "    </tr>\n",
       "    <tr>\n",
       "      <th>3</th>\n",
       "      <td>KNeighborsClassifier</td>\n",
       "      <td>0.546269</td>\n",
       "      <td>0.799184</td>\n",
       "    </tr>\n",
       "    <tr>\n",
       "      <th>4</th>\n",
       "      <td>SVC</td>\n",
       "      <td>0.531092</td>\n",
       "      <td>0.824228</td>\n",
       "    </tr>\n",
       "    <tr>\n",
       "      <th>17</th>\n",
       "      <td>GaussianNB_upsampled</td>\n",
       "      <td>0.510870</td>\n",
       "      <td>0.788304</td>\n",
       "    </tr>\n",
       "    <tr>\n",
       "      <th>11</th>\n",
       "      <td>LogisticRegression_upsampled</td>\n",
       "      <td>0.491259</td>\n",
       "      <td>0.761203</td>\n",
       "    </tr>\n",
       "    <tr>\n",
       "      <th>12</th>\n",
       "      <td>LogisticRegression_upsampled</td>\n",
       "      <td>0.491259</td>\n",
       "      <td>0.761203</td>\n",
       "    </tr>\n",
       "    <tr>\n",
       "      <th>7</th>\n",
       "      <td>LogisticRegression_class_weight</td>\n",
       "      <td>0.490667</td>\n",
       "      <td>0.761157</td>\n",
       "    </tr>\n",
       "    <tr>\n",
       "      <th>5</th>\n",
       "      <td>GaussianNB</td>\n",
       "      <td>0.447244</td>\n",
       "      <td>0.788304</td>\n",
       "    </tr>\n",
       "    <tr>\n",
       "      <th>0</th>\n",
       "      <td>LogisticRegression</td>\n",
       "      <td>0.332130</td>\n",
       "      <td>0.756922</td>\n",
       "    </tr>\n",
       "    <tr>\n",
       "      <th>18</th>\n",
       "      <td>DummyClassifier_upsampled</td>\n",
       "      <td>0.296931</td>\n",
       "      <td>0.508357</td>\n",
       "    </tr>\n",
       "    <tr>\n",
       "      <th>6</th>\n",
       "      <td>DummyClassifier</td>\n",
       "      <td>0.171206</td>\n",
       "      <td>0.487603</td>\n",
       "    </tr>\n",
       "  </tbody>\n",
       "</table>\n",
       "</div>"
      ],
      "text/plain": [
       "                                  model        f1  roc-auc score\n",
       "9   RandomForestClassifier_class_weight  0.624096       0.845564\n",
       "14     RandomForestClassifier_upsampled  0.618758       0.848218\n",
       "2                RandomForestClassifier  0.599691       0.846798\n",
       "10                     SVC_class_weight  0.594385       0.838072\n",
       "16                        SVC_upsampled  0.586566       0.835951\n",
       "1                DecisionTreeClassifier  0.583815       0.818025\n",
       "15       KNeighborsClassifier_upsampled  0.567251       0.828387\n",
       "8   DecisionTreeClassifier_class_weight  0.562863       0.822582\n",
       "13     DecisionTreeClassifier_upsampled  0.556474       0.815623\n",
       "3                  KNeighborsClassifier  0.546269       0.799184\n",
       "4                                   SVC  0.531092       0.824228\n",
       "17                 GaussianNB_upsampled  0.510870       0.788304\n",
       "11         LogisticRegression_upsampled  0.491259       0.761203\n",
       "12         LogisticRegression_upsampled  0.491259       0.761203\n",
       "7       LogisticRegression_class_weight  0.490667       0.761157\n",
       "5                            GaussianNB  0.447244       0.788304\n",
       "0                    LogisticRegression  0.332130       0.756922\n",
       "18            DummyClassifier_upsampled  0.296931       0.508357\n",
       "6                       DummyClassifier  0.171206       0.487603"
      ]
     },
     "execution_count": 52,
     "metadata": {},
     "output_type": "execute_result"
    }
   ],
   "source": [
    "score_table.sort_values(by='f1', ascending=False)"
   ]
  },
  {
   "cell_type": "markdown",
   "id": "2eedf204",
   "metadata": {},
   "source": [
    "**Промежуточные выводы:**</br>\n",
    "Апсемплинг показал самый хороший результат на случайном лесе и методе ближайших соседей, оказавшись эффективнее встроенной балансировки классов.\n",
    "Для SVC на данной выборке такого не произошло, балансировка классов более эффективна."
   ]
  },
  {
   "cell_type": "markdown",
   "id": "e5b3c949",
   "metadata": {},
   "source": [
    "### Даунсэмплинг"
   ]
  },
  {
   "cell_type": "markdown",
   "id": "95425ed1",
   "metadata": {},
   "source": [
    "Сбалансируем классы за счёт сокращения объектов с целевым признаком \"0\""
   ]
  },
  {
   "cell_type": "code",
   "execution_count": 53,
   "id": "633ef9fc",
   "metadata": {},
   "outputs": [],
   "source": [
    "#определим функцию для даунсмплинга - она разбивает признаки на две части по значению целевого признака\n",
    "#сокращает часть с целевым признаком 0 в указаное количество раз\n",
    "#соединяет всё обратно и перемешивает\n",
    "\n",
    "def downsample(features, target, fraction):\n",
    "    features_zeros = features[target == 0]\n",
    "    features_ones = features[target == 1]\n",
    "    target_zeros = target[target == 0]\n",
    "    target_ones = target[target == 1]\n",
    "\n",
    "    features_downsampled = pd.concat(\n",
    "        [features_zeros.sample(frac=fraction, random_state=17)] + [features_ones])\n",
    "    target_downsampled = pd.concat(\n",
    "        [target_zeros.sample(frac=fraction, random_state=17)] + [target_ones])\n",
    "    \n",
    "    features_downsampled, target_downsampled = shuffle(\n",
    "        features_downsampled, target_downsampled, random_state=17)\n",
    "    \n",
    "    return features_downsampled, target_downsampled"
   ]
  },
  {
   "cell_type": "code",
   "execution_count": 54,
   "id": "0ecdd451",
   "metadata": {},
   "outputs": [],
   "source": [
    "#переопределяем функцию для получения метрик\n",
    "\n",
    "def get_scores(target_valid, predicted_valid, score_table):\n",
    "    f1_value = f1_score(target_valid, predicted_valid)\n",
    "\n",
    "    probabilities_one_valid = model.predict_proba(features_valid)[:, 1]\n",
    "    roc_auc_value = roc_auc_score(target_valid, probabilities_one_valid)\n",
    "\n",
    "    score_table = score_table.append(pd.DataFrame(\n",
    "        [[type(model).__name__+'_downsampled', f1_value, roc_auc_value]],\n",
    "        columns=list_of_col), \n",
    "        ignore_index=True)\n",
    "    return score_table"
   ]
  },
  {
   "cell_type": "code",
   "execution_count": 55,
   "id": "91775d04",
   "metadata": {},
   "outputs": [],
   "source": [
    "#получим новые выборки и целевые признаки для обучения\n",
    "\n",
    "features_downsampled, target_downsampled = downsample(features_train, target_train, 0.25)"
   ]
  },
  {
   "cell_type": "code",
   "execution_count": 56,
   "id": "54a24b7e",
   "metadata": {},
   "outputs": [
    {
     "name": "stdout",
     "output_type": "stream",
     "text": [
      "(6000, 11) (2416, 11)\n"
     ]
    },
    {
     "data": {
      "image/png": "[encoded data removed]",
      "text/plain": [
       "<Figure size 432x288 with 1 Axes>"
      ]
     },
     "metadata": {
      "needs_background": "light"
     },
     "output_type": "display_data"
    }
   ],
   "source": [
    "#проверим как изменился размер обучающей выборки и балансировку классов\n",
    "\n",
    "print(features_train.shape, features_downsampled.shape)\n",
    "target_downsampled.value_counts().plot(kind='bar');\n",
    "plt.title('Class Balance after downsampling', fontsize=12)\n",
    "plt.xlabel('Customer exit: 1 - yes, 0 - no')\n",
    "plt.ylabel('Share, %')\n",
    "plt.show()"
   ]
  },
  {
   "cell_type": "markdown",
   "id": "25c4a180",
   "metadata": {},
   "source": [
    "**Обучаем модели на новой выборке + делаем проверку на случайной модели**"
   ]
  },
  {
   "cell_type": "code",
   "execution_count": 57,
   "id": "e41459fa",
   "metadata": {},
   "outputs": [
    {
     "name": "stdout",
     "output_type": "stream",
     "text": [
      "Best f1 0.49650349650349646 was achieved with max_iter = 30\n"
     ]
    }
   ],
   "source": [
    "best_f1 = 0\n",
    "best_iter = 0\n",
    "\n",
    "for max_iter in range (30, 301, 10):\n",
    "    model = LogisticRegression(max_iter=max_iter, random_state=17)\n",
    "    model.fit(features_downsampled, target_downsampled)\n",
    "    predicted_valid = model.predict(features_valid)\n",
    "    f1_value = f1_score(target_valid, predicted_valid)\n",
    "    if f1_value > best_f1:\n",
    "        best_f1 = f1_value\n",
    "        best_iter = max_iter\n",
    "\n",
    "probabilities_one_valid = model.predict_proba(features_valid)[:, 1]\n",
    "roc_auc_value = roc_auc_score(target_valid, probabilities_one_valid)\n",
    "print('Best f1', best_f1, 'was achieved with max_iter =', best_iter)\n",
    "\n",
    "model = LogisticRegression(max_iter=best_iter, random_state=17);\n",
    "model.fit(features_downsampled, target_downsampled);\n",
    "predicted_valid = model.predict(features_valid)\n",
    "\n",
    "score_table = get_scores(target_valid, predicted_valid, score_table)\n",
    "\n",
    "\n",
    "model = LogisticRegression(random_state=17)\n",
    "model.fit(features_upsampled, target_upsampled)\n",
    "predicted_valid = model.predict(features_valid)\n",
    "\n",
    "score_table = get_scores(target_valid, predicted_valid, score_table)"
   ]
  },
  {
   "cell_type": "code",
   "execution_count": 58,
   "id": "2ac2db47",
   "metadata": {},
   "outputs": [
    {
     "name": "stdout",
     "output_type": "stream",
     "text": [
      "Best f1 0.54638124362895 was achieved with tree_depth = 3\n"
     ]
    }
   ],
   "source": [
    "best_f1 = 0\n",
    "best_tree_depth = 0\n",
    "\n",
    "for tree_depth in range (1, 16):\n",
    "    model = DecisionTreeClassifier(max_depth=tree_depth, random_state=17)\n",
    "    model.fit(features_downsampled, target_downsampled)\n",
    "    predicted_valid = model.predict(features_valid)\n",
    "    f1_value = f1_score(target_valid, predicted_valid)\n",
    "    if f1_value > best_f1:\n",
    "        best_f1 = f1_value\n",
    "        best_tree_depth = tree_depth\n",
    "        \n",
    "print('Best f1', best_f1, 'was achieved with tree_depth =', best_tree_depth)\n",
    "model = DecisionTreeClassifier(max_depth=best_tree_depth, random_state=17)\n",
    "model.fit(features_downsampled, target_downsampled)\n",
    "predicted_valid = model.predict(features_valid)\n",
    "score_table = get_scores(target_valid, predicted_valid, score_table)"
   ]
  },
  {
   "cell_type": "code",
   "execution_count": 59,
   "id": "b272b8ea",
   "metadata": {},
   "outputs": [
    {
     "name": "stdout",
     "output_type": "stream",
     "text": [
      "Best f1 0.5885714285714285 was achieved with tree_depth = 8 and n_estimators = 100\n"
     ]
    }
   ],
   "source": [
    "best_f1 = 0\n",
    "best_tree_depth = 0\n",
    "best_nestimators = 0\n",
    "\n",
    "for tree_depth in range(1, 16):\n",
    "    for estimators in range(10, 151, 10):\n",
    "        model = RandomForestClassifier(n_estimators=estimators, max_depth=tree_depth, random_state=17)\n",
    "        model.fit(features_downsampled, target_downsampled)\n",
    "        predicted_valid = model.predict(features_valid)\n",
    "        f1_value = f1_score(target_valid, predicted_valid)\n",
    "        if f1_value > best_f1:\n",
    "            best_f1 = f1_value\n",
    "            best_tree_depth = tree_depth\n",
    "            best_nestimators = estimators\n",
    "\n",
    "print('Best f1', best_f1, 'was achieved with tree_depth =', best_tree_depth, 'and n_estimators =', best_nestimators)\n",
    "model = RandomForestClassifier(n_estimators=best_nestimators, max_depth=best_tree_depth, random_state=17)\n",
    "model.fit(features_downsampled, target_downsampled)\n",
    "predicted_valid = model.predict(features_valid)\n",
    "score_table = get_scores(target_valid, predicted_valid, score_table)"
   ]
  },
  {
   "cell_type": "code",
   "execution_count": 60,
   "id": "1a4d3b89",
   "metadata": {},
   "outputs": [
    {
     "name": "stdout",
     "output_type": "stream",
     "text": [
      "Best f1 0.5578747628083491 was achieved with n_neighbors = 46\n"
     ]
    }
   ],
   "source": [
    "best_f1 = 0\n",
    "best_nneighbors = 0\n",
    "\n",
    "for neighbors in range(1, 51):\n",
    "    model = KNeighborsClassifier(n_neighbors=neighbors)\n",
    "    model.fit(features_downsampled, target_downsampled)\n",
    "    predicted_valid = model.predict(features_valid)\n",
    "    f1_value = f1_score(target_valid, predicted_valid)\n",
    "    if f1_value > best_f1:\n",
    "        best_f1 = f1_value\n",
    "        best_nneighbors = neighbors\n",
    "\n",
    "print('Best f1', best_f1, 'was achieved with n_neighbors =', best_nneighbors)\n",
    "model = KNeighborsClassifier(n_neighbors=best_nneighbors)\n",
    "model.fit(features_downsampled, target_downsampled)\n",
    "predicted_valid = model.predict(features_valid)\n",
    "score_table = get_scores(target_valid, predicted_valid, score_table)"
   ]
  },
  {
   "cell_type": "code",
   "execution_count": 61,
   "id": "bdbeb0c5",
   "metadata": {},
   "outputs": [
    {
     "name": "stdout",
     "output_type": "stream",
     "text": [
      "Best f1 0.5706214689265537 was achieved with poly\n"
     ]
    }
   ],
   "source": [
    "kernel_vars = ['linear', 'poly', 'rbf', 'sigmoid']\n",
    "opt_kernel = []\n",
    "best_f1 = 0\n",
    "\n",
    "for kernel_var in kernel_vars:\n",
    "    model = SVC(kernel=kernel_var)\n",
    "    model.fit(features_downsampled, target_downsampled)\n",
    "    predicted_valid = model.predict(features_valid)\n",
    "    f1_value = f1_score(target_valid, predicted_valid)\n",
    "    if f1_value > best_f1:\n",
    "        best_f1 = f1_value\n",
    "        opt_kernel = kernel_var\n",
    "\n",
    "print('Best f1', best_f1, 'was achieved with', opt_kernel)\n",
    "model = SVC(kernel=opt_kernel)\n",
    "model.fit(features_downsampled, target_downsampled)\n",
    "predicted_valid = model.predict(features_valid)\n",
    "\n",
    "f1_value = f1_score(target_valid, predicted_valid)\n",
    "decision_score = model.decision_function(features_valid)\n",
    "roc_auc_value = roc_auc_score(target_valid, decision_score)\n",
    "\n",
    "score_table = score_table.append(pd.DataFrame(\n",
    "    [[type(model).__name__+'_downsampled', f1_value, roc_auc_value]],\n",
    "    columns=list_of_col), \n",
    "    ignore_index=True)"
   ]
  },
  {
   "cell_type": "code",
   "execution_count": 62,
   "id": "309a68ff",
   "metadata": {},
   "outputs": [],
   "source": [
    "model = GaussianNB()\n",
    "model.fit(features_downsampled, target_downsampled)\n",
    "predicted_valid = model.predict(features_valid)\n",
    "\n",
    "score_table = get_scores(target_valid, predicted_valid, score_table)"
   ]
  },
  {
   "cell_type": "code",
   "execution_count": 63,
   "id": "aa2a0817",
   "metadata": {},
   "outputs": [],
   "source": [
    "model = DummyClassifier(strategy='stratified', random_state=17)\n",
    "model.fit(features_downsampled, target_downsampled)\n",
    "predicted_valid = model.predict(features_valid)\n",
    "\n",
    "score_table = get_scores(target_valid, predicted_valid, score_table)"
   ]
  },
  {
   "cell_type": "code",
   "execution_count": 64,
   "id": "9cb4df06",
   "metadata": {},
   "outputs": [
    {
     "data": {
      "text/html": [
       "<div>\n",
       "<style scoped>\n",
       "    .dataframe tbody tr th:only-of-type {\n",
       "        vertical-align: middle;\n",
       "    }\n",
       "\n",
       "    .dataframe tbody tr th {\n",
       "        vertical-align: top;\n",
       "    }\n",
       "\n",
       "    .dataframe thead th {\n",
       "        text-align: right;\n",
       "    }\n",
       "</style>\n",
       "<table border=\"1\" class=\"dataframe\">\n",
       "  <thead>\n",
       "    <tr style=\"text-align: right;\">\n",
       "      <th></th>\n",
       "      <th>model</th>\n",
       "      <th>f1</th>\n",
       "      <th>roc-auc score</th>\n",
       "    </tr>\n",
       "  </thead>\n",
       "  <tbody>\n",
       "    <tr>\n",
       "      <th>9</th>\n",
       "      <td>RandomForestClassifier_class_weight</td>\n",
       "      <td>0.624096</td>\n",
       "      <td>0.845564</td>\n",
       "    </tr>\n",
       "    <tr>\n",
       "      <th>14</th>\n",
       "      <td>RandomForestClassifier_upsampled</td>\n",
       "      <td>0.618758</td>\n",
       "      <td>0.848218</td>\n",
       "    </tr>\n",
       "    <tr>\n",
       "      <th>2</th>\n",
       "      <td>RandomForestClassifier</td>\n",
       "      <td>0.599691</td>\n",
       "      <td>0.846798</td>\n",
       "    </tr>\n",
       "    <tr>\n",
       "      <th>10</th>\n",
       "      <td>SVC_class_weight</td>\n",
       "      <td>0.594385</td>\n",
       "      <td>0.838072</td>\n",
       "    </tr>\n",
       "    <tr>\n",
       "      <th>22</th>\n",
       "      <td>RandomForestClassifier_downsampled</td>\n",
       "      <td>0.588571</td>\n",
       "      <td>0.851465</td>\n",
       "    </tr>\n",
       "    <tr>\n",
       "      <th>16</th>\n",
       "      <td>SVC_upsampled</td>\n",
       "      <td>0.586566</td>\n",
       "      <td>0.835951</td>\n",
       "    </tr>\n",
       "    <tr>\n",
       "      <th>1</th>\n",
       "      <td>DecisionTreeClassifier</td>\n",
       "      <td>0.583815</td>\n",
       "      <td>0.818025</td>\n",
       "    </tr>\n",
       "    <tr>\n",
       "      <th>24</th>\n",
       "      <td>SVC_downsampled</td>\n",
       "      <td>0.570621</td>\n",
       "      <td>0.836081</td>\n",
       "    </tr>\n",
       "    <tr>\n",
       "      <th>15</th>\n",
       "      <td>KNeighborsClassifier_upsampled</td>\n",
       "      <td>0.567251</td>\n",
       "      <td>0.828387</td>\n",
       "    </tr>\n",
       "    <tr>\n",
       "      <th>8</th>\n",
       "      <td>DecisionTreeClassifier_class_weight</td>\n",
       "      <td>0.562863</td>\n",
       "      <td>0.822582</td>\n",
       "    </tr>\n",
       "    <tr>\n",
       "      <th>23</th>\n",
       "      <td>KNeighborsClassifier_downsampled</td>\n",
       "      <td>0.557875</td>\n",
       "      <td>0.821380</td>\n",
       "    </tr>\n",
       "    <tr>\n",
       "      <th>13</th>\n",
       "      <td>DecisionTreeClassifier_upsampled</td>\n",
       "      <td>0.556474</td>\n",
       "      <td>0.815623</td>\n",
       "    </tr>\n",
       "    <tr>\n",
       "      <th>21</th>\n",
       "      <td>DecisionTreeClassifier_downsampled</td>\n",
       "      <td>0.546381</td>\n",
       "      <td>0.797886</td>\n",
       "    </tr>\n",
       "    <tr>\n",
       "      <th>3</th>\n",
       "      <td>KNeighborsClassifier</td>\n",
       "      <td>0.546269</td>\n",
       "      <td>0.799184</td>\n",
       "    </tr>\n",
       "    <tr>\n",
       "      <th>4</th>\n",
       "      <td>SVC</td>\n",
       "      <td>0.531092</td>\n",
       "      <td>0.824228</td>\n",
       "    </tr>\n",
       "    <tr>\n",
       "      <th>25</th>\n",
       "      <td>GaussianNB_downsampled</td>\n",
       "      <td>0.518255</td>\n",
       "      <td>0.788332</td>\n",
       "    </tr>\n",
       "    <tr>\n",
       "      <th>17</th>\n",
       "      <td>GaussianNB_upsampled</td>\n",
       "      <td>0.510870</td>\n",
       "      <td>0.788304</td>\n",
       "    </tr>\n",
       "    <tr>\n",
       "      <th>19</th>\n",
       "      <td>LogisticRegression_downsampled</td>\n",
       "      <td>0.496503</td>\n",
       "      <td>0.760997</td>\n",
       "    </tr>\n",
       "    <tr>\n",
       "      <th>12</th>\n",
       "      <td>LogisticRegression_upsampled</td>\n",
       "      <td>0.491259</td>\n",
       "      <td>0.761203</td>\n",
       "    </tr>\n",
       "    <tr>\n",
       "      <th>20</th>\n",
       "      <td>LogisticRegression_downsampled</td>\n",
       "      <td>0.491259</td>\n",
       "      <td>0.761203</td>\n",
       "    </tr>\n",
       "    <tr>\n",
       "      <th>11</th>\n",
       "      <td>LogisticRegression_upsampled</td>\n",
       "      <td>0.491259</td>\n",
       "      <td>0.761203</td>\n",
       "    </tr>\n",
       "    <tr>\n",
       "      <th>7</th>\n",
       "      <td>LogisticRegression_class_weight</td>\n",
       "      <td>0.490667</td>\n",
       "      <td>0.761157</td>\n",
       "    </tr>\n",
       "    <tr>\n",
       "      <th>5</th>\n",
       "      <td>GaussianNB</td>\n",
       "      <td>0.447244</td>\n",
       "      <td>0.788304</td>\n",
       "    </tr>\n",
       "    <tr>\n",
       "      <th>0</th>\n",
       "      <td>LogisticRegression</td>\n",
       "      <td>0.332130</td>\n",
       "      <td>0.756922</td>\n",
       "    </tr>\n",
       "    <tr>\n",
       "      <th>18</th>\n",
       "      <td>DummyClassifier_upsampled</td>\n",
       "      <td>0.296931</td>\n",
       "      <td>0.508357</td>\n",
       "    </tr>\n",
       "    <tr>\n",
       "      <th>26</th>\n",
       "      <td>DummyClassifier_downsampled</td>\n",
       "      <td>0.296931</td>\n",
       "      <td>0.508357</td>\n",
       "    </tr>\n",
       "    <tr>\n",
       "      <th>6</th>\n",
       "      <td>DummyClassifier</td>\n",
       "      <td>0.171206</td>\n",
       "      <td>0.487603</td>\n",
       "    </tr>\n",
       "  </tbody>\n",
       "</table>\n",
       "</div>"
      ],
      "text/plain": [
       "                                  model        f1  roc-auc score\n",
       "9   RandomForestClassifier_class_weight  0.624096       0.845564\n",
       "14     RandomForestClassifier_upsampled  0.618758       0.848218\n",
       "2                RandomForestClassifier  0.599691       0.846798\n",
       "10                     SVC_class_weight  0.594385       0.838072\n",
       "22   RandomForestClassifier_downsampled  0.588571       0.851465\n",
       "16                        SVC_upsampled  0.586566       0.835951\n",
       "1                DecisionTreeClassifier  0.583815       0.818025\n",
       "24                      SVC_downsampled  0.570621       0.836081\n",
       "15       KNeighborsClassifier_upsampled  0.567251       0.828387\n",
       "8   DecisionTreeClassifier_class_weight  0.562863       0.822582\n",
       "23     KNeighborsClassifier_downsampled  0.557875       0.821380\n",
       "13     DecisionTreeClassifier_upsampled  0.556474       0.815623\n",
       "21   DecisionTreeClassifier_downsampled  0.546381       0.797886\n",
       "3                  KNeighborsClassifier  0.546269       0.799184\n",
       "4                                   SVC  0.531092       0.824228\n",
       "25               GaussianNB_downsampled  0.518255       0.788332\n",
       "17                 GaussianNB_upsampled  0.510870       0.788304\n",
       "19       LogisticRegression_downsampled  0.496503       0.760997\n",
       "12         LogisticRegression_upsampled  0.491259       0.761203\n",
       "20       LogisticRegression_downsampled  0.491259       0.761203\n",
       "11         LogisticRegression_upsampled  0.491259       0.761203\n",
       "7       LogisticRegression_class_weight  0.490667       0.761157\n",
       "5                            GaussianNB  0.447244       0.788304\n",
       "0                    LogisticRegression  0.332130       0.756922\n",
       "18            DummyClassifier_upsampled  0.296931       0.508357\n",
       "26          DummyClassifier_downsampled  0.296931       0.508357\n",
       "6                       DummyClassifier  0.171206       0.487603"
      ]
     },
     "execution_count": 64,
     "metadata": {},
     "output_type": "execute_result"
    }
   ],
   "source": [
    "#выведем на экран таблицу метрик с сортировкой по f1\n",
    "\n",
    "score_table.sort_values(by='f1', ascending=False)"
   ]
  },
  {
   "cell_type": "code",
   "execution_count": 65,
   "id": "cca12450",
   "metadata": {},
   "outputs": [
    {
     "data": {
      "text/html": [
       "<div>\n",
       "<style scoped>\n",
       "    .dataframe tbody tr th:only-of-type {\n",
       "        vertical-align: middle;\n",
       "    }\n",
       "\n",
       "    .dataframe tbody tr th {\n",
       "        vertical-align: top;\n",
       "    }\n",
       "\n",
       "    .dataframe thead th {\n",
       "        text-align: right;\n",
       "    }\n",
       "</style>\n",
       "<table border=\"1\" class=\"dataframe\">\n",
       "  <thead>\n",
       "    <tr style=\"text-align: right;\">\n",
       "      <th></th>\n",
       "      <th>model</th>\n",
       "      <th>f1</th>\n",
       "      <th>roc-auc score</th>\n",
       "    </tr>\n",
       "  </thead>\n",
       "  <tbody>\n",
       "    <tr>\n",
       "      <th>22</th>\n",
       "      <td>RandomForestClassifier_downsampled</td>\n",
       "      <td>0.588571</td>\n",
       "      <td>0.851465</td>\n",
       "    </tr>\n",
       "    <tr>\n",
       "      <th>14</th>\n",
       "      <td>RandomForestClassifier_upsampled</td>\n",
       "      <td>0.618758</td>\n",
       "      <td>0.848218</td>\n",
       "    </tr>\n",
       "    <tr>\n",
       "      <th>2</th>\n",
       "      <td>RandomForestClassifier</td>\n",
       "      <td>0.599691</td>\n",
       "      <td>0.846798</td>\n",
       "    </tr>\n",
       "    <tr>\n",
       "      <th>9</th>\n",
       "      <td>RandomForestClassifier_class_weight</td>\n",
       "      <td>0.624096</td>\n",
       "      <td>0.845564</td>\n",
       "    </tr>\n",
       "    <tr>\n",
       "      <th>10</th>\n",
       "      <td>SVC_class_weight</td>\n",
       "      <td>0.594385</td>\n",
       "      <td>0.838072</td>\n",
       "    </tr>\n",
       "    <tr>\n",
       "      <th>24</th>\n",
       "      <td>SVC_downsampled</td>\n",
       "      <td>0.570621</td>\n",
       "      <td>0.836081</td>\n",
       "    </tr>\n",
       "    <tr>\n",
       "      <th>16</th>\n",
       "      <td>SVC_upsampled</td>\n",
       "      <td>0.586566</td>\n",
       "      <td>0.835951</td>\n",
       "    </tr>\n",
       "    <tr>\n",
       "      <th>15</th>\n",
       "      <td>KNeighborsClassifier_upsampled</td>\n",
       "      <td>0.567251</td>\n",
       "      <td>0.828387</td>\n",
       "    </tr>\n",
       "    <tr>\n",
       "      <th>4</th>\n",
       "      <td>SVC</td>\n",
       "      <td>0.531092</td>\n",
       "      <td>0.824228</td>\n",
       "    </tr>\n",
       "    <tr>\n",
       "      <th>8</th>\n",
       "      <td>DecisionTreeClassifier_class_weight</td>\n",
       "      <td>0.562863</td>\n",
       "      <td>0.822582</td>\n",
       "    </tr>\n",
       "    <tr>\n",
       "      <th>23</th>\n",
       "      <td>KNeighborsClassifier_downsampled</td>\n",
       "      <td>0.557875</td>\n",
       "      <td>0.821380</td>\n",
       "    </tr>\n",
       "    <tr>\n",
       "      <th>1</th>\n",
       "      <td>DecisionTreeClassifier</td>\n",
       "      <td>0.583815</td>\n",
       "      <td>0.818025</td>\n",
       "    </tr>\n",
       "    <tr>\n",
       "      <th>13</th>\n",
       "      <td>DecisionTreeClassifier_upsampled</td>\n",
       "      <td>0.556474</td>\n",
       "      <td>0.815623</td>\n",
       "    </tr>\n",
       "    <tr>\n",
       "      <th>3</th>\n",
       "      <td>KNeighborsClassifier</td>\n",
       "      <td>0.546269</td>\n",
       "      <td>0.799184</td>\n",
       "    </tr>\n",
       "    <tr>\n",
       "      <th>21</th>\n",
       "      <td>DecisionTreeClassifier_downsampled</td>\n",
       "      <td>0.546381</td>\n",
       "      <td>0.797886</td>\n",
       "    </tr>\n",
       "    <tr>\n",
       "      <th>25</th>\n",
       "      <td>GaussianNB_downsampled</td>\n",
       "      <td>0.518255</td>\n",
       "      <td>0.788332</td>\n",
       "    </tr>\n",
       "    <tr>\n",
       "      <th>5</th>\n",
       "      <td>GaussianNB</td>\n",
       "      <td>0.447244</td>\n",
       "      <td>0.788304</td>\n",
       "    </tr>\n",
       "    <tr>\n",
       "      <th>17</th>\n",
       "      <td>GaussianNB_upsampled</td>\n",
       "      <td>0.510870</td>\n",
       "      <td>0.788304</td>\n",
       "    </tr>\n",
       "    <tr>\n",
       "      <th>12</th>\n",
       "      <td>LogisticRegression_upsampled</td>\n",
       "      <td>0.491259</td>\n",
       "      <td>0.761203</td>\n",
       "    </tr>\n",
       "    <tr>\n",
       "      <th>20</th>\n",
       "      <td>LogisticRegression_downsampled</td>\n",
       "      <td>0.491259</td>\n",
       "      <td>0.761203</td>\n",
       "    </tr>\n",
       "    <tr>\n",
       "      <th>11</th>\n",
       "      <td>LogisticRegression_upsampled</td>\n",
       "      <td>0.491259</td>\n",
       "      <td>0.761203</td>\n",
       "    </tr>\n",
       "    <tr>\n",
       "      <th>7</th>\n",
       "      <td>LogisticRegression_class_weight</td>\n",
       "      <td>0.490667</td>\n",
       "      <td>0.761157</td>\n",
       "    </tr>\n",
       "    <tr>\n",
       "      <th>19</th>\n",
       "      <td>LogisticRegression_downsampled</td>\n",
       "      <td>0.496503</td>\n",
       "      <td>0.760997</td>\n",
       "    </tr>\n",
       "    <tr>\n",
       "      <th>0</th>\n",
       "      <td>LogisticRegression</td>\n",
       "      <td>0.332130</td>\n",
       "      <td>0.756922</td>\n",
       "    </tr>\n",
       "    <tr>\n",
       "      <th>18</th>\n",
       "      <td>DummyClassifier_upsampled</td>\n",
       "      <td>0.296931</td>\n",
       "      <td>0.508357</td>\n",
       "    </tr>\n",
       "    <tr>\n",
       "      <th>26</th>\n",
       "      <td>DummyClassifier_downsampled</td>\n",
       "      <td>0.296931</td>\n",
       "      <td>0.508357</td>\n",
       "    </tr>\n",
       "    <tr>\n",
       "      <th>6</th>\n",
       "      <td>DummyClassifier</td>\n",
       "      <td>0.171206</td>\n",
       "      <td>0.487603</td>\n",
       "    </tr>\n",
       "  </tbody>\n",
       "</table>\n",
       "</div>"
      ],
      "text/plain": [
       "                                  model        f1  roc-auc score\n",
       "22   RandomForestClassifier_downsampled  0.588571       0.851465\n",
       "14     RandomForestClassifier_upsampled  0.618758       0.848218\n",
       "2                RandomForestClassifier  0.599691       0.846798\n",
       "9   RandomForestClassifier_class_weight  0.624096       0.845564\n",
       "10                     SVC_class_weight  0.594385       0.838072\n",
       "24                      SVC_downsampled  0.570621       0.836081\n",
       "16                        SVC_upsampled  0.586566       0.835951\n",
       "15       KNeighborsClassifier_upsampled  0.567251       0.828387\n",
       "4                                   SVC  0.531092       0.824228\n",
       "8   DecisionTreeClassifier_class_weight  0.562863       0.822582\n",
       "23     KNeighborsClassifier_downsampled  0.557875       0.821380\n",
       "1                DecisionTreeClassifier  0.583815       0.818025\n",
       "13     DecisionTreeClassifier_upsampled  0.556474       0.815623\n",
       "3                  KNeighborsClassifier  0.546269       0.799184\n",
       "21   DecisionTreeClassifier_downsampled  0.546381       0.797886\n",
       "25               GaussianNB_downsampled  0.518255       0.788332\n",
       "5                            GaussianNB  0.447244       0.788304\n",
       "17                 GaussianNB_upsampled  0.510870       0.788304\n",
       "12         LogisticRegression_upsampled  0.491259       0.761203\n",
       "20       LogisticRegression_downsampled  0.491259       0.761203\n",
       "11         LogisticRegression_upsampled  0.491259       0.761203\n",
       "7       LogisticRegression_class_weight  0.490667       0.761157\n",
       "19       LogisticRegression_downsampled  0.496503       0.760997\n",
       "0                    LogisticRegression  0.332130       0.756922\n",
       "18            DummyClassifier_upsampled  0.296931       0.508357\n",
       "26          DummyClassifier_downsampled  0.296931       0.508357\n",
       "6                       DummyClassifier  0.171206       0.487603"
      ]
     },
     "execution_count": 65,
     "metadata": {},
     "output_type": "execute_result"
    }
   ],
   "source": [
    "#выведем на экран таблицу метрик с сортировкой по площади под ROC-кривой\n",
    "\n",
    "score_table.sort_values(by='roc-auc score', ascending=False)"
   ]
  },
  {
   "cell_type": "code",
   "execution_count": 66,
   "id": "2f8f6b54",
   "metadata": {},
   "outputs": [
    {
     "data": {
      "image/png": "[encoded data removed]",
      "text/plain": [
       "<Figure size 720x360 with 1 Axes>"
      ]
     },
     "metadata": {
      "needs_background": "light"
     },
     "output_type": "display_data"
    }
   ],
   "source": [
    "ax = score_table.plot(x='model', y='f1', style='-o', figsize=(10, 5));\n",
    "score_table.plot(x='model', y='roc-auc score', style='-o', ax=ax, figsize=(10, 5));\n",
    "plt.title('Model_scores', fontsize=12)\n",
    "plt.xlabel('Model')\n",
    "plt.ylabel('Value')\n",
    "plt.xticks(np.arange(len(score_table)), score_table['model'])\n",
    "plt.xticks(rotation = 75)\n",
    "plt.show()"
   ]
  },
  {
   "cell_type": "markdown",
   "id": "0799771b",
   "metadata": {},
   "source": [
    "### Выводы"
   ]
  },
  {
   "cell_type": "markdown",
   "id": "6b747608",
   "metadata": {},
   "source": [
    "Проведена балансировка выборки с помощью взвешивания, апсемплинга и даунсемплинга. Большинство рассмотренных методов в рамках данной задачи положительно отзывались на балансировку обучающей выборки. </br>\n",
    "По результатам рассмотрения F1 наилучшие результаты на валидационной выборке показали случайный лес и метод опорных векторов. При этом для случайного леса результаты на сбалансированной \"вручную\" выборке оказались лучше, чем при использовании взвешивания с помощью class_weight, а для SVC - наоборот. </br>\n"
   ]
  },
  {
   "cell_type": "markdown",
   "id": "e992a2e7",
   "metadata": {},
   "source": [
    "### Финальное тестирование"
   ]
  },
  {
   "cell_type": "markdown",
   "id": "597b00c2",
   "metadata": {},
   "source": [
    "Проверим результаты лучшей модели - случайного леса - на тестовой выборке."
   ]
  },
  {
   "cell_type": "code",
   "execution_count": 68,
   "id": "8ca805ef",
   "metadata": {},
   "outputs": [
    {
     "name": "stdout",
     "output_type": "stream",
     "text": [
      "F1 score: 0.6085918854415274\n",
      "ROC-AUC score: 0.8540821252685659\n"
     ]
    }
   ],
   "source": [
    "#проверим результат взвешенной модели на тестовой выборке\n",
    "\n",
    "model = RandomForestClassifier(n_estimators=30, max_depth=10, random_state=17, class_weight='balanced')\n",
    "model.fit(features_train, target_train)\n",
    "predicted_test = model.predict(features_test)\n",
    "print('F1 score:', f1_score(target_test, predicted_test))\n",
    "\n",
    "probabilities_one_test = model.predict_proba(features_test)[:, 1]\n",
    "print('ROC-AUC score:', roc_auc_score(target_test, probabilities_one_test))"
   ]
  },
  {
   "cell_type": "markdown",
   "id": "7697053a",
   "metadata": {},
   "source": [
    "После подбора гиперпараметров удалось достичь F1 = 0.59 на тестовой выборке.</br>\n",
    "Попробуем еще раз обучить модель, используя при этом и обучающую, и валидационную выборки."
   ]
  },
  {
   "cell_type": "code",
   "execution_count": 69,
   "id": "5cc12cd3",
   "metadata": {},
   "outputs": [],
   "source": [
    "#объединяем выборки\n",
    "\n",
    "features_all = pd.concat([features_train] + [features_valid])\n",
    "target_all = pd.concat([target_train] + [target_valid])"
   ]
  },
  {
   "cell_type": "code",
   "execution_count": 70,
   "id": "c19ac05d",
   "metadata": {},
   "outputs": [
    {
     "name": "stdout",
     "output_type": "stream",
     "text": [
      "(6000, 11) (2000, 11) (8000, 11)\n"
     ]
    },
    {
     "data": {
      "text/plain": [
       "0    0.79625\n",
       "1    0.20375\n",
       "Name: exited, dtype: float64"
      ]
     },
     "execution_count": 70,
     "metadata": {},
     "output_type": "execute_result"
    }
   ],
   "source": [
    "#проверяем размеры до и после объединения, проверяем баланс классов\n",
    "\n",
    "print(features_train.shape, features_valid.shape, features_all.shape)\n",
    "target_all.value_counts(normalize=True)"
   ]
  },
  {
   "cell_type": "code",
   "execution_count": 71,
   "id": "a3b17f2c",
   "metadata": {},
   "outputs": [
    {
     "name": "stdout",
     "output_type": "stream",
     "text": [
      "F1 score: 0.6204465334900118\n",
      "ROC-AUC score: 0.8609580304495559\n"
     ]
    }
   ],
   "source": [
    "model = RandomForestClassifier(n_estimators=30, max_depth=10, random_state=17, class_weight='balanced')\n",
    "model.fit(features_all, target_all)\n",
    "predicted_test = model.predict(features_test)\n",
    "print('F1 score:', f1_score(target_test, predicted_test))\n",
    "\n",
    "probabilities_one_test = model.predict_proba(features_test)[:, 1]\n",
    "print('ROC-AUC score:', roc_auc_score(target_test, probabilities_one_test))"
   ]
  },
  {
   "cell_type": "markdown",
   "id": "feaea155",
   "metadata": {},
   "source": [
    "Несмотря на небольшой дисбаланс классов в новой обучающей выборке, результат F1 и ROC-AUC на тестовой выборке удалось улучшить."
   ]
  },
  {
   "cell_type": "code",
   "execution_count": 72,
   "id": "a7710d5e",
   "metadata": {},
   "outputs": [],
   "source": [
    "#посмотрим, какие параметры оказались самыми важными для модели\n",
    "\n",
    "feats = {}\n",
    "for feature, importance in zip(features_downsampled.columns,model.feature_importances_):\n",
    "    feats[feature] = importance\n",
    "feature_importances = pd.DataFrame.from_dict(feats, orient='index').rename(columns={0: 'Importance'})"
   ]
  },
  {
   "cell_type": "code",
   "execution_count": 73,
   "id": "2987ef54",
   "metadata": {},
   "outputs": [
    {
     "data": {
      "text/html": [
       "<div>\n",
       "<style scoped>\n",
       "    .dataframe tbody tr th:only-of-type {\n",
       "        vertical-align: middle;\n",
       "    }\n",
       "\n",
       "    .dataframe tbody tr th {\n",
       "        vertical-align: top;\n",
       "    }\n",
       "\n",
       "    .dataframe thead th {\n",
       "        text-align: right;\n",
       "    }\n",
       "</style>\n",
       "<table border=\"1\" class=\"dataframe\">\n",
       "  <thead>\n",
       "    <tr style=\"text-align: right;\">\n",
       "      <th></th>\n",
       "      <th>Importance</th>\n",
       "    </tr>\n",
       "  </thead>\n",
       "  <tbody>\n",
       "    <tr>\n",
       "      <th>age</th>\n",
       "      <td>0.324606</td>\n",
       "    </tr>\n",
       "    <tr>\n",
       "      <th>numofproducts</th>\n",
       "      <td>0.210883</td>\n",
       "    </tr>\n",
       "    <tr>\n",
       "      <th>balance</th>\n",
       "      <td>0.111624</td>\n",
       "    </tr>\n",
       "    <tr>\n",
       "      <th>estimatedsalary</th>\n",
       "      <td>0.081155</td>\n",
       "    </tr>\n",
       "    <tr>\n",
       "      <th>creditscore</th>\n",
       "      <td>0.080077</td>\n",
       "    </tr>\n",
       "    <tr>\n",
       "      <th>isactivemember</th>\n",
       "      <td>0.053064</td>\n",
       "    </tr>\n",
       "    <tr>\n",
       "      <th>geography_Germany</th>\n",
       "      <td>0.048687</td>\n",
       "    </tr>\n",
       "    <tr>\n",
       "      <th>tenure</th>\n",
       "      <td>0.045703</td>\n",
       "    </tr>\n",
       "    <tr>\n",
       "      <th>gender_Male</th>\n",
       "      <td>0.023381</td>\n",
       "    </tr>\n",
       "    <tr>\n",
       "      <th>hascrcard</th>\n",
       "      <td>0.011355</td>\n",
       "    </tr>\n",
       "    <tr>\n",
       "      <th>geography_Spain</th>\n",
       "      <td>0.009465</td>\n",
       "    </tr>\n",
       "  </tbody>\n",
       "</table>\n",
       "</div>"
      ],
      "text/plain": [
       "                   Importance\n",
       "age                  0.324606\n",
       "numofproducts        0.210883\n",
       "balance              0.111624\n",
       "estimatedsalary      0.081155\n",
       "creditscore          0.080077\n",
       "isactivemember       0.053064\n",
       "geography_Germany    0.048687\n",
       "tenure               0.045703\n",
       "gender_Male          0.023381\n",
       "hascrcard            0.011355\n",
       "geography_Spain      0.009465"
      ]
     },
     "execution_count": 73,
     "metadata": {},
     "output_type": "execute_result"
    }
   ],
   "source": [
    "feature_importances.sort_values(by='Importance', ascending=False)"
   ]
  },
  {
   "cell_type": "markdown",
   "id": "a38d50e7",
   "metadata": {},
   "source": [
    "В дальнейшем можно попробовать улучшить качество модели за счёт удаления \"неважных\" столбцов или другой предобработки важных.</br>"
   ]
  },
  {
   "cell_type": "code",
   "execution_count": 75,
   "id": "af8a6868",
   "metadata": {},
   "outputs": [
    {
     "name": "stdout",
     "output_type": "stream",
     "text": [
      "F1 score: 0.6002460024600246\n",
      "ROC-AUC score: 0.8540250574148879\n"
     ]
    }
   ],
   "source": [
    "#повторим тестирование со случайным лесом для апсемплированной выборки\n",
    "\n",
    "model = RandomForestClassifier(n_estimators=140, max_depth=13, random_state=17)\n",
    "model.fit(features_upsampled, target_upsampled)\n",
    "predicted_test = model.predict(features_test)\n",
    "\n",
    "print('F1 score:', f1_score(target_test, predicted_test))\n",
    "\n",
    "probabilities_one_test = model.predict_proba(features_test)[:, 1]\n",
    "print('ROC-AUC score:', roc_auc_score(target_test, probabilities_one_test))"
   ]
  },
  {
   "cell_type": "code",
   "execution_count": 76,
   "id": "3d5aeb16",
   "metadata": {},
   "outputs": [],
   "source": [
    "features_upsampled_all = pd.concat([features_upsampled] + [features_valid])\n",
    "target_upsampled_all = pd.concat([target_upsampled] + [target_valid])"
   ]
  },
  {
   "cell_type": "code",
   "execution_count": 77,
   "id": "c656b742",
   "metadata": {},
   "outputs": [
    {
     "name": "stdout",
     "output_type": "stream",
     "text": [
      "F1 score: 0.6236559139784947\n",
      "ROC-AUC score: 0.8635507618558466\n"
     ]
    }
   ],
   "source": [
    "model = RandomForestClassifier(n_estimators=70, max_depth=11, random_state=17)\n",
    "model.fit(features_upsampled_all, target_upsampled_all)\n",
    "predicted_test = model.predict(features_test)\n",
    "\n",
    "print('F1 score:', f1_score(target_test, predicted_test))\n",
    "\n",
    "probabilities_one_test = model.predict_proba(features_test)[:, 1]\n",
    "print('ROC-AUC score:', roc_auc_score(target_test, probabilities_one_test))"
   ]
  },
  {
   "cell_type": "code",
   "execution_count": 78,
   "id": "750aee62",
   "metadata": {},
   "outputs": [],
   "source": [
    "#посмотрим, какие параметры оказались самыми важными для модели\n",
    "\n",
    "feats = {}\n",
    "for feature, importance in zip(features_downsampled.columns,model.feature_importances_):\n",
    "    feats[feature] = importance\n",
    "feature_importances = pd.DataFrame.from_dict(feats, orient='index').rename(columns={0: 'Importance'})"
   ]
  },
  {
   "cell_type": "code",
   "execution_count": 79,
   "id": "dc2eda07",
   "metadata": {},
   "outputs": [
    {
     "data": {
      "text/html": [
       "<div>\n",
       "<style scoped>\n",
       "    .dataframe tbody tr th:only-of-type {\n",
       "        vertical-align: middle;\n",
       "    }\n",
       "\n",
       "    .dataframe tbody tr th {\n",
       "        vertical-align: top;\n",
       "    }\n",
       "\n",
       "    .dataframe thead th {\n",
       "        text-align: right;\n",
       "    }\n",
       "</style>\n",
       "<table border=\"1\" class=\"dataframe\">\n",
       "  <thead>\n",
       "    <tr style=\"text-align: right;\">\n",
       "      <th></th>\n",
       "      <th>Importance</th>\n",
       "    </tr>\n",
       "  </thead>\n",
       "  <tbody>\n",
       "    <tr>\n",
       "      <th>age</th>\n",
       "      <td>0.317740</td>\n",
       "    </tr>\n",
       "    <tr>\n",
       "      <th>numofproducts</th>\n",
       "      <td>0.193609</td>\n",
       "    </tr>\n",
       "    <tr>\n",
       "      <th>balance</th>\n",
       "      <td>0.120068</td>\n",
       "    </tr>\n",
       "    <tr>\n",
       "      <th>estimatedsalary</th>\n",
       "      <td>0.087734</td>\n",
       "    </tr>\n",
       "    <tr>\n",
       "      <th>creditscore</th>\n",
       "      <td>0.084732</td>\n",
       "    </tr>\n",
       "    <tr>\n",
       "      <th>isactivemember</th>\n",
       "      <td>0.055180</td>\n",
       "    </tr>\n",
       "    <tr>\n",
       "      <th>tenure</th>\n",
       "      <td>0.051490</td>\n",
       "    </tr>\n",
       "    <tr>\n",
       "      <th>geography_Germany</th>\n",
       "      <td>0.043634</td>\n",
       "    </tr>\n",
       "    <tr>\n",
       "      <th>gender_Male</th>\n",
       "      <td>0.024494</td>\n",
       "    </tr>\n",
       "    <tr>\n",
       "      <th>hascrcard</th>\n",
       "      <td>0.010997</td>\n",
       "    </tr>\n",
       "    <tr>\n",
       "      <th>geography_Spain</th>\n",
       "      <td>0.010323</td>\n",
       "    </tr>\n",
       "  </tbody>\n",
       "</table>\n",
       "</div>"
      ],
      "text/plain": [
       "                   Importance\n",
       "age                  0.317740\n",
       "numofproducts        0.193609\n",
       "balance              0.120068\n",
       "estimatedsalary      0.087734\n",
       "creditscore          0.084732\n",
       "isactivemember       0.055180\n",
       "tenure               0.051490\n",
       "geography_Germany    0.043634\n",
       "gender_Male          0.024494\n",
       "hascrcard            0.010997\n",
       "geography_Spain      0.010323"
      ]
     },
     "execution_count": 79,
     "metadata": {},
     "output_type": "execute_result"
    }
   ],
   "source": [
    "feature_importances.sort_values(by='Importance', ascending=False)"
   ]
  },
  {
   "cell_type": "markdown",
   "id": "a4d7b3a3",
   "metadata": {},
   "source": [
    "При работе с увеличенной выборкой значимость признаков немного поменялась, хотя \"топ-3\" остался неизменным."
   ]
  },
  {
   "cell_type": "markdown",
   "id": "33d75f01",
   "metadata": {},
   "source": [
    "### Выводы"
   ]
  },
  {
   "cell_type": "markdown",
   "id": "03b7a35d",
   "metadata": {},
   "source": [
    "Проведено финальное тестирование модели случайного леса с полученными гиперпараметрами, необходимая точность F1 достигнута.</br>\n",
    "Учшить F1 score позволяет дообучение модели на данных обучающей и валидационной выборок (после построения модели и ее валидации).</br>"
   ]
  },
  {
   "cell_type": "markdown",
   "id": "95301629",
   "metadata": {},
   "source": [
    "## Final resume"
   ]
  },
  {
   "cell_type": "markdown",
   "id": "f39b542b",
   "metadata": {},
   "source": [
    "###### Построена модель, которая на основании исторических данных о поведении клиентов банка предсказывает уйдет ли клиент из банка.\n",
    "В ходе работы были отобраны наиболее важные признаки, проведено прямое кодирование категориальных признаков и масштабирование количественных признаков.</br>\n",
    "Для балансировки классов рассмотрены метод взвешивания, апсемплинга и даунсемплинга.</br>\n",
    "Были рассмотрены шесть моделей:</br>\n",
    "- логистическая регрессию\n",
    "- дерево решений\n",
    "- случайный лес\n",
    "- метод К-ближайших соседей\n",
    "- метод оборных векторов\n",
    "- наивный байесовский классификатор\n",
    "</br></br>\n",
    "\n",
    "\n",
    "Лучшие результаты показали случайный лес и метод опорных векторов.</br>\n",
    "Проведена настройка гиперпараметров для этих двух моделей. Достигнут требуемый порог F1 = 0.59, рассмотрена величина ROC-AUC.</br>\n",
    "Проведена проверка на тестовой выборке, лучший результат на имеющихся данных получен при следующих параметрах:</br>\n",
    "**Модель:** Random Forest Classifier</br>\n",
    "**Параметры:** n_estimators=70, max_depth=11, random_state=17</br>\n",
    "**Обучение:** обучающая выборка с апсемплингом</br>\n",
    "**Полученный результат на тестовой выборке:</br>**\n",
    "**F1 score:** 0.62</br>\n",
    "**ROC-AUC score:** 0.86</br>\n",
    "</br>\n",
    "Проверка на адекватность проводилась сравнением с результатом случайной модели.</br>"
   ]
  },
  {
   "cell_type": "code",
   "execution_count": null,
   "id": "c1f5a5ad",
   "metadata": {},
   "outputs": [],
   "source": []
  }
 ],
 "metadata": {
  "kernelspec": {
   "display_name": "Python 3 (ipykernel)",
   "language": "python",
   "name": "python3"
  },
  "language_info": {
   "codemirror_mode": {
    "name": "ipython",
    "version": 3
   },
   "file_extension": ".py",
   "mimetype": "text/x-python",
   "name": "python",
   "nbconvert_exporter": "python",
   "pygments_lexer": "ipython3",
   "version": "3.9.7"
  },
  "toc": {
   "base_numbering": 1,
   "nav_menu": {},
   "number_sections": true,
   "sideBar": true,
   "skip_h1_title": true,
   "title_cell": "Table of Contents",
   "title_sidebar": "Contents",
   "toc_cell": false,
   "toc_position": {},
   "toc_section_display": true,
   "toc_window_display": false
  }
 },
 "nbformat": 4,
 "nbformat_minor": 5
}
