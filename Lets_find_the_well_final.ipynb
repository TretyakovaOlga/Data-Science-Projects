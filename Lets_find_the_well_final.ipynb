{
 "cells": [
  {
   "cell_type": "markdown",
   "id": "dd113ec3",
   "metadata": {},
   "source": [
    "## Проект: выбор локации для скважины"
   ]
  },
  {
   "cell_type": "markdown",
   "id": "6c969765",
   "metadata": {},
   "source": [
    "**Цель проекта:** на основании предсказаний модели машинного обучения выбрать регион для разработки скважины."
   ]
  },
  {
   "cell_type": "markdown",
   "id": "1ade3b9b",
   "metadata": {},
   "source": [
    "**Порядок выбора локации:**\n",
    "- сбор характеристик для скважин: качество нефти и объём её запасов\n",
    "- построение модели для предсказания объёма запасов в новых скважинах\n",
    "- выбор скважин с самыми высокими оценками значений\n",
    "- определение региона с максимальной суммарной прибылью отобранных скважин"
   ]
  },
  {
   "cell_type": "markdown",
   "id": "1e48bfa6",
   "metadata": {},
   "source": [
    "**Вводные данные:** в нашем распоряжении есть данные о пробах нефти скважин в трёх регионах. Необходимо построить модель и определить регион, в котором добыча принесёт наибольшую прибыль.</br>\n",
    "Данные содержат уникальный номер скважины, её характеристики и объем запасов в тыс. баррелей.</br>\n",
    "</br>\n",
    "Стоимость разработки скважины: 10 млрд. рублей.</br>\n",
    "Стоимость барреля сырой нефти: 450 рублей.</br>"
   ]
  },
  {
   "cell_type": "markdown",
   "id": "9b6f0ecb",
   "metadata": {},
   "source": [
    "**План работы:**\n",
    "- изучение и предобработка данных\n",
    "- построение модели и получение предсказаний\n",
    "- подготовка к расчёту прибыли\n",
    "- расчёт прибыли и рисков"
   ]
  },
  {
   "cell_type": "markdown",
   "id": "dd72708b",
   "metadata": {},
   "source": [
    "### Изучение и предобработка данных"
   ]
  },
  {
   "cell_type": "code",
   "execution_count": 1,
   "id": "422990e6",
   "metadata": {},
   "outputs": [],
   "source": [
    "#импортируем необходимые библиотеки\n",
    "\n",
    "import pandas as pd\n",
    "import numpy as np\n",
    "import pandas_profiling as pp\n",
    "import scipy.stats as st\n",
    "import matplotlib.pyplot as plt\n",
    "from sklearn.model_selection import train_test_split\n",
    "from sklearn.preprocessing import StandardScaler\n",
    "from sklearn.linear_model import LinearRegression\n",
    "from sklearn.metrics import mean_squared_error\n",
    "from sklearn.dummy import DummyClassifier\n",
    "from sklearn.utils import shuffle\n",
    "import seaborn as sns"
   ]
  },
  {
   "cell_type": "code",
   "execution_count": 2,
   "id": "bee7f4a9",
   "metadata": {},
   "outputs": [],
   "source": [
    "#зафиксируем константу random_state\n",
    "\n",
    "RANDOM_STATE = 17"
   ]
  },
  {
   "cell_type": "code",
   "execution_count": 3,
   "id": "e7dcf0c6",
   "metadata": {},
   "outputs": [],
   "source": [
    "#откроем файл с данными\n",
    "\n",
    "try:\n",
    "    region_0 = pd.read_csv('datasets/geo_data_0.csv')\n",
    "    region_1 = pd.read_csv('datasets/geo_data_1.csv')\n",
    "    region_2 = pd.read_csv('datasets/geo_data_2.csv')\n",
    "except FileNotFoundError:\n",
    "    region_0 = pd.read_csv('/datasets/geo_data_0.csv')\n",
    "    region_1 = pd.read_csv('/datasets/geo_data_1.csv')\n",
    "    region_2 = pd.read_csv('/datasets/geo_data_2.csv')"
   ]
  },
  {
   "cell_type": "markdown",
   "id": "0fa5dc3d",
   "metadata": {},
   "source": [
    "Изучим данные о каждом из трёх регионов"
   ]
  },
  {
   "cell_type": "markdown",
   "id": "beef5f3c",
   "metadata": {},
   "source": [
    "### Регион 0: изучение данных "
   ]
  },
  {
   "cell_type": "code",
   "execution_count": 4,
   "id": "36c646ea",
   "metadata": {},
   "outputs": [
    {
     "name": "stdout",
     "output_type": "stream",
     "text": [
      "<class 'pandas.core.frame.DataFrame'>\n",
      "RangeIndex: 100000 entries, 0 to 99999\n",
      "Data columns (total 5 columns):\n",
      " #   Column   Non-Null Count   Dtype  \n",
      "---  ------   --------------   -----  \n",
      " 0   id       100000 non-null  object \n",
      " 1   f0       100000 non-null  float64\n",
      " 2   f1       100000 non-null  float64\n",
      " 3   f2       100000 non-null  float64\n",
      " 4   product  100000 non-null  float64\n",
      "dtypes: float64(4), object(1)\n",
      "memory usage: 3.8+ MB\n"
     ]
    },
    {
     "data": {
      "text/html": [
       "<div>\n",
       "<style scoped>\n",
       "    .dataframe tbody tr th:only-of-type {\n",
       "        vertical-align: middle;\n",
       "    }\n",
       "\n",
       "    .dataframe tbody tr th {\n",
       "        vertical-align: top;\n",
       "    }\n",
       "\n",
       "    .dataframe thead th {\n",
       "        text-align: right;\n",
       "    }\n",
       "</style>\n",
       "<table border=\"1\" class=\"dataframe\">\n",
       "  <thead>\n",
       "    <tr style=\"text-align: right;\">\n",
       "      <th></th>\n",
       "      <th>id</th>\n",
       "      <th>f0</th>\n",
       "      <th>f1</th>\n",
       "      <th>f2</th>\n",
       "      <th>product</th>\n",
       "    </tr>\n",
       "  </thead>\n",
       "  <tbody>\n",
       "    <tr>\n",
       "      <th>0</th>\n",
       "      <td>txEyH</td>\n",
       "      <td>0.705745</td>\n",
       "      <td>-0.497823</td>\n",
       "      <td>1.221170</td>\n",
       "      <td>105.280062</td>\n",
       "    </tr>\n",
       "    <tr>\n",
       "      <th>1</th>\n",
       "      <td>2acmU</td>\n",
       "      <td>1.334711</td>\n",
       "      <td>-0.340164</td>\n",
       "      <td>4.365080</td>\n",
       "      <td>73.037750</td>\n",
       "    </tr>\n",
       "    <tr>\n",
       "      <th>2</th>\n",
       "      <td>409Wp</td>\n",
       "      <td>1.022732</td>\n",
       "      <td>0.151990</td>\n",
       "      <td>1.419926</td>\n",
       "      <td>85.265647</td>\n",
       "    </tr>\n",
       "    <tr>\n",
       "      <th>3</th>\n",
       "      <td>iJLyR</td>\n",
       "      <td>-0.032172</td>\n",
       "      <td>0.139033</td>\n",
       "      <td>2.978566</td>\n",
       "      <td>168.620776</td>\n",
       "    </tr>\n",
       "    <tr>\n",
       "      <th>4</th>\n",
       "      <td>Xdl7t</td>\n",
       "      <td>1.988431</td>\n",
       "      <td>0.155413</td>\n",
       "      <td>4.751769</td>\n",
       "      <td>154.036647</td>\n",
       "    </tr>\n",
       "  </tbody>\n",
       "</table>\n",
       "</div>"
      ],
      "text/plain": [
       "      id        f0        f1        f2     product\n",
       "0  txEyH  0.705745 -0.497823  1.221170  105.280062\n",
       "1  2acmU  1.334711 -0.340164  4.365080   73.037750\n",
       "2  409Wp  1.022732  0.151990  1.419926   85.265647\n",
       "3  iJLyR -0.032172  0.139033  2.978566  168.620776\n",
       "4  Xdl7t  1.988431  0.155413  4.751769  154.036647"
      ]
     },
     "metadata": {},
     "output_type": "display_data"
    },
    {
     "data": {
      "text/plain": [
       "None"
      ]
     },
     "metadata": {},
     "output_type": "display_data"
    },
    {
     "data": {
      "text/html": [
       "<div>\n",
       "<style scoped>\n",
       "    .dataframe tbody tr th:only-of-type {\n",
       "        vertical-align: middle;\n",
       "    }\n",
       "\n",
       "    .dataframe tbody tr th {\n",
       "        vertical-align: top;\n",
       "    }\n",
       "\n",
       "    .dataframe thead th {\n",
       "        text-align: right;\n",
       "    }\n",
       "</style>\n",
       "<table border=\"1\" class=\"dataframe\">\n",
       "  <thead>\n",
       "    <tr style=\"text-align: right;\">\n",
       "      <th></th>\n",
       "      <th>f0</th>\n",
       "      <th>f1</th>\n",
       "      <th>f2</th>\n",
       "      <th>product</th>\n",
       "    </tr>\n",
       "  </thead>\n",
       "  <tbody>\n",
       "    <tr>\n",
       "      <th>count</th>\n",
       "      <td>100000.000000</td>\n",
       "      <td>100000.000000</td>\n",
       "      <td>100000.000000</td>\n",
       "      <td>100000.000000</td>\n",
       "    </tr>\n",
       "    <tr>\n",
       "      <th>mean</th>\n",
       "      <td>0.500419</td>\n",
       "      <td>0.250143</td>\n",
       "      <td>2.502647</td>\n",
       "      <td>92.500000</td>\n",
       "    </tr>\n",
       "    <tr>\n",
       "      <th>std</th>\n",
       "      <td>0.871832</td>\n",
       "      <td>0.504433</td>\n",
       "      <td>3.248248</td>\n",
       "      <td>44.288691</td>\n",
       "    </tr>\n",
       "    <tr>\n",
       "      <th>min</th>\n",
       "      <td>-1.408605</td>\n",
       "      <td>-0.848218</td>\n",
       "      <td>-12.088328</td>\n",
       "      <td>0.000000</td>\n",
       "    </tr>\n",
       "    <tr>\n",
       "      <th>25%</th>\n",
       "      <td>-0.072580</td>\n",
       "      <td>-0.200881</td>\n",
       "      <td>0.287748</td>\n",
       "      <td>56.497507</td>\n",
       "    </tr>\n",
       "    <tr>\n",
       "      <th>50%</th>\n",
       "      <td>0.502360</td>\n",
       "      <td>0.250252</td>\n",
       "      <td>2.515969</td>\n",
       "      <td>91.849972</td>\n",
       "    </tr>\n",
       "    <tr>\n",
       "      <th>75%</th>\n",
       "      <td>1.073581</td>\n",
       "      <td>0.700646</td>\n",
       "      <td>4.715088</td>\n",
       "      <td>128.564089</td>\n",
       "    </tr>\n",
       "    <tr>\n",
       "      <th>max</th>\n",
       "      <td>2.362331</td>\n",
       "      <td>1.343769</td>\n",
       "      <td>16.003790</td>\n",
       "      <td>185.364347</td>\n",
       "    </tr>\n",
       "  </tbody>\n",
       "</table>\n",
       "</div>"
      ],
      "text/plain": [
       "                  f0             f1             f2        product\n",
       "count  100000.000000  100000.000000  100000.000000  100000.000000\n",
       "mean        0.500419       0.250143       2.502647      92.500000\n",
       "std         0.871832       0.504433       3.248248      44.288691\n",
       "min        -1.408605      -0.848218     -12.088328       0.000000\n",
       "25%        -0.072580      -0.200881       0.287748      56.497507\n",
       "50%         0.502360       0.250252       2.515969      91.849972\n",
       "75%         1.073581       0.700646       4.715088     128.564089\n",
       "max         2.362331       1.343769      16.003790     185.364347"
      ]
     },
     "metadata": {},
     "output_type": "display_data"
    }
   ],
   "source": [
    "#общая инфоормация о данных\n",
    "\n",
    "display(region_0.head(), region_0.info(), region_0.describe())"
   ]
  },
  {
   "cell_type": "markdown",
   "id": "efaddf66",
   "metadata": {},
   "source": [
    "В датасете 100 000 записей, пропусков нет. Среднее значение запасов по региону - 92,5 тыс. баррелей с отклонением 44,2."
   ]
  },
  {
   "cell_type": "code",
   "execution_count": 5,
   "id": "bad40735",
   "metadata": {},
   "outputs": [
    {
     "data": {
      "text/plain": [
       "0"
      ]
     },
     "execution_count": 5,
     "metadata": {},
     "output_type": "execute_result"
    }
   ],
   "source": [
    "#проверим полные дубликаты\n",
    "\n",
    "region_0.duplicated().sum()"
   ]
  },
  {
   "cell_type": "code",
   "execution_count": 6,
   "id": "af68ae42",
   "metadata": {},
   "outputs": [
    {
     "data": {
      "text/plain": [
       "id          99990\n",
       "f0         100000\n",
       "f1         100000\n",
       "f2         100000\n",
       "product    100000\n",
       "dtype: int64"
      ]
     },
     "execution_count": 6,
     "metadata": {},
     "output_type": "execute_result"
    }
   ],
   "source": [
    "#и уникальные значения\n",
    "\n",
    "region_0.nunique()"
   ]
  },
  {
   "cell_type": "markdown",
   "id": "ad98aeb5",
   "metadata": {},
   "source": [
    "Здесь мы видим, что для 10 скважин имеется по 2 записи. Поскольку id каждой скважины уникален, двойная запись может означать ошибку. Найдем все записи с дублирующимися id и выведем на экран."
   ]
  },
  {
   "cell_type": "code",
   "execution_count": 7,
   "id": "a18ab4d2",
   "metadata": {},
   "outputs": [
    {
     "data": {
      "text/html": [
       "<div>\n",
       "<style scoped>\n",
       "    .dataframe tbody tr th:only-of-type {\n",
       "        vertical-align: middle;\n",
       "    }\n",
       "\n",
       "    .dataframe tbody tr th {\n",
       "        vertical-align: top;\n",
       "    }\n",
       "\n",
       "    .dataframe thead th {\n",
       "        text-align: right;\n",
       "    }\n",
       "</style>\n",
       "<table border=\"1\" class=\"dataframe\">\n",
       "  <thead>\n",
       "    <tr style=\"text-align: right;\">\n",
       "      <th></th>\n",
       "      <th>id</th>\n",
       "      <th>f0</th>\n",
       "      <th>f1</th>\n",
       "      <th>f2</th>\n",
       "      <th>product</th>\n",
       "    </tr>\n",
       "  </thead>\n",
       "  <tbody>\n",
       "    <tr>\n",
       "      <th>66136</th>\n",
       "      <td>74z30</td>\n",
       "      <td>1.084962</td>\n",
       "      <td>-0.312358</td>\n",
       "      <td>6.990771</td>\n",
       "      <td>127.643327</td>\n",
       "    </tr>\n",
       "    <tr>\n",
       "      <th>64022</th>\n",
       "      <td>74z30</td>\n",
       "      <td>0.741456</td>\n",
       "      <td>0.459229</td>\n",
       "      <td>5.153109</td>\n",
       "      <td>140.771492</td>\n",
       "    </tr>\n",
       "    <tr>\n",
       "      <th>51970</th>\n",
       "      <td>A5aEY</td>\n",
       "      <td>-0.180335</td>\n",
       "      <td>0.935548</td>\n",
       "      <td>-2.094773</td>\n",
       "      <td>33.020205</td>\n",
       "    </tr>\n",
       "    <tr>\n",
       "      <th>3389</th>\n",
       "      <td>A5aEY</td>\n",
       "      <td>-0.039949</td>\n",
       "      <td>0.156872</td>\n",
       "      <td>0.209861</td>\n",
       "      <td>89.249364</td>\n",
       "    </tr>\n",
       "    <tr>\n",
       "      <th>69163</th>\n",
       "      <td>AGS9W</td>\n",
       "      <td>-0.933795</td>\n",
       "      <td>0.116194</td>\n",
       "      <td>-3.655896</td>\n",
       "      <td>19.230453</td>\n",
       "    </tr>\n",
       "    <tr>\n",
       "      <th>42529</th>\n",
       "      <td>AGS9W</td>\n",
       "      <td>1.454747</td>\n",
       "      <td>-0.479651</td>\n",
       "      <td>0.683380</td>\n",
       "      <td>126.370504</td>\n",
       "    </tr>\n",
       "    <tr>\n",
       "      <th>931</th>\n",
       "      <td>HZww2</td>\n",
       "      <td>0.755284</td>\n",
       "      <td>0.368511</td>\n",
       "      <td>1.863211</td>\n",
       "      <td>30.681774</td>\n",
       "    </tr>\n",
       "    <tr>\n",
       "      <th>7530</th>\n",
       "      <td>HZww2</td>\n",
       "      <td>1.061194</td>\n",
       "      <td>-0.373969</td>\n",
       "      <td>10.430210</td>\n",
       "      <td>158.828695</td>\n",
       "    </tr>\n",
       "    <tr>\n",
       "      <th>63593</th>\n",
       "      <td>QcMuo</td>\n",
       "      <td>0.635635</td>\n",
       "      <td>-0.473422</td>\n",
       "      <td>0.862670</td>\n",
       "      <td>64.578675</td>\n",
       "    </tr>\n",
       "    <tr>\n",
       "      <th>1949</th>\n",
       "      <td>QcMuo</td>\n",
       "      <td>0.506563</td>\n",
       "      <td>-0.323775</td>\n",
       "      <td>-2.215583</td>\n",
       "      <td>75.496502</td>\n",
       "    </tr>\n",
       "    <tr>\n",
       "      <th>75715</th>\n",
       "      <td>Tdehs</td>\n",
       "      <td>0.112079</td>\n",
       "      <td>0.430296</td>\n",
       "      <td>3.218993</td>\n",
       "      <td>60.964018</td>\n",
       "    </tr>\n",
       "    <tr>\n",
       "      <th>21426</th>\n",
       "      <td>Tdehs</td>\n",
       "      <td>0.829407</td>\n",
       "      <td>0.298807</td>\n",
       "      <td>-0.049563</td>\n",
       "      <td>96.035308</td>\n",
       "    </tr>\n",
       "    <tr>\n",
       "      <th>92341</th>\n",
       "      <td>TtcGQ</td>\n",
       "      <td>0.110711</td>\n",
       "      <td>1.022689</td>\n",
       "      <td>0.911381</td>\n",
       "      <td>101.318008</td>\n",
       "    </tr>\n",
       "    <tr>\n",
       "      <th>60140</th>\n",
       "      <td>TtcGQ</td>\n",
       "      <td>0.569276</td>\n",
       "      <td>-0.104876</td>\n",
       "      <td>6.440215</td>\n",
       "      <td>85.350186</td>\n",
       "    </tr>\n",
       "    <tr>\n",
       "      <th>89582</th>\n",
       "      <td>bsk9y</td>\n",
       "      <td>0.398908</td>\n",
       "      <td>-0.400253</td>\n",
       "      <td>10.122376</td>\n",
       "      <td>163.433078</td>\n",
       "    </tr>\n",
       "    <tr>\n",
       "      <th>97785</th>\n",
       "      <td>bsk9y</td>\n",
       "      <td>0.378429</td>\n",
       "      <td>0.005837</td>\n",
       "      <td>0.160827</td>\n",
       "      <td>160.637302</td>\n",
       "    </tr>\n",
       "    <tr>\n",
       "      <th>41724</th>\n",
       "      <td>bxg6G</td>\n",
       "      <td>-0.823752</td>\n",
       "      <td>0.546319</td>\n",
       "      <td>3.630479</td>\n",
       "      <td>93.007798</td>\n",
       "    </tr>\n",
       "    <tr>\n",
       "      <th>1364</th>\n",
       "      <td>bxg6G</td>\n",
       "      <td>0.411645</td>\n",
       "      <td>0.856830</td>\n",
       "      <td>-3.653440</td>\n",
       "      <td>73.604260</td>\n",
       "    </tr>\n",
       "    <tr>\n",
       "      <th>16633</th>\n",
       "      <td>fiKDv</td>\n",
       "      <td>0.157341</td>\n",
       "      <td>1.028359</td>\n",
       "      <td>5.585586</td>\n",
       "      <td>95.817889</td>\n",
       "    </tr>\n",
       "    <tr>\n",
       "      <th>90815</th>\n",
       "      <td>fiKDv</td>\n",
       "      <td>0.049883</td>\n",
       "      <td>0.841313</td>\n",
       "      <td>6.394613</td>\n",
       "      <td>137.346586</td>\n",
       "    </tr>\n",
       "  </tbody>\n",
       "</table>\n",
       "</div>"
      ],
      "text/plain": [
       "          id        f0        f1         f2     product\n",
       "66136  74z30  1.084962 -0.312358   6.990771  127.643327\n",
       "64022  74z30  0.741456  0.459229   5.153109  140.771492\n",
       "51970  A5aEY -0.180335  0.935548  -2.094773   33.020205\n",
       "3389   A5aEY -0.039949  0.156872   0.209861   89.249364\n",
       "69163  AGS9W -0.933795  0.116194  -3.655896   19.230453\n",
       "42529  AGS9W  1.454747 -0.479651   0.683380  126.370504\n",
       "931    HZww2  0.755284  0.368511   1.863211   30.681774\n",
       "7530   HZww2  1.061194 -0.373969  10.430210  158.828695\n",
       "63593  QcMuo  0.635635 -0.473422   0.862670   64.578675\n",
       "1949   QcMuo  0.506563 -0.323775  -2.215583   75.496502\n",
       "75715  Tdehs  0.112079  0.430296   3.218993   60.964018\n",
       "21426  Tdehs  0.829407  0.298807  -0.049563   96.035308\n",
       "92341  TtcGQ  0.110711  1.022689   0.911381  101.318008\n",
       "60140  TtcGQ  0.569276 -0.104876   6.440215   85.350186\n",
       "89582  bsk9y  0.398908 -0.400253  10.122376  163.433078\n",
       "97785  bsk9y  0.378429  0.005837   0.160827  160.637302\n",
       "41724  bxg6G -0.823752  0.546319   3.630479   93.007798\n",
       "1364   bxg6G  0.411645  0.856830  -3.653440   73.604260\n",
       "16633  fiKDv  0.157341  1.028359   5.585586   95.817889\n",
       "90815  fiKDv  0.049883  0.841313   6.394613  137.346586"
      ]
     },
     "execution_count": 7,
     "metadata": {},
     "output_type": "execute_result"
    }
   ],
   "source": [
    "id_duplicated_0 = list(region_0[region_0['id'].duplicated() == True]['id'])\n",
    "region_0.query('id == @id_duplicated_0').sort_values(by='id')"
   ]
  },
  {
   "cell_type": "markdown",
   "id": "3ff223ab",
   "metadata": {},
   "source": [
    "Под каждым уникальным id по две разные записи, которые по виду не выбиваются из общей массы. Возможно, измерения производились дважды и в датасете остались оба измерения, возможно, номер id был присвоен неверно. В любом случае, одна из этих записей не соответствует действительности - мы не знаем какая. Поэтому проще удалить все дубликаты по id, чтобы в обучение не попали ошибочные строки - по объему данных это составит сотые доли датасета."
   ]
  },
  {
   "cell_type": "code",
   "execution_count": 8,
   "id": "4bef8fb1",
   "metadata": {},
   "outputs": [],
   "source": [
    "region_0 = region_0.query('id != @id_duplicated_0')"
   ]
  },
  {
   "cell_type": "code",
   "execution_count": 9,
   "id": "83ca60e7",
   "metadata": {},
   "outputs": [
    {
     "data": {
      "image/png": "[encoded data removed]",
      "text/plain": [
       "<Figure size 432x288 with 1 Axes>"
      ]
     },
     "metadata": {
      "needs_background": "light"
     },
     "output_type": "display_data"
    }
   ],
   "source": [
    "#выведем на экран распределение целевого признака и признаков\n",
    "\n",
    "region_0['product'].hist(bins=60, grid=True);\n",
    "plt.title('Well volume histogram for Region 0', fontsize=12)\n",
    "plt.xlabel('Well volume [barrels]')\n",
    "plt.ylabel('Density')\n",
    "plt.show()"
   ]
  },
  {
   "cell_type": "code",
   "execution_count": 10,
   "id": "5314aa62",
   "metadata": {},
   "outputs": [
    {
     "data": {
      "image/png": "[encoded data removed]",
      "text/plain": [
       "<Figure size 432x288 with 1 Axes>"
      ]
     },
     "metadata": {
      "needs_background": "light"
     },
     "output_type": "display_data"
    }
   ],
   "source": [
    "ax = region_0['f0'].hist(bins=100, alpha=0.7, legend=True);\n",
    "region_0['f1'].hist(bins=100, alpha=0.7, legend=True);\n",
    "plt.title('Features for Region 0', fontsize=12)\n",
    "plt.xlabel('Values')\n",
    "plt.ylabel('Density')\n",
    "plt.show()"
   ]
  },
  {
   "cell_type": "code",
   "execution_count": 11,
   "id": "fdc79b4a",
   "metadata": {},
   "outputs": [
    {
     "data": {
      "image/png": "[encoded data removed]",
      "text/plain": [
       "<Figure size 432x288 with 1 Axes>"
      ]
     },
     "metadata": {
      "needs_background": "light"
     },
     "output_type": "display_data"
    }
   ],
   "source": [
    "region_0['f2'].plot(kind='hist', bins=100, alpha=0.7, legend=True);\n",
    "#region_0['f2'].plot(kind='density');\n",
    "plt.title('Features for Region 0', fontsize=12)\n",
    "plt.xlabel('Values')\n",
    "plt.ylabel('Density')\n",
    "plt.show()"
   ]
  },
  {
   "cell_type": "markdown",
   "id": "289807c9",
   "metadata": {},
   "source": [
    "Видим, что распределение, похожее на нормальное, имеет только один признак, f2, - вероятно, это какая-то природная, случайная характеристика, которую можно измерить в непрерывном диапазоне. Признаки f1 и f2 имеют достаточно специфический профиль с четко выраженными пиками - возможно, здесь мы видим суперпозицию нескольких распределений для разных видов скважин.</br>\n",
    "Зубчатый профиль целевого признака связан, вероятно, с особенностями определения запасов и округления тех или иных измерений. Возможно, у разных типов скважин есть свой \"характерный\" запас и при отображении запаса всего региона мы также видим суперпозицию нескольких распределений."
   ]
  },
  {
   "cell_type": "code",
   "execution_count": 12,
   "id": "6f21d329",
   "metadata": {},
   "outputs": [
    {
     "data": {
      "text/html": [
       "<div>\n",
       "<style scoped>\n",
       "    .dataframe tbody tr th:only-of-type {\n",
       "        vertical-align: middle;\n",
       "    }\n",
       "\n",
       "    .dataframe tbody tr th {\n",
       "        vertical-align: top;\n",
       "    }\n",
       "\n",
       "    .dataframe thead th {\n",
       "        text-align: right;\n",
       "    }\n",
       "</style>\n",
       "<table border=\"1\" class=\"dataframe\">\n",
       "  <thead>\n",
       "    <tr style=\"text-align: right;\">\n",
       "      <th></th>\n",
       "      <th>f0</th>\n",
       "      <th>f1</th>\n",
       "      <th>f2</th>\n",
       "      <th>product</th>\n",
       "    </tr>\n",
       "  </thead>\n",
       "  <tbody>\n",
       "    <tr>\n",
       "      <th>f0</th>\n",
       "      <td>1.000000</td>\n",
       "      <td>-0.440724</td>\n",
       "      <td>-0.003204</td>\n",
       "      <td>0.143504</td>\n",
       "    </tr>\n",
       "    <tr>\n",
       "      <th>f1</th>\n",
       "      <td>-0.440724</td>\n",
       "      <td>1.000000</td>\n",
       "      <td>0.001783</td>\n",
       "      <td>-0.192338</td>\n",
       "    </tr>\n",
       "    <tr>\n",
       "      <th>f2</th>\n",
       "      <td>-0.003204</td>\n",
       "      <td>0.001783</td>\n",
       "      <td>1.000000</td>\n",
       "      <td>0.483628</td>\n",
       "    </tr>\n",
       "    <tr>\n",
       "      <th>product</th>\n",
       "      <td>0.143504</td>\n",
       "      <td>-0.192338</td>\n",
       "      <td>0.483628</td>\n",
       "      <td>1.000000</td>\n",
       "    </tr>\n",
       "  </tbody>\n",
       "</table>\n",
       "</div>"
      ],
      "text/plain": [
       "               f0        f1        f2   product\n",
       "f0       1.000000 -0.440724 -0.003204  0.143504\n",
       "f1      -0.440724  1.000000  0.001783 -0.192338\n",
       "f2      -0.003204  0.001783  1.000000  0.483628\n",
       "product  0.143504 -0.192338  0.483628  1.000000"
      ]
     },
     "execution_count": 12,
     "metadata": {},
     "output_type": "execute_result"
    }
   ],
   "source": [
    "#также посмотрим корреляцию\n",
    "\n",
    "region_0.corr()"
   ]
  },
  {
   "cell_type": "code",
   "execution_count": 13,
   "id": "e5a80676",
   "metadata": {},
   "outputs": [
    {
     "data": {
      "image/png": "[encoded data removed]",
      "text/plain": [
       "<Figure size 720x360 with 2 Axes>"
      ]
     },
     "metadata": {
      "needs_background": "light"
     },
     "output_type": "display_data"
    }
   ],
   "source": [
    "#и график корреляции между наиболее \"сильным\" признаком и целевым признаком\n",
    "\n",
    "region_0.plot.hexbin(x='f2', y='product', alpha=0.7, figsize=(10,5));\n",
    "plt.title('Correlation between f2 and target', fontsize=12)\n",
    "plt.xlabel('f2')\n",
    "plt.ylabel('Product [traget]')\n",
    "plt.show()"
   ]
  },
  {
   "cell_type": "markdown",
   "id": "90b88d57",
   "metadata": {},
   "source": [
    "Здесь заметны те же равномерные структуры, что и на гистограмме целевого признака. В реальной задаче стоило бы уточнить их происхождение - возможно, есть потеря части данных или предобработка, которая усложнит обучение модели в дальнейшем.</br>\n",
    "Поскольку задача модельная, продолжаем анализировать as is :)"
   ]
  },
  {
   "cell_type": "markdown",
   "id": "8e958b88",
   "metadata": {},
   "source": [
    "Сделаем то же самое для двух других регионов (включая удаление небольшого количества дубликатов неясной природы)."
   ]
  },
  {
   "cell_type": "markdown",
   "id": "d2a48df9",
   "metadata": {},
   "source": [
    "### Регион 1: изучение данных"
   ]
  },
  {
   "cell_type": "code",
   "execution_count": 14,
   "id": "15fe13f0",
   "metadata": {},
   "outputs": [
    {
     "name": "stdout",
     "output_type": "stream",
     "text": [
      "<class 'pandas.core.frame.DataFrame'>\n",
      "RangeIndex: 100000 entries, 0 to 99999\n",
      "Data columns (total 5 columns):\n",
      " #   Column   Non-Null Count   Dtype  \n",
      "---  ------   --------------   -----  \n",
      " 0   id       100000 non-null  object \n",
      " 1   f0       100000 non-null  float64\n",
      " 2   f1       100000 non-null  float64\n",
      " 3   f2       100000 non-null  float64\n",
      " 4   product  100000 non-null  float64\n",
      "dtypes: float64(4), object(1)\n",
      "memory usage: 3.8+ MB\n"
     ]
    },
    {
     "data": {
      "text/html": [
       "<div>\n",
       "<style scoped>\n",
       "    .dataframe tbody tr th:only-of-type {\n",
       "        vertical-align: middle;\n",
       "    }\n",
       "\n",
       "    .dataframe tbody tr th {\n",
       "        vertical-align: top;\n",
       "    }\n",
       "\n",
       "    .dataframe thead th {\n",
       "        text-align: right;\n",
       "    }\n",
       "</style>\n",
       "<table border=\"1\" class=\"dataframe\">\n",
       "  <thead>\n",
       "    <tr style=\"text-align: right;\">\n",
       "      <th></th>\n",
       "      <th>id</th>\n",
       "      <th>f0</th>\n",
       "      <th>f1</th>\n",
       "      <th>f2</th>\n",
       "      <th>product</th>\n",
       "    </tr>\n",
       "  </thead>\n",
       "  <tbody>\n",
       "    <tr>\n",
       "      <th>0</th>\n",
       "      <td>kBEdx</td>\n",
       "      <td>-15.001348</td>\n",
       "      <td>-8.276000</td>\n",
       "      <td>-0.005876</td>\n",
       "      <td>3.179103</td>\n",
       "    </tr>\n",
       "    <tr>\n",
       "      <th>1</th>\n",
       "      <td>62mP7</td>\n",
       "      <td>14.272088</td>\n",
       "      <td>-3.475083</td>\n",
       "      <td>0.999183</td>\n",
       "      <td>26.953261</td>\n",
       "    </tr>\n",
       "    <tr>\n",
       "      <th>2</th>\n",
       "      <td>vyE1P</td>\n",
       "      <td>6.263187</td>\n",
       "      <td>-5.948386</td>\n",
       "      <td>5.001160</td>\n",
       "      <td>134.766305</td>\n",
       "    </tr>\n",
       "    <tr>\n",
       "      <th>3</th>\n",
       "      <td>KcrkZ</td>\n",
       "      <td>-13.081196</td>\n",
       "      <td>-11.506057</td>\n",
       "      <td>4.999415</td>\n",
       "      <td>137.945408</td>\n",
       "    </tr>\n",
       "    <tr>\n",
       "      <th>4</th>\n",
       "      <td>AHL4O</td>\n",
       "      <td>12.702195</td>\n",
       "      <td>-8.147433</td>\n",
       "      <td>5.004363</td>\n",
       "      <td>134.766305</td>\n",
       "    </tr>\n",
       "  </tbody>\n",
       "</table>\n",
       "</div>"
      ],
      "text/plain": [
       "      id         f0         f1        f2     product\n",
       "0  kBEdx -15.001348  -8.276000 -0.005876    3.179103\n",
       "1  62mP7  14.272088  -3.475083  0.999183   26.953261\n",
       "2  vyE1P   6.263187  -5.948386  5.001160  134.766305\n",
       "3  KcrkZ -13.081196 -11.506057  4.999415  137.945408\n",
       "4  AHL4O  12.702195  -8.147433  5.004363  134.766305"
      ]
     },
     "metadata": {},
     "output_type": "display_data"
    },
    {
     "data": {
      "text/plain": [
       "None"
      ]
     },
     "metadata": {},
     "output_type": "display_data"
    },
    {
     "data": {
      "text/html": [
       "<div>\n",
       "<style scoped>\n",
       "    .dataframe tbody tr th:only-of-type {\n",
       "        vertical-align: middle;\n",
       "    }\n",
       "\n",
       "    .dataframe tbody tr th {\n",
       "        vertical-align: top;\n",
       "    }\n",
       "\n",
       "    .dataframe thead th {\n",
       "        text-align: right;\n",
       "    }\n",
       "</style>\n",
       "<table border=\"1\" class=\"dataframe\">\n",
       "  <thead>\n",
       "    <tr style=\"text-align: right;\">\n",
       "      <th></th>\n",
       "      <th>f0</th>\n",
       "      <th>f1</th>\n",
       "      <th>f2</th>\n",
       "      <th>product</th>\n",
       "    </tr>\n",
       "  </thead>\n",
       "  <tbody>\n",
       "    <tr>\n",
       "      <th>count</th>\n",
       "      <td>100000.000000</td>\n",
       "      <td>100000.000000</td>\n",
       "      <td>100000.000000</td>\n",
       "      <td>100000.000000</td>\n",
       "    </tr>\n",
       "    <tr>\n",
       "      <th>mean</th>\n",
       "      <td>1.141296</td>\n",
       "      <td>-4.796579</td>\n",
       "      <td>2.494541</td>\n",
       "      <td>68.825000</td>\n",
       "    </tr>\n",
       "    <tr>\n",
       "      <th>std</th>\n",
       "      <td>8.965932</td>\n",
       "      <td>5.119872</td>\n",
       "      <td>1.703572</td>\n",
       "      <td>45.944423</td>\n",
       "    </tr>\n",
       "    <tr>\n",
       "      <th>min</th>\n",
       "      <td>-31.609576</td>\n",
       "      <td>-26.358598</td>\n",
       "      <td>-0.018144</td>\n",
       "      <td>0.000000</td>\n",
       "    </tr>\n",
       "    <tr>\n",
       "      <th>25%</th>\n",
       "      <td>-6.298551</td>\n",
       "      <td>-8.267985</td>\n",
       "      <td>1.000021</td>\n",
       "      <td>26.953261</td>\n",
       "    </tr>\n",
       "    <tr>\n",
       "      <th>50%</th>\n",
       "      <td>1.153055</td>\n",
       "      <td>-4.813172</td>\n",
       "      <td>2.011479</td>\n",
       "      <td>57.085625</td>\n",
       "    </tr>\n",
       "    <tr>\n",
       "      <th>75%</th>\n",
       "      <td>8.621015</td>\n",
       "      <td>-1.332816</td>\n",
       "      <td>3.999904</td>\n",
       "      <td>107.813044</td>\n",
       "    </tr>\n",
       "    <tr>\n",
       "      <th>max</th>\n",
       "      <td>29.421755</td>\n",
       "      <td>18.734063</td>\n",
       "      <td>5.019721</td>\n",
       "      <td>137.945408</td>\n",
       "    </tr>\n",
       "  </tbody>\n",
       "</table>\n",
       "</div>"
      ],
      "text/plain": [
       "                  f0             f1             f2        product\n",
       "count  100000.000000  100000.000000  100000.000000  100000.000000\n",
       "mean        1.141296      -4.796579       2.494541      68.825000\n",
       "std         8.965932       5.119872       1.703572      45.944423\n",
       "min       -31.609576     -26.358598      -0.018144       0.000000\n",
       "25%        -6.298551      -8.267985       1.000021      26.953261\n",
       "50%         1.153055      -4.813172       2.011479      57.085625\n",
       "75%         8.621015      -1.332816       3.999904     107.813044\n",
       "max        29.421755      18.734063       5.019721     137.945408"
      ]
     },
     "metadata": {},
     "output_type": "display_data"
    }
   ],
   "source": [
    "#выведем на экран основную информацию\n",
    "\n",
    "display(region_1.head(), region_1.info(), region_1.describe())"
   ]
  },
  {
   "cell_type": "code",
   "execution_count": 15,
   "id": "91612490",
   "metadata": {},
   "outputs": [
    {
     "data": {
      "text/plain": [
       "0"
      ]
     },
     "execution_count": 15,
     "metadata": {},
     "output_type": "execute_result"
    }
   ],
   "source": [
    "#проверим полные дубликаты\n",
    "\n",
    "region_1.duplicated().sum()"
   ]
  },
  {
   "cell_type": "code",
   "execution_count": 16,
   "id": "0fb7554a",
   "metadata": {},
   "outputs": [
    {
     "data": {
      "text/plain": [
       "id          99996\n",
       "f0         100000\n",
       "f1         100000\n",
       "f2         100000\n",
       "product        12\n",
       "dtype: int64"
      ]
     },
     "execution_count": 16,
     "metadata": {},
     "output_type": "execute_result"
    }
   ],
   "source": [
    "#проверим уникальные значения\n",
    "\n",
    "region_1.nunique()"
   ]
  },
  {
   "cell_type": "code",
   "execution_count": 17,
   "id": "606273b1",
   "metadata": {},
   "outputs": [],
   "source": [
    "#выведем id с дубликатами, удалим их\n",
    "\n",
    "id_duplicated_1 = list(region_1[region_1['id'].duplicated() == True]['id'])\n",
    "region_1.query('id == @id_duplicated_1').sort_values(by='id')\n",
    "region_1 = region_1.query('id != @id_duplicated_1')"
   ]
  },
  {
   "cell_type": "markdown",
   "id": "c91d1c99",
   "metadata": {},
   "source": [
    "При проверке уникальных значений оказалось, что у f2 всего 12 уникальных значений (хотя в предыдущем регионе это был признак с 100 000 уникальных значений и распределением, визуально близким к нормальному).</br>\n",
    "Посмотрим ниже, как пробы распределены по этим значениям, построим гистограмму."
   ]
  },
  {
   "cell_type": "code",
   "execution_count": 18,
   "id": "d084b60e",
   "metadata": {},
   "outputs": [
    {
     "data": {
      "text/plain": [
       "product\n",
       "0.000000      8235\n",
       "3.179103      8336\n",
       "26.953261     8468\n",
       "30.132364     8306\n",
       "53.906522     8472\n",
       "57.085625     8388\n",
       "80.859783     8319\n",
       "84.038886     8430\n",
       "107.813044    8200\n",
       "110.992147    8302\n",
       "134.766305    8303\n",
       "137.945408    8233\n",
       "Name: id, dtype: int64"
      ]
     },
     "execution_count": 18,
     "metadata": {},
     "output_type": "execute_result"
    }
   ],
   "source": [
    "region_1.groupby('product')['id'].count()"
   ]
  },
  {
   "cell_type": "code",
   "execution_count": 19,
   "id": "520abdee",
   "metadata": {},
   "outputs": [
    {
     "data": {
      "image/png": "[encoded data removed]",
      "text/plain": [
       "<Figure size 432x288 with 1 Axes>"
      ]
     },
     "metadata": {
      "needs_background": "light"
     },
     "output_type": "display_data"
    }
   ],
   "source": [
    "region_1['product'].hist(bins=140);\n",
    "plt.title('Well volume histogram for Region 1', fontsize=12)\n",
    "plt.xlabel('Well volume [barrels]')\n",
    "plt.ylabel('Density')\n",
    "plt.show()"
   ]
  },
  {
   "cell_type": "markdown",
   "id": "dc241585",
   "metadata": {},
   "source": [
    "Видим, что 12 значений разбиваются на 6 групп, близких друг к другу по величине, а все пробы распределены между этими группами равномерно. Возможно, речь идет о регионе с несколькими крупными месторождениями, вокруг которых и проводилась разведка. Возможно, при определении объема запасов была допущена ошибка и все данные были округлены к характерным средним значениям для разных видов месторождений (в предыдущем регионе мы уже видели нечто, похожее на суперпозицию пиков).\n",
    "В любом случае, физический смысл таких данных в реальном проекте стоило бы уточнить."
   ]
  },
  {
   "cell_type": "code",
   "execution_count": 20,
   "id": "29915ded",
   "metadata": {},
   "outputs": [
    {
     "data": {
      "image/png": "[encoded data removed]",
      "text/plain": [
       "<Figure size 432x288 with 1 Axes>"
      ]
     },
     "metadata": {
      "needs_background": "light"
     },
     "output_type": "display_data"
    }
   ],
   "source": [
    "#посмотрим на гистограммы признаков\n",
    "\n",
    "region_1['f0'].hist(bins=100, alpha=0.7, legend=True);\n",
    "region_1['f1'].hist(bins=100, alpha=0.7, legend=True);\n",
    "plt.title('Features for Region 0', fontsize=12)\n",
    "plt.xlabel('Values')\n",
    "plt.ylabel('Density')\n",
    "plt.show()"
   ]
  },
  {
   "cell_type": "code",
   "execution_count": 21,
   "id": "94290bc7",
   "metadata": {
    "scrolled": true
   },
   "outputs": [
    {
     "data": {
      "image/png": "[encoded data removed]",
      "text/plain": [
       "<Figure size 432x288 with 1 Axes>"
      ]
     },
     "metadata": {
      "needs_background": "light"
     },
     "output_type": "display_data"
    }
   ],
   "source": [
    "region_1['f2'].hist(bins=15, legend=True);\n",
    "plt.title('Features for Region 0', fontsize=12)\n",
    "plt.xlabel('Values')\n",
    "plt.ylabel('Density')\n",
    "plt.show()"
   ]
  },
  {
   "cell_type": "markdown",
   "id": "c4f795fe",
   "metadata": {},
   "source": [
    "Для f2 видим ту же структуру (но помним, что построена она на 100 000 уникальных значений). Разведка на одних и тех же точках? В любом случае стоило бы уточнить."
   ]
  },
  {
   "cell_type": "code",
   "execution_count": 22,
   "id": "d01b42de",
   "metadata": {},
   "outputs": [
    {
     "data": {
      "text/html": [
       "<div>\n",
       "<style scoped>\n",
       "    .dataframe tbody tr th:only-of-type {\n",
       "        vertical-align: middle;\n",
       "    }\n",
       "\n",
       "    .dataframe tbody tr th {\n",
       "        vertical-align: top;\n",
       "    }\n",
       "\n",
       "    .dataframe thead th {\n",
       "        text-align: right;\n",
       "    }\n",
       "</style>\n",
       "<table border=\"1\" class=\"dataframe\">\n",
       "  <thead>\n",
       "    <tr style=\"text-align: right;\">\n",
       "      <th></th>\n",
       "      <th>f0</th>\n",
       "      <th>f1</th>\n",
       "      <th>f2</th>\n",
       "      <th>product</th>\n",
       "    </tr>\n",
       "  </thead>\n",
       "  <tbody>\n",
       "    <tr>\n",
       "      <th>f0</th>\n",
       "      <td>1.000000</td>\n",
       "      <td>0.182263</td>\n",
       "      <td>-0.001821</td>\n",
       "      <td>-0.030534</td>\n",
       "    </tr>\n",
       "    <tr>\n",
       "      <th>f1</th>\n",
       "      <td>0.182263</td>\n",
       "      <td>1.000000</td>\n",
       "      <td>-0.002608</td>\n",
       "      <td>-0.010167</td>\n",
       "    </tr>\n",
       "    <tr>\n",
       "      <th>f2</th>\n",
       "      <td>-0.001821</td>\n",
       "      <td>-0.002608</td>\n",
       "      <td>1.000000</td>\n",
       "      <td>0.999397</td>\n",
       "    </tr>\n",
       "    <tr>\n",
       "      <th>product</th>\n",
       "      <td>-0.030534</td>\n",
       "      <td>-0.010167</td>\n",
       "      <td>0.999397</td>\n",
       "      <td>1.000000</td>\n",
       "    </tr>\n",
       "  </tbody>\n",
       "</table>\n",
       "</div>"
      ],
      "text/plain": [
       "               f0        f1        f2   product\n",
       "f0       1.000000  0.182263 -0.001821 -0.030534\n",
       "f1       0.182263  1.000000 -0.002608 -0.010167\n",
       "f2      -0.001821 -0.002608  1.000000  0.999397\n",
       "product -0.030534 -0.010167  0.999397  1.000000"
      ]
     },
     "execution_count": 22,
     "metadata": {},
     "output_type": "execute_result"
    }
   ],
   "source": [
    "#смотрм корреляцию\n",
    "\n",
    "region_1.corr()"
   ]
  },
  {
   "cell_type": "code",
   "execution_count": 23,
   "id": "396c5876",
   "metadata": {},
   "outputs": [
    {
     "data": {
      "image/png": "[encoded data removed]",
      "text/plain": [
       "<Figure size 432x288 with 1 Axes>"
      ]
     },
     "metadata": {
      "needs_background": "light"
     },
     "output_type": "display_data"
    }
   ],
   "source": [
    "region_1.plot.scatter(x='f2', y='product');\n",
    "plt.title('Correlation between f2 and target', fontsize=12)\n",
    "plt.xlabel('f2')\n",
    "plt.ylabel('Product [traget]')\n",
    "plt.show()"
   ]
  },
  {
   "cell_type": "markdown",
   "id": "b6f01e8e",
   "metadata": {},
   "source": [
    "Корреляция между признаком 'f2' и целевым признаком практически 100%. То есть признаки f0 и f1 фактически не будут задействованы в прогнозировании (мы сможем это посмотреть по коэффициентам линейной регрессии)."
   ]
  },
  {
   "cell_type": "markdown",
   "id": "57a170ba",
   "metadata": {},
   "source": [
    "### Регион 2: изучение данных"
   ]
  },
  {
   "cell_type": "code",
   "execution_count": 24,
   "id": "17fb2a18",
   "metadata": {},
   "outputs": [
    {
     "name": "stdout",
     "output_type": "stream",
     "text": [
      "<class 'pandas.core.frame.DataFrame'>\n",
      "RangeIndex: 100000 entries, 0 to 99999\n",
      "Data columns (total 5 columns):\n",
      " #   Column   Non-Null Count   Dtype  \n",
      "---  ------   --------------   -----  \n",
      " 0   id       100000 non-null  object \n",
      " 1   f0       100000 non-null  float64\n",
      " 2   f1       100000 non-null  float64\n",
      " 3   f2       100000 non-null  float64\n",
      " 4   product  100000 non-null  float64\n",
      "dtypes: float64(4), object(1)\n",
      "memory usage: 3.8+ MB\n"
     ]
    },
    {
     "data": {
      "text/html": [
       "<div>\n",
       "<style scoped>\n",
       "    .dataframe tbody tr th:only-of-type {\n",
       "        vertical-align: middle;\n",
       "    }\n",
       "\n",
       "    .dataframe tbody tr th {\n",
       "        vertical-align: top;\n",
       "    }\n",
       "\n",
       "    .dataframe thead th {\n",
       "        text-align: right;\n",
       "    }\n",
       "</style>\n",
       "<table border=\"1\" class=\"dataframe\">\n",
       "  <thead>\n",
       "    <tr style=\"text-align: right;\">\n",
       "      <th></th>\n",
       "      <th>id</th>\n",
       "      <th>f0</th>\n",
       "      <th>f1</th>\n",
       "      <th>f2</th>\n",
       "      <th>product</th>\n",
       "    </tr>\n",
       "  </thead>\n",
       "  <tbody>\n",
       "    <tr>\n",
       "      <th>0</th>\n",
       "      <td>fwXo0</td>\n",
       "      <td>-1.146987</td>\n",
       "      <td>0.963328</td>\n",
       "      <td>-0.828965</td>\n",
       "      <td>27.758673</td>\n",
       "    </tr>\n",
       "    <tr>\n",
       "      <th>1</th>\n",
       "      <td>WJtFt</td>\n",
       "      <td>0.262778</td>\n",
       "      <td>0.269839</td>\n",
       "      <td>-2.530187</td>\n",
       "      <td>56.069697</td>\n",
       "    </tr>\n",
       "    <tr>\n",
       "      <th>2</th>\n",
       "      <td>ovLUW</td>\n",
       "      <td>0.194587</td>\n",
       "      <td>0.289035</td>\n",
       "      <td>-5.586433</td>\n",
       "      <td>62.871910</td>\n",
       "    </tr>\n",
       "    <tr>\n",
       "      <th>3</th>\n",
       "      <td>q6cA6</td>\n",
       "      <td>2.236060</td>\n",
       "      <td>-0.553760</td>\n",
       "      <td>0.930038</td>\n",
       "      <td>114.572842</td>\n",
       "    </tr>\n",
       "    <tr>\n",
       "      <th>4</th>\n",
       "      <td>WPMUX</td>\n",
       "      <td>-0.515993</td>\n",
       "      <td>1.716266</td>\n",
       "      <td>5.899011</td>\n",
       "      <td>149.600746</td>\n",
       "    </tr>\n",
       "  </tbody>\n",
       "</table>\n",
       "</div>"
      ],
      "text/plain": [
       "      id        f0        f1        f2     product\n",
       "0  fwXo0 -1.146987  0.963328 -0.828965   27.758673\n",
       "1  WJtFt  0.262778  0.269839 -2.530187   56.069697\n",
       "2  ovLUW  0.194587  0.289035 -5.586433   62.871910\n",
       "3  q6cA6  2.236060 -0.553760  0.930038  114.572842\n",
       "4  WPMUX -0.515993  1.716266  5.899011  149.600746"
      ]
     },
     "metadata": {},
     "output_type": "display_data"
    },
    {
     "data": {
      "text/plain": [
       "None"
      ]
     },
     "metadata": {},
     "output_type": "display_data"
    },
    {
     "data": {
      "text/html": [
       "<div>\n",
       "<style scoped>\n",
       "    .dataframe tbody tr th:only-of-type {\n",
       "        vertical-align: middle;\n",
       "    }\n",
       "\n",
       "    .dataframe tbody tr th {\n",
       "        vertical-align: top;\n",
       "    }\n",
       "\n",
       "    .dataframe thead th {\n",
       "        text-align: right;\n",
       "    }\n",
       "</style>\n",
       "<table border=\"1\" class=\"dataframe\">\n",
       "  <thead>\n",
       "    <tr style=\"text-align: right;\">\n",
       "      <th></th>\n",
       "      <th>f0</th>\n",
       "      <th>f1</th>\n",
       "      <th>f2</th>\n",
       "      <th>product</th>\n",
       "    </tr>\n",
       "  </thead>\n",
       "  <tbody>\n",
       "    <tr>\n",
       "      <th>count</th>\n",
       "      <td>100000.000000</td>\n",
       "      <td>100000.000000</td>\n",
       "      <td>100000.000000</td>\n",
       "      <td>100000.000000</td>\n",
       "    </tr>\n",
       "    <tr>\n",
       "      <th>mean</th>\n",
       "      <td>0.002023</td>\n",
       "      <td>-0.002081</td>\n",
       "      <td>2.495128</td>\n",
       "      <td>95.000000</td>\n",
       "    </tr>\n",
       "    <tr>\n",
       "      <th>std</th>\n",
       "      <td>1.732045</td>\n",
       "      <td>1.730417</td>\n",
       "      <td>3.473445</td>\n",
       "      <td>44.749921</td>\n",
       "    </tr>\n",
       "    <tr>\n",
       "      <th>min</th>\n",
       "      <td>-8.760004</td>\n",
       "      <td>-7.084020</td>\n",
       "      <td>-11.970335</td>\n",
       "      <td>0.000000</td>\n",
       "    </tr>\n",
       "    <tr>\n",
       "      <th>25%</th>\n",
       "      <td>-1.162288</td>\n",
       "      <td>-1.174820</td>\n",
       "      <td>0.130359</td>\n",
       "      <td>59.450441</td>\n",
       "    </tr>\n",
       "    <tr>\n",
       "      <th>50%</th>\n",
       "      <td>0.009424</td>\n",
       "      <td>-0.009482</td>\n",
       "      <td>2.484236</td>\n",
       "      <td>94.925613</td>\n",
       "    </tr>\n",
       "    <tr>\n",
       "      <th>75%</th>\n",
       "      <td>1.158535</td>\n",
       "      <td>1.163678</td>\n",
       "      <td>4.858794</td>\n",
       "      <td>130.595027</td>\n",
       "    </tr>\n",
       "    <tr>\n",
       "      <th>max</th>\n",
       "      <td>7.238262</td>\n",
       "      <td>7.844801</td>\n",
       "      <td>16.739402</td>\n",
       "      <td>190.029838</td>\n",
       "    </tr>\n",
       "  </tbody>\n",
       "</table>\n",
       "</div>"
      ],
      "text/plain": [
       "                  f0             f1             f2        product\n",
       "count  100000.000000  100000.000000  100000.000000  100000.000000\n",
       "mean        0.002023      -0.002081       2.495128      95.000000\n",
       "std         1.732045       1.730417       3.473445      44.749921\n",
       "min        -8.760004      -7.084020     -11.970335       0.000000\n",
       "25%        -1.162288      -1.174820       0.130359      59.450441\n",
       "50%         0.009424      -0.009482       2.484236      94.925613\n",
       "75%         1.158535       1.163678       4.858794     130.595027\n",
       "max         7.238262       7.844801      16.739402     190.029838"
      ]
     },
     "metadata": {},
     "output_type": "display_data"
    }
   ],
   "source": [
    "display(region_2.head(), region_2.info(), region_2.describe())"
   ]
  },
  {
   "cell_type": "code",
   "execution_count": 25,
   "id": "028aa808",
   "metadata": {},
   "outputs": [
    {
     "data": {
      "text/plain": [
       "0"
      ]
     },
     "execution_count": 25,
     "metadata": {},
     "output_type": "execute_result"
    }
   ],
   "source": [
    "region_2.duplicated().sum()"
   ]
  },
  {
   "cell_type": "code",
   "execution_count": 26,
   "id": "ab82a254",
   "metadata": {},
   "outputs": [
    {
     "data": {
      "text/plain": [
       "id          99996\n",
       "f0         100000\n",
       "f1         100000\n",
       "f2         100000\n",
       "product    100000\n",
       "dtype: int64"
      ]
     },
     "execution_count": 26,
     "metadata": {},
     "output_type": "execute_result"
    }
   ],
   "source": [
    "region_2.nunique()"
   ]
  },
  {
   "cell_type": "code",
   "execution_count": 27,
   "id": "f4888c84",
   "metadata": {},
   "outputs": [],
   "source": [
    "id_duplicated_2 = list(region_2[region_2['id'].duplicated() == True]['id'])\n",
    "region_2.query('id == @id_duplicated_2').sort_values(by='id')\n",
    "region_2 = region_2.query('id != @id_duplicated_2')"
   ]
  },
  {
   "cell_type": "code",
   "execution_count": 28,
   "id": "61ddf700",
   "metadata": {},
   "outputs": [
    {
     "data": {
      "image/png": "[encoded data removed]",
      "text/plain": [
       "<Figure size 432x288 with 1 Axes>"
      ]
     },
     "metadata": {
      "needs_background": "light"
     },
     "output_type": "display_data"
    }
   ],
   "source": [
    "region_2['product'].hist(bins=50);\n",
    "plt.title('Well volume histogram for Region 2', fontsize=12)\n",
    "plt.xlabel('Well volume [barrels]')\n",
    "plt.ylabel('Density')\n",
    "plt.show()"
   ]
  },
  {
   "cell_type": "code",
   "execution_count": 29,
   "id": "d7101522",
   "metadata": {},
   "outputs": [
    {
     "data": {
      "image/png": "[encoded data removed]",
      "text/plain": [
       "<Figure size 432x288 with 1 Axes>"
      ]
     },
     "metadata": {
      "needs_background": "light"
     },
     "output_type": "display_data"
    }
   ],
   "source": [
    "region_2['f0'].hist(bins=100, alpha=0.7, legend=True);\n",
    "region_2['f1'].hist(bins=100, alpha=0.7, legend=True);\n",
    "region_2['f2'].hist(bins=100, alpha=0.7, legend=True);\n",
    "plt.title('Features for Region 0', fontsize=12)\n",
    "plt.xlabel('Values')\n",
    "plt.ylabel('Density')\n",
    "plt.show()"
   ]
  },
  {
   "cell_type": "code",
   "execution_count": 30,
   "id": "19d6a735",
   "metadata": {},
   "outputs": [
    {
     "data": {
      "text/html": [
       "<div>\n",
       "<style scoped>\n",
       "    .dataframe tbody tr th:only-of-type {\n",
       "        vertical-align: middle;\n",
       "    }\n",
       "\n",
       "    .dataframe tbody tr th {\n",
       "        vertical-align: top;\n",
       "    }\n",
       "\n",
       "    .dataframe thead th {\n",
       "        text-align: right;\n",
       "    }\n",
       "</style>\n",
       "<table border=\"1\" class=\"dataframe\">\n",
       "  <thead>\n",
       "    <tr style=\"text-align: right;\">\n",
       "      <th></th>\n",
       "      <th>f0</th>\n",
       "      <th>f1</th>\n",
       "      <th>f2</th>\n",
       "      <th>product</th>\n",
       "    </tr>\n",
       "  </thead>\n",
       "  <tbody>\n",
       "    <tr>\n",
       "      <th>f0</th>\n",
       "      <td>1.000000</td>\n",
       "      <td>0.000501</td>\n",
       "      <td>-0.000454</td>\n",
       "      <td>-0.001974</td>\n",
       "    </tr>\n",
       "    <tr>\n",
       "      <th>f1</th>\n",
       "      <td>0.000501</td>\n",
       "      <td>1.000000</td>\n",
       "      <td>0.000763</td>\n",
       "      <td>-0.001046</td>\n",
       "    </tr>\n",
       "    <tr>\n",
       "      <th>f2</th>\n",
       "      <td>-0.000454</td>\n",
       "      <td>0.000763</td>\n",
       "      <td>1.000000</td>\n",
       "      <td>0.445873</td>\n",
       "    </tr>\n",
       "    <tr>\n",
       "      <th>product</th>\n",
       "      <td>-0.001974</td>\n",
       "      <td>-0.001046</td>\n",
       "      <td>0.445873</td>\n",
       "      <td>1.000000</td>\n",
       "    </tr>\n",
       "  </tbody>\n",
       "</table>\n",
       "</div>"
      ],
      "text/plain": [
       "               f0        f1        f2   product\n",
       "f0       1.000000  0.000501 -0.000454 -0.001974\n",
       "f1       0.000501  1.000000  0.000763 -0.001046\n",
       "f2      -0.000454  0.000763  1.000000  0.445873\n",
       "product -0.001974 -0.001046  0.445873  1.000000"
      ]
     },
     "execution_count": 30,
     "metadata": {},
     "output_type": "execute_result"
    }
   ],
   "source": [
    "region_2.corr()"
   ]
  },
  {
   "cell_type": "code",
   "execution_count": 31,
   "id": "903a01dd",
   "metadata": {},
   "outputs": [
    {
     "data": {
      "image/png": "[encoded data removed]",
      "text/plain": [
       "<Figure size 720x360 with 2 Axes>"
      ]
     },
     "metadata": {
      "needs_background": "light"
     },
     "output_type": "display_data"
    }
   ],
   "source": [
    "region_2.plot.hexbin(x='f2', y='product', alpha=0.7, figsize=(10,5));\n",
    "plt.title('Correlation between f2 and target', fontsize=12)\n",
    "plt.xlabel('f2')\n",
    "plt.ylabel('Product [traget]')\n",
    "plt.show()"
   ]
  },
  {
   "cell_type": "markdown",
   "id": "db6265a3",
   "metadata": {},
   "source": [
    "### Выводы"
   ]
  },
  {
   "cell_type": "markdown",
   "id": "8599dfa3",
   "metadata": {},
   "source": [
    "Изучены данные с признаками и объемом запасов нефти в трёх регионах. </br>\n",
    "Удалены дублирующие записи по id (менее 0,1% датасета).</br>\n",
    "Изученные признаки имеют распределения, внешне похожие на нормальные или суперпозиции нормальных распределений.\n",
    "Обнаружена особенность в данных по 'региону 1' - целевые признаки по всем 100 000 объектов дискретны равномерно распределены между 12ю значениями. Корреляция между признаком 'f2' (также имеет дискретный вид) и целевым признаком близка к 100%. Вероятно, требуется уточнение по данным."
   ]
  },
  {
   "cell_type": "markdown",
   "id": "c82a3604",
   "metadata": {},
   "source": [
    "## Построение моделей и получение предсказаний"
   ]
  },
  {
   "cell_type": "markdown",
   "id": "6f40187b",
   "metadata": {},
   "source": [
    "По каждому из регионов разобьем данные на обучающую и валидационную выборки в соотношении 75/25, построим и обучим модель линейной регрессии и получим для нее предсказание."
   ]
  },
  {
   "cell_type": "code",
   "execution_count": 51,
   "id": "ca54bc68",
   "metadata": {},
   "outputs": [],
   "source": [
    "#определим функцию, которая будет разбивать выборку, строить и обучать линейную регрессию, получать предсказания\n",
    "\n",
    "def Linear_Regression_building(region_number):\n",
    "    features = region_number[['f0', 'f1', 'f2']]\n",
    "    target = region_number['product']\n",
    "    features_train, features_valid, target_train, target_valid = (\n",
    "        train_test_split(features, target, test_size=0.25, random_state=RANDOM_STATE))\n",
    "    model = LinearRegression()\n",
    "    model.fit(features_train, target_train)\n",
    "    predictions = model.predict(features_valid)\n",
    "    predict_mean = predictions.mean()\n",
    "    #mean_squared_error = mean_squared_error(target_2_valid, predictions_2) ** 0.5\n",
    "    print('Mean predicted volume, th.barrels:', predict_mean)\n",
    "    print('RMSE, Linear Regression model:', mean_squared_error(target_valid, predictions) ** 0.5)\n",
    "    print()\n",
    "    print('Coefficients for Linear Regression model:')\n",
    "    display(pd.DataFrame(model.coef_, features_train.columns, columns = ['Coeff']))\n",
    "    return target_valid, predictions, predict_mean"
   ]
  },
  {
   "cell_type": "markdown",
   "id": "63bf8412",
   "metadata": {},
   "source": [
    "### Region 0"
   ]
  },
  {
   "cell_type": "code",
   "execution_count": 52,
   "id": "85cb6fc8",
   "metadata": {},
   "outputs": [
    {
     "name": "stdout",
     "output_type": "stream",
     "text": [
      "Mean predicted volume, th.barrels: 92.56856075898735\n",
      "RMSE, Linear Regression model: 37.5486033580986\n",
      "\n",
      "Coefficients for Linear Regression model:\n"
     ]
    },
    {
     "data": {
      "text/html": [
       "<div>\n",
       "<style scoped>\n",
       "    .dataframe tbody tr th:only-of-type {\n",
       "        vertical-align: middle;\n",
       "    }\n",
       "\n",
       "    .dataframe tbody tr th {\n",
       "        vertical-align: top;\n",
       "    }\n",
       "\n",
       "    .dataframe thead th {\n",
       "        text-align: right;\n",
       "    }\n",
       "</style>\n",
       "<table border=\"1\" class=\"dataframe\">\n",
       "  <thead>\n",
       "    <tr style=\"text-align: right;\">\n",
       "      <th></th>\n",
       "      <th>Coeff</th>\n",
       "    </tr>\n",
       "  </thead>\n",
       "  <tbody>\n",
       "    <tr>\n",
       "      <th>f0</th>\n",
       "      <td>3.837242</td>\n",
       "    </tr>\n",
       "    <tr>\n",
       "      <th>f1</th>\n",
       "      <td>-13.940400</td>\n",
       "    </tr>\n",
       "    <tr>\n",
       "      <th>f2</th>\n",
       "      <td>6.616935</td>\n",
       "    </tr>\n",
       "  </tbody>\n",
       "</table>\n",
       "</div>"
      ],
      "text/plain": [
       "        Coeff\n",
       "f0   3.837242\n",
       "f1 -13.940400\n",
       "f2   6.616935"
      ]
     },
     "metadata": {},
     "output_type": "display_data"
    }
   ],
   "source": [
    "target_0_valid, predictions_0, predict_mean_0 = Linear_Regression_building(region_0)"
   ]
  },
  {
   "cell_type": "markdown",
   "id": "61aff49e",
   "metadata": {},
   "source": [
    "### Region 1"
   ]
  },
  {
   "cell_type": "code",
   "execution_count": 53,
   "id": "62a34ec4",
   "metadata": {},
   "outputs": [
    {
     "name": "stdout",
     "output_type": "stream",
     "text": [
      "Mean predicted volume, th.barrels: 68.86804950619829\n",
      "RMSE, Linear Regression model: 0.8828723724611229\n",
      "\n",
      "Coefficients for Linear Regression model:\n"
     ]
    },
    {
     "data": {
      "text/html": [
       "<div>\n",
       "<style scoped>\n",
       "    .dataframe tbody tr th:only-of-type {\n",
       "        vertical-align: middle;\n",
       "    }\n",
       "\n",
       "    .dataframe tbody tr th {\n",
       "        vertical-align: top;\n",
       "    }\n",
       "\n",
       "    .dataframe thead th {\n",
       "        text-align: right;\n",
       "    }\n",
       "</style>\n",
       "<table border=\"1\" class=\"dataframe\">\n",
       "  <thead>\n",
       "    <tr style=\"text-align: right;\">\n",
       "      <th></th>\n",
       "      <th>Coeff</th>\n",
       "    </tr>\n",
       "  </thead>\n",
       "  <tbody>\n",
       "    <tr>\n",
       "      <th>f0</th>\n",
       "      <td>-0.144897</td>\n",
       "    </tr>\n",
       "    <tr>\n",
       "      <th>f1</th>\n",
       "      <td>-0.021606</td>\n",
       "    </tr>\n",
       "    <tr>\n",
       "      <th>f2</th>\n",
       "      <td>26.953619</td>\n",
       "    </tr>\n",
       "  </tbody>\n",
       "</table>\n",
       "</div>"
      ],
      "text/plain": [
       "        Coeff\n",
       "f0  -0.144897\n",
       "f1  -0.021606\n",
       "f2  26.953619"
      ]
     },
     "metadata": {},
     "output_type": "display_data"
    }
   ],
   "source": [
    "target_1_valid, predictions_1, predict_mean_1 = Linear_Regression_building(region_1)"
   ]
  },
  {
   "cell_type": "markdown",
   "id": "ded6375c",
   "metadata": {},
   "source": [
    "### Region 2"
   ]
  },
  {
   "cell_type": "code",
   "execution_count": 54,
   "id": "f6fb6887",
   "metadata": {},
   "outputs": [
    {
     "name": "stdout",
     "output_type": "stream",
     "text": [
      "Region 2\n",
      "Mean predicted volume, th.barrels: 95.0095878883643\n",
      "RMSE, Linear Regression model: 40.06912587453392\n",
      "\n",
      "Coefficients for Linear Regression model:\n"
     ]
    },
    {
     "data": {
      "text/html": [
       "<div>\n",
       "<style scoped>\n",
       "    .dataframe tbody tr th:only-of-type {\n",
       "        vertical-align: middle;\n",
       "    }\n",
       "\n",
       "    .dataframe tbody tr th {\n",
       "        vertical-align: top;\n",
       "    }\n",
       "\n",
       "    .dataframe thead th {\n",
       "        text-align: right;\n",
       "    }\n",
       "</style>\n",
       "<table border=\"1\" class=\"dataframe\">\n",
       "  <thead>\n",
       "    <tr style=\"text-align: right;\">\n",
       "      <th></th>\n",
       "      <th>Coeff</th>\n",
       "    </tr>\n",
       "  </thead>\n",
       "  <tbody>\n",
       "    <tr>\n",
       "      <th>f0</th>\n",
       "      <td>-0.007808</td>\n",
       "    </tr>\n",
       "    <tr>\n",
       "      <th>f1</th>\n",
       "      <td>-0.080677</td>\n",
       "    </tr>\n",
       "    <tr>\n",
       "      <th>f2</th>\n",
       "      <td>5.717832</td>\n",
       "    </tr>\n",
       "  </tbody>\n",
       "</table>\n",
       "</div>"
      ],
      "text/plain": [
       "       Coeff\n",
       "f0 -0.007808\n",
       "f1 -0.080677\n",
       "f2  5.717832"
      ]
     },
     "metadata": {},
     "output_type": "display_data"
    }
   ],
   "source": [
    "print('Region 2')\n",
    "target_2_valid, predictions_2, predict_mean_2 = Linear_Regression_building(region_2)"
   ]
  },
  {
   "cell_type": "markdown",
   "id": "32fb9527",
   "metadata": {},
   "source": [
    "**Выводы:**\n",
    "- построена и обучена модель Линейной Регрессии для каждого из трёх регионов\n",
    "- получены предсказания по каждому из трёх регионов\n",
    "- при сравнении со средним по выборке и по результатам предсказаний, видим, что модель достаточно точно предсказала это значение\n",
    "- для региона 1 получено очень низкое значение RMSE - скорее всего, это связано с дискретностью данных\n",
    "- из коэффициентов, полученных моделями, можем сказать, что для нулевогfо региона наиболее весомым является признак f1 (корреляция - обратная), для первого и второго - f2 (корреляция прямая). Для региона 1 вес коэффициента f2 существенно больше коэффициентов f0 и f1."
   ]
  },
  {
   "cell_type": "markdown",
   "id": "124cf12e",
   "metadata": {},
   "source": [
    "### Подготовка к расчету прибыли"
   ]
  },
  {
   "cell_type": "code",
   "execution_count": 56,
   "id": "fc6f9e2d",
   "metadata": {},
   "outputs": [],
   "source": [
    "#зададим переменные, пересчитав суммы в тыс. рублей\n",
    "\n",
    "development_cost = 10000000\n",
    "cost_per_1000_barr = 450\n",
    "wells_number_for_explore = 500\n",
    "wells_number_for_mining = 200"
   ]
  },
  {
   "cell_type": "markdown",
   "id": "0fa3c0eb",
   "metadata": {},
   "source": [
    "Посчитаем объем продукта, необходимый, чтобы окупить строительство скважины"
   ]
  },
  {
   "cell_type": "code",
   "execution_count": 57,
   "id": "5c8bbd47",
   "metadata": {},
   "outputs": [
    {
     "name": "stdout",
     "output_type": "stream",
     "text": [
      "Product volume needed 22222 barrels\n"
     ]
    }
   ],
   "source": [
    "product_value_needed = development_cost / cost_per_1000_barr\n",
    "print(f'Product volume needed {product_value_needed:.0f} barrels')"
   ]
  },
  {
   "cell_type": "markdown",
   "id": "7a779577",
   "metadata": {},
   "source": [
    "Теперь на основании среднего рассчитаем объем продукта, который можно получить из 200 разрабатываемых точек в каждом регионе"
   ]
  },
  {
   "cell_type": "code",
   "execution_count": 58,
   "id": "6c6e0f9b",
   "metadata": {},
   "outputs": [
    {
     "name": "stdout",
     "output_type": "stream",
     "text": [
      "In average, we can get 18514 barrels from 200 points in region 0\n"
     ]
    }
   ],
   "source": [
    "product_value_predicted_0 = predict_mean_0 * wells_number_for_mining\n",
    "print(f'In average, we can get {product_value_predicted_0:.0f} barrels from 200 points in region 0')"
   ]
  },
  {
   "cell_type": "code",
   "execution_count": 59,
   "id": "7ad646a0",
   "metadata": {},
   "outputs": [
    {
     "name": "stdout",
     "output_type": "stream",
     "text": [
      "In average, we can get 13774 barrels from 200 points in region 1\n"
     ]
    }
   ],
   "source": [
    "product_value_predicted_1 = predict_mean_1 * wells_number_for_mining\n",
    "print(f'In average, we can get {product_value_predicted_1:.0f} barrels from 200 points in region 1')"
   ]
  },
  {
   "cell_type": "code",
   "execution_count": 60,
   "id": "4d67ae64",
   "metadata": {},
   "outputs": [
    {
     "name": "stdout",
     "output_type": "stream",
     "text": [
      "In average, we can get 19002 barrels from 200 points in region 2\n"
     ]
    }
   ],
   "source": [
    "product_value_predicted_2 = predict_mean_2 * wells_number_for_mining\n",
    "print(f'In average, we can get {product_value_predicted_2:.0f} barrels from 200 points in region 2')"
   ]
  },
  {
   "cell_type": "markdown",
   "id": "7bf892a5",
   "metadata": {},
   "source": [
    "**Вывод:** если в каждом из регионов выбрать 200 случайных скважин, средний предполагаемый объем сырья в них будет меньше объема, необходимого, чтобы покрыть расходы на добычу."
   ]
  },
  {
   "cell_type": "markdown",
   "id": "325b3209",
   "metadata": {},
   "source": [
    "### Расчёт прибыли и рисков"
   ]
  },
  {
   "cell_type": "markdown",
   "id": "3744a5c4",
   "metadata": {},
   "source": [
    "Посчитаем прибыль, которую можно получить, если исследовать 500 случайных точек в регионе и выбрать 200 лучших.\n",
    "Применим бутстреп, чтобы оценить среднюю прибыль и 95% доверительный интервал."
   ]
  },
  {
   "cell_type": "code",
   "execution_count": 61,
   "id": "1a694376",
   "metadata": {},
   "outputs": [],
   "source": [
    "state=np.random.RandomState(RANDOM_STATE)"
   ]
  },
  {
   "cell_type": "code",
   "execution_count": 62,
   "id": "b26e0b38",
   "metadata": {},
   "outputs": [],
   "source": [
    "#определим функцию расчёта прибыли\n",
    "\n",
    "def revenue_calc(target, predictions, num_for_explore, num_for_mining):\n",
    "    targets_taken = target.reset_index(drop=True).sample(n=num_for_explore, replace=False, random_state=state)\n",
    "    predictions_sorted = pd.Series(predictions)[targets_taken.index].sort_values(ascending=False)[:num_for_mining]\n",
    "    #predictions_sorted = predictions_taken.sort_values(ascending=False)[:number_of_wells]\n",
    "    product_value = targets_taken[predictions_sorted.index].sum()\n",
    "    region_revenue = product_value * cost_per_1000_barr - development_cost\n",
    "    return region_revenue"
   ]
  },
  {
   "cell_type": "code",
   "execution_count": 64,
   "id": "70a79e66",
   "metadata": {},
   "outputs": [
    {
     "name": "stdout",
     "output_type": "stream",
     "text": [
      "Revenue for region 1, calculated for 200 random potins: 145166 th.RU\n"
     ]
    }
   ],
   "source": [
    "revenue_for_region_1 = revenue_calc(target_1_valid, predictions_1, wells_number_for_explore, wells_number_for_mining)\n",
    "print(f'Revenue for region 1, calculated for 200 random potins: {revenue_for_region_1:.0f} th.RU')"
   ]
  },
  {
   "cell_type": "code",
   "execution_count": 65,
   "id": "86326129",
   "metadata": {},
   "outputs": [
    {
     "name": "stdout",
     "output_type": "stream",
     "text": [
      "Revenue for region 2, calculated for 200 random potins: 314034 th.RU\n"
     ]
    }
   ],
   "source": [
    "revenue_for_region_2 = revenue_calc(target_2_valid, predictions_2, wells_number_for_explore, wells_number_for_mining)\n",
    "print(f'Revenue for region 2, calculated for 200 random potins: {revenue_for_region_2:.0f} th.RU')"
   ]
  },
  {
   "cell_type": "markdown",
   "id": "0f26b1f0",
   "metadata": {},
   "source": [
    "Как видим, с подсчётом прибыли для случайных точек всё хорошо: мы выбираем разведанных 500 скважин, отбираем 200 лучших и остаёмся в плюсе в каждом из трёх регионов. Однако выше мы видели, что средних значений запасов в регионе недостаточно, чтобы покрыть строительство и разработку - значит, существуют такие комбинации скважин, при которых мы не только не заработаем, но и уйдем в минус.</br>\n",
    "Применим технику бутстреп на 1000 шагов, чтобы оценить риски для каждого из регионов."
   ]
  },
  {
   "cell_type": "code",
   "execution_count": 66,
   "id": "00f392c9",
   "metadata": {},
   "outputs": [],
   "source": [
    "#объявим функцию для бутстрепа\n",
    "\n",
    "def bootstrap_1000(target, predictions, num_for_explore, num_for_mining):\n",
    "    values = []\n",
    "    for i in range(1000):\n",
    "        revenue_subsample = revenue_calc(target, predictions, num_for_explore, num_for_mining)\n",
    "        values.append(revenue_subsample)\n",
    "    values = pd.Series(values)\n",
    "    mean = values.mean()\n",
    "    upper = values.quantile(0.975)\n",
    "    lower = values.quantile(0.025)\n",
    "    risks = st.percentileofscore(values, 0)\n",
    "    return mean, upper, lower, risks    "
   ]
  },
  {
   "cell_type": "code",
   "execution_count": 67,
   "id": "c6637831",
   "metadata": {},
   "outputs": [],
   "source": [
    "#получим значения для первого региона\n",
    "\n",
    "mean_0, upper_0, lower_0, risks_0 = bootstrap_1000(target_0_valid, predictions_0, wells_number_for_explore, wells_number_for_mining)"
   ]
  },
  {
   "cell_type": "code",
   "execution_count": 68,
   "id": "5d0119b0",
   "metadata": {},
   "outputs": [
    {
     "name": "stdout",
     "output_type": "stream",
     "text": [
      "Average revenue for Region 0: 430532 th.RU. Confidence 95% interval: [-88947, 927450].\n",
      "Risk of getting negative revenue: 5.20 %\n"
     ]
    }
   ],
   "source": [
    "print(f'Average revenue for Region 0: {mean_0:.0f} th.RU. Confidence 95% interval: [{lower_0:.0f}, {upper_0:.0f}].')\n",
    "print(f'Risk of getting negative revenue: {risks_0:.2f} %')"
   ]
  },
  {
   "cell_type": "code",
   "execution_count": 69,
   "id": "f314cf1d",
   "metadata": {},
   "outputs": [
    {
     "name": "stdout",
     "output_type": "stream",
     "text": [
      "Average revenue for Region 1: 456967 th.RU. Confidence 95% interval: [38154, 840119].\n",
      "Risk of getting negative revenue: 1.40 %\n"
     ]
    }
   ],
   "source": [
    "mean_1, upper_1, lower_1, risks_1 = bootstrap_1000(target_1_valid, predictions_1, wells_number_for_explore, wells_number_for_mining)\n",
    "print(f'Average revenue for Region 1: {mean_1:.0f} th.RU. Confidence 95% interval: [{lower_1:.0f}, {upper_1:.0f}].')\n",
    "print(f'Risk of getting negative revenue: {risks_1:.2f} %')"
   ]
  },
  {
   "cell_type": "code",
   "execution_count": 73,
   "id": "395e75ed",
   "metadata": {},
   "outputs": [
    {
     "name": "stdout",
     "output_type": "stream",
     "text": [
      "Average revenue for Region 2: 408026 th.RU. Confidence 95% interval: [-143822, 915563].\n",
      "Risk of getting negative revenue: 5.60 %\n"
     ]
    }
   ],
   "source": [
    "mean_2, upper_2, lower_2, risks_2 = bootstrap_1000(target_2_valid, predictions_2, wells_number_for_explore, wells_number_for_mining)\n",
    "print(f'Average revenue for Region 2: {mean_2:.0f} th.RU. Confidence 95% interval: [{lower_2:.0f}, {upper_2:.0f}].')\n",
    "print(f'Risk of getting negative revenue: {risks_2:.2f} %')"
   ]
  },
  {
   "cell_type": "markdown",
   "id": "53c823ad",
   "metadata": {},
   "source": [
    "### Выводы: "
   ]
  },
  {
   "cell_type": "markdown",
   "id": "351b14ab",
   "metadata": {},
   "source": [
    "С 95% уверенностью мы можем утверждать, что при реализации аналогичной схемы отбора скважин, регион 1 окажется безубыточным для разработки. Средняя прибыль составит порядка 450 000 тыс. рублей, риск получения отрицательной прибыли - около 1%. Прибыль для регионов 0 и 2 может оказаться отрицательной с риском около 5% и 6% соответственно."
   ]
  },
  {
   "cell_type": "markdown",
   "id": "99786379",
   "metadata": {},
   "source": [
    "## Общий вывод"
   ]
  },
  {
   "cell_type": "markdown",
   "id": "fde1326b",
   "metadata": {},
   "source": [
    "Были рассмотрены данные разведки трёх регионов, для каждого из них построена модель машинного обучения, получены средние значения запасов и прибыли от разработки региона, построен 95% доверительный интервал.</br>\n",
    "Исходя из полученных результатов для разработки рекомендуется регион 1 - как единственный, где с 95% уверенностью мы можем утверждать, что разработка принесёт прибыль и не принесёт убытков.</br>\n",
    "</br>\n",
    "Однако, ввиду специфичности данных для региона 1 в реальной задаче следовало бы уточнить эти особенности и, возможно, применить другую модель для обучения - например модель небинарной классификации.</br>"
   ]
  }
 ],
 "metadata": {
  "ExecuteTimeLog": [
   {
    "duration": 3010,
    "start_time": "2022-07-13T09:01:22.090Z"
   },
   {
    "duration": 3,
    "start_time": "2022-07-13T09:01:25.101Z"
   },
   {
    "duration": 950,
    "start_time": "2022-07-13T09:01:25.106Z"
   },
   {
    "duration": 56,
    "start_time": "2022-07-13T09:01:26.058Z"
   },
   {
    "duration": 59,
    "start_time": "2022-07-13T09:01:26.117Z"
   },
   {
    "duration": 42,
    "start_time": "2022-07-13T09:01:26.178Z"
   },
   {
    "duration": 43,
    "start_time": "2022-07-13T09:01:26.222Z"
   },
   {
    "duration": 12,
    "start_time": "2022-07-13T09:01:26.266Z"
   },
   {
    "duration": 224,
    "start_time": "2022-07-13T09:01:26.279Z"
   },
   {
    "duration": 554,
    "start_time": "2022-07-13T09:01:26.505Z"
   },
   {
    "duration": 283,
    "start_time": "2022-07-13T09:01:27.060Z"
   },
   {
    "duration": 14,
    "start_time": "2022-07-13T09:01:27.356Z"
   },
   {
    "duration": 329,
    "start_time": "2022-07-13T09:01:27.371Z"
   },
   {
    "duration": 60,
    "start_time": "2022-07-13T09:01:27.703Z"
   },
   {
    "duration": 36,
    "start_time": "2022-07-13T09:01:27.765Z"
   },
   {
    "duration": 61,
    "start_time": "2022-07-13T09:01:27.803Z"
   },
   {
    "duration": 29,
    "start_time": "2022-07-13T09:01:27.866Z"
   },
   {
    "duration": 9,
    "start_time": "2022-07-13T09:01:27.897Z"
   },
   {
    "duration": 329,
    "start_time": "2022-07-13T09:01:27.907Z"
   },
   {
    "duration": 485,
    "start_time": "2022-07-13T09:01:28.238Z"
   },
   {
    "duration": 183,
    "start_time": "2022-07-13T09:01:28.725Z"
   },
   {
    "duration": 14,
    "start_time": "2022-07-13T09:01:28.910Z"
   },
   {
    "duration": 374,
    "start_time": "2022-07-13T09:01:28.926Z"
   },
   {
    "duration": 58,
    "start_time": "2022-07-13T09:01:29.302Z"
   },
   {
    "duration": 43,
    "start_time": "2022-07-13T09:01:29.361Z"
   },
   {
    "duration": 67,
    "start_time": "2022-07-13T09:01:29.406Z"
   },
   {
    "duration": 32,
    "start_time": "2022-07-13T09:01:29.475Z"
   },
   {
    "duration": 207,
    "start_time": "2022-07-13T09:01:29.508Z"
   },
   {
    "duration": 602,
    "start_time": "2022-07-13T09:01:29.717Z"
   },
   {
    "duration": 24,
    "start_time": "2022-07-13T09:01:30.321Z"
   },
   {
    "duration": 364,
    "start_time": "2022-07-13T09:01:30.347Z"
   },
   {
    "duration": 4,
    "start_time": "2022-07-13T09:01:30.713Z"
   },
   {
    "duration": 55,
    "start_time": "2022-07-13T09:01:30.719Z"
   },
   {
    "duration": 50,
    "start_time": "2022-07-13T09:01:30.775Z"
   },
   {
    "duration": 119,
    "start_time": "2022-07-13T09:01:30.827Z"
   },
   {
    "duration": 35,
    "start_time": "2022-07-13T09:01:30.947Z"
   },
   {
    "duration": 23,
    "start_time": "2022-07-13T09:01:30.983Z"
   },
   {
    "duration": 18,
    "start_time": "2022-07-13T09:01:31.007Z"
   },
   {
    "duration": 37,
    "start_time": "2022-07-13T09:01:31.026Z"
   },
   {
    "duration": 32,
    "start_time": "2022-07-13T09:01:31.065Z"
   },
   {
    "duration": 149,
    "start_time": "2022-07-13T09:01:31.102Z"
   },
   {
    "duration": 16,
    "start_time": "2022-07-13T09:01:31.253Z"
   },
   {
    "duration": 17,
    "start_time": "2022-07-13T09:01:31.270Z"
   },
   {
    "duration": 16,
    "start_time": "2022-07-13T09:01:31.289Z"
   },
   {
    "duration": 16,
    "start_time": "2022-07-13T09:01:31.307Z"
   },
   {
    "duration": 13,
    "start_time": "2022-07-13T09:01:31.325Z"
   },
   {
    "duration": 24,
    "start_time": "2022-07-13T09:01:31.340Z"
   },
   {
    "duration": 121,
    "start_time": "2022-07-13T09:01:31.366Z"
   },
   {
    "duration": 11,
    "start_time": "2022-07-13T09:01:31.489Z"
   },
   {
    "duration": 3,
    "start_time": "2022-07-13T09:01:31.541Z"
   },
   {
    "duration": 31,
    "start_time": "2022-07-13T09:01:31.546Z"
   },
   {
    "duration": 8,
    "start_time": "2022-07-13T09:01:31.579Z"
   },
   {
    "duration": 6,
    "start_time": "2022-07-13T09:01:31.589Z"
   },
   {
    "duration": 16,
    "start_time": "2022-07-13T09:01:31.596Z"
   },
   {
    "duration": 11,
    "start_time": "2022-07-13T09:01:31.614Z"
   },
   {
    "duration": 5,
    "start_time": "2022-07-13T09:01:31.627Z"
   },
   {
    "duration": 11,
    "start_time": "2022-07-13T09:01:31.633Z"
   },
   {
    "duration": 28,
    "start_time": "2022-07-13T09:01:31.645Z"
   },
   {
    "duration": 11,
    "start_time": "2022-07-13T09:01:31.675Z"
   },
   {
    "duration": 7,
    "start_time": "2022-07-13T09:01:31.688Z"
   },
   {
    "duration": 1676,
    "start_time": "2022-07-13T09:01:31.697Z"
   },
   {
    "duration": 3,
    "start_time": "2022-07-13T09:01:33.375Z"
   },
   {
    "duration": 1677,
    "start_time": "2022-07-13T09:01:33.379Z"
   },
   {
    "duration": 1518,
    "start_time": "2022-07-13T09:01:35.058Z"
   },
   {
    "duration": 4,
    "start_time": "2022-07-13T09:01:36.578Z"
   },
   {
    "duration": 6,
    "start_time": "2022-07-13T09:01:37.190Z"
   },
   {
    "duration": 6,
    "start_time": "2022-07-13T09:01:38.060Z"
   },
   {
    "duration": 7,
    "start_time": "2022-07-13T09:01:38.962Z"
   },
   {
    "duration": 4,
    "start_time": "2022-07-13T09:01:50.669Z"
   },
   {
    "duration": 8,
    "start_time": "2022-07-13T09:01:50.674Z"
   },
   {
    "duration": 855,
    "start_time": "2022-07-13T09:01:50.683Z"
   },
   {
    "duration": 57,
    "start_time": "2022-07-13T09:01:51.540Z"
   },
   {
    "duration": 65,
    "start_time": "2022-07-13T09:01:51.598Z"
   },
   {
    "duration": 39,
    "start_time": "2022-07-13T09:01:51.664Z"
   },
   {
    "duration": 52,
    "start_time": "2022-07-13T09:01:51.705Z"
   },
   {
    "duration": 12,
    "start_time": "2022-07-13T09:01:51.759Z"
   },
   {
    "duration": 196,
    "start_time": "2022-07-13T09:01:51.773Z"
   },
   {
    "duration": 559,
    "start_time": "2022-07-13T09:01:51.971Z"
   },
   {
    "duration": 278,
    "start_time": "2022-07-13T09:01:52.531Z"
   },
   {
    "duration": 13,
    "start_time": "2022-07-13T09:01:52.810Z"
   },
   {
    "duration": 334,
    "start_time": "2022-07-13T09:01:52.824Z"
   },
   {
    "duration": 52,
    "start_time": "2022-07-13T09:01:53.164Z"
   },
   {
    "duration": 56,
    "start_time": "2022-07-13T09:01:53.217Z"
   },
   {
    "duration": 38,
    "start_time": "2022-07-13T09:01:53.275Z"
   },
   {
    "duration": 48,
    "start_time": "2022-07-13T09:01:53.314Z"
   },
   {
    "duration": 11,
    "start_time": "2022-07-13T09:01:53.363Z"
   },
   {
    "duration": 301,
    "start_time": "2022-07-13T09:01:53.375Z"
   },
   {
    "duration": 582,
    "start_time": "2022-07-13T09:01:53.677Z"
   },
   {
    "duration": 184,
    "start_time": "2022-07-13T09:01:54.260Z"
   },
   {
    "duration": 25,
    "start_time": "2022-07-13T09:01:54.446Z"
   },
   {
    "duration": 326,
    "start_time": "2022-07-13T09:01:54.473Z"
   },
   {
    "duration": 63,
    "start_time": "2022-07-13T09:01:54.801Z"
   },
   {
    "duration": 44,
    "start_time": "2022-07-13T09:01:54.866Z"
   },
   {
    "duration": 56,
    "start_time": "2022-07-13T09:01:54.912Z"
   },
   {
    "duration": 31,
    "start_time": "2022-07-13T09:01:54.970Z"
   },
   {
    "duration": 202,
    "start_time": "2022-07-13T09:01:55.002Z"
   },
   {
    "duration": 610,
    "start_time": "2022-07-13T09:01:55.205Z"
   },
   {
    "duration": 14,
    "start_time": "2022-07-13T09:01:55.817Z"
   },
   {
    "duration": 320,
    "start_time": "2022-07-13T09:01:55.848Z"
   },
   {
    "duration": 4,
    "start_time": "2022-07-13T09:01:56.169Z"
   },
   {
    "duration": 13,
    "start_time": "2022-07-13T09:01:56.175Z"
   },
   {
    "duration": 11,
    "start_time": "2022-07-13T09:01:56.189Z"
   },
   {
    "duration": 6,
    "start_time": "2022-07-13T09:01:56.243Z"
   },
   {
    "duration": 112,
    "start_time": "2022-07-13T09:01:56.250Z"
   },
   {
    "duration": 9,
    "start_time": "2022-07-13T09:01:56.364Z"
   },
   {
    "duration": 6,
    "start_time": "2022-07-13T09:01:56.374Z"
   },
   {
    "duration": 11,
    "start_time": "2022-07-13T09:01:56.382Z"
   },
   {
    "duration": 14,
    "start_time": "2022-07-13T09:01:56.395Z"
   },
   {
    "duration": 145,
    "start_time": "2022-07-13T09:01:56.413Z"
   },
   {
    "duration": 19,
    "start_time": "2022-07-13T09:01:56.559Z"
   },
   {
    "duration": 9,
    "start_time": "2022-07-13T09:01:56.580Z"
   },
   {
    "duration": 7,
    "start_time": "2022-07-13T09:01:56.590Z"
   },
   {
    "duration": 18,
    "start_time": "2022-07-13T09:01:56.598Z"
   },
   {
    "duration": 14,
    "start_time": "2022-07-13T09:01:56.617Z"
   },
   {
    "duration": 124,
    "start_time": "2022-07-13T09:01:56.647Z"
   },
   {
    "duration": 20,
    "start_time": "2022-07-13T09:01:56.773Z"
   },
   {
    "duration": 48,
    "start_time": "2022-07-13T09:01:56.795Z"
   },
   {
    "duration": 10,
    "start_time": "2022-07-13T09:01:56.848Z"
   },
   {
    "duration": 12,
    "start_time": "2022-07-13T09:01:56.859Z"
   },
   {
    "duration": 21,
    "start_time": "2022-07-13T09:01:56.872Z"
   },
   {
    "duration": 8,
    "start_time": "2022-07-13T09:01:56.895Z"
   },
   {
    "duration": 20,
    "start_time": "2022-07-13T09:01:56.905Z"
   },
   {
    "duration": 11,
    "start_time": "2022-07-13T09:01:56.926Z"
   },
   {
    "duration": 24,
    "start_time": "2022-07-13T09:01:56.938Z"
   },
   {
    "duration": 10,
    "start_time": "2022-07-13T09:01:56.964Z"
   },
   {
    "duration": 6,
    "start_time": "2022-07-13T09:01:56.975Z"
   },
   {
    "duration": 121,
    "start_time": "2022-07-13T09:01:56.982Z"
   },
   {
    "duration": 4,
    "start_time": "2022-07-13T09:01:57.104Z"
   },
   {
    "duration": 1652,
    "start_time": "2022-07-13T09:01:57.110Z"
   },
   {
    "duration": 3,
    "start_time": "2022-07-13T09:01:58.764Z"
   },
   {
    "duration": 1725,
    "start_time": "2022-07-13T09:01:58.769Z"
   },
   {
    "duration": 1660,
    "start_time": "2022-07-13T09:02:00.496Z"
   },
   {
    "duration": 4,
    "start_time": "2022-07-13T09:02:02.159Z"
   },
   {
    "duration": 17,
    "start_time": "2022-07-13T09:02:02.165Z"
   },
   {
    "duration": 31,
    "start_time": "2022-07-13T09:02:02.184Z"
   },
   {
    "duration": 21,
    "start_time": "2022-07-13T09:02:02.217Z"
   },
   {
    "duration": 4,
    "start_time": "2022-07-13T09:02:09.188Z"
   },
   {
    "duration": 1567,
    "start_time": "2022-07-13T09:02:09.364Z"
   },
   {
    "duration": 3,
    "start_time": "2022-07-13T09:02:10.933Z"
   },
   {
    "duration": 1616,
    "start_time": "2022-07-13T09:02:10.942Z"
   },
   {
    "duration": 1561,
    "start_time": "2022-07-13T09:02:12.560Z"
   },
   {
    "duration": 3,
    "start_time": "2022-07-13T09:02:33.721Z"
   },
   {
    "duration": 1598,
    "start_time": "2022-07-13T09:02:34.756Z"
   },
   {
    "duration": 3,
    "start_time": "2022-07-13T09:02:36.355Z"
   },
   {
    "duration": 1534,
    "start_time": "2022-07-13T09:02:36.360Z"
   },
   {
    "duration": 1580,
    "start_time": "2022-07-13T09:02:37.896Z"
   },
   {
    "duration": 4,
    "start_time": "2022-07-13T09:02:47.595Z"
   },
   {
    "duration": 6,
    "start_time": "2022-07-13T09:02:47.896Z"
   },
   {
    "duration": 7,
    "start_time": "2022-07-13T09:02:48.167Z"
   },
   {
    "duration": 6,
    "start_time": "2022-07-13T09:02:48.464Z"
   },
   {
    "duration": 4,
    "start_time": "2022-07-13T09:02:49.017Z"
   },
   {
    "duration": 1642,
    "start_time": "2022-07-13T09:02:49.265Z"
   },
   {
    "duration": 3,
    "start_time": "2022-07-13T09:02:50.908Z"
   },
   {
    "duration": 1700,
    "start_time": "2022-07-13T09:02:50.913Z"
   },
   {
    "duration": 1602,
    "start_time": "2022-07-13T09:02:52.615Z"
   },
   {
    "duration": 4,
    "start_time": "2022-07-13T09:03:06.599Z"
   },
   {
    "duration": 13,
    "start_time": "2022-07-13T09:03:06.605Z"
   },
   {
    "duration": 1311,
    "start_time": "2022-07-13T09:03:06.620Z"
   },
   {
    "duration": 51,
    "start_time": "2022-07-13T09:03:07.933Z"
   },
   {
    "duration": 42,
    "start_time": "2022-07-13T09:03:07.986Z"
   },
   {
    "duration": 51,
    "start_time": "2022-07-13T09:03:08.030Z"
   },
   {
    "duration": 32,
    "start_time": "2022-07-13T09:03:08.082Z"
   },
   {
    "duration": 37,
    "start_time": "2022-07-13T09:03:08.115Z"
   },
   {
    "duration": 196,
    "start_time": "2022-07-13T09:03:08.155Z"
   },
   {
    "duration": 469,
    "start_time": "2022-07-13T09:03:08.353Z"
   },
   {
    "duration": 313,
    "start_time": "2022-07-13T09:03:08.824Z"
   },
   {
    "duration": 24,
    "start_time": "2022-07-13T09:03:09.138Z"
   },
   {
    "duration": 309,
    "start_time": "2022-07-13T09:03:09.164Z"
   },
   {
    "duration": 45,
    "start_time": "2022-07-13T09:03:09.474Z"
   },
   {
    "duration": 55,
    "start_time": "2022-07-13T09:03:09.520Z"
   },
   {
    "duration": 32,
    "start_time": "2022-07-13T09:03:09.576Z"
   },
   {
    "duration": 44,
    "start_time": "2022-07-13T09:03:09.609Z"
   },
   {
    "duration": 14,
    "start_time": "2022-07-13T09:03:09.655Z"
   },
   {
    "duration": 319,
    "start_time": "2022-07-13T09:03:09.670Z"
   },
   {
    "duration": 582,
    "start_time": "2022-07-13T09:03:09.990Z"
   },
   {
    "duration": 183,
    "start_time": "2022-07-13T09:03:10.573Z"
   },
   {
    "duration": 14,
    "start_time": "2022-07-13T09:03:10.758Z"
   },
   {
    "duration": 270,
    "start_time": "2022-07-13T09:03:10.773Z"
   },
   {
    "duration": 49,
    "start_time": "2022-07-13T09:03:11.047Z"
   },
   {
    "duration": 59,
    "start_time": "2022-07-13T09:03:11.097Z"
   },
   {
    "duration": 40,
    "start_time": "2022-07-13T09:03:11.158Z"
   },
   {
    "duration": 28,
    "start_time": "2022-07-13T09:03:11.200Z"
   },
   {
    "duration": 206,
    "start_time": "2022-07-13T09:03:11.229Z"
   },
   {
    "duration": 626,
    "start_time": "2022-07-13T09:03:11.437Z"
   },
   {
    "duration": 14,
    "start_time": "2022-07-13T09:03:12.065Z"
   },
   {
    "duration": 426,
    "start_time": "2022-07-13T09:03:12.080Z"
   },
   {
    "duration": 5,
    "start_time": "2022-07-13T09:03:12.508Z"
   },
   {
    "duration": 13,
    "start_time": "2022-07-13T09:03:12.515Z"
   },
   {
    "duration": 19,
    "start_time": "2022-07-13T09:03:12.542Z"
   },
   {
    "duration": 4,
    "start_time": "2022-07-13T09:03:12.563Z"
   },
   {
    "duration": 110,
    "start_time": "2022-07-13T09:03:12.641Z"
   },
   {
    "duration": 11,
    "start_time": "2022-07-13T09:03:12.754Z"
   },
   {
    "duration": 8,
    "start_time": "2022-07-13T09:03:12.767Z"
   },
   {
    "duration": 12,
    "start_time": "2022-07-13T09:03:12.777Z"
   },
   {
    "duration": 54,
    "start_time": "2022-07-13T09:03:12.790Z"
   },
   {
    "duration": 101,
    "start_time": "2022-07-13T09:03:12.846Z"
   },
   {
    "duration": 13,
    "start_time": "2022-07-13T09:03:12.949Z"
   },
   {
    "duration": 8,
    "start_time": "2022-07-13T09:03:12.964Z"
   },
   {
    "duration": 6,
    "start_time": "2022-07-13T09:03:12.973Z"
   },
   {
    "duration": 12,
    "start_time": "2022-07-13T09:03:12.980Z"
   },
   {
    "duration": 11,
    "start_time": "2022-07-13T09:03:12.993Z"
   },
   {
    "duration": 6,
    "start_time": "2022-07-13T09:03:13.053Z"
   },
   {
    "duration": 85,
    "start_time": "2022-07-13T09:03:13.060Z"
   },
   {
    "duration": 21,
    "start_time": "2022-07-13T09:03:13.147Z"
   },
   {
    "duration": 4,
    "start_time": "2022-07-13T09:03:13.170Z"
   },
   {
    "duration": 7,
    "start_time": "2022-07-13T09:03:13.176Z"
   },
   {
    "duration": 6,
    "start_time": "2022-07-13T09:03:13.185Z"
   },
   {
    "duration": 6,
    "start_time": "2022-07-13T09:03:13.192Z"
   },
   {
    "duration": 7,
    "start_time": "2022-07-13T09:03:13.199Z"
   },
   {
    "duration": 5,
    "start_time": "2022-07-13T09:03:13.207Z"
   },
   {
    "duration": 7,
    "start_time": "2022-07-13T09:03:13.214Z"
   },
   {
    "duration": 7,
    "start_time": "2022-07-13T09:03:13.222Z"
   },
   {
    "duration": 22,
    "start_time": "2022-07-13T09:03:13.231Z"
   },
   {
    "duration": 13,
    "start_time": "2022-07-13T09:03:13.254Z"
   },
   {
    "duration": 7,
    "start_time": "2022-07-13T09:03:13.268Z"
   },
   {
    "duration": 1620,
    "start_time": "2022-07-13T09:03:13.276Z"
   },
   {
    "duration": 3,
    "start_time": "2022-07-13T09:03:14.898Z"
   },
   {
    "duration": 1538,
    "start_time": "2022-07-13T09:03:14.903Z"
   },
   {
    "duration": 1613,
    "start_time": "2022-07-13T09:03:16.443Z"
   }
  ],
  "kernelspec": {
   "display_name": "Python 3 (ipykernel)",
   "language": "python",
   "name": "python3"
  },
  "language_info": {
   "codemirror_mode": {
    "name": "ipython",
    "version": 3
   },
   "file_extension": ".py",
   "mimetype": "text/x-python",
   "name": "python",
   "nbconvert_exporter": "python",
   "pygments_lexer": "ipython3",
   "version": "3.9.7"
  },
  "toc": {
   "base_numbering": 1,
   "nav_menu": {},
   "number_sections": true,
   "sideBar": true,
   "skip_h1_title": true,
   "title_cell": "Table of Contents",
   "title_sidebar": "Contents",
   "toc_cell": false,
   "toc_position": {},
   "toc_section_display": true,
   "toc_window_display": false
  }
 },
 "nbformat": 4,
 "nbformat_minor": 5
}
