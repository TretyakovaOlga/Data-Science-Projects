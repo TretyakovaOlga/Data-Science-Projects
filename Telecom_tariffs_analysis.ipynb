{
 "cells": [
  {
   "cell_type": "markdown",
   "id": "5678f04b",
   "metadata": {},
   "source": [
    "## Анализ тарифов для оператора связи"
   ]
  },
  {
   "cell_type": "markdown",
   "id": "0852f153",
   "metadata": {},
   "source": [
    "**Задача:** определить тариф с наибольшей доходностью"
   ]
  },
  {
   "cell_type": "markdown",
   "id": "f3387992",
   "metadata": {},
   "source": [
    "### Характиристики тарифов"
   ]
  },
  {
   "cell_type": "markdown",
   "id": "be0343a7",
   "metadata": {},
   "source": [
    "**Тариф «Смарт»**</br>\n",
    "**Ежемесячная плата:** 550 рублей</br>\n",
    "Включено 500 минут разговора, 50 сообщений и 15 Гб интернет-трафика</br>\n",
    "**Стоимость услуг сверх тарифного пакета:**</br>\n",
    "минута разговора: 3 рубля</br>\n",
    "сообщение: 3 рубля</br>\n",
    "1 Гб интернет-трафика: 200 рублей</br>\n",
    "</br>\n",
    "**Тариф «Ультра»**</br>\n",
    "**Ежемесячная плата:** 1950 рублей</br>\n",
    "Включено 3000 минут разговора, 1000 сообщений и 30 Гб интернет-трафика</br>\n",
    "**Стоимость услуг сверх тарифного пакета:**</br>\n",
    "минута разговора: 1 рубль</br>\n",
    "сообщение: 1 рубль</br>\n",
    "1 Гб интернет-трафика: 150 рублей</br>\n",
    "</br>\n",
    "*Звонки округляются до минут, трафик - до гигабайт. Остаток минут, сообщений и трафика сгорает в конце месяца.*"
   ]
  },
  {
   "cell_type": "markdown",
   "id": "aaacd555",
   "metadata": {},
   "source": [
    "### План работы"
   ]
  },
  {
   "cell_type": "markdown",
   "id": "74ac7c98",
   "metadata": {},
   "source": [
    "- первичное знакомство с данными\n",
    "- подготовка данных\n",
    "- анализ поведения пользователей\n",
    "- статистические характеристики тарифов\n",
    "- проверка гипотез"
   ]
  },
  {
   "cell_type": "markdown",
   "id": "06043e02",
   "metadata": {},
   "source": [
    "### Знакомство с данными"
   ]
  },
  {
   "cell_type": "markdown",
   "id": "237b97b9",
   "metadata": {},
   "source": [
    "В нашем распоряжении есть пять файлов с данными о:\n",
    " - тарифах, которые мы анализируем\n",
    " - пользователях </br>\n",
    "и их использовании услуг связи в течение 2018 года:\n",
    "- количестве и длительности их звонков\n",
    "- количестве сообщений\n",
    "- использованном трафике\n",
    "</br>\n",
    "\n",
    "Откроем файлы и посмотрим, какие данные доступны для анализа"
   ]
  },
  {
   "cell_type": "code",
   "execution_count": 1,
   "id": "71530a1d",
   "metadata": {},
   "outputs": [],
   "source": [
    "#импортируем необходимые библиотеки\n",
    "import pandas as pd\n",
    "import numpy as np\n",
    "from scipy import stats as st\n",
    "import matplotlib.pyplot as plt "
   ]
  },
  {
   "cell_type": "code",
   "execution_count": 2,
   "id": "b1bc72b2",
   "metadata": {
    "scrolled": false
   },
   "outputs": [
    {
     "data": {
      "text/html": [
       "<div>\n",
       "<style scoped>\n",
       "    .dataframe tbody tr th:only-of-type {\n",
       "        vertical-align: middle;\n",
       "    }\n",
       "\n",
       "    .dataframe tbody tr th {\n",
       "        vertical-align: top;\n",
       "    }\n",
       "\n",
       "    .dataframe thead th {\n",
       "        text-align: right;\n",
       "    }\n",
       "</style>\n",
       "<table border=\"1\" class=\"dataframe\">\n",
       "  <thead>\n",
       "    <tr style=\"text-align: right;\">\n",
       "      <th></th>\n",
       "      <th>messages_included</th>\n",
       "      <th>mb_per_month_included</th>\n",
       "      <th>minutes_included</th>\n",
       "      <th>rub_monthly_fee</th>\n",
       "      <th>rub_per_gb</th>\n",
       "      <th>rub_per_message</th>\n",
       "      <th>rub_per_minute</th>\n",
       "      <th>tariff_name</th>\n",
       "    </tr>\n",
       "  </thead>\n",
       "  <tbody>\n",
       "    <tr>\n",
       "      <th>0</th>\n",
       "      <td>50</td>\n",
       "      <td>15360</td>\n",
       "      <td>500</td>\n",
       "      <td>550</td>\n",
       "      <td>200</td>\n",
       "      <td>3</td>\n",
       "      <td>3</td>\n",
       "      <td>smart</td>\n",
       "    </tr>\n",
       "    <tr>\n",
       "      <th>1</th>\n",
       "      <td>1000</td>\n",
       "      <td>30720</td>\n",
       "      <td>3000</td>\n",
       "      <td>1950</td>\n",
       "      <td>150</td>\n",
       "      <td>1</td>\n",
       "      <td>1</td>\n",
       "      <td>ultra</td>\n",
       "    </tr>\n",
       "  </tbody>\n",
       "</table>\n",
       "</div>"
      ],
      "text/plain": [
       "   messages_included  mb_per_month_included  minutes_included  \\\n",
       "0                 50                  15360               500   \n",
       "1               1000                  30720              3000   \n",
       "\n",
       "   rub_monthly_fee  rub_per_gb  rub_per_message  rub_per_minute tariff_name  \n",
       "0              550         200                3               3       smart  \n",
       "1             1950         150                1               1       ultra  "
      ]
     },
     "execution_count": 2,
     "metadata": {},
     "output_type": "execute_result"
    }
   ],
   "source": [
    "#посмотрим, какая информация доступна о тарифах\n",
    "\n",
    "try:\n",
    "    tariffs = pd.read_csv('datasets/tariffs.csv')\n",
    "except FileNotFoundError:\n",
    "    tariffs = pd.read_csv('/datasets/tariffs.csv')     \n",
    "\n",
    "tariffs.head()"
   ]
  },
  {
   "cell_type": "code",
   "execution_count": 3,
   "id": "5b105a7f",
   "metadata": {},
   "outputs": [
    {
     "name": "stdout",
     "output_type": "stream",
     "text": [
      "<class 'pandas.core.frame.DataFrame'>\n",
      "RangeIndex: 2 entries, 0 to 1\n",
      "Data columns (total 8 columns):\n",
      " #   Column                 Non-Null Count  Dtype \n",
      "---  ------                 --------------  ----- \n",
      " 0   messages_included      2 non-null      int64 \n",
      " 1   mb_per_month_included  2 non-null      int64 \n",
      " 2   minutes_included       2 non-null      int64 \n",
      " 3   rub_monthly_fee        2 non-null      int64 \n",
      " 4   rub_per_gb             2 non-null      int64 \n",
      " 5   rub_per_message        2 non-null      int64 \n",
      " 6   rub_per_minute         2 non-null      int64 \n",
      " 7   tariff_name            2 non-null      object\n",
      "dtypes: int64(7), object(1)\n",
      "memory usage: 256.0+ bytes\n"
     ]
    }
   ],
   "source": [
    "tariffs.info()"
   ]
  },
  {
   "cell_type": "markdown",
   "id": "5f23a310",
   "metadata": {},
   "source": [
    "В файле с информацией о тарифах всего две строки - одна для тарифа \"Смарт\", вторая для тарифа \"Ультра\". Доступны все основыные характеристики - абонентская плата, объем бесплатного пакета, тарифы на превышение пакета. Доступный трафик указан в Мб."
   ]
  },
  {
   "cell_type": "code",
   "execution_count": 4,
   "id": "6ef05966",
   "metadata": {},
   "outputs": [
    {
     "data": {
      "text/html": [
       "<div>\n",
       "<style scoped>\n",
       "    .dataframe tbody tr th:only-of-type {\n",
       "        vertical-align: middle;\n",
       "    }\n",
       "\n",
       "    .dataframe tbody tr th {\n",
       "        vertical-align: top;\n",
       "    }\n",
       "\n",
       "    .dataframe thead th {\n",
       "        text-align: right;\n",
       "    }\n",
       "</style>\n",
       "<table border=\"1\" class=\"dataframe\">\n",
       "  <thead>\n",
       "    <tr style=\"text-align: right;\">\n",
       "      <th></th>\n",
       "      <th>user_id</th>\n",
       "      <th>age</th>\n",
       "      <th>churn_date</th>\n",
       "      <th>city</th>\n",
       "      <th>first_name</th>\n",
       "      <th>last_name</th>\n",
       "      <th>reg_date</th>\n",
       "      <th>tariff</th>\n",
       "    </tr>\n",
       "  </thead>\n",
       "  <tbody>\n",
       "    <tr>\n",
       "      <th>0</th>\n",
       "      <td>1000</td>\n",
       "      <td>52</td>\n",
       "      <td>NaN</td>\n",
       "      <td>Краснодар</td>\n",
       "      <td>Рафаил</td>\n",
       "      <td>Верещагин</td>\n",
       "      <td>2018-05-25</td>\n",
       "      <td>ultra</td>\n",
       "    </tr>\n",
       "    <tr>\n",
       "      <th>1</th>\n",
       "      <td>1001</td>\n",
       "      <td>41</td>\n",
       "      <td>NaN</td>\n",
       "      <td>Москва</td>\n",
       "      <td>Иван</td>\n",
       "      <td>Ежов</td>\n",
       "      <td>2018-11-01</td>\n",
       "      <td>smart</td>\n",
       "    </tr>\n",
       "    <tr>\n",
       "      <th>2</th>\n",
       "      <td>1002</td>\n",
       "      <td>59</td>\n",
       "      <td>NaN</td>\n",
       "      <td>Стерлитамак</td>\n",
       "      <td>Евгений</td>\n",
       "      <td>Абрамович</td>\n",
       "      <td>2018-06-17</td>\n",
       "      <td>smart</td>\n",
       "    </tr>\n",
       "    <tr>\n",
       "      <th>3</th>\n",
       "      <td>1003</td>\n",
       "      <td>23</td>\n",
       "      <td>NaN</td>\n",
       "      <td>Москва</td>\n",
       "      <td>Белла</td>\n",
       "      <td>Белякова</td>\n",
       "      <td>2018-08-17</td>\n",
       "      <td>ultra</td>\n",
       "    </tr>\n",
       "    <tr>\n",
       "      <th>4</th>\n",
       "      <td>1004</td>\n",
       "      <td>68</td>\n",
       "      <td>NaN</td>\n",
       "      <td>Новокузнецк</td>\n",
       "      <td>Татьяна</td>\n",
       "      <td>Авдеенко</td>\n",
       "      <td>2018-05-14</td>\n",
       "      <td>ultra</td>\n",
       "    </tr>\n",
       "  </tbody>\n",
       "</table>\n",
       "</div>"
      ],
      "text/plain": [
       "   user_id  age churn_date         city first_name  last_name    reg_date  \\\n",
       "0     1000   52        NaN    Краснодар     Рафаил  Верещагин  2018-05-25   \n",
       "1     1001   41        NaN       Москва       Иван       Ежов  2018-11-01   \n",
       "2     1002   59        NaN  Стерлитамак    Евгений  Абрамович  2018-06-17   \n",
       "3     1003   23        NaN       Москва      Белла   Белякова  2018-08-17   \n",
       "4     1004   68        NaN  Новокузнецк    Татьяна   Авдеенко  2018-05-14   \n",
       "\n",
       "  tariff  \n",
       "0  ultra  \n",
       "1  smart  \n",
       "2  smart  \n",
       "3  ultra  \n",
       "4  ultra  "
      ]
     },
     "execution_count": 4,
     "metadata": {},
     "output_type": "execute_result"
    }
   ],
   "source": [
    "#откроем файл с информацией о пользователях\n",
    "\n",
    "try:\n",
    "    users = pd.read_csv('datasets/users.csv')\n",
    "except FileNotFoundError:\n",
    "    users = pd.read_csv('/datasets/users.csv')     \n",
    "\n",
    "users.head()"
   ]
  },
  {
   "cell_type": "code",
   "execution_count": 5,
   "id": "ca3219a9",
   "metadata": {},
   "outputs": [
    {
     "name": "stdout",
     "output_type": "stream",
     "text": [
      "<class 'pandas.core.frame.DataFrame'>\n",
      "RangeIndex: 500 entries, 0 to 499\n",
      "Data columns (total 8 columns):\n",
      " #   Column      Non-Null Count  Dtype \n",
      "---  ------      --------------  ----- \n",
      " 0   user_id     500 non-null    int64 \n",
      " 1   age         500 non-null    int64 \n",
      " 2   churn_date  38 non-null     object\n",
      " 3   city        500 non-null    object\n",
      " 4   first_name  500 non-null    object\n",
      " 5   last_name   500 non-null    object\n",
      " 6   reg_date    500 non-null    object\n",
      " 7   tariff      500 non-null    object\n",
      "dtypes: int64(2), object(6)\n",
      "memory usage: 31.4+ KB\n"
     ]
    }
   ],
   "source": [
    "users.info()"
   ]
  },
  {
   "cell_type": "code",
   "execution_count": 6,
   "id": "976323bd",
   "metadata": {},
   "outputs": [
    {
     "data": {
      "text/plain": [
       "tariff          2\n",
       "churn_date     33\n",
       "age            58\n",
       "city           76\n",
       "first_name    246\n",
       "reg_date      270\n",
       "last_name     419\n",
       "user_id       500\n",
       "dtype: int64"
      ]
     },
     "execution_count": 6,
     "metadata": {},
     "output_type": "execute_result"
    }
   ],
   "source": [
    "#проверим количество уникальных значений\n",
    "users.nunique().sort_values()"
   ]
  },
  {
   "cell_type": "code",
   "execution_count": 7,
   "id": "6f0749f9",
   "metadata": {},
   "outputs": [
    {
     "name": "stdout",
     "output_type": "stream",
     "text": [
      "[18, 19, 20, 21, 22, 23, 24, 25, 26, 27, 28, 29, 30, 31, 32, 33, 34, 35, 36, 37, 38, 39, 40, 41, 42, 43, 44, 45, 46, 47, 48, 49, 50, 51, 52, 53, 54, 55, 56, 57, 58, 59, 60, 61, 62, 63, 64, 65, 66, 67, 68, 69, 70, 71, 72, 73, 74, 75]\n",
      "['Архангельск', 'Астрахань', 'Балашиха', 'Барнаул', 'Белгород', 'Брянск', 'Владивосток', 'Владикавказ', 'Владимир', 'Волгоград', 'Волжский', 'Вологда', 'Воронеж', 'Грозный', 'Екатеринбург', 'Иваново', 'Ижевск', 'Иркутск', 'Казань', 'Калининград', 'Калуга', 'Кемерово', 'Киров', 'Кострома', 'Краснодар', 'Красноярск', 'Курган', 'Курск', 'Липецк', 'Магнитогорск', 'Махачкала', 'Москва', 'Мурманск', 'Набережные Челны', 'Нижневартовск', 'Нижний Новгород', 'Нижний Тагил', 'Новокузнецк', 'Новороссийск', 'Новосибирск', 'Омск', 'Оренбург', 'Орёл', 'Пенза', 'Пермь', 'Петрозаводск', 'Подольск', 'Ростов-на-Дону', 'Рязань', 'Самара', 'Санкт-Петербург', 'Саранск', 'Саратов', 'Севастополь', 'Смоленск', 'Сочи', 'Ставрополь', 'Стерлитамак', 'Сургут', 'Тамбов', 'Тверь', 'Тольятти', 'Томск', 'Тула', 'Тюмень', 'Улан-Удэ', 'Ульяновск', 'Уфа', 'Хабаровск', 'Химки', 'Чебоксары', 'Челябинск', 'Череповец', 'Чита', 'Якутск', 'Ярославль']\n"
     ]
    }
   ],
   "source": [
    "#проверим возраст пользователей на предмет аномальных значений и названия городов - на предмет неявных дубликатов\n",
    "print(sorted(users['age'].unique()))\n",
    "print(sorted(users['city'].unique()))"
   ]
  },
  {
   "cell_type": "markdown",
   "id": "b2d7d8ef",
   "metadata": {},
   "source": [
    "Доступна выборка из 500 пользователей. О каждом известны: имя, фамилия, возраст, город, дата регистрации, используемый тариф, дата окончания контракта, уникальный id. Данные заполнены без пропусков, за исключением колонки churn_date, где пропуск означет, что на 31.12.2018 пользователь продолжал пользоваться тарифом. Возраста и города заполнены без аномалий. Тип данных соответствует содержимому, за исключением столбца с датами регистрации (необходимо преобразовать)."
   ]
  },
  {
   "cell_type": "code",
   "execution_count": 8,
   "id": "68d87bcc",
   "metadata": {},
   "outputs": [
    {
     "data": {
      "text/html": [
       "<div>\n",
       "<style scoped>\n",
       "    .dataframe tbody tr th:only-of-type {\n",
       "        vertical-align: middle;\n",
       "    }\n",
       "\n",
       "    .dataframe tbody tr th {\n",
       "        vertical-align: top;\n",
       "    }\n",
       "\n",
       "    .dataframe thead th {\n",
       "        text-align: right;\n",
       "    }\n",
       "</style>\n",
       "<table border=\"1\" class=\"dataframe\">\n",
       "  <thead>\n",
       "    <tr style=\"text-align: right;\">\n",
       "      <th></th>\n",
       "      <th>id</th>\n",
       "      <th>call_date</th>\n",
       "      <th>duration</th>\n",
       "      <th>user_id</th>\n",
       "    </tr>\n",
       "  </thead>\n",
       "  <tbody>\n",
       "    <tr>\n",
       "      <th>0</th>\n",
       "      <td>1000_0</td>\n",
       "      <td>2018-07-25</td>\n",
       "      <td>0.00</td>\n",
       "      <td>1000</td>\n",
       "    </tr>\n",
       "    <tr>\n",
       "      <th>1</th>\n",
       "      <td>1000_1</td>\n",
       "      <td>2018-08-17</td>\n",
       "      <td>0.00</td>\n",
       "      <td>1000</td>\n",
       "    </tr>\n",
       "    <tr>\n",
       "      <th>2</th>\n",
       "      <td>1000_2</td>\n",
       "      <td>2018-06-11</td>\n",
       "      <td>2.85</td>\n",
       "      <td>1000</td>\n",
       "    </tr>\n",
       "    <tr>\n",
       "      <th>3</th>\n",
       "      <td>1000_3</td>\n",
       "      <td>2018-09-21</td>\n",
       "      <td>13.80</td>\n",
       "      <td>1000</td>\n",
       "    </tr>\n",
       "    <tr>\n",
       "      <th>4</th>\n",
       "      <td>1000_4</td>\n",
       "      <td>2018-12-15</td>\n",
       "      <td>5.18</td>\n",
       "      <td>1000</td>\n",
       "    </tr>\n",
       "  </tbody>\n",
       "</table>\n",
       "</div>"
      ],
      "text/plain": [
       "       id   call_date  duration  user_id\n",
       "0  1000_0  2018-07-25      0.00     1000\n",
       "1  1000_1  2018-08-17      0.00     1000\n",
       "2  1000_2  2018-06-11      2.85     1000\n",
       "3  1000_3  2018-09-21     13.80     1000\n",
       "4  1000_4  2018-12-15      5.18     1000"
      ]
     },
     "metadata": {},
     "output_type": "display_data"
    },
    {
     "data": {
      "text/html": [
       "<div>\n",
       "<style scoped>\n",
       "    .dataframe tbody tr th:only-of-type {\n",
       "        vertical-align: middle;\n",
       "    }\n",
       "\n",
       "    .dataframe tbody tr th {\n",
       "        vertical-align: top;\n",
       "    }\n",
       "\n",
       "    .dataframe thead th {\n",
       "        text-align: right;\n",
       "    }\n",
       "</style>\n",
       "<table border=\"1\" class=\"dataframe\">\n",
       "  <thead>\n",
       "    <tr style=\"text-align: right;\">\n",
       "      <th></th>\n",
       "      <th>id</th>\n",
       "      <th>call_date</th>\n",
       "      <th>duration</th>\n",
       "      <th>user_id</th>\n",
       "    </tr>\n",
       "  </thead>\n",
       "  <tbody>\n",
       "    <tr>\n",
       "      <th>202602</th>\n",
       "      <td>1499_215</td>\n",
       "      <td>2018-12-26</td>\n",
       "      <td>0.76</td>\n",
       "      <td>1499</td>\n",
       "    </tr>\n",
       "    <tr>\n",
       "      <th>202603</th>\n",
       "      <td>1499_216</td>\n",
       "      <td>2018-10-18</td>\n",
       "      <td>18.83</td>\n",
       "      <td>1499</td>\n",
       "    </tr>\n",
       "    <tr>\n",
       "      <th>202604</th>\n",
       "      <td>1499_217</td>\n",
       "      <td>2018-11-10</td>\n",
       "      <td>10.81</td>\n",
       "      <td>1499</td>\n",
       "    </tr>\n",
       "    <tr>\n",
       "      <th>202605</th>\n",
       "      <td>1499_218</td>\n",
       "      <td>2018-10-06</td>\n",
       "      <td>4.27</td>\n",
       "      <td>1499</td>\n",
       "    </tr>\n",
       "    <tr>\n",
       "      <th>202606</th>\n",
       "      <td>1499_219</td>\n",
       "      <td>2018-12-14</td>\n",
       "      <td>19.62</td>\n",
       "      <td>1499</td>\n",
       "    </tr>\n",
       "  </tbody>\n",
       "</table>\n",
       "</div>"
      ],
      "text/plain": [
       "              id   call_date  duration  user_id\n",
       "202602  1499_215  2018-12-26      0.76     1499\n",
       "202603  1499_216  2018-10-18     18.83     1499\n",
       "202604  1499_217  2018-11-10     10.81     1499\n",
       "202605  1499_218  2018-10-06      4.27     1499\n",
       "202606  1499_219  2018-12-14     19.62     1499"
      ]
     },
     "execution_count": 8,
     "metadata": {},
     "output_type": "execute_result"
    }
   ],
   "source": [
    "#изучим информацию о звонках\n",
    "\n",
    "try:\n",
    "    calls = pd.read_csv('datasets/calls.csv')\n",
    "except FileNotFoundError:\n",
    "    calls = pd.read_csv('/datasets/calls.csv')     \n",
    "\n",
    "display(calls.head())\n",
    "calls.tail()"
   ]
  },
  {
   "cell_type": "code",
   "execution_count": 9,
   "id": "c4e976f4",
   "metadata": {},
   "outputs": [
    {
     "name": "stdout",
     "output_type": "stream",
     "text": [
      "<class 'pandas.core.frame.DataFrame'>\n",
      "RangeIndex: 202607 entries, 0 to 202606\n",
      "Data columns (total 4 columns):\n",
      " #   Column     Non-Null Count   Dtype  \n",
      "---  ------     --------------   -----  \n",
      " 0   id         202607 non-null  object \n",
      " 1   call_date  202607 non-null  object \n",
      " 2   duration   202607 non-null  float64\n",
      " 3   user_id    202607 non-null  int64  \n",
      "dtypes: float64(1), int64(1), object(2)\n",
      "memory usage: 6.2+ MB\n"
     ]
    }
   ],
   "source": [
    "calls.info()"
   ]
  },
  {
   "cell_type": "code",
   "execution_count": 10,
   "id": "0c62632c",
   "metadata": {},
   "outputs": [
    {
     "data": {
      "text/plain": [
       "id           202607\n",
       "call_date       365\n",
       "duration       2871\n",
       "user_id         492\n",
       "dtype: int64"
      ]
     },
     "execution_count": 10,
     "metadata": {},
     "output_type": "execute_result"
    }
   ],
   "source": [
    "calls.nunique()"
   ]
  },
  {
   "cell_type": "markdown",
   "id": "bb133d63",
   "metadata": {},
   "source": [
    "Звонки каждого пользователя кодируются с помощью id пользователя и номера звонка. При этом нумеруются звонки не по порядку - их возрастание не соответствует возрастанию дат.</br>\n",
    "Доступно 202607 записей о сделанных звонках, пропущенных значений нет. В записях фигурирует 492 user_id из 500, значит минимум 8 пользователей вообще не совершали звонков в рамках изучаемых тарифов в течение 2018 года.</br>\n",
    "Необходимо преобразовать тип данных для столбца с датами звонков."
   ]
  },
  {
   "cell_type": "code",
   "execution_count": 11,
   "id": "03dc5c9c",
   "metadata": {},
   "outputs": [
    {
     "data": {
      "text/html": [
       "<div>\n",
       "<style scoped>\n",
       "    .dataframe tbody tr th:only-of-type {\n",
       "        vertical-align: middle;\n",
       "    }\n",
       "\n",
       "    .dataframe tbody tr th {\n",
       "        vertical-align: top;\n",
       "    }\n",
       "\n",
       "    .dataframe thead th {\n",
       "        text-align: right;\n",
       "    }\n",
       "</style>\n",
       "<table border=\"1\" class=\"dataframe\">\n",
       "  <thead>\n",
       "    <tr style=\"text-align: right;\">\n",
       "      <th></th>\n",
       "      <th>id</th>\n",
       "      <th>message_date</th>\n",
       "      <th>user_id</th>\n",
       "    </tr>\n",
       "  </thead>\n",
       "  <tbody>\n",
       "    <tr>\n",
       "      <th>0</th>\n",
       "      <td>1000_0</td>\n",
       "      <td>2018-06-27</td>\n",
       "      <td>1000</td>\n",
       "    </tr>\n",
       "    <tr>\n",
       "      <th>1</th>\n",
       "      <td>1000_1</td>\n",
       "      <td>2018-10-08</td>\n",
       "      <td>1000</td>\n",
       "    </tr>\n",
       "    <tr>\n",
       "      <th>2</th>\n",
       "      <td>1000_2</td>\n",
       "      <td>2018-08-04</td>\n",
       "      <td>1000</td>\n",
       "    </tr>\n",
       "    <tr>\n",
       "      <th>3</th>\n",
       "      <td>1000_3</td>\n",
       "      <td>2018-06-16</td>\n",
       "      <td>1000</td>\n",
       "    </tr>\n",
       "    <tr>\n",
       "      <th>4</th>\n",
       "      <td>1000_4</td>\n",
       "      <td>2018-12-05</td>\n",
       "      <td>1000</td>\n",
       "    </tr>\n",
       "  </tbody>\n",
       "</table>\n",
       "</div>"
      ],
      "text/plain": [
       "       id message_date  user_id\n",
       "0  1000_0   2018-06-27     1000\n",
       "1  1000_1   2018-10-08     1000\n",
       "2  1000_2   2018-08-04     1000\n",
       "3  1000_3   2018-06-16     1000\n",
       "4  1000_4   2018-12-05     1000"
      ]
     },
     "metadata": {},
     "output_type": "display_data"
    },
    {
     "data": {
      "text/html": [
       "<div>\n",
       "<style scoped>\n",
       "    .dataframe tbody tr th:only-of-type {\n",
       "        vertical-align: middle;\n",
       "    }\n",
       "\n",
       "    .dataframe tbody tr th {\n",
       "        vertical-align: top;\n",
       "    }\n",
       "\n",
       "    .dataframe thead th {\n",
       "        text-align: right;\n",
       "    }\n",
       "</style>\n",
       "<table border=\"1\" class=\"dataframe\">\n",
       "  <thead>\n",
       "    <tr style=\"text-align: right;\">\n",
       "      <th></th>\n",
       "      <th>id</th>\n",
       "      <th>message_date</th>\n",
       "      <th>user_id</th>\n",
       "    </tr>\n",
       "  </thead>\n",
       "  <tbody>\n",
       "    <tr>\n",
       "      <th>123031</th>\n",
       "      <td>1499_179</td>\n",
       "      <td>2018-12-12</td>\n",
       "      <td>1499</td>\n",
       "    </tr>\n",
       "    <tr>\n",
       "      <th>123032</th>\n",
       "      <td>1499_180</td>\n",
       "      <td>2018-09-28</td>\n",
       "      <td>1499</td>\n",
       "    </tr>\n",
       "    <tr>\n",
       "      <th>123033</th>\n",
       "      <td>1499_181</td>\n",
       "      <td>2018-09-27</td>\n",
       "      <td>1499</td>\n",
       "    </tr>\n",
       "    <tr>\n",
       "      <th>123034</th>\n",
       "      <td>1499_182</td>\n",
       "      <td>2018-11-15</td>\n",
       "      <td>1499</td>\n",
       "    </tr>\n",
       "    <tr>\n",
       "      <th>123035</th>\n",
       "      <td>1499_183</td>\n",
       "      <td>2018-11-16</td>\n",
       "      <td>1499</td>\n",
       "    </tr>\n",
       "  </tbody>\n",
       "</table>\n",
       "</div>"
      ],
      "text/plain": [
       "              id message_date  user_id\n",
       "123031  1499_179   2018-12-12     1499\n",
       "123032  1499_180   2018-09-28     1499\n",
       "123033  1499_181   2018-09-27     1499\n",
       "123034  1499_182   2018-11-15     1499\n",
       "123035  1499_183   2018-11-16     1499"
      ]
     },
     "execution_count": 11,
     "metadata": {},
     "output_type": "execute_result"
    }
   ],
   "source": [
    "#информация об смс\n",
    "\n",
    "try:\n",
    "    messages = pd.read_csv('datasets/messages.csv')\n",
    "except FileNotFoundError:\n",
    "    messages = pd.read_csv('/datasets/messages.csv')     \n",
    "\n",
    "display(messages.head())\n",
    "messages.tail()"
   ]
  },
  {
   "cell_type": "code",
   "execution_count": 12,
   "id": "65679c04",
   "metadata": {},
   "outputs": [
    {
     "name": "stdout",
     "output_type": "stream",
     "text": [
      "<class 'pandas.core.frame.DataFrame'>\n",
      "RangeIndex: 123036 entries, 0 to 123035\n",
      "Data columns (total 3 columns):\n",
      " #   Column        Non-Null Count   Dtype \n",
      "---  ------        --------------   ----- \n",
      " 0   id            123036 non-null  object\n",
      " 1   message_date  123036 non-null  object\n",
      " 2   user_id       123036 non-null  int64 \n",
      "dtypes: int64(1), object(2)\n",
      "memory usage: 2.8+ MB\n"
     ]
    }
   ],
   "source": [
    "messages.info()"
   ]
  },
  {
   "cell_type": "code",
   "execution_count": 13,
   "id": "ecc5ae5f",
   "metadata": {},
   "outputs": [
    {
     "data": {
      "text/plain": [
       "id              123036\n",
       "message_date       364\n",
       "user_id            426\n",
       "dtype: int64"
      ]
     },
     "execution_count": 13,
     "metadata": {},
     "output_type": "execute_result"
    }
   ],
   "source": [
    "messages.nunique()"
   ]
  },
  {
   "cell_type": "markdown",
   "id": "c69d27f7",
   "metadata": {},
   "source": [
    "Доступно 123036 записей об отправленных смс (отправляют смс-ки пользователи меньше, чем звонят). Пропущенных значений в данных нет. Сообщения кодируются через id так же, как и звонки, возрастание порядковых номеров id для каждого пользователя не соответствует порядку отправки сообщений.</br>\n",
    "Из 500 изучаемых пользователей только 426 пользовались смс-услугами в течение 2018 года.</br>\n",
    "Необходимо преобразовать тип данных для столбца с датами сообщений."
   ]
  },
  {
   "cell_type": "code",
   "execution_count": 14,
   "id": "fe5e72d4",
   "metadata": {},
   "outputs": [
    {
     "data": {
      "text/html": [
       "<div>\n",
       "<style scoped>\n",
       "    .dataframe tbody tr th:only-of-type {\n",
       "        vertical-align: middle;\n",
       "    }\n",
       "\n",
       "    .dataframe tbody tr th {\n",
       "        vertical-align: top;\n",
       "    }\n",
       "\n",
       "    .dataframe thead th {\n",
       "        text-align: right;\n",
       "    }\n",
       "</style>\n",
       "<table border=\"1\" class=\"dataframe\">\n",
       "  <thead>\n",
       "    <tr style=\"text-align: right;\">\n",
       "      <th></th>\n",
       "      <th>Unnamed: 0</th>\n",
       "      <th>id</th>\n",
       "      <th>mb_used</th>\n",
       "      <th>session_date</th>\n",
       "      <th>user_id</th>\n",
       "    </tr>\n",
       "  </thead>\n",
       "  <tbody>\n",
       "    <tr>\n",
       "      <th>0</th>\n",
       "      <td>0</td>\n",
       "      <td>1000_0</td>\n",
       "      <td>112.95</td>\n",
       "      <td>2018-11-25</td>\n",
       "      <td>1000</td>\n",
       "    </tr>\n",
       "    <tr>\n",
       "      <th>1</th>\n",
       "      <td>1</td>\n",
       "      <td>1000_1</td>\n",
       "      <td>1052.81</td>\n",
       "      <td>2018-09-07</td>\n",
       "      <td>1000</td>\n",
       "    </tr>\n",
       "    <tr>\n",
       "      <th>2</th>\n",
       "      <td>2</td>\n",
       "      <td>1000_2</td>\n",
       "      <td>1197.26</td>\n",
       "      <td>2018-06-25</td>\n",
       "      <td>1000</td>\n",
       "    </tr>\n",
       "    <tr>\n",
       "      <th>3</th>\n",
       "      <td>3</td>\n",
       "      <td>1000_3</td>\n",
       "      <td>550.27</td>\n",
       "      <td>2018-08-22</td>\n",
       "      <td>1000</td>\n",
       "    </tr>\n",
       "    <tr>\n",
       "      <th>4</th>\n",
       "      <td>4</td>\n",
       "      <td>1000_4</td>\n",
       "      <td>302.56</td>\n",
       "      <td>2018-09-24</td>\n",
       "      <td>1000</td>\n",
       "    </tr>\n",
       "  </tbody>\n",
       "</table>\n",
       "</div>"
      ],
      "text/plain": [
       "   Unnamed: 0      id  mb_used session_date  user_id\n",
       "0           0  1000_0   112.95   2018-11-25     1000\n",
       "1           1  1000_1  1052.81   2018-09-07     1000\n",
       "2           2  1000_2  1197.26   2018-06-25     1000\n",
       "3           3  1000_3   550.27   2018-08-22     1000\n",
       "4           4  1000_4   302.56   2018-09-24     1000"
      ]
     },
     "metadata": {},
     "output_type": "display_data"
    },
    {
     "data": {
      "text/html": [
       "<div>\n",
       "<style scoped>\n",
       "    .dataframe tbody tr th:only-of-type {\n",
       "        vertical-align: middle;\n",
       "    }\n",
       "\n",
       "    .dataframe tbody tr th {\n",
       "        vertical-align: top;\n",
       "    }\n",
       "\n",
       "    .dataframe thead th {\n",
       "        text-align: right;\n",
       "    }\n",
       "</style>\n",
       "<table border=\"1\" class=\"dataframe\">\n",
       "  <thead>\n",
       "    <tr style=\"text-align: right;\">\n",
       "      <th></th>\n",
       "      <th>Unnamed: 0</th>\n",
       "      <th>id</th>\n",
       "      <th>mb_used</th>\n",
       "      <th>session_date</th>\n",
       "      <th>user_id</th>\n",
       "    </tr>\n",
       "  </thead>\n",
       "  <tbody>\n",
       "    <tr>\n",
       "      <th>149391</th>\n",
       "      <td>149391</td>\n",
       "      <td>1499_152</td>\n",
       "      <td>318.90</td>\n",
       "      <td>2018-10-03</td>\n",
       "      <td>1499</td>\n",
       "    </tr>\n",
       "    <tr>\n",
       "      <th>149392</th>\n",
       "      <td>149392</td>\n",
       "      <td>1499_153</td>\n",
       "      <td>490.13</td>\n",
       "      <td>2018-12-14</td>\n",
       "      <td>1499</td>\n",
       "    </tr>\n",
       "    <tr>\n",
       "      <th>149393</th>\n",
       "      <td>149393</td>\n",
       "      <td>1499_154</td>\n",
       "      <td>0.00</td>\n",
       "      <td>2018-10-27</td>\n",
       "      <td>1499</td>\n",
       "    </tr>\n",
       "    <tr>\n",
       "      <th>149394</th>\n",
       "      <td>149394</td>\n",
       "      <td>1499_155</td>\n",
       "      <td>1246.32</td>\n",
       "      <td>2018-11-26</td>\n",
       "      <td>1499</td>\n",
       "    </tr>\n",
       "    <tr>\n",
       "      <th>149395</th>\n",
       "      <td>149395</td>\n",
       "      <td>1499_156</td>\n",
       "      <td>544.37</td>\n",
       "      <td>2018-10-26</td>\n",
       "      <td>1499</td>\n",
       "    </tr>\n",
       "  </tbody>\n",
       "</table>\n",
       "</div>"
      ],
      "text/plain": [
       "        Unnamed: 0        id  mb_used session_date  user_id\n",
       "149391      149391  1499_152   318.90   2018-10-03     1499\n",
       "149392      149392  1499_153   490.13   2018-12-14     1499\n",
       "149393      149393  1499_154     0.00   2018-10-27     1499\n",
       "149394      149394  1499_155  1246.32   2018-11-26     1499\n",
       "149395      149395  1499_156   544.37   2018-10-26     1499"
      ]
     },
     "execution_count": 14,
     "metadata": {},
     "output_type": "execute_result"
    }
   ],
   "source": [
    "#информация об интернет-сессиях\n",
    "\n",
    "try:\n",
    "    internet = pd.read_csv('datasets/internet.csv')\n",
    "except FileNotFoundError:\n",
    "    internet = pd.read_csv('/datasets/internet.csv')     \n",
    "\n",
    "display(internet.head())\n",
    "internet.tail()"
   ]
  },
  {
   "cell_type": "code",
   "execution_count": 15,
   "id": "42a73994",
   "metadata": {},
   "outputs": [
    {
     "name": "stdout",
     "output_type": "stream",
     "text": [
      "<class 'pandas.core.frame.DataFrame'>\n",
      "RangeIndex: 149396 entries, 0 to 149395\n",
      "Data columns (total 5 columns):\n",
      " #   Column        Non-Null Count   Dtype  \n",
      "---  ------        --------------   -----  \n",
      " 0   Unnamed: 0    149396 non-null  int64  \n",
      " 1   id            149396 non-null  object \n",
      " 2   mb_used       149396 non-null  float64\n",
      " 3   session_date  149396 non-null  object \n",
      " 4   user_id       149396 non-null  int64  \n",
      "dtypes: float64(1), int64(2), object(2)\n",
      "memory usage: 5.7+ MB\n"
     ]
    }
   ],
   "source": [
    "internet.info()"
   ]
  },
  {
   "cell_type": "code",
   "execution_count": 16,
   "id": "ceb6a1fc",
   "metadata": {},
   "outputs": [
    {
     "data": {
      "text/plain": [
       "Unnamed: 0      149396\n",
       "id              149396\n",
       "mb_used          70003\n",
       "session_date       365\n",
       "user_id            497\n",
       "dtype: int64"
      ]
     },
     "execution_count": 16,
     "metadata": {},
     "output_type": "execute_result"
    }
   ],
   "source": [
    "internet.nunique()"
   ]
  },
  {
   "cell_type": "markdown",
   "id": "24bf5ed3",
   "metadata": {},
   "source": [
    "Доступно 149396 данных об интернет-сессиях, пропущенных данных нет. Доступна информация о дате подключения и использованном трафике в Мб. Сессии каждого пользователя кодируются по id так же, как в звонках и сообщениях.</br>\n",
    "Интернет-услугами в течение 2018 года пользовалось самое большое количество пользователей из изучаемой выборки - 497.</br>\n",
    "Необходимо преобразовать тип данных для столбца с датами сессий и удалить лишний столбец 'Unnamed: 0', дублирующий индексы."
   ]
  },
  {
   "cell_type": "markdown",
   "id": "eaa3904c",
   "metadata": {},
   "source": [
    "### Подготовка данных"
   ]
  },
  {
   "cell_type": "markdown",
   "id": "7c8c7093",
   "metadata": {},
   "source": [
    "Изменим формат дат, удалим лишний столбец и добавим несколько столбцов."
   ]
  },
  {
   "cell_type": "code",
   "execution_count": 17,
   "id": "e421ba60",
   "metadata": {},
   "outputs": [],
   "source": [
    "#изменим формат даты в датафрейме с информацией о юзерах:\n",
    "\n",
    "users['reg_date'] = pd.to_datetime(users['reg_date'], format='%Y-%m-%d')\n",
    "users['churn_date'] = pd.to_datetime(users['churn_date'], format='%Y-%m-%d')"
   ]
  },
  {
   "cell_type": "code",
   "execution_count": 18,
   "id": "1ebb1f00",
   "metadata": {},
   "outputs": [],
   "source": [
    "#изменим формат дат совершения звонков, отправки сообщений, выходов в интернет:\n",
    "\n",
    "calls['call_date'] = pd.to_datetime(calls['call_date'], format='%Y-%m-%d')\n",
    "messages['message_date'] = pd.to_datetime(messages['message_date'], format='%Y-%m-%d')\n",
    "internet['session_date'] = pd.to_datetime(internet['session_date'], format='%Y-%m-%d')"
   ]
  },
  {
   "cell_type": "code",
   "execution_count": 19,
   "id": "79ca19bc",
   "metadata": {},
   "outputs": [],
   "source": [
    "#удалим дублирующий столбец из датафрейма с данными об интернет-сессиях:\n",
    "\n",
    "internet.drop('Unnamed: 0', axis=1, inplace=True)"
   ]
  },
  {
   "cell_type": "code",
   "execution_count": 20,
   "id": "f6d0ad13",
   "metadata": {},
   "outputs": [],
   "source": [
    "#добавим столбец с длительностью звонков, округленной до минут\n",
    "\n",
    "calls['duration_minutes'] = np.ceil(calls['duration'])"
   ]
  },
  {
   "cell_type": "code",
   "execution_count": 21,
   "id": "2a836349",
   "metadata": {},
   "outputs": [
    {
     "data": {
      "text/html": [
       "<div>\n",
       "<style scoped>\n",
       "    .dataframe tbody tr th:only-of-type {\n",
       "        vertical-align: middle;\n",
       "    }\n",
       "\n",
       "    .dataframe tbody tr th {\n",
       "        vertical-align: top;\n",
       "    }\n",
       "\n",
       "    .dataframe thead th {\n",
       "        text-align: right;\n",
       "    }\n",
       "</style>\n",
       "<table border=\"1\" class=\"dataframe\">\n",
       "  <thead>\n",
       "    <tr style=\"text-align: right;\">\n",
       "      <th></th>\n",
       "      <th>id</th>\n",
       "      <th>call_date</th>\n",
       "      <th>duration</th>\n",
       "      <th>user_id</th>\n",
       "      <th>duration_minutes</th>\n",
       "      <th>month</th>\n",
       "    </tr>\n",
       "  </thead>\n",
       "  <tbody>\n",
       "    <tr>\n",
       "      <th>0</th>\n",
       "      <td>1000_0</td>\n",
       "      <td>2018-07-25</td>\n",
       "      <td>0.00</td>\n",
       "      <td>1000</td>\n",
       "      <td>0.0</td>\n",
       "      <td>7</td>\n",
       "    </tr>\n",
       "    <tr>\n",
       "      <th>1</th>\n",
       "      <td>1000_1</td>\n",
       "      <td>2018-08-17</td>\n",
       "      <td>0.00</td>\n",
       "      <td>1000</td>\n",
       "      <td>0.0</td>\n",
       "      <td>8</td>\n",
       "    </tr>\n",
       "    <tr>\n",
       "      <th>2</th>\n",
       "      <td>1000_2</td>\n",
       "      <td>2018-06-11</td>\n",
       "      <td>2.85</td>\n",
       "      <td>1000</td>\n",
       "      <td>3.0</td>\n",
       "      <td>6</td>\n",
       "    </tr>\n",
       "    <tr>\n",
       "      <th>3</th>\n",
       "      <td>1000_3</td>\n",
       "      <td>2018-09-21</td>\n",
       "      <td>13.80</td>\n",
       "      <td>1000</td>\n",
       "      <td>14.0</td>\n",
       "      <td>9</td>\n",
       "    </tr>\n",
       "    <tr>\n",
       "      <th>4</th>\n",
       "      <td>1000_4</td>\n",
       "      <td>2018-12-15</td>\n",
       "      <td>5.18</td>\n",
       "      <td>1000</td>\n",
       "      <td>6.0</td>\n",
       "      <td>12</td>\n",
       "    </tr>\n",
       "  </tbody>\n",
       "</table>\n",
       "</div>"
      ],
      "text/plain": [
       "       id  call_date  duration  user_id  duration_minutes  month\n",
       "0  1000_0 2018-07-25      0.00     1000               0.0      7\n",
       "1  1000_1 2018-08-17      0.00     1000               0.0      8\n",
       "2  1000_2 2018-06-11      2.85     1000               3.0      6\n",
       "3  1000_3 2018-09-21     13.80     1000              14.0      9\n",
       "4  1000_4 2018-12-15      5.18     1000               6.0     12"
      ]
     },
     "execution_count": 21,
     "metadata": {},
     "output_type": "execute_result"
    }
   ],
   "source": [
    "#добавим отдельную колонку с месяцем в датафреймы calls, messages, internet\n",
    "\n",
    "calls['month'] = calls['call_date'].dt.month\n",
    "calls.head()"
   ]
  },
  {
   "cell_type": "code",
   "execution_count": 22,
   "id": "72871361",
   "metadata": {},
   "outputs": [
    {
     "data": {
      "text/html": [
       "<div>\n",
       "<style scoped>\n",
       "    .dataframe tbody tr th:only-of-type {\n",
       "        vertical-align: middle;\n",
       "    }\n",
       "\n",
       "    .dataframe tbody tr th {\n",
       "        vertical-align: top;\n",
       "    }\n",
       "\n",
       "    .dataframe thead th {\n",
       "        text-align: right;\n",
       "    }\n",
       "</style>\n",
       "<table border=\"1\" class=\"dataframe\">\n",
       "  <thead>\n",
       "    <tr style=\"text-align: right;\">\n",
       "      <th></th>\n",
       "      <th>id</th>\n",
       "      <th>message_date</th>\n",
       "      <th>user_id</th>\n",
       "      <th>month</th>\n",
       "    </tr>\n",
       "  </thead>\n",
       "  <tbody>\n",
       "    <tr>\n",
       "      <th>0</th>\n",
       "      <td>1000_0</td>\n",
       "      <td>2018-06-27</td>\n",
       "      <td>1000</td>\n",
       "      <td>6</td>\n",
       "    </tr>\n",
       "    <tr>\n",
       "      <th>1</th>\n",
       "      <td>1000_1</td>\n",
       "      <td>2018-10-08</td>\n",
       "      <td>1000</td>\n",
       "      <td>10</td>\n",
       "    </tr>\n",
       "    <tr>\n",
       "      <th>2</th>\n",
       "      <td>1000_2</td>\n",
       "      <td>2018-08-04</td>\n",
       "      <td>1000</td>\n",
       "      <td>8</td>\n",
       "    </tr>\n",
       "    <tr>\n",
       "      <th>3</th>\n",
       "      <td>1000_3</td>\n",
       "      <td>2018-06-16</td>\n",
       "      <td>1000</td>\n",
       "      <td>6</td>\n",
       "    </tr>\n",
       "    <tr>\n",
       "      <th>4</th>\n",
       "      <td>1000_4</td>\n",
       "      <td>2018-12-05</td>\n",
       "      <td>1000</td>\n",
       "      <td>12</td>\n",
       "    </tr>\n",
       "  </tbody>\n",
       "</table>\n",
       "</div>"
      ],
      "text/plain": [
       "       id message_date  user_id  month\n",
       "0  1000_0   2018-06-27     1000      6\n",
       "1  1000_1   2018-10-08     1000     10\n",
       "2  1000_2   2018-08-04     1000      8\n",
       "3  1000_3   2018-06-16     1000      6\n",
       "4  1000_4   2018-12-05     1000     12"
      ]
     },
     "execution_count": 22,
     "metadata": {},
     "output_type": "execute_result"
    }
   ],
   "source": [
    "messages['month'] = messages['message_date'].dt.month\n",
    "messages.head()"
   ]
  },
  {
   "cell_type": "code",
   "execution_count": 23,
   "id": "70b0c6a9",
   "metadata": {},
   "outputs": [
    {
     "data": {
      "text/html": [
       "<div>\n",
       "<style scoped>\n",
       "    .dataframe tbody tr th:only-of-type {\n",
       "        vertical-align: middle;\n",
       "    }\n",
       "\n",
       "    .dataframe tbody tr th {\n",
       "        vertical-align: top;\n",
       "    }\n",
       "\n",
       "    .dataframe thead th {\n",
       "        text-align: right;\n",
       "    }\n",
       "</style>\n",
       "<table border=\"1\" class=\"dataframe\">\n",
       "  <thead>\n",
       "    <tr style=\"text-align: right;\">\n",
       "      <th></th>\n",
       "      <th>id</th>\n",
       "      <th>mb_used</th>\n",
       "      <th>session_date</th>\n",
       "      <th>user_id</th>\n",
       "      <th>month</th>\n",
       "    </tr>\n",
       "  </thead>\n",
       "  <tbody>\n",
       "    <tr>\n",
       "      <th>0</th>\n",
       "      <td>1000_0</td>\n",
       "      <td>112.95</td>\n",
       "      <td>2018-11-25</td>\n",
       "      <td>1000</td>\n",
       "      <td>11</td>\n",
       "    </tr>\n",
       "    <tr>\n",
       "      <th>1</th>\n",
       "      <td>1000_1</td>\n",
       "      <td>1052.81</td>\n",
       "      <td>2018-09-07</td>\n",
       "      <td>1000</td>\n",
       "      <td>9</td>\n",
       "    </tr>\n",
       "    <tr>\n",
       "      <th>2</th>\n",
       "      <td>1000_2</td>\n",
       "      <td>1197.26</td>\n",
       "      <td>2018-06-25</td>\n",
       "      <td>1000</td>\n",
       "      <td>6</td>\n",
       "    </tr>\n",
       "    <tr>\n",
       "      <th>3</th>\n",
       "      <td>1000_3</td>\n",
       "      <td>550.27</td>\n",
       "      <td>2018-08-22</td>\n",
       "      <td>1000</td>\n",
       "      <td>8</td>\n",
       "    </tr>\n",
       "    <tr>\n",
       "      <th>4</th>\n",
       "      <td>1000_4</td>\n",
       "      <td>302.56</td>\n",
       "      <td>2018-09-24</td>\n",
       "      <td>1000</td>\n",
       "      <td>9</td>\n",
       "    </tr>\n",
       "  </tbody>\n",
       "</table>\n",
       "</div>"
      ],
      "text/plain": [
       "       id  mb_used session_date  user_id  month\n",
       "0  1000_0   112.95   2018-11-25     1000     11\n",
       "1  1000_1  1052.81   2018-09-07     1000      9\n",
       "2  1000_2  1197.26   2018-06-25     1000      6\n",
       "3  1000_3   550.27   2018-08-22     1000      8\n",
       "4  1000_4   302.56   2018-09-24     1000      9"
      ]
     },
     "execution_count": 23,
     "metadata": {},
     "output_type": "execute_result"
    }
   ],
   "source": [
    "internet['month'] = internet['session_date'].dt.month\n",
    "internet.head()"
   ]
  },
  {
   "cell_type": "markdown",
   "id": "5e3e2455",
   "metadata": {},
   "source": [
    "### Группировка данных и дополнительные расчёты"
   ]
  },
  {
   "cell_type": "code",
   "execution_count": 24,
   "id": "657eb4ab",
   "metadata": {},
   "outputs": [
    {
     "data": {
      "text/html": [
       "<div>\n",
       "<style scoped>\n",
       "    .dataframe tbody tr th:only-of-type {\n",
       "        vertical-align: middle;\n",
       "    }\n",
       "\n",
       "    .dataframe tbody tr th {\n",
       "        vertical-align: top;\n",
       "    }\n",
       "\n",
       "    .dataframe thead th {\n",
       "        text-align: right;\n",
       "    }\n",
       "</style>\n",
       "<table border=\"1\" class=\"dataframe\">\n",
       "  <thead>\n",
       "    <tr style=\"text-align: right;\">\n",
       "      <th></th>\n",
       "      <th></th>\n",
       "      <th>calls_sum</th>\n",
       "      <th>calls_minutes_sum</th>\n",
       "      <th>mean_call_duration</th>\n",
       "    </tr>\n",
       "    <tr>\n",
       "      <th>user_id</th>\n",
       "      <th>month</th>\n",
       "      <th></th>\n",
       "      <th></th>\n",
       "      <th></th>\n",
       "    </tr>\n",
       "  </thead>\n",
       "  <tbody>\n",
       "    <tr>\n",
       "      <th rowspan=\"5\" valign=\"top\">1000</th>\n",
       "      <th>5</th>\n",
       "      <td>17</td>\n",
       "      <td>159.0</td>\n",
       "      <td>9.35</td>\n",
       "    </tr>\n",
       "    <tr>\n",
       "      <th>6</th>\n",
       "      <td>28</td>\n",
       "      <td>172.0</td>\n",
       "      <td>6.14</td>\n",
       "    </tr>\n",
       "    <tr>\n",
       "      <th>7</th>\n",
       "      <td>41</td>\n",
       "      <td>340.0</td>\n",
       "      <td>8.29</td>\n",
       "    </tr>\n",
       "    <tr>\n",
       "      <th>8</th>\n",
       "      <td>42</td>\n",
       "      <td>408.0</td>\n",
       "      <td>9.71</td>\n",
       "    </tr>\n",
       "    <tr>\n",
       "      <th>9</th>\n",
       "      <td>46</td>\n",
       "      <td>466.0</td>\n",
       "      <td>10.13</td>\n",
       "    </tr>\n",
       "    <tr>\n",
       "      <th>...</th>\n",
       "      <th>...</th>\n",
       "      <td>...</td>\n",
       "      <td>...</td>\n",
       "      <td>...</td>\n",
       "    </tr>\n",
       "    <tr>\n",
       "      <th>1498</th>\n",
       "      <th>10</th>\n",
       "      <td>30</td>\n",
       "      <td>247.0</td>\n",
       "      <td>8.23</td>\n",
       "    </tr>\n",
       "    <tr>\n",
       "      <th rowspan=\"4\" valign=\"top\">1499</th>\n",
       "      <th>9</th>\n",
       "      <td>8</td>\n",
       "      <td>70.0</td>\n",
       "      <td>8.75</td>\n",
       "    </tr>\n",
       "    <tr>\n",
       "      <th>10</th>\n",
       "      <td>44</td>\n",
       "      <td>449.0</td>\n",
       "      <td>10.20</td>\n",
       "    </tr>\n",
       "    <tr>\n",
       "      <th>11</th>\n",
       "      <td>62</td>\n",
       "      <td>612.0</td>\n",
       "      <td>9.87</td>\n",
       "    </tr>\n",
       "    <tr>\n",
       "      <th>12</th>\n",
       "      <td>56</td>\n",
       "      <td>492.0</td>\n",
       "      <td>8.79</td>\n",
       "    </tr>\n",
       "  </tbody>\n",
       "</table>\n",
       "<p>3168 rows × 3 columns</p>\n",
       "</div>"
      ],
      "text/plain": [
       "               calls_sum  calls_minutes_sum  mean_call_duration\n",
       "user_id month                                                  \n",
       "1000    5             17              159.0                9.35\n",
       "        6             28              172.0                6.14\n",
       "        7             41              340.0                8.29\n",
       "        8             42              408.0                9.71\n",
       "        9             46              466.0               10.13\n",
       "...                  ...                ...                 ...\n",
       "1498    10            30              247.0                8.23\n",
       "1499    9              8               70.0                8.75\n",
       "        10            44              449.0               10.20\n",
       "        11            62              612.0                9.87\n",
       "        12            56              492.0                8.79\n",
       "\n",
       "[3168 rows x 3 columns]"
      ]
     },
     "metadata": {},
     "output_type": "display_data"
    }
   ],
   "source": [
    "#сгруппируем данные о звонках по месяцам, исключим при этом звонки с нулевой длительностью - так помечены неотвеченные звонки\n",
    "#они не добавят минут в общую продолжительность, но исказят количество сделанных пользователем звонков\n",
    "\n",
    "monthly_calls_duration = (\n",
    "    calls.query('duration_minutes > 0')\n",
    "    .pivot_table(index=['user_id', 'month'], values='duration_minutes', aggfunc=['count', 'sum'])\n",
    ")\n",
    "\n",
    "\n",
    "#переименуем колонки\n",
    "monthly_calls_duration.columns = ['calls_sum', 'calls_minutes_sum']\n",
    "\n",
    "#добавим столбец со средней продолжительностью звонков в месяц\n",
    "monthly_calls_duration['mean_call_duration'] = (monthly_calls_duration['calls_minutes_sum']/monthly_calls_duration['calls_sum']).round(2)\n",
    "display(monthly_calls_duration)"
   ]
  },
  {
   "cell_type": "code",
   "execution_count": 25,
   "id": "501dfaed",
   "metadata": {},
   "outputs": [
    {
     "data": {
      "text/html": [
       "<div>\n",
       "<style scoped>\n",
       "    .dataframe tbody tr th:only-of-type {\n",
       "        vertical-align: middle;\n",
       "    }\n",
       "\n",
       "    .dataframe tbody tr th {\n",
       "        vertical-align: top;\n",
       "    }\n",
       "\n",
       "    .dataframe thead th {\n",
       "        text-align: right;\n",
       "    }\n",
       "</style>\n",
       "<table border=\"1\" class=\"dataframe\">\n",
       "  <thead>\n",
       "    <tr style=\"text-align: right;\">\n",
       "      <th></th>\n",
       "      <th></th>\n",
       "      <th>messages_sum</th>\n",
       "    </tr>\n",
       "    <tr>\n",
       "      <th>user_id</th>\n",
       "      <th>month</th>\n",
       "      <th></th>\n",
       "    </tr>\n",
       "  </thead>\n",
       "  <tbody>\n",
       "    <tr>\n",
       "      <th rowspan=\"5\" valign=\"top\">1000</th>\n",
       "      <th>5</th>\n",
       "      <td>22</td>\n",
       "    </tr>\n",
       "    <tr>\n",
       "      <th>6</th>\n",
       "      <td>60</td>\n",
       "    </tr>\n",
       "    <tr>\n",
       "      <th>7</th>\n",
       "      <td>75</td>\n",
       "    </tr>\n",
       "    <tr>\n",
       "      <th>8</th>\n",
       "      <td>81</td>\n",
       "    </tr>\n",
       "    <tr>\n",
       "      <th>9</th>\n",
       "      <td>57</td>\n",
       "    </tr>\n",
       "    <tr>\n",
       "      <th>...</th>\n",
       "      <th>...</th>\n",
       "      <td>...</td>\n",
       "    </tr>\n",
       "    <tr>\n",
       "      <th>1498</th>\n",
       "      <th>10</th>\n",
       "      <td>42</td>\n",
       "    </tr>\n",
       "    <tr>\n",
       "      <th rowspan=\"4\" valign=\"top\">1499</th>\n",
       "      <th>9</th>\n",
       "      <td>11</td>\n",
       "    </tr>\n",
       "    <tr>\n",
       "      <th>10</th>\n",
       "      <td>48</td>\n",
       "    </tr>\n",
       "    <tr>\n",
       "      <th>11</th>\n",
       "      <td>59</td>\n",
       "    </tr>\n",
       "    <tr>\n",
       "      <th>12</th>\n",
       "      <td>66</td>\n",
       "    </tr>\n",
       "  </tbody>\n",
       "</table>\n",
       "<p>2717 rows × 1 columns</p>\n",
       "</div>"
      ],
      "text/plain": [
       "               messages_sum\n",
       "user_id month              \n",
       "1000    5                22\n",
       "        6                60\n",
       "        7                75\n",
       "        8                81\n",
       "        9                57\n",
       "...                     ...\n",
       "1498    10               42\n",
       "1499    9                11\n",
       "        10               48\n",
       "        11               59\n",
       "        12               66\n",
       "\n",
       "[2717 rows x 1 columns]"
      ]
     },
     "metadata": {},
     "output_type": "display_data"
    }
   ],
   "source": [
    "#сгруппируем данные о сообщениях по месяцам, переименуем колонки, где это необходимо\n",
    "\n",
    "monthly_messages_sum = messages.pivot_table(index=['user_id', 'month'], values='id', aggfunc='count')\n",
    "monthly_messages_sum.columns = ['messages_sum']\n",
    "display(monthly_messages_sum)"
   ]
  },
  {
   "cell_type": "code",
   "execution_count": 26,
   "id": "17ff56bb",
   "metadata": {},
   "outputs": [
    {
     "data": {
      "text/html": [
       "<div>\n",
       "<style scoped>\n",
       "    .dataframe tbody tr th:only-of-type {\n",
       "        vertical-align: middle;\n",
       "    }\n",
       "\n",
       "    .dataframe tbody tr th {\n",
       "        vertical-align: top;\n",
       "    }\n",
       "\n",
       "    .dataframe thead th {\n",
       "        text-align: right;\n",
       "    }\n",
       "</style>\n",
       "<table border=\"1\" class=\"dataframe\">\n",
       "  <thead>\n",
       "    <tr style=\"text-align: right;\">\n",
       "      <th></th>\n",
       "      <th></th>\n",
       "      <th>gb_used</th>\n",
       "    </tr>\n",
       "    <tr>\n",
       "      <th>user_id</th>\n",
       "      <th>month</th>\n",
       "      <th></th>\n",
       "    </tr>\n",
       "  </thead>\n",
       "  <tbody>\n",
       "    <tr>\n",
       "      <th rowspan=\"5\" valign=\"top\">1000</th>\n",
       "      <th>5</th>\n",
       "      <td>3.0</td>\n",
       "    </tr>\n",
       "    <tr>\n",
       "      <th>6</th>\n",
       "      <td>23.0</td>\n",
       "    </tr>\n",
       "    <tr>\n",
       "      <th>7</th>\n",
       "      <td>14.0</td>\n",
       "    </tr>\n",
       "    <tr>\n",
       "      <th>8</th>\n",
       "      <td>14.0</td>\n",
       "    </tr>\n",
       "    <tr>\n",
       "      <th>9</th>\n",
       "      <td>15.0</td>\n",
       "    </tr>\n",
       "    <tr>\n",
       "      <th>...</th>\n",
       "      <th>...</th>\n",
       "      <td>...</td>\n",
       "    </tr>\n",
       "    <tr>\n",
       "      <th>1498</th>\n",
       "      <th>10</th>\n",
       "      <td>21.0</td>\n",
       "    </tr>\n",
       "    <tr>\n",
       "      <th rowspan=\"4\" valign=\"top\">1499</th>\n",
       "      <th>9</th>\n",
       "      <td>2.0</td>\n",
       "    </tr>\n",
       "    <tr>\n",
       "      <th>10</th>\n",
       "      <td>18.0</td>\n",
       "    </tr>\n",
       "    <tr>\n",
       "      <th>11</th>\n",
       "      <td>18.0</td>\n",
       "    </tr>\n",
       "    <tr>\n",
       "      <th>12</th>\n",
       "      <td>13.0</td>\n",
       "    </tr>\n",
       "  </tbody>\n",
       "</table>\n",
       "<p>3203 rows × 1 columns</p>\n",
       "</div>"
      ],
      "text/plain": [
       "               gb_used\n",
       "user_id month         \n",
       "1000    5          3.0\n",
       "        6         23.0\n",
       "        7         14.0\n",
       "        8         14.0\n",
       "        9         15.0\n",
       "...                ...\n",
       "1498    10        21.0\n",
       "1499    9          2.0\n",
       "        10        18.0\n",
       "        11        18.0\n",
       "        12        13.0\n",
       "\n",
       "[3203 rows x 1 columns]"
      ]
     },
     "metadata": {},
     "output_type": "display_data"
    }
   ],
   "source": [
    "#сгруппируем данные о трафике по месяцам, округлим трафик до гигабайт (по нему делается расчет тарифа) и удалим столбец с мб\n",
    "\n",
    "monthly_traffic_volume = internet.pivot_table(index=['user_id', 'month'], values='mb_used', aggfunc='sum')\n",
    "monthly_traffic_volume['gb_used'] = np.ceil(monthly_traffic_volume['mb_used']/1024)\n",
    "monthly_traffic_volume.drop('mb_used', axis=1, inplace=True)\n",
    "display(monthly_traffic_volume)"
   ]
  },
  {
   "cell_type": "code",
   "execution_count": 27,
   "id": "fb0dc1eb",
   "metadata": {},
   "outputs": [
    {
     "data": {
      "text/html": [
       "<div>\n",
       "<style scoped>\n",
       "    .dataframe tbody tr th:only-of-type {\n",
       "        vertical-align: middle;\n",
       "    }\n",
       "\n",
       "    .dataframe tbody tr th {\n",
       "        vertical-align: top;\n",
       "    }\n",
       "\n",
       "    .dataframe thead th {\n",
       "        text-align: right;\n",
       "    }\n",
       "</style>\n",
       "<table border=\"1\" class=\"dataframe\">\n",
       "  <thead>\n",
       "    <tr style=\"text-align: right;\">\n",
       "      <th></th>\n",
       "      <th></th>\n",
       "      <th>calls_sum</th>\n",
       "      <th>calls_minutes_sum</th>\n",
       "      <th>mean_call_duration</th>\n",
       "      <th>messages_sum</th>\n",
       "    </tr>\n",
       "    <tr>\n",
       "      <th>user_id</th>\n",
       "      <th>month</th>\n",
       "      <th></th>\n",
       "      <th></th>\n",
       "      <th></th>\n",
       "      <th></th>\n",
       "    </tr>\n",
       "  </thead>\n",
       "  <tbody>\n",
       "    <tr>\n",
       "      <th rowspan=\"5\" valign=\"top\">1000</th>\n",
       "      <th>5</th>\n",
       "      <td>17.0</td>\n",
       "      <td>159.0</td>\n",
       "      <td>9.35</td>\n",
       "      <td>22.0</td>\n",
       "    </tr>\n",
       "    <tr>\n",
       "      <th>6</th>\n",
       "      <td>28.0</td>\n",
       "      <td>172.0</td>\n",
       "      <td>6.14</td>\n",
       "      <td>60.0</td>\n",
       "    </tr>\n",
       "    <tr>\n",
       "      <th>7</th>\n",
       "      <td>41.0</td>\n",
       "      <td>340.0</td>\n",
       "      <td>8.29</td>\n",
       "      <td>75.0</td>\n",
       "    </tr>\n",
       "    <tr>\n",
       "      <th>8</th>\n",
       "      <td>42.0</td>\n",
       "      <td>408.0</td>\n",
       "      <td>9.71</td>\n",
       "      <td>81.0</td>\n",
       "    </tr>\n",
       "    <tr>\n",
       "      <th>9</th>\n",
       "      <td>46.0</td>\n",
       "      <td>466.0</td>\n",
       "      <td>10.13</td>\n",
       "      <td>57.0</td>\n",
       "    </tr>\n",
       "    <tr>\n",
       "      <th>...</th>\n",
       "      <th>...</th>\n",
       "      <td>...</td>\n",
       "      <td>...</td>\n",
       "      <td>...</td>\n",
       "      <td>...</td>\n",
       "    </tr>\n",
       "    <tr>\n",
       "      <th rowspan=\"5\" valign=\"top\">1489</th>\n",
       "      <th>8</th>\n",
       "      <td>NaN</td>\n",
       "      <td>NaN</td>\n",
       "      <td>NaN</td>\n",
       "      <td>17.0</td>\n",
       "    </tr>\n",
       "    <tr>\n",
       "      <th>9</th>\n",
       "      <td>NaN</td>\n",
       "      <td>NaN</td>\n",
       "      <td>NaN</td>\n",
       "      <td>32.0</td>\n",
       "    </tr>\n",
       "    <tr>\n",
       "      <th>10</th>\n",
       "      <td>NaN</td>\n",
       "      <td>NaN</td>\n",
       "      <td>NaN</td>\n",
       "      <td>21.0</td>\n",
       "    </tr>\n",
       "    <tr>\n",
       "      <th>11</th>\n",
       "      <td>NaN</td>\n",
       "      <td>NaN</td>\n",
       "      <td>NaN</td>\n",
       "      <td>20.0</td>\n",
       "    </tr>\n",
       "    <tr>\n",
       "      <th>12</th>\n",
       "      <td>NaN</td>\n",
       "      <td>NaN</td>\n",
       "      <td>NaN</td>\n",
       "      <td>35.0</td>\n",
       "    </tr>\n",
       "  </tbody>\n",
       "</table>\n",
       "<p>3212 rows × 4 columns</p>\n",
       "</div>"
      ],
      "text/plain": [
       "               calls_sum  calls_minutes_sum  mean_call_duration  messages_sum\n",
       "user_id month                                                                \n",
       "1000    5           17.0              159.0                9.35          22.0\n",
       "        6           28.0              172.0                6.14          60.0\n",
       "        7           41.0              340.0                8.29          75.0\n",
       "        8           42.0              408.0                9.71          81.0\n",
       "        9           46.0              466.0               10.13          57.0\n",
       "...                  ...                ...                 ...           ...\n",
       "1489    8            NaN                NaN                 NaN          17.0\n",
       "        9            NaN                NaN                 NaN          32.0\n",
       "        10           NaN                NaN                 NaN          21.0\n",
       "        11           NaN                NaN                 NaN          20.0\n",
       "        12           NaN                NaN                 NaN          35.0\n",
       "\n",
       "[3212 rows x 4 columns]"
      ]
     },
     "metadata": {},
     "output_type": "display_data"
    }
   ],
   "source": [
    "#последовательно объединим три таблицы в режиме 'outer' - таким образом, у пользователей, \n",
    "#не использовавших звонки/трафик/сообщения в определенном месяце появятся значения NA\n",
    "\n",
    "monthly_consumption = pd.merge(monthly_calls_duration, monthly_messages_sum, on=['user_id', 'month'], how='outer')\n",
    "display(monthly_consumption)"
   ]
  },
  {
   "cell_type": "code",
   "execution_count": 28,
   "id": "a49a5f17",
   "metadata": {
    "scrolled": false
   },
   "outputs": [
    {
     "data": {
      "text/html": [
       "<div>\n",
       "<style scoped>\n",
       "    .dataframe tbody tr th:only-of-type {\n",
       "        vertical-align: middle;\n",
       "    }\n",
       "\n",
       "    .dataframe tbody tr th {\n",
       "        vertical-align: top;\n",
       "    }\n",
       "\n",
       "    .dataframe thead th {\n",
       "        text-align: right;\n",
       "    }\n",
       "</style>\n",
       "<table border=\"1\" class=\"dataframe\">\n",
       "  <thead>\n",
       "    <tr style=\"text-align: right;\">\n",
       "      <th></th>\n",
       "      <th>user_id</th>\n",
       "      <th>month</th>\n",
       "      <th>calls_sum</th>\n",
       "      <th>calls_minutes_sum</th>\n",
       "      <th>mean_call_duration</th>\n",
       "      <th>messages_sum</th>\n",
       "      <th>gb_used</th>\n",
       "    </tr>\n",
       "  </thead>\n",
       "  <tbody>\n",
       "    <tr>\n",
       "      <th>0</th>\n",
       "      <td>1000</td>\n",
       "      <td>5</td>\n",
       "      <td>17.0</td>\n",
       "      <td>159.0</td>\n",
       "      <td>9.35</td>\n",
       "      <td>22.0</td>\n",
       "      <td>3.0</td>\n",
       "    </tr>\n",
       "    <tr>\n",
       "      <th>1</th>\n",
       "      <td>1000</td>\n",
       "      <td>6</td>\n",
       "      <td>28.0</td>\n",
       "      <td>172.0</td>\n",
       "      <td>6.14</td>\n",
       "      <td>60.0</td>\n",
       "      <td>23.0</td>\n",
       "    </tr>\n",
       "    <tr>\n",
       "      <th>2</th>\n",
       "      <td>1000</td>\n",
       "      <td>7</td>\n",
       "      <td>41.0</td>\n",
       "      <td>340.0</td>\n",
       "      <td>8.29</td>\n",
       "      <td>75.0</td>\n",
       "      <td>14.0</td>\n",
       "    </tr>\n",
       "    <tr>\n",
       "      <th>3</th>\n",
       "      <td>1000</td>\n",
       "      <td>8</td>\n",
       "      <td>42.0</td>\n",
       "      <td>408.0</td>\n",
       "      <td>9.71</td>\n",
       "      <td>81.0</td>\n",
       "      <td>14.0</td>\n",
       "    </tr>\n",
       "    <tr>\n",
       "      <th>4</th>\n",
       "      <td>1000</td>\n",
       "      <td>9</td>\n",
       "      <td>46.0</td>\n",
       "      <td>466.0</td>\n",
       "      <td>10.13</td>\n",
       "      <td>57.0</td>\n",
       "      <td>15.0</td>\n",
       "    </tr>\n",
       "    <tr>\n",
       "      <th>5</th>\n",
       "      <td>1000</td>\n",
       "      <td>10</td>\n",
       "      <td>44.0</td>\n",
       "      <td>350.0</td>\n",
       "      <td>7.95</td>\n",
       "      <td>73.0</td>\n",
       "      <td>15.0</td>\n",
       "    </tr>\n",
       "    <tr>\n",
       "      <th>6</th>\n",
       "      <td>1000</td>\n",
       "      <td>11</td>\n",
       "      <td>37.0</td>\n",
       "      <td>338.0</td>\n",
       "      <td>9.14</td>\n",
       "      <td>58.0</td>\n",
       "      <td>15.0</td>\n",
       "    </tr>\n",
       "    <tr>\n",
       "      <th>7</th>\n",
       "      <td>1000</td>\n",
       "      <td>12</td>\n",
       "      <td>38.0</td>\n",
       "      <td>333.0</td>\n",
       "      <td>8.76</td>\n",
       "      <td>70.0</td>\n",
       "      <td>10.0</td>\n",
       "    </tr>\n",
       "    <tr>\n",
       "      <th>8</th>\n",
       "      <td>1001</td>\n",
       "      <td>11</td>\n",
       "      <td>45.0</td>\n",
       "      <td>430.0</td>\n",
       "      <td>9.56</td>\n",
       "      <td>NaN</td>\n",
       "      <td>18.0</td>\n",
       "    </tr>\n",
       "    <tr>\n",
       "      <th>9</th>\n",
       "      <td>1001</td>\n",
       "      <td>12</td>\n",
       "      <td>47.0</td>\n",
       "      <td>414.0</td>\n",
       "      <td>8.81</td>\n",
       "      <td>NaN</td>\n",
       "      <td>14.0</td>\n",
       "    </tr>\n",
       "  </tbody>\n",
       "</table>\n",
       "</div>"
      ],
      "text/plain": [
       "   user_id  month  calls_sum  calls_minutes_sum  mean_call_duration  \\\n",
       "0     1000      5       17.0              159.0                9.35   \n",
       "1     1000      6       28.0              172.0                6.14   \n",
       "2     1000      7       41.0              340.0                8.29   \n",
       "3     1000      8       42.0              408.0                9.71   \n",
       "4     1000      9       46.0              466.0               10.13   \n",
       "5     1000     10       44.0              350.0                7.95   \n",
       "6     1000     11       37.0              338.0                9.14   \n",
       "7     1000     12       38.0              333.0                8.76   \n",
       "8     1001     11       45.0              430.0                9.56   \n",
       "9     1001     12       47.0              414.0                8.81   \n",
       "\n",
       "   messages_sum  gb_used  \n",
       "0          22.0      3.0  \n",
       "1          60.0     23.0  \n",
       "2          75.0     14.0  \n",
       "3          81.0     14.0  \n",
       "4          57.0     15.0  \n",
       "5          73.0     15.0  \n",
       "6          58.0     15.0  \n",
       "7          70.0     10.0  \n",
       "8           NaN     18.0  \n",
       "9           NaN     14.0  "
      ]
     },
     "metadata": {},
     "output_type": "display_data"
    }
   ],
   "source": [
    "monthly_consumption = (\n",
    "    pd.merge(monthly_consumption, monthly_traffic_volume, on=['user_id', 'month'], how='outer')\n",
    "    .sort_values(['user_id', 'month'])\n",
    "    .reset_index()\n",
    ")\n",
    "\n",
    "display(monthly_consumption.head(10))"
   ]
  },
  {
   "cell_type": "code",
   "execution_count": 29,
   "id": "5db637e6",
   "metadata": {},
   "outputs": [
    {
     "name": "stdout",
     "output_type": "stream",
     "text": [
      "498\n",
      "123036.0\n",
      "123036\n",
      "162994.0\n",
      "162994\n",
      "55599.0\n",
      "55599.0\n"
     ]
    }
   ],
   "source": [
    "#проверим правильность объединения таблиц, проверив id пользователей и суммы данных в таблицах\n",
    "print(monthly_consumption['user_id'].nunique())\n",
    "print(monthly_consumption['messages_sum'].sum())\n",
    "print(monthly_messages_sum['messages_sum'].sum())\n",
    "print(monthly_consumption['calls_sum'].sum())\n",
    "print(monthly_calls_duration['calls_sum'].sum())\n",
    "print(monthly_consumption['gb_used'].sum())\n",
    "print(monthly_traffic_volume['gb_used'].sum())"
   ]
  },
  {
   "cell_type": "code",
   "execution_count": 30,
   "id": "ad984348",
   "metadata": {},
   "outputs": [
    {
     "name": "stdout",
     "output_type": "stream",
     "text": [
      "500\n"
     ]
    }
   ],
   "source": [
    "#суммы данных совпали, а два пользователя потерялись\n",
    "#подтянем данные о тарифах из таблицы users в режиме outer и проверим количество пользователей еще раз\n",
    "\n",
    "monthly_consumption = (\n",
    "    pd.merge(monthly_consumption, users[['user_id', 'tariff']], on='user_id', how='outer')\n",
    ")\n",
    "\n",
    "print(monthly_consumption['user_id'].nunique())"
   ]
  },
  {
   "cell_type": "code",
   "execution_count": 31,
   "id": "f64f0f19",
   "metadata": {},
   "outputs": [
    {
     "data": {
      "text/html": [
       "<div>\n",
       "<style scoped>\n",
       "    .dataframe tbody tr th:only-of-type {\n",
       "        vertical-align: middle;\n",
       "    }\n",
       "\n",
       "    .dataframe tbody tr th {\n",
       "        vertical-align: top;\n",
       "    }\n",
       "\n",
       "    .dataframe thead th {\n",
       "        text-align: right;\n",
       "    }\n",
       "</style>\n",
       "<table border=\"1\" class=\"dataframe\">\n",
       "  <thead>\n",
       "    <tr style=\"text-align: right;\">\n",
       "      <th></th>\n",
       "      <th>user_id</th>\n",
       "      <th>age</th>\n",
       "      <th>churn_date</th>\n",
       "      <th>city</th>\n",
       "      <th>first_name</th>\n",
       "      <th>last_name</th>\n",
       "      <th>reg_date</th>\n",
       "      <th>tariff</th>\n",
       "    </tr>\n",
       "  </thead>\n",
       "  <tbody>\n",
       "    <tr>\n",
       "      <th>128</th>\n",
       "      <td>1128</td>\n",
       "      <td>51</td>\n",
       "      <td>2018-12-23</td>\n",
       "      <td>Волжский</td>\n",
       "      <td>Ксения</td>\n",
       "      <td>Агаева</td>\n",
       "      <td>2018-12-15</td>\n",
       "      <td>ultra</td>\n",
       "    </tr>\n",
       "    <tr>\n",
       "      <th>371</th>\n",
       "      <td>1371</td>\n",
       "      <td>50</td>\n",
       "      <td>2018-12-30</td>\n",
       "      <td>Омск</td>\n",
       "      <td>Ириней</td>\n",
       "      <td>Трофимов</td>\n",
       "      <td>2018-12-25</td>\n",
       "      <td>smart</td>\n",
       "    </tr>\n",
       "  </tbody>\n",
       "</table>\n",
       "</div>"
      ],
      "text/plain": [
       "     user_id  age churn_date      city first_name last_name   reg_date tariff\n",
       "128     1128   51 2018-12-23  Волжский     Ксения    Агаева 2018-12-15  ultra\n",
       "371     1371   50 2018-12-30      Омск     Ириней  Трофимов 2018-12-25  smart"
      ]
     },
     "execution_count": 31,
     "metadata": {},
     "output_type": "execute_result"
    }
   ],
   "source": [
    "#получается два пользователя вообще не пользовались услугами\n",
    "#найдем их и выведем на экран\n",
    "sleep_users = monthly_consumption.query('month != month')['user_id'].tolist()\n",
    "users.query('user_id in @sleep_users')"
   ]
  },
  {
   "cell_type": "code",
   "execution_count": 32,
   "id": "ccaf1d40",
   "metadata": {},
   "outputs": [
    {
     "name": "stdout",
     "output_type": "stream",
     "text": [
      "<class 'pandas.core.frame.DataFrame'>\n",
      "Int64Index: 3216 entries, 0 to 3215\n",
      "Data columns (total 8 columns):\n",
      " #   Column              Non-Null Count  Dtype  \n",
      "---  ------              --------------  -----  \n",
      " 0   user_id             3216 non-null   int64  \n",
      " 1   month               3214 non-null   float64\n",
      " 2   calls_sum           3168 non-null   float64\n",
      " 3   calls_minutes_sum   3168 non-null   float64\n",
      " 4   mean_call_duration  3168 non-null   float64\n",
      " 5   messages_sum        2717 non-null   float64\n",
      " 6   gb_used             3203 non-null   float64\n",
      " 7   tariff              3216 non-null   object \n",
      "dtypes: float64(6), int64(1), object(1)\n",
      "memory usage: 226.1+ KB\n"
     ]
    }
   ],
   "source": [
    "#выведем общую информацию, видим, что заполнены не все значения\n",
    "\n",
    "monthly_consumption.info()"
   ]
  },
  {
   "cell_type": "code",
   "execution_count": 33,
   "id": "2cf2f5ab",
   "metadata": {},
   "outputs": [],
   "source": [
    "#если человек не пользовался какой-то услугой, ее потраченный объем - ноль: заменим все NA на нули.\n",
    "#поскольку \"спящие пользователи\" не влияют на исследование, удалим эти две строки\n",
    "\n",
    "monthly_consumption = monthly_consumption.dropna(subset=['month'])\n",
    "monthly_consumption.fillna(0, inplace=True)"
   ]
  },
  {
   "cell_type": "code",
   "execution_count": 34,
   "id": "5dd52817",
   "metadata": {},
   "outputs": [
    {
     "data": {
      "text/plain": [
       "{'messages_included': {'smart': 50, 'ultra': 1000},\n",
       " 'mb_per_month_included': {'smart': 15360, 'ultra': 30720},\n",
       " 'minutes_included': {'smart': 500, 'ultra': 3000},\n",
       " 'rub_monthly_fee': {'smart': 550, 'ultra': 1950},\n",
       " 'rub_per_gb': {'smart': 200, 'ultra': 150},\n",
       " 'rub_per_message': {'smart': 3, 'ultra': 1},\n",
       " 'rub_per_minute': {'smart': 3, 'ultra': 1}}"
      ]
     },
     "metadata": {},
     "output_type": "display_data"
    }
   ],
   "source": [
    "#создадим словарь с описанием тарифов\n",
    "tariff_description = tariffs.set_index('tariff_name').to_dict()\n",
    "display(tariff_description)"
   ]
  },
  {
   "cell_type": "code",
   "execution_count": 35,
   "id": "a3896c0a",
   "metadata": {},
   "outputs": [],
   "source": [
    "#определим функцию, которая будет считать ежемесячные расходы каждого пользователя\n",
    "def monthly_income(next_line):\n",
    "    dict_key = next_line.loc['tariff']\n",
    "        \n",
    "    monthly_income = (\n",
    "        tariff_description['rub_monthly_fee'][dict_key] \n",
    "        + max((next_line.loc['calls_minutes_sum'] - tariff_description['minutes_included'][dict_key]), 0) * tariff_description['rub_per_minute'][dict_key]\n",
    "        + max((next_line.loc['messages_sum'] - tariff_description['messages_included'][dict_key]), 0) * tariff_description['rub_per_message'][dict_key]\n",
    "        + max((next_line.loc['gb_used'] - tariff_description['mb_per_month_included'][dict_key]/1024), 0) * tariff_description['rub_per_gb'][dict_key]\n",
    "    )\n",
    "    return monthly_income"
   ]
  },
  {
   "cell_type": "code",
   "execution_count": 36,
   "id": "683f275e",
   "metadata": {},
   "outputs": [],
   "source": [
    "#добавим столбец с расходами в нашу таблицу\n",
    "\n",
    "monthly_consumption['monthly_income'] = monthly_consumption.apply(monthly_income, axis=1)"
   ]
  },
  {
   "cell_type": "code",
   "execution_count": 37,
   "id": "67291bc8",
   "metadata": {
    "scrolled": true
   },
   "outputs": [
    {
     "data": {
      "text/html": [
       "<div>\n",
       "<style scoped>\n",
       "    .dataframe tbody tr th:only-of-type {\n",
       "        vertical-align: middle;\n",
       "    }\n",
       "\n",
       "    .dataframe tbody tr th {\n",
       "        vertical-align: top;\n",
       "    }\n",
       "\n",
       "    .dataframe thead th {\n",
       "        text-align: right;\n",
       "    }\n",
       "</style>\n",
       "<table border=\"1\" class=\"dataframe\">\n",
       "  <thead>\n",
       "    <tr style=\"text-align: right;\">\n",
       "      <th></th>\n",
       "      <th>user_id</th>\n",
       "      <th>month</th>\n",
       "      <th>calls_sum</th>\n",
       "      <th>calls_minutes_sum</th>\n",
       "      <th>mean_call_duration</th>\n",
       "      <th>messages_sum</th>\n",
       "      <th>gb_used</th>\n",
       "      <th>tariff</th>\n",
       "      <th>monthly_income</th>\n",
       "    </tr>\n",
       "  </thead>\n",
       "  <tbody>\n",
       "    <tr>\n",
       "      <th>0</th>\n",
       "      <td>1000</td>\n",
       "      <td>5.0</td>\n",
       "      <td>17.0</td>\n",
       "      <td>159.0</td>\n",
       "      <td>9.35</td>\n",
       "      <td>22.0</td>\n",
       "      <td>3.0</td>\n",
       "      <td>ultra</td>\n",
       "      <td>1950.0</td>\n",
       "    </tr>\n",
       "    <tr>\n",
       "      <th>1</th>\n",
       "      <td>1000</td>\n",
       "      <td>6.0</td>\n",
       "      <td>28.0</td>\n",
       "      <td>172.0</td>\n",
       "      <td>6.14</td>\n",
       "      <td>60.0</td>\n",
       "      <td>23.0</td>\n",
       "      <td>ultra</td>\n",
       "      <td>1950.0</td>\n",
       "    </tr>\n",
       "    <tr>\n",
       "      <th>2</th>\n",
       "      <td>1000</td>\n",
       "      <td>7.0</td>\n",
       "      <td>41.0</td>\n",
       "      <td>340.0</td>\n",
       "      <td>8.29</td>\n",
       "      <td>75.0</td>\n",
       "      <td>14.0</td>\n",
       "      <td>ultra</td>\n",
       "      <td>1950.0</td>\n",
       "    </tr>\n",
       "    <tr>\n",
       "      <th>3</th>\n",
       "      <td>1000</td>\n",
       "      <td>8.0</td>\n",
       "      <td>42.0</td>\n",
       "      <td>408.0</td>\n",
       "      <td>9.71</td>\n",
       "      <td>81.0</td>\n",
       "      <td>14.0</td>\n",
       "      <td>ultra</td>\n",
       "      <td>1950.0</td>\n",
       "    </tr>\n",
       "    <tr>\n",
       "      <th>4</th>\n",
       "      <td>1000</td>\n",
       "      <td>9.0</td>\n",
       "      <td>46.0</td>\n",
       "      <td>466.0</td>\n",
       "      <td>10.13</td>\n",
       "      <td>57.0</td>\n",
       "      <td>15.0</td>\n",
       "      <td>ultra</td>\n",
       "      <td>1950.0</td>\n",
       "    </tr>\n",
       "    <tr>\n",
       "      <th>5</th>\n",
       "      <td>1000</td>\n",
       "      <td>10.0</td>\n",
       "      <td>44.0</td>\n",
       "      <td>350.0</td>\n",
       "      <td>7.95</td>\n",
       "      <td>73.0</td>\n",
       "      <td>15.0</td>\n",
       "      <td>ultra</td>\n",
       "      <td>1950.0</td>\n",
       "    </tr>\n",
       "    <tr>\n",
       "      <th>6</th>\n",
       "      <td>1000</td>\n",
       "      <td>11.0</td>\n",
       "      <td>37.0</td>\n",
       "      <td>338.0</td>\n",
       "      <td>9.14</td>\n",
       "      <td>58.0</td>\n",
       "      <td>15.0</td>\n",
       "      <td>ultra</td>\n",
       "      <td>1950.0</td>\n",
       "    </tr>\n",
       "    <tr>\n",
       "      <th>7</th>\n",
       "      <td>1000</td>\n",
       "      <td>12.0</td>\n",
       "      <td>38.0</td>\n",
       "      <td>333.0</td>\n",
       "      <td>8.76</td>\n",
       "      <td>70.0</td>\n",
       "      <td>10.0</td>\n",
       "      <td>ultra</td>\n",
       "      <td>1950.0</td>\n",
       "    </tr>\n",
       "    <tr>\n",
       "      <th>8</th>\n",
       "      <td>1001</td>\n",
       "      <td>11.0</td>\n",
       "      <td>45.0</td>\n",
       "      <td>430.0</td>\n",
       "      <td>9.56</td>\n",
       "      <td>0.0</td>\n",
       "      <td>18.0</td>\n",
       "      <td>smart</td>\n",
       "      <td>1150.0</td>\n",
       "    </tr>\n",
       "    <tr>\n",
       "      <th>9</th>\n",
       "      <td>1001</td>\n",
       "      <td>12.0</td>\n",
       "      <td>47.0</td>\n",
       "      <td>414.0</td>\n",
       "      <td>8.81</td>\n",
       "      <td>0.0</td>\n",
       "      <td>14.0</td>\n",
       "      <td>smart</td>\n",
       "      <td>550.0</td>\n",
       "    </tr>\n",
       "  </tbody>\n",
       "</table>\n",
       "</div>"
      ],
      "text/plain": [
       "   user_id  month  calls_sum  calls_minutes_sum  mean_call_duration  \\\n",
       "0     1000    5.0       17.0              159.0                9.35   \n",
       "1     1000    6.0       28.0              172.0                6.14   \n",
       "2     1000    7.0       41.0              340.0                8.29   \n",
       "3     1000    8.0       42.0              408.0                9.71   \n",
       "4     1000    9.0       46.0              466.0               10.13   \n",
       "5     1000   10.0       44.0              350.0                7.95   \n",
       "6     1000   11.0       37.0              338.0                9.14   \n",
       "7     1000   12.0       38.0              333.0                8.76   \n",
       "8     1001   11.0       45.0              430.0                9.56   \n",
       "9     1001   12.0       47.0              414.0                8.81   \n",
       "\n",
       "   messages_sum  gb_used tariff  monthly_income  \n",
       "0          22.0      3.0  ultra          1950.0  \n",
       "1          60.0     23.0  ultra          1950.0  \n",
       "2          75.0     14.0  ultra          1950.0  \n",
       "3          81.0     14.0  ultra          1950.0  \n",
       "4          57.0     15.0  ultra          1950.0  \n",
       "5          73.0     15.0  ultra          1950.0  \n",
       "6          58.0     15.0  ultra          1950.0  \n",
       "7          70.0     10.0  ultra          1950.0  \n",
       "8           0.0     18.0  smart          1150.0  \n",
       "9           0.0     14.0  smart           550.0  "
      ]
     },
     "execution_count": 37,
     "metadata": {},
     "output_type": "execute_result"
    }
   ],
   "source": [
    "#посмотрим, как выглядит сводная таблица\n",
    "monthly_consumption.head(10)"
   ]
  },
  {
   "cell_type": "code",
   "execution_count": 38,
   "id": "83a2609d",
   "metadata": {},
   "outputs": [
    {
     "name": "stdout",
     "output_type": "stream",
     "text": [
      "<class 'pandas.core.frame.DataFrame'>\n",
      "Int64Index: 3214 entries, 0 to 3213\n",
      "Data columns (total 9 columns):\n",
      " #   Column              Non-Null Count  Dtype  \n",
      "---  ------              --------------  -----  \n",
      " 0   user_id             3214 non-null   int64  \n",
      " 1   month               3214 non-null   float64\n",
      " 2   calls_sum           3214 non-null   float64\n",
      " 3   calls_minutes_sum   3214 non-null   float64\n",
      " 4   mean_call_duration  3214 non-null   float64\n",
      " 5   messages_sum        3214 non-null   float64\n",
      " 6   gb_used             3214 non-null   float64\n",
      " 7   tariff              3214 non-null   object \n",
      " 8   monthly_income      3214 non-null   float64\n",
      "dtypes: float64(7), int64(1), object(1)\n",
      "memory usage: 251.1+ KB\n"
     ]
    }
   ],
   "source": [
    "#выведем основную информацию\n",
    "monthly_consumption.info()"
   ]
  },
  {
   "cell_type": "markdown",
   "id": "668869a0",
   "metadata": {},
   "source": [
    "### Анализ поведения пользователей"
   ]
  },
  {
   "cell_type": "markdown",
   "id": "0a9a4749",
   "metadata": {},
   "source": [
    "Рассмотрим основные характеристики поведения пользователей на разных тарифах."
   ]
  },
  {
   "cell_type": "code",
   "execution_count": 39,
   "id": "c9d6e4d9",
   "metadata": {
    "scrolled": false
   },
   "outputs": [
    {
     "data": {
      "text/html": [
       "<div>\n",
       "<style scoped>\n",
       "    .dataframe tbody tr th:only-of-type {\n",
       "        vertical-align: middle;\n",
       "    }\n",
       "\n",
       "    .dataframe tbody tr th {\n",
       "        vertical-align: top;\n",
       "    }\n",
       "\n",
       "    .dataframe thead th {\n",
       "        text-align: right;\n",
       "    }\n",
       "</style>\n",
       "<table border=\"1\" class=\"dataframe\">\n",
       "  <thead>\n",
       "    <tr style=\"text-align: right;\">\n",
       "      <th></th>\n",
       "      <th>user_id</th>\n",
       "      <th>month</th>\n",
       "      <th>calls_sum</th>\n",
       "      <th>calls_minutes_sum</th>\n",
       "      <th>mean_call_duration</th>\n",
       "      <th>messages_sum</th>\n",
       "      <th>gb_used</th>\n",
       "      <th>monthly_income</th>\n",
       "    </tr>\n",
       "  </thead>\n",
       "  <tbody>\n",
       "    <tr>\n",
       "      <th>count</th>\n",
       "      <td>2229.0</td>\n",
       "      <td>2229.0</td>\n",
       "      <td>2229.0</td>\n",
       "      <td>2229.0</td>\n",
       "      <td>2229.0</td>\n",
       "      <td>2229.0</td>\n",
       "      <td>2229.0</td>\n",
       "      <td>2229.0</td>\n",
       "    </tr>\n",
       "    <tr>\n",
       "      <th>mean</th>\n",
       "      <td>1247.0</td>\n",
       "      <td>8.0</td>\n",
       "      <td>47.0</td>\n",
       "      <td>418.0</td>\n",
       "      <td>9.0</td>\n",
       "      <td>33.0</td>\n",
       "      <td>16.0</td>\n",
       "      <td>1290.0</td>\n",
       "    </tr>\n",
       "    <tr>\n",
       "      <th>std</th>\n",
       "      <td>146.0</td>\n",
       "      <td>3.0</td>\n",
       "      <td>21.0</td>\n",
       "      <td>190.0</td>\n",
       "      <td>1.0</td>\n",
       "      <td>28.0</td>\n",
       "      <td>6.0</td>\n",
       "      <td>818.0</td>\n",
       "    </tr>\n",
       "    <tr>\n",
       "      <th>min</th>\n",
       "      <td>1001.0</td>\n",
       "      <td>1.0</td>\n",
       "      <td>0.0</td>\n",
       "      <td>0.0</td>\n",
       "      <td>0.0</td>\n",
       "      <td>0.0</td>\n",
       "      <td>0.0</td>\n",
       "      <td>550.0</td>\n",
       "    </tr>\n",
       "    <tr>\n",
       "      <th>25%</th>\n",
       "      <td>1121.0</td>\n",
       "      <td>6.0</td>\n",
       "      <td>32.0</td>\n",
       "      <td>282.0</td>\n",
       "      <td>8.0</td>\n",
       "      <td>10.0</td>\n",
       "      <td>13.0</td>\n",
       "      <td>550.0</td>\n",
       "    </tr>\n",
       "    <tr>\n",
       "      <th>50%</th>\n",
       "      <td>1239.0</td>\n",
       "      <td>9.0</td>\n",
       "      <td>47.0</td>\n",
       "      <td>422.0</td>\n",
       "      <td>9.0</td>\n",
       "      <td>28.0</td>\n",
       "      <td>17.0</td>\n",
       "      <td>1023.0</td>\n",
       "    </tr>\n",
       "    <tr>\n",
       "      <th>75%</th>\n",
       "      <td>1376.0</td>\n",
       "      <td>11.0</td>\n",
       "      <td>61.0</td>\n",
       "      <td>545.0</td>\n",
       "      <td>9.0</td>\n",
       "      <td>51.0</td>\n",
       "      <td>20.0</td>\n",
       "      <td>1750.0</td>\n",
       "    </tr>\n",
       "    <tr>\n",
       "      <th>max</th>\n",
       "      <td>1499.0</td>\n",
       "      <td>12.0</td>\n",
       "      <td>162.0</td>\n",
       "      <td>1435.0</td>\n",
       "      <td>18.0</td>\n",
       "      <td>143.0</td>\n",
       "      <td>38.0</td>\n",
       "      <td>6770.0</td>\n",
       "    </tr>\n",
       "  </tbody>\n",
       "</table>\n",
       "</div>"
      ],
      "text/plain": [
       "       user_id   month  calls_sum  calls_minutes_sum  mean_call_duration  \\\n",
       "count   2229.0  2229.0     2229.0             2229.0              2229.0   \n",
       "mean    1247.0     8.0       47.0              418.0                 9.0   \n",
       "std      146.0     3.0       21.0              190.0                 1.0   \n",
       "min     1001.0     1.0        0.0                0.0                 0.0   \n",
       "25%     1121.0     6.0       32.0              282.0                 8.0   \n",
       "50%     1239.0     9.0       47.0              422.0                 9.0   \n",
       "75%     1376.0    11.0       61.0              545.0                 9.0   \n",
       "max     1499.0    12.0      162.0             1435.0                18.0   \n",
       "\n",
       "       messages_sum  gb_used  monthly_income  \n",
       "count        2229.0   2229.0          2229.0  \n",
       "mean           33.0     16.0          1290.0  \n",
       "std            28.0      6.0           818.0  \n",
       "min             0.0      0.0           550.0  \n",
       "25%            10.0     13.0           550.0  \n",
       "50%            28.0     17.0          1023.0  \n",
       "75%            51.0     20.0          1750.0  \n",
       "max           143.0     38.0          6770.0  "
      ]
     },
     "metadata": {},
     "output_type": "display_data"
    },
    {
     "data": {
      "text/html": [
       "<div>\n",
       "<style scoped>\n",
       "    .dataframe tbody tr th:only-of-type {\n",
       "        vertical-align: middle;\n",
       "    }\n",
       "\n",
       "    .dataframe tbody tr th {\n",
       "        vertical-align: top;\n",
       "    }\n",
       "\n",
       "    .dataframe thead th {\n",
       "        text-align: right;\n",
       "    }\n",
       "</style>\n",
       "<table border=\"1\" class=\"dataframe\">\n",
       "  <thead>\n",
       "    <tr style=\"text-align: right;\">\n",
       "      <th></th>\n",
       "      <th>user_id</th>\n",
       "      <th>month</th>\n",
       "      <th>calls_sum</th>\n",
       "      <th>calls_minutes_sum</th>\n",
       "      <th>mean_call_duration</th>\n",
       "      <th>messages_sum</th>\n",
       "      <th>gb_used</th>\n",
       "      <th>monthly_income</th>\n",
       "    </tr>\n",
       "  </thead>\n",
       "  <tbody>\n",
       "    <tr>\n",
       "      <th>count</th>\n",
       "      <td>985.0</td>\n",
       "      <td>985.0</td>\n",
       "      <td>985.0</td>\n",
       "      <td>985.0</td>\n",
       "      <td>985.0</td>\n",
       "      <td>985.0</td>\n",
       "      <td>985.0</td>\n",
       "      <td>985.0</td>\n",
       "    </tr>\n",
       "    <tr>\n",
       "      <th>mean</th>\n",
       "      <td>1263.0</td>\n",
       "      <td>8.0</td>\n",
       "      <td>59.0</td>\n",
       "      <td>527.0</td>\n",
       "      <td>9.0</td>\n",
       "      <td>49.0</td>\n",
       "      <td>19.0</td>\n",
       "      <td>2070.0</td>\n",
       "    </tr>\n",
       "    <tr>\n",
       "      <th>std</th>\n",
       "      <td>141.0</td>\n",
       "      <td>3.0</td>\n",
       "      <td>36.0</td>\n",
       "      <td>318.0</td>\n",
       "      <td>2.0</td>\n",
       "      <td>48.0</td>\n",
       "      <td>10.0</td>\n",
       "      <td>376.0</td>\n",
       "    </tr>\n",
       "    <tr>\n",
       "      <th>min</th>\n",
       "      <td>1000.0</td>\n",
       "      <td>1.0</td>\n",
       "      <td>0.0</td>\n",
       "      <td>0.0</td>\n",
       "      <td>0.0</td>\n",
       "      <td>0.0</td>\n",
       "      <td>0.0</td>\n",
       "      <td>1950.0</td>\n",
       "    </tr>\n",
       "    <tr>\n",
       "      <th>25%</th>\n",
       "      <td>1143.0</td>\n",
       "      <td>6.0</td>\n",
       "      <td>33.0</td>\n",
       "      <td>284.0</td>\n",
       "      <td>8.0</td>\n",
       "      <td>6.0</td>\n",
       "      <td>12.0</td>\n",
       "      <td>1950.0</td>\n",
       "    </tr>\n",
       "    <tr>\n",
       "      <th>50%</th>\n",
       "      <td>1277.0</td>\n",
       "      <td>9.0</td>\n",
       "      <td>58.0</td>\n",
       "      <td>518.0</td>\n",
       "      <td>9.0</td>\n",
       "      <td>38.0</td>\n",
       "      <td>19.0</td>\n",
       "      <td>1950.0</td>\n",
       "    </tr>\n",
       "    <tr>\n",
       "      <th>75%</th>\n",
       "      <td>1381.0</td>\n",
       "      <td>11.0</td>\n",
       "      <td>84.0</td>\n",
       "      <td>752.0</td>\n",
       "      <td>9.0</td>\n",
       "      <td>79.0</td>\n",
       "      <td>27.0</td>\n",
       "      <td>1950.0</td>\n",
       "    </tr>\n",
       "    <tr>\n",
       "      <th>max</th>\n",
       "      <td>1495.0</td>\n",
       "      <td>12.0</td>\n",
       "      <td>190.0</td>\n",
       "      <td>1673.0</td>\n",
       "      <td>18.0</td>\n",
       "      <td>224.0</td>\n",
       "      <td>49.0</td>\n",
       "      <td>4800.0</td>\n",
       "    </tr>\n",
       "  </tbody>\n",
       "</table>\n",
       "</div>"
      ],
      "text/plain": [
       "       user_id  month  calls_sum  calls_minutes_sum  mean_call_duration  \\\n",
       "count    985.0  985.0      985.0              985.0               985.0   \n",
       "mean    1263.0    8.0       59.0              527.0                 9.0   \n",
       "std      141.0    3.0       36.0              318.0                 2.0   \n",
       "min     1000.0    1.0        0.0                0.0                 0.0   \n",
       "25%     1143.0    6.0       33.0              284.0                 8.0   \n",
       "50%     1277.0    9.0       58.0              518.0                 9.0   \n",
       "75%     1381.0   11.0       84.0              752.0                 9.0   \n",
       "max     1495.0   12.0      190.0             1673.0                18.0   \n",
       "\n",
       "       messages_sum  gb_used  monthly_income  \n",
       "count         985.0    985.0           985.0  \n",
       "mean           49.0     19.0          2070.0  \n",
       "std            48.0     10.0           376.0  \n",
       "min             0.0      0.0          1950.0  \n",
       "25%             6.0     12.0          1950.0  \n",
       "50%            38.0     19.0          1950.0  \n",
       "75%            79.0     27.0          1950.0  \n",
       "max           224.0     49.0          4800.0  "
      ]
     },
     "execution_count": 39,
     "metadata": {},
     "output_type": "execute_result"
    }
   ],
   "source": [
    "#для начала выведем на экран основные статистические характеристики выборки\n",
    "\n",
    "display(monthly_consumption.query('tariff == \"smart\" ').describe().round(0))\n",
    "monthly_consumption.query('tariff == \"ultra\" ').describe().round(0)"
   ]
  },
  {
   "cell_type": "code",
   "execution_count": 40,
   "id": "b20c7f92",
   "metadata": {},
   "outputs": [
    {
     "name": "stdout",
     "output_type": "stream",
     "text": [
      "Лимит на разговоры превысило хотя бы раз 213 пользователей Смарта\n",
      "Лимит на смс превысило хотя бы раз 125 пользователей Смарта\n",
      "Лимит на трафик превысило хотя бы раз 310 пользователей Смарта\n",
      "Лимит на трафик превысило хотя бы раз 43 пользователей Ультры\n",
      "500.0\n",
      "15.0\n",
      "553.0\n",
      "30.0\n",
      "1986.8399999999992\n"
     ]
    }
   ],
   "source": [
    "#посчитаем сколько пользователей тарифа Смарт превышают лимит на разговоры, смс-ки и интернет\n",
    "print('Лимит на разговоры превысило хотя бы раз', \n",
    "      monthly_consumption.query('tariff == \"smart\" and calls_minutes_sum > 500')['user_id'].nunique(), \n",
    "      'пользователей Смарта')\n",
    "print('Лимит на смс превысило хотя бы раз', \n",
    "      monthly_consumption.query('tariff == \"smart\" and messages_sum > 50')['user_id'].nunique(), \n",
    "      'пользователей Смарта')\n",
    "print('Лимит на трафик превысило хотя бы раз', \n",
    "      monthly_consumption.query('tariff == \"smart\" and gb_used > 15')['user_id'].nunique(), \n",
    "      'пользователей Смарта')\n",
    "\n",
    "#посчитаем, сколько пользователей тарифа Ультра хотя бы раз превысило лимит на интернет\n",
    "print('Лимит на трафик превысило хотя бы раз', \n",
    "      monthly_consumption.query('tariff == \"ultra\" and gb_used > 30')['user_id'].nunique(), \n",
    "      'пользователей Ультры')\n",
    "\n",
    "#подберем квантиль по лимитам смарта, чтобы оценить процент переплат в среднем в месяц\n",
    "print(monthly_consumption.query('tariff == \"smart\" ')['calls_minutes_sum'].quantile(0.661))\n",
    "print(monthly_consumption.query('tariff == \"smart\" ')['gb_used'].quantile(0.41))\n",
    "print(monthly_consumption.query('tariff == \"smart\" ')['monthly_income'].quantile(0.255))\n",
    "\n",
    "print(monthly_consumption.query('tariff == \"ultra\" ')['gb_used'].quantile(0.85))\n",
    "print(monthly_consumption.query('tariff == \"smart\" ')['monthly_income'].quantile(0.82))"
   ]
  },
  {
   "cell_type": "code",
   "execution_count": 41,
   "id": "86b96c42",
   "metadata": {},
   "outputs": [
    {
     "data": {
      "text/html": [
       "<div>\n",
       "<style scoped>\n",
       "    .dataframe tbody tr th:only-of-type {\n",
       "        vertical-align: middle;\n",
       "    }\n",
       "\n",
       "    .dataframe tbody tr th {\n",
       "        vertical-align: top;\n",
       "    }\n",
       "\n",
       "    .dataframe thead th {\n",
       "        text-align: right;\n",
       "    }\n",
       "</style>\n",
       "<table border=\"1\" class=\"dataframe\">\n",
       "  <thead>\n",
       "    <tr style=\"text-align: right;\">\n",
       "      <th></th>\n",
       "      <th>calls_minutes_sum</th>\n",
       "      <th>gb_used</th>\n",
       "      <th>messages_sum</th>\n",
       "      <th>monthly_income</th>\n",
       "    </tr>\n",
       "    <tr>\n",
       "      <th>smart</th>\n",
       "      <th></th>\n",
       "      <th></th>\n",
       "      <th></th>\n",
       "      <th></th>\n",
       "    </tr>\n",
       "  </thead>\n",
       "  <tbody>\n",
       "    <tr>\n",
       "      <th>mean</th>\n",
       "      <td>418.0</td>\n",
       "      <td>16.0</td>\n",
       "      <td>33.0</td>\n",
       "      <td>1290.0</td>\n",
       "    </tr>\n",
       "    <tr>\n",
       "      <th>variance</th>\n",
       "      <td>36219.0</td>\n",
       "      <td>33.0</td>\n",
       "      <td>797.0</td>\n",
       "      <td>669786.0</td>\n",
       "    </tr>\n",
       "    <tr>\n",
       "      <th>std</th>\n",
       "      <td>190.0</td>\n",
       "      <td>6.0</td>\n",
       "      <td>28.0</td>\n",
       "      <td>818.0</td>\n",
       "    </tr>\n",
       "  </tbody>\n",
       "</table>\n",
       "</div>"
      ],
      "text/plain": [
       "          calls_minutes_sum  gb_used  messages_sum  monthly_income\n",
       "smart                                                             \n",
       "mean                  418.0     16.0          33.0          1290.0\n",
       "variance            36219.0     33.0         797.0        669786.0\n",
       "std                   190.0      6.0          28.0           818.0"
      ]
     },
     "metadata": {},
     "output_type": "display_data"
    }
   ],
   "source": [
    "#соберём в отдельную таблицу средние, дисперсии и стандартное отклонение для основных параметров тарифа Смарт\n",
    "\n",
    "smart_stat = (\n",
    "    monthly_consumption\n",
    "    .query('tariff == \"smart\"')\n",
    "    .pivot_table(index='tariff', values=['calls_minutes_sum', 'messages_sum', 'gb_used', 'monthly_income'], aggfunc='mean')\n",
    ")\n",
    "\n",
    "smart_stat.rename(index={'smart': 'mean'}, inplace=True)\n",
    "smart_stat.index.names = ['smart']\n",
    "\n",
    "for element in ['calls_minutes_sum', 'messages_sum', 'gb_used', 'monthly_income']:\n",
    "    np.var(monthly_consumption.query('tariff == \"smart\"')[element])\n",
    "    smart_stat.loc['variance', element] = np.var(monthly_consumption.query('tariff == \"smart\"')[element], ddof=1)\n",
    "    smart_stat.loc['std', element] = np.sqrt(smart_stat.loc['variance', element])\n",
    "    \n",
    "smart_stat = smart_stat.round(0)\n",
    "display(smart_stat)"
   ]
  },
  {
   "cell_type": "code",
   "execution_count": 42,
   "id": "86707767",
   "metadata": {},
   "outputs": [
    {
     "data": {
      "text/html": [
       "<div>\n",
       "<style scoped>\n",
       "    .dataframe tbody tr th:only-of-type {\n",
       "        vertical-align: middle;\n",
       "    }\n",
       "\n",
       "    .dataframe tbody tr th {\n",
       "        vertical-align: top;\n",
       "    }\n",
       "\n",
       "    .dataframe thead th {\n",
       "        text-align: right;\n",
       "    }\n",
       "</style>\n",
       "<table border=\"1\" class=\"dataframe\">\n",
       "  <thead>\n",
       "    <tr style=\"text-align: right;\">\n",
       "      <th></th>\n",
       "      <th>calls_minutes_sum</th>\n",
       "      <th>gb_used</th>\n",
       "      <th>messages_sum</th>\n",
       "      <th>monthly_income</th>\n",
       "    </tr>\n",
       "    <tr>\n",
       "      <th>ultra</th>\n",
       "      <th></th>\n",
       "      <th></th>\n",
       "      <th></th>\n",
       "      <th></th>\n",
       "    </tr>\n",
       "  </thead>\n",
       "  <tbody>\n",
       "    <tr>\n",
       "      <th>mean</th>\n",
       "      <td>527.0</td>\n",
       "      <td>19.0</td>\n",
       "      <td>49.0</td>\n",
       "      <td>2070.0</td>\n",
       "    </tr>\n",
       "    <tr>\n",
       "      <th>variance</th>\n",
       "      <td>100874.0</td>\n",
       "      <td>97.0</td>\n",
       "      <td>2285.0</td>\n",
       "      <td>141517.0</td>\n",
       "    </tr>\n",
       "    <tr>\n",
       "      <th>std</th>\n",
       "      <td>318.0</td>\n",
       "      <td>10.0</td>\n",
       "      <td>48.0</td>\n",
       "      <td>376.0</td>\n",
       "    </tr>\n",
       "  </tbody>\n",
       "</table>\n",
       "</div>"
      ],
      "text/plain": [
       "          calls_minutes_sum  gb_used  messages_sum  monthly_income\n",
       "ultra                                                             \n",
       "mean                  527.0     19.0          49.0          2070.0\n",
       "variance           100874.0     97.0        2285.0        141517.0\n",
       "std                   318.0     10.0          48.0           376.0"
      ]
     },
     "metadata": {},
     "output_type": "display_data"
    }
   ],
   "source": [
    "#то же самое для тарифа Ультра\n",
    "\n",
    "ultra_stat = (\n",
    "    monthly_consumption\n",
    "    .query('tariff == \"ultra\"')\n",
    "    .pivot_table(index='tariff', values=['calls_minutes_sum', 'messages_sum', 'gb_used', 'monthly_income'], aggfunc='mean')\n",
    ")\n",
    "\n",
    "ultra_stat.rename(index={'ultra': 'mean'}, inplace=True)\n",
    "ultra_stat.index.names = ['ultra']\n",
    "\n",
    "for element in ['calls_minutes_sum', 'messages_sum', 'gb_used', 'monthly_income']:\n",
    "    np.var(monthly_consumption.query('tariff == \"ultra\"')[element])\n",
    "    ultra_stat.loc['variance', element] = np.var(monthly_consumption.query('tariff == \"ultra\"')[element], ddof=1)\n",
    "    ultra_stat.loc['std', element] = np.sqrt(ultra_stat.loc['variance', element])\n",
    "    \n",
    "ultra_stat = ultra_stat.round(0)\n",
    "display(ultra_stat)"
   ]
  },
  {
   "cell_type": "code",
   "execution_count": 43,
   "id": "0659d959",
   "metadata": {},
   "outputs": [
    {
     "data": {
      "text/html": [
       "<div>\n",
       "<style scoped>\n",
       "    .dataframe tbody tr th:only-of-type {\n",
       "        vertical-align: middle;\n",
       "    }\n",
       "\n",
       "    .dataframe tbody tr th {\n",
       "        vertical-align: top;\n",
       "    }\n",
       "\n",
       "    .dataframe thead th {\n",
       "        text-align: right;\n",
       "    }\n",
       "</style>\n",
       "<table border=\"1\" class=\"dataframe\">\n",
       "  <thead>\n",
       "    <tr style=\"text-align: right;\">\n",
       "      <th></th>\n",
       "      <th>count</th>\n",
       "      <th>mean</th>\n",
       "      <th>std</th>\n",
       "      <th>min</th>\n",
       "      <th>25%</th>\n",
       "      <th>50%</th>\n",
       "      <th>75%</th>\n",
       "      <th>max</th>\n",
       "    </tr>\n",
       "    <tr>\n",
       "      <th>tariff</th>\n",
       "      <th></th>\n",
       "      <th></th>\n",
       "      <th></th>\n",
       "      <th></th>\n",
       "      <th></th>\n",
       "      <th></th>\n",
       "      <th></th>\n",
       "      <th></th>\n",
       "    </tr>\n",
       "  </thead>\n",
       "  <tbody>\n",
       "    <tr>\n",
       "      <th>smart</th>\n",
       "      <td>351.0</td>\n",
       "      <td>46.0</td>\n",
       "      <td>17.0</td>\n",
       "      <td>18.0</td>\n",
       "      <td>32.0</td>\n",
       "      <td>47.0</td>\n",
       "      <td>62.0</td>\n",
       "      <td>75.0</td>\n",
       "    </tr>\n",
       "    <tr>\n",
       "      <th>ultra</th>\n",
       "      <td>149.0</td>\n",
       "      <td>47.0</td>\n",
       "      <td>17.0</td>\n",
       "      <td>18.0</td>\n",
       "      <td>31.0</td>\n",
       "      <td>46.0</td>\n",
       "      <td>63.0</td>\n",
       "      <td>75.0</td>\n",
       "    </tr>\n",
       "  </tbody>\n",
       "</table>\n",
       "</div>"
      ],
      "text/plain": [
       "        count  mean   std   min   25%   50%   75%   max\n",
       "tariff                                                 \n",
       "smart   351.0  46.0  17.0  18.0  32.0  47.0  62.0  75.0\n",
       "ultra   149.0  47.0  17.0  18.0  31.0  46.0  63.0  75.0"
      ]
     },
     "execution_count": 43,
     "metadata": {},
     "output_type": "execute_result"
    }
   ],
   "source": [
    "#выведем характеристики для возрастов пользователей\n",
    "users.groupby('tariff')['age'].describe().round(0)"
   ]
  },
  {
   "cell_type": "code",
   "execution_count": 44,
   "id": "40ee32e6",
   "metadata": {},
   "outputs": [
    {
     "name": "stdout",
     "output_type": "stream",
     "text": [
      "0.198\n",
      "0.078\n"
     ]
    },
    {
     "data": {
      "text/plain": [
       "Москва             99\n",
       "Санкт-Петербург    39\n",
       "Новосибирск        16\n",
       "Омск               14\n",
       "Казань             14\n",
       "                   ..\n",
       "Архангельск         1\n",
       "Иваново             1\n",
       "Нижневартовск       1\n",
       "Химки               1\n",
       "Подольск            1\n",
       "Name: city, Length: 76, dtype: int64"
      ]
     },
     "execution_count": 44,
     "metadata": {},
     "output_type": "execute_result"
    }
   ],
   "source": [
    "#выведем количество абонентов по городам\n",
    "print(users.loc[users['city'] == 'Москва']['city'].count()/len(users))\n",
    "print(users.loc[users['city'] == 'Санкт-Петербург']['city'].count()/len(users))\n",
    "users['city'].value_counts()"
   ]
  },
  {
   "cell_type": "markdown",
   "id": "8221e6fc",
   "metadata": {},
   "source": [
    "### Статистические характеристики тарифов"
   ]
  },
  {
   "cell_type": "markdown",
   "id": "3b2a4952",
   "metadata": {},
   "source": [
    "В изученной выборке распределение между тарифами Смарт и Ультра - 70 и 30% (351 и 149 человек соответственно). Предположительно, выбор тарифа не зависит от возрастра - в обоих случаях тариф выбирают пользователи возрастом от 18 до 75 лет, при этом средний возраст различается незначительно - 47 и 46 лет. Примерно 20% пользователей из Москвы, еще 8% - из Санкт-Петербурга, остальной объем приходится на регионы. </br>\n",
    "</br>\n",
    "**Описание поведения пользователей**</br>\n",
    "**Тариф \"Смарт\":** В среднем пользователи тарифа \"Смарт\" совершают в месяц около 47 звонков суммарной продолжительностью около 420 минут, отправляют порядка 30 сообщений, расходуют 17 Гб трафика и тратят на это около 1023 рубля ежемесячно.</br>\n",
    "Только в 25% случаев абоненты укладываются только в абонентскую плату в 550 рублей, в остальных случаях траты выше; максимальные расходы на этом тарифе составили 6770 рублей. Судя по всему, современные пользователи привыкли к достаточно свободному использованию услуг связи и поэтому лимиты, включенные в абонентскую плату \"Смарта\", оказываются недостаточными.</br>\n",
    "Рассмотрим подробнее.</br>\n",
    "Так, более половины пользователей - 60% - хотя бы раз в год превысили тарифный порог в 500 минут. Треть пользователей хотя бы раз превысила количество бесплатных смс. И 310 человек из 351 (88%) превышают порог используемого трафика.</br>\n",
    "Ежемесячно примерно треть абонентов переплачивает за превышение лимита продолжительности разговоров, 25% - за излишнюю смс-активность и 60% - за использование интернета. </br>\n",
    "</br>\n",
    "**Тариф \"Ультра\":** Пользователи тарифа \"Ультра\" совершают ежемесячно около 60 звонков общей продолжительностью порядка 520 минут, отправляют 49 смс, тратят 19 Гб трафика и платят за услуги связи 1950 рублей.</br>\n",
    "Достаточно высокие лимиты на звонки и смс, включенные в абонентскую плату, позволяют клиентам тарифа использовать эти услуги без переплат. Единственное, что превышают пользователи - около 30% от всех абонентов Ультры - это объем трафика. </br>\n",
    "Ежемесячно за использование интернета сверх установленной абонентской платы они платят в 18% случаев. Максимальная плата по тарифу за год составила 4800 рублей.</br>\n",
    "</br>\n",
    "Также стоит отметить, что стандартное отклонение и дисперсия для тарифа Ультра выше, чем для Смарта - это значит, что значения, характеризующие поведение пользователей Ультры, сильнее размазаны относительно среднего. Медианы ежемесячного дохода на обоих тарифах смещены относительно среднего - значит и на том, и на другом тарифе есть случаи заметных переплат. </br>\n",
    "В целом, можно сказать, что абоненты тарифа Ультра не расходуют лимиты полностью, редко выходят за их рамки и все эти ситуации связаны с пользованием интернет-трафиком. А вот пользователи тарифа Смарт достаточно часто превышают все три лимита - но при этом их средние расходы остаются ниже, чем у абонентов Ультры. </br>\n",
    "Интересный момент - несмотря на серьезную разницу в лимитах на разговоры, средняя длительность разговора на обоих тарифах примерно одинакова и составляет порядка 9 минут.</br>\n",
    "</br>\n",
    "</br>\n",
    "Для наглядности выведем несколько гистограм."
   ]
  },
  {
   "cell_type": "code",
   "execution_count": 45,
   "id": "60f50036",
   "metadata": {},
   "outputs": [
    {
     "data": {
      "image/png": "[encoded data removed]",
      "text/plain": [
       "<Figure size 576x360 with 1 Axes>"
      ]
     },
     "metadata": {
      "needs_background": "light"
     },
     "output_type": "display_data"
    }
   ],
   "source": [
    "#выведем гистограммы распределения\n",
    "\n",
    "monthly_consumption.groupby('tariff')['calls_minutes_sum'].plot(kind='hist', bins=50, alpha=0.7, legend=True, figsize=(8, 5));\n",
    "plt.xlabel('Длительность разговоров, мин./мес.')\n",
    "plt.ylabel('Плотность распределения')\n",
    "plt.suptitle('Распределение ежемесячной суммарной длительности разговоров', fontsize=12)\n",
    "plt.title('Лимиты: Смарт - 500 мин., Ультра - 3000 мин.', fontsize=10)\n",
    "plt.show()\n"
   ]
  },
  {
   "cell_type": "code",
   "execution_count": 46,
   "id": "75b32a6c",
   "metadata": {},
   "outputs": [
    {
     "data": {
      "image/png": "[encoded data removed]",
      "text/plain": [
       "<Figure size 576x360 with 1 Axes>"
      ]
     },
     "metadata": {
      "needs_background": "light"
     },
     "output_type": "display_data"
    }
   ],
   "source": [
    "monthly_consumption.loc[monthly_consumption['tariff'] == 'ultra'].plot(y='calls_minutes_sum', kind='hist', bins=50, alpha=0.7, legend=True, figsize=(8, 5));\n",
    "plt.xlabel('Длительность разговоров, мин./мес.')\n",
    "plt.ylabel('Плотность распределения')\n",
    "plt.suptitle('Распределение ежемесячной суммарной длительности разговоров абонентов Ультра', fontsize=12)\n",
    "plt.show()"
   ]
  },
  {
   "cell_type": "markdown",
   "id": "47549986",
   "metadata": {},
   "source": [
    "Видно, что гистограмма для длительности разговоров Смарта более узкая и напоминает срезанное нормальное распределение. Около трети, как было сказано ранее, лежит выше лимита на разговоры.</br>\n",
    "Длительность разговоров Ультры гораздо сильнее размазана, пик выражен достаточно слабо. Почти все значения находятся ниже 1500 - это в 2 раза меньше, чем доступный лимит в 3000 минут. </br>\n",
    "Пики в районе нуля обозначают, что на обоих тарифах есть абоненты, которые вообще не пользуются звонками. Причем на Ультре их заметно больше - вероятно, решающим при выборе тарифа для этих пользователей был объем доступного трафика (вряд ли 1000 бесплатных смс).</br>"
   ]
  },
  {
   "cell_type": "code",
   "execution_count": 47,
   "id": "efd7b6e3",
   "metadata": {},
   "outputs": [
    {
     "data": {
      "image/png": "[encoded data removed]",
      "text/plain": [
       "<Figure size 576x360 with 1 Axes>"
      ]
     },
     "metadata": {
      "needs_background": "light"
     },
     "output_type": "display_data"
    }
   ],
   "source": [
    "monthly_consumption.groupby('tariff')['mean_call_duration'].plot(kind='hist', bins=50, alpha=0.7, legend=True, figsize=(8, 5));\n",
    "plt.xlabel('Продолжительность разговора, мин.')\n",
    "plt.ylabel('Плотность распределения')\n",
    "plt.suptitle('Распределение продолжительности разговоров', fontsize=12)\n",
    "plt.show()"
   ]
  },
  {
   "cell_type": "markdown",
   "id": "20c99e31",
   "metadata": {},
   "source": [
    "Видно, что длительность разговоров не зависит от тарифа и, скорее всего, может быть описана нормальным распределением."
   ]
  },
  {
   "cell_type": "code",
   "execution_count": 48,
   "id": "c7ffbbab",
   "metadata": {},
   "outputs": [
    {
     "data": {
      "image/png": "[encoded data removed]",
      "text/plain": [
       "<Figure size 576x360 with 1 Axes>"
      ]
     },
     "metadata": {
      "needs_background": "light"
     },
     "output_type": "display_data"
    }
   ],
   "source": [
    "monthly_consumption.groupby('tariff')['calls_sum'].plot(kind='hist', bins=50, alpha=0.7, legend=True, figsize=(8, 5));\n",
    "plt.xlabel('Звонки, шт./мес.')\n",
    "plt.ylabel('Плотность распределения')\n",
    "plt.suptitle('Ежемесячное суммарное количество звонков', fontsize=12)\n",
    "plt.show()"
   ]
  },
  {
   "cell_type": "code",
   "execution_count": 49,
   "id": "2f52f7b5",
   "metadata": {},
   "outputs": [
    {
     "data": {
      "image/png": "[encoded data removed]",
      "text/plain": [
       "<Figure size 576x360 with 1 Axes>"
      ]
     },
     "metadata": {
      "needs_background": "light"
     },
     "output_type": "display_data"
    }
   ],
   "source": [
    "monthly_consumption.loc[monthly_consumption['tariff'] == 'ultra'].plot(y='calls_sum', kind='hist', bins=50, alpha=0.7, legend=True, figsize=(8, 5));\n",
    "plt.xlabel('Звонки, шт./мес.')\n",
    "plt.ylabel('Плотность распределения')\n",
    "plt.suptitle('Ежемесячное суммарное количество звонков для абонентов Ультра', fontsize=12)\n",
    "plt.show()"
   ]
  },
  {
   "cell_type": "markdown",
   "id": "30f4d4c0",
   "metadata": {},
   "source": [
    "С количеством звонков картина похожая на картину с продолжительностью - на Смарте есть выраженный пик и само распределение заметно уже, чем у Ультры, где имеют более широкое распределение. "
   ]
  },
  {
   "cell_type": "code",
   "execution_count": 50,
   "id": "8efa0ac3",
   "metadata": {},
   "outputs": [
    {
     "data": {
      "image/png": "[encoded data removed]",
      "text/plain": [
       "<Figure size 576x360 with 1 Axes>"
      ]
     },
     "metadata": {
      "needs_background": "light"
     },
     "output_type": "display_data"
    }
   ],
   "source": [
    "monthly_consumption.groupby('tariff')['messages_sum'].plot(kind='hist', bins=30, alpha=0.7, legend=True, figsize=(8, 5));\n",
    "plt.xlabel('СМС, шт./мес.')\n",
    "plt.ylabel('Плотность распределения')\n",
    "plt.suptitle('Распределение количества отправленных в месяц смс', fontsize=12)\n",
    "plt.title('Лимиты: Смарт - 50 шт., Ультра - 1000 шт.', fontsize=10)\n",
    "plt.show()"
   ]
  },
  {
   "cell_type": "markdown",
   "id": "3586bf37",
   "metadata": {},
   "source": [
    "Заметное количество пользователей на обоих тарифах вообще не пользуется смс-ками.</br>\n",
    "При этом распределение Ультры имеет более выраженный хвост в область больших значений - т.е. высокий лимит на смс располагает к более активной их отправке."
   ]
  },
  {
   "cell_type": "code",
   "execution_count": 51,
   "id": "7f145eb6",
   "metadata": {},
   "outputs": [
    {
     "data": {
      "image/png": "[encoded data removed]",
      "text/plain": [
       "<Figure size 576x360 with 1 Axes>"
      ]
     },
     "metadata": {
      "needs_background": "light"
     },
     "output_type": "display_data"
    }
   ],
   "source": [
    "monthly_consumption.groupby('tariff')['gb_used'].plot(kind='hist', bins=50, alpha=0.7, legend=True, figsize=(8, 5));\n",
    "\n",
    "plt.xlabel('Трафик, Гб/мес.')\n",
    "plt.ylabel('Плотность распределения')\n",
    "plt.suptitle('Распределение ежемесячного расходования трафика', fontsize=12)\n",
    "plt.title('Лимиты: Смарт - 15 Гб, Ультра - 30 Гб', fontsize=10)\n",
    "plt.show()"
   ]
  },
  {
   "cell_type": "code",
   "execution_count": 52,
   "id": "fdd94c81",
   "metadata": {},
   "outputs": [
    {
     "data": {
      "image/png": "[encoded data removed]",
      "text/plain": [
       "<Figure size 576x360 with 1 Axes>"
      ]
     },
     "metadata": {
      "needs_background": "light"
     },
     "output_type": "display_data"
    }
   ],
   "source": [
    "monthly_consumption.loc[monthly_consumption['tariff'] == 'ultra'].plot(y='gb_used', kind='hist', bins=50, alpha=0.7, figsize=(8, 5));\n",
    "plt.xlabel('Трафик, Гб/мес.')\n",
    "plt.ylabel('Плотность распределения')\n",
    "plt.suptitle('Распределение ежемесячного расходования трафика тарифа Ультра', fontsize=12)\n",
    "plt.show()"
   ]
  },
  {
   "cell_type": "markdown",
   "id": "d2e9c399",
   "metadata": {},
   "source": [
    "В целом, можно сказать, что по форме эти распределения похожи - то есть касательно использования трафика пользователи обоих тарифов ведут себя похоже. При этом фактически пик распределения для тарифа Смарта лежит правее установленного лимита в 15 Гб - это еще раз показывает, что пользователи частенько превышают этот объем. А вот пик Ультры лежит лишь немногим правее - несмотря на то, что лимит больше в 2 раза, большая часть абонентов не расходует его полностью."
   ]
  },
  {
   "cell_type": "code",
   "execution_count": 53,
   "id": "7b1e4906",
   "metadata": {},
   "outputs": [
    {
     "data": {
      "image/png": "[encoded data removed]",
      "text/plain": [
       "<Figure size 576x360 with 1 Axes>"
      ]
     },
     "metadata": {
      "needs_background": "light"
     },
     "output_type": "display_data"
    }
   ],
   "source": [
    "monthly_consumption.groupby('tariff')['monthly_income'].plot(kind='hist', bins=50, alpha=0.7, legend=True, figsize=(8, 5));\n",
    "plt.xlabel('Расходы, руб./мес.')\n",
    "plt.ylabel('Плотность распределения')\n",
    "plt.suptitle('Распределение ежемесячных расходов на услуги связи', fontsize=12)\n",
    "plt.show()"
   ]
  },
  {
   "cell_type": "markdown",
   "id": "96aa8451",
   "metadata": {},
   "source": [
    "Здесь видно, что пользователи Ультры гораздо чаще укладываются в \"голую\" абонентскую плату, в то же время пользователей, укладывающихся в лимиты на Смарте, намного меньше, а дополнительные расходы превышают абонентскую плату у большинства. "
   ]
  },
  {
   "cell_type": "code",
   "execution_count": 54,
   "id": "a2283f1c",
   "metadata": {},
   "outputs": [
    {
     "data": {
      "image/png": "[encoded data removed]",
      "text/plain": [
       "<Figure size 576x360 with 1 Axes>"
      ]
     },
     "metadata": {
      "needs_background": "light"
     },
     "output_type": "display_data"
    }
   ],
   "source": [
    "#напоследок изучим распределение возрастов для различных тарифов\n",
    "\n",
    "users.groupby('tariff')['age'].plot(kind='hist', bins=75, alpha=0.7, figsize=(8, 5), legend=True);\n",
    "#users['age'].plot(kind='hist', bins=75, alpha=0.5, legend=True);\n",
    "plt.xlabel('Возраст, лет')\n",
    "plt.ylabel('Плотность распределения')\n",
    "plt.suptitle('Распределение возрастов пользователей', fontsize=12)\n",
    "plt.show()"
   ]
  },
  {
   "cell_type": "markdown",
   "id": "1f7c74f0",
   "metadata": {},
   "source": [
    "Каких-то выраженных пиков для того или иного тарифа не заметно - их оба используют пользователи совершенно разных возрастов."
   ]
  },
  {
   "cell_type": "markdown",
   "id": "aac73e17",
   "metadata": {},
   "source": [
    "### Проверяем гипотезы"
   ]
  },
  {
   "cell_type": "markdown",
   "id": "6c688a12",
   "metadata": {},
   "source": [
    "Ответим на два вопроса, важных для исследования: различается ли выручка тарифов и различается ли выручка для Москвы и других регионов.</br>\n",
    "</br>\n",
    "</br>\n",
    "**Различается ли средняя выручка тарифов?**</br>\n",
    "Есть две выборки из генеральных совокупностей - пользователи тарифа Смарт и пользователи тарифа Ультра. Они выбирают тариф независимо друг от друга, значит генеральные совокупности независимы.</br>\n",
    "Выборки разного размера; их рассмотрение выше показало разную дисперсию - значи при проверке гипотезы будем считать дисперсии отдельно.</br>\n",
    "</br>\n",
    "**Нулевая гипотеза:** средняя месячная выручка по тарифу Смарт равна средней месячной выручке по тарифу Ультра.</br>\n",
    "**Альтернативная гипотеза:** средняя месячная выручка по этим тарифам не равна.</br>\n",
    "Выберем уровень значимости 0.001. Уровень значимости показывает максимальную вероятность случайного получения такого результата. Для изучения тарифов мы используем очень большую выборку с данными о звонках, смс и использовании трафика, а значит вероятность случайных искажений в ней мала и нулевую гипотезу мы можем отвергнуть только при очень низком уровне значимости. </br>\n",
    "</br>\n",
    "**Различается ли выручка в Москве и других регионах?**</br>\n",
    "Есть две выборки из генеральных совокупностей - пользователи из Москвы и пользователи из остальных регионов. Они пользуются услугами связи без влияния друг на друга, значит генеральные совокупности независимы.</br>\n",
    "Выборки разного размера; их рассмотрение выше показало разную дисперсию - значи при проверке гипотезы будем считать дисперсии отдельно.</br>\n",
    "</br>\n",
    "**Нулевая гипотеза:** средняя месячная выручка в Москве равна средней месячной выручке в регионах.</br>\n",
    "**Альтернативная гипотеза:** средняя месячная выручка по выбранным регионам (Москва vs остальные) не равна.</br>\n",
    "Выберем уровень значимости 0.001. Уровень значимости показывает максимальную вероятность случайного получения такого результата. Для изучения тарифов мы используем очень большую выборку с данными о звонках, смс и использовании трафика, а значит вероятность случайных искажений в ней мала и нулевую гипотезу мы можем отвергнуть только при очень низком уровне значимости. </br>\n"
   ]
  },
  {
   "cell_type": "code",
   "execution_count": 55,
   "id": "95611c11",
   "metadata": {},
   "outputs": [],
   "source": [
    "#определим функцию, которая будет принимать на вход p-value и уровень значимости, сравнивать их и отвергать/нет нулевую гипотезу\n",
    "\n",
    "def verdict(pvalue, alpha):\n",
    "    print('pvalue = ', pvalue, ';', 'alpha =', alpha)\n",
    "    if pvalue < alpha:\n",
    "        print(\"Отвергаем нулевую гипотезу\")\n",
    "    else:\n",
    "        print(\"Не получилось отвергнуть нулевую гипотезу\")"
   ]
  },
  {
   "cell_type": "code",
   "execution_count": 56,
   "id": "dc12e9b1",
   "metadata": {},
   "outputs": [
    {
     "name": "stdout",
     "output_type": "stream",
     "text": [
      "pvalue =  4.2606313931076085e-250 ; alpha = 0.001\n",
      "Отвергаем нулевую гипотезу\n"
     ]
    }
   ],
   "source": [
    "#определим две выборки по тарифам\n",
    "smart_users = monthly_consumption.query('tariff == \"smart\" ')['monthly_income']\n",
    "ultra_users = monthly_consumption.query('tariff == \"ultra\" ')['monthly_income']\n",
    "\n",
    "#определим уровень значимости\n",
    "alpha = 0.001\n",
    "\n",
    "#проверим гипотезу t-критерием Стьюдента\n",
    "results = st.ttest_ind(smart_users, ultra_users, equal_var=False)\n",
    "verdict(results.pvalue, alpha)"
   ]
  },
  {
   "cell_type": "markdown",
   "id": "e33b159a",
   "metadata": {},
   "source": [
    "**Нулевая гипотеза отвергнута в пользу альтернативной: данные, полученные на текущей выборке, говорят в пользу того, что средняя выручка на тарифах Смарт и Ультра различается статистически значимо.**"
   ]
  },
  {
   "cell_type": "code",
   "execution_count": 57,
   "id": "594f2dcd",
   "metadata": {},
   "outputs": [
    {
     "name": "stdout",
     "output_type": "stream",
     "text": [
      "[1001, 1003, 1007, 1031, 1033, 1038, 1041, 1049, 1051, 1057, 1062, 1065, 1067, 1068, 1077, 1079, 1080, 1081, 1082, 1102, 1108, 1115, 1132, 1141, 1157, 1162, 1163, 1171, 1175, 1178, 1180, 1190, 1194, 1195, 1201, 1203, 1204, 1205, 1206, 1229, 1235, 1236, 1237, 1244, 1245, 1247, 1248, 1254, 1260, 1268, 1275, 1276, 1283, 1286, 1289, 1291, 1296, 1300, 1305, 1308, 1317, 1321, 1331, 1332, 1333, 1335, 1338, 1339, 1341, 1345, 1347, 1348, 1356, 1359, 1367, 1379, 1381, 1385, 1389, 1395, 1400, 1401, 1415, 1422, 1424, 1434, 1435, 1436, 1440, 1445, 1447, 1449, 1450, 1452, 1453, 1461, 1476, 1481, 1490] 99\n"
     ]
    }
   ],
   "source": [
    "#отберем номера id для юзеров из Москвы\n",
    "moscow_users = users.query('city == \"Москва\"')['user_id'].tolist()\n",
    "print(moscow_users, len(moscow_users))"
   ]
  },
  {
   "cell_type": "code",
   "execution_count": 58,
   "id": "0cd926ec",
   "metadata": {},
   "outputs": [
    {
     "name": "stdout",
     "output_type": "stream",
     "text": [
      "pvalue =  0.5257376663729298 ; alpha = 0.001\n",
      "Не получилось отвергнуть нулевую гипотезу\n"
     ]
    }
   ],
   "source": [
    "#разделим выборку по критерию Москва/ не Москва\n",
    "sample_moscow = monthly_consumption.query('user_id in @moscow_users')['monthly_income']\n",
    "sample_not_moscow = monthly_consumption.query('user_id not in @moscow_users')['monthly_income']\n",
    "\n",
    "#проверим гипотезу о равенстве средних t-критерием Стьюдента\n",
    "results = st.ttest_ind(sample_moscow, sample_not_moscow, equal_var=False)\n",
    "verdict(results.pvalue, alpha)"
   ]
  },
  {
   "cell_type": "markdown",
   "id": "8b8f51a2",
   "metadata": {},
   "source": [
    "**Нулевую гипотезу отвергнуть не получилось: данные, полученные на текущей выборке, не пользволяют получить статистически значимых данных, позволяющих отвергнуть тезис о том, что пользователи из Москвы расходуют деньги на средства связи так же, как и жители других регионов.**"
   ]
  },
  {
   "cell_type": "markdown",
   "id": "73bb818a",
   "metadata": {},
   "source": [
    "### Выводы"
   ]
  },
  {
   "cell_type": "markdown",
   "id": "04a95cae",
   "metadata": {},
   "source": [
    "- Лимиты, включенные в тариф Смарт, оказываются недостаточными для большинства клиентов, что приводит к дополнительным тратам помимо абонентской платы.\n",
    "- Лимиты на звонки и сообщения тарифа Ультра достаточны для 100% пользователей, дополнительные траты происходят только за счет расходования трафика.\n",
    "- Пользователи тарифа Смарт в среднем тратят на услуги связи ежемесячно 1023 рубля, а пользователи Ультры - 1950.\n",
    "- Тариф Ультра приносит больше выручки, чем тариф Смарт, несмотря на то, что на Смарте 75% клиентов несут дополнительные расходы, а на Ультре - только 18%.\n",
    "- На текущей выборке не удалось обнаружить существенного различия в характере расходования средств между пользователями Москвы и других регионов.\n",
    "\n",
    "По результатам исследования на предоставленных данных более прибыльным для компании на всей охваченной территории является тариф \"Ультра\"."
   ]
  },
  {
   "cell_type": "code",
   "execution_count": null,
   "id": "7ce9d09c",
   "metadata": {},
   "outputs": [],
   "source": []
  }
 ],
 "metadata": {
  "ExecuteTimeLog": [
   {
    "duration": 1085,
    "start_time": "2022-05-16T05:42:06.991Z"
   },
   {
    "duration": 99,
    "start_time": "2022-05-16T05:42:08.079Z"
   },
   {
    "duration": 17,
    "start_time": "2022-05-16T05:42:34.469Z"
   },
   {
    "duration": 91,
    "start_time": "2022-05-16T05:42:35.509Z"
   },
   {
    "duration": 17,
    "start_time": "2022-05-16T05:42:37.285Z"
   },
   {
    "duration": 13,
    "start_time": "2022-05-16T05:42:38.355Z"
   },
   {
    "duration": 6,
    "start_time": "2022-05-16T05:42:39.750Z"
   },
   {
    "duration": 295,
    "start_time": "2022-05-16T05:42:59.276Z"
   },
   {
    "duration": 37,
    "start_time": "2022-05-16T05:43:00.083Z"
   },
   {
    "duration": 258,
    "start_time": "2022-05-16T05:43:00.413Z"
   },
   {
    "duration": 271,
    "start_time": "2022-05-16T05:43:23.463Z"
   },
   {
    "duration": 49,
    "start_time": "2022-05-16T05:43:23.902Z"
   },
   {
    "duration": 83,
    "start_time": "2022-05-16T05:43:24.886Z"
   },
   {
    "duration": 231,
    "start_time": "2022-05-16T05:43:25.430Z"
   },
   {
    "duration": 33,
    "start_time": "2022-05-16T05:43:26.285Z"
   },
   {
    "duration": 91,
    "start_time": "2022-05-16T05:43:27.404Z"
   },
   {
    "duration": 8,
    "start_time": "2022-05-16T05:43:56.724Z"
   },
   {
    "duration": 105,
    "start_time": "2022-05-16T05:43:57.339Z"
   },
   {
    "duration": 11,
    "start_time": "2022-05-16T05:44:12.268Z"
   },
   {
    "duration": 5,
    "start_time": "2022-05-16T05:44:55.695Z"
   },
   {
    "duration": 5,
    "start_time": "2022-05-16T05:47:36.010Z"
   },
   {
    "duration": 42,
    "start_time": "2022-05-16T05:48:25.337Z"
   },
   {
    "duration": 29,
    "start_time": "2022-05-16T05:48:29.127Z"
   },
   {
    "duration": 35,
    "start_time": "2022-05-16T05:48:30.170Z"
   },
   {
    "duration": 182,
    "start_time": "2022-05-16T05:49:03.163Z"
   },
   {
    "duration": 1115,
    "start_time": "2022-05-16T05:49:10.557Z"
   },
   {
    "duration": 90,
    "start_time": "2022-05-16T05:49:11.675Z"
   },
   {
    "duration": 18,
    "start_time": "2022-05-16T05:49:11.768Z"
   },
   {
    "duration": 81,
    "start_time": "2022-05-16T05:49:11.790Z"
   },
   {
    "duration": 18,
    "start_time": "2022-05-16T05:49:11.875Z"
   },
   {
    "duration": 18,
    "start_time": "2022-05-16T05:49:11.896Z"
   },
   {
    "duration": 6,
    "start_time": "2022-05-16T05:49:11.916Z"
   },
   {
    "duration": 277,
    "start_time": "2022-05-16T05:49:11.925Z"
   },
   {
    "duration": 39,
    "start_time": "2022-05-16T05:49:12.205Z"
   },
   {
    "duration": 191,
    "start_time": "2022-05-16T05:49:12.248Z"
   },
   {
    "duration": 178,
    "start_time": "2022-05-16T05:49:12.441Z"
   },
   {
    "duration": 26,
    "start_time": "2022-05-16T05:49:12.621Z"
   },
   {
    "duration": 98,
    "start_time": "2022-05-16T05:49:12.650Z"
   },
   {
    "duration": 233,
    "start_time": "2022-05-16T05:49:12.750Z"
   },
   {
    "duration": 29,
    "start_time": "2022-05-16T05:49:12.985Z"
   },
   {
    "duration": 126,
    "start_time": "2022-05-16T05:49:13.016Z"
   },
   {
    "duration": 8,
    "start_time": "2022-05-16T05:49:13.144Z"
   },
   {
    "duration": 119,
    "start_time": "2022-05-16T05:49:13.154Z"
   },
   {
    "duration": 11,
    "start_time": "2022-05-16T05:49:13.275Z"
   },
   {
    "duration": 8,
    "start_time": "2022-05-16T05:49:13.288Z"
   },
   {
    "duration": 175,
    "start_time": "2022-05-16T05:49:13.299Z"
   },
   {
    "duration": 9,
    "start_time": "2022-05-16T05:49:13.476Z"
   },
   {
    "duration": 126,
    "start_time": "2022-05-16T05:49:13.487Z"
   },
   {
    "duration": 41,
    "start_time": "2022-05-16T05:49:13.616Z"
   },
   {
    "duration": 40,
    "start_time": "2022-05-16T05:49:13.660Z"
   },
   {
    "duration": 34,
    "start_time": "2022-05-16T05:49:13.702Z"
   },
   {
    "duration": 119,
    "start_time": "2022-05-16T05:49:15.126Z"
   },
   {
    "duration": 158,
    "start_time": "2022-05-16T05:49:29.280Z"
   },
   {
    "duration": 51,
    "start_time": "2022-05-16T05:50:06.817Z"
   },
   {
    "duration": 43,
    "start_time": "2022-05-16T05:50:17.176Z"
   },
   {
    "duration": 33,
    "start_time": "2022-05-16T05:50:27.782Z"
   },
   {
    "duration": 32,
    "start_time": "2022-05-16T05:50:30.177Z"
   },
   {
    "duration": 16,
    "start_time": "2022-05-16T05:50:32.425Z"
   },
   {
    "duration": 6,
    "start_time": "2022-05-16T05:52:05.353Z"
   },
   {
    "duration": 4,
    "start_time": "2022-05-16T05:52:22.519Z"
   },
   {
    "duration": 5,
    "start_time": "2022-05-16T05:54:04.002Z"
   },
   {
    "duration": 6,
    "start_time": "2022-05-16T05:54:19.843Z"
   },
   {
    "duration": 15293,
    "start_time": "2022-05-16T05:54:20.178Z"
   },
   {
    "duration": 20,
    "start_time": "2022-05-16T05:54:44.122Z"
   },
   {
    "duration": 29,
    "start_time": "2022-05-16T05:54:49.757Z"
   },
   {
    "duration": 24,
    "start_time": "2022-05-16T05:55:12.476Z"
   },
   {
    "duration": 21,
    "start_time": "2022-05-16T05:55:32.332Z"
   },
   {
    "duration": 19,
    "start_time": "2022-05-16T06:07:06.477Z"
   },
   {
    "duration": 105,
    "start_time": "2022-05-16T06:07:08.312Z"
   },
   {
    "duration": 39,
    "start_time": "2022-05-16T06:12:42.624Z"
   },
   {
    "duration": 70,
    "start_time": "2022-05-16T06:12:52.652Z"
   },
   {
    "duration": 63,
    "start_time": "2022-05-16T06:12:59.536Z"
   },
   {
    "duration": 66,
    "start_time": "2022-05-16T06:14:12.233Z"
   },
   {
    "duration": 39,
    "start_time": "2022-05-16T06:14:14.077Z"
   },
   {
    "duration": 15,
    "start_time": "2022-05-16T06:14:18.817Z"
   },
   {
    "duration": 907,
    "start_time": "2022-05-16T06:15:23.683Z"
   },
   {
    "duration": 390,
    "start_time": "2022-05-16T06:17:11.368Z"
   },
   {
    "duration": 526,
    "start_time": "2022-05-16T06:17:22.099Z"
   },
   {
    "duration": 562,
    "start_time": "2022-05-16T06:17:24.243Z"
   },
   {
    "duration": 7,
    "start_time": "2022-05-16T06:17:35.555Z"
   },
   {
    "duration": 757,
    "start_time": "2022-05-16T06:17:54.177Z"
   },
   {
    "duration": 427,
    "start_time": "2022-05-16T06:17:55.436Z"
   },
   {
    "duration": 814,
    "start_time": "2022-05-16T06:17:57.036Z"
   },
   {
    "duration": 508,
    "start_time": "2022-05-16T06:18:06.348Z"
   },
   {
    "duration": 410,
    "start_time": "2022-05-16T06:18:08.572Z"
   },
   {
    "duration": 532,
    "start_time": "2022-05-16T06:18:11.770Z"
   },
   {
    "duration": 270,
    "start_time": "2022-05-16T06:18:18.149Z"
   },
   {
    "duration": 597,
    "start_time": "2022-05-16T06:18:34.190Z"
   },
   {
    "duration": 5,
    "start_time": "2022-05-16T06:20:22.621Z"
   },
   {
    "duration": 10,
    "start_time": "2022-05-16T06:20:59.301Z"
   },
   {
    "duration": 155,
    "start_time": "2022-05-16T06:21:20.398Z"
   },
   {
    "duration": 1110,
    "start_time": "2022-05-16T06:21:28.514Z"
   },
   {
    "duration": 86,
    "start_time": "2022-05-16T06:21:29.626Z"
   },
   {
    "duration": 18,
    "start_time": "2022-05-16T06:21:29.715Z"
   },
   {
    "duration": 82,
    "start_time": "2022-05-16T06:21:29.736Z"
   },
   {
    "duration": 16,
    "start_time": "2022-05-16T06:21:29.820Z"
   },
   {
    "duration": 15,
    "start_time": "2022-05-16T06:21:29.838Z"
   },
   {
    "duration": 6,
    "start_time": "2022-05-16T06:21:29.855Z"
   },
   {
    "duration": 285,
    "start_time": "2022-05-16T06:21:29.863Z"
   },
   {
    "duration": 43,
    "start_time": "2022-05-16T06:21:30.150Z"
   },
   {
    "duration": 197,
    "start_time": "2022-05-16T06:21:30.200Z"
   },
   {
    "duration": 195,
    "start_time": "2022-05-16T06:21:30.399Z"
   },
   {
    "duration": 36,
    "start_time": "2022-05-16T06:21:30.596Z"
   },
   {
    "duration": 130,
    "start_time": "2022-05-16T06:21:30.635Z"
   },
   {
    "duration": 245,
    "start_time": "2022-05-16T06:21:30.767Z"
   },
   {
    "duration": 31,
    "start_time": "2022-05-16T06:21:31.014Z"
   },
   {
    "duration": 126,
    "start_time": "2022-05-16T06:21:31.047Z"
   },
   {
    "duration": 19,
    "start_time": "2022-05-16T06:21:31.175Z"
   },
   {
    "duration": 117,
    "start_time": "2022-05-16T06:21:31.196Z"
   },
   {
    "duration": 12,
    "start_time": "2022-05-16T06:21:31.315Z"
   },
   {
    "duration": 10,
    "start_time": "2022-05-16T06:21:31.329Z"
   },
   {
    "duration": 199,
    "start_time": "2022-05-16T06:21:31.341Z"
   },
   {
    "duration": 5,
    "start_time": "2022-05-16T06:21:31.543Z"
   },
   {
    "duration": 131,
    "start_time": "2022-05-16T06:21:31.550Z"
   },
   {
    "duration": 46,
    "start_time": "2022-05-16T06:21:31.683Z"
   },
   {
    "duration": 28,
    "start_time": "2022-05-16T06:21:31.731Z"
   },
   {
    "duration": 38,
    "start_time": "2022-05-16T06:21:31.781Z"
   },
   {
    "duration": 142,
    "start_time": "2022-05-16T06:21:31.821Z"
   },
   {
    "duration": 52,
    "start_time": "2022-05-16T06:21:31.969Z"
   },
   {
    "duration": 75,
    "start_time": "2022-05-16T06:21:32.024Z"
   },
   {
    "duration": 32,
    "start_time": "2022-05-16T06:21:32.102Z"
   },
   {
    "duration": 50,
    "start_time": "2022-05-16T06:21:32.137Z"
   },
   {
    "duration": 16,
    "start_time": "2022-05-16T06:21:32.189Z"
   },
   {
    "duration": 4,
    "start_time": "2022-05-16T06:21:32.207Z"
   },
   {
    "duration": 7,
    "start_time": "2022-05-16T06:21:32.214Z"
   },
   {
    "duration": 16,
    "start_time": "2022-05-16T06:21:32.222Z"
   },
   {
    "duration": 7,
    "start_time": "2022-05-16T06:21:32.240Z"
   },
   {
    "duration": 17412,
    "start_time": "2022-05-16T06:21:32.250Z"
   },
   {
    "duration": 35,
    "start_time": "2022-05-16T06:21:49.665Z"
   },
   {
    "duration": 30,
    "start_time": "2022-05-16T06:21:49.703Z"
   },
   {
    "duration": 176,
    "start_time": "2022-05-16T06:21:49.736Z"
   },
   {
    "duration": 43,
    "start_time": "2022-05-16T06:21:49.915Z"
   },
   {
    "duration": 92,
    "start_time": "2022-05-16T06:21:49.992Z"
   },
   {
    "duration": 56,
    "start_time": "2022-05-16T06:21:50.088Z"
   },
   {
    "duration": 50,
    "start_time": "2022-05-16T06:21:50.147Z"
   },
   {
    "duration": 17,
    "start_time": "2022-05-16T06:21:50.200Z"
   },
   {
    "duration": 1844,
    "start_time": "2022-05-16T06:21:50.220Z"
   },
   {
    "duration": 531,
    "start_time": "2022-05-16T06:21:52.066Z"
   },
   {
    "duration": 534,
    "start_time": "2022-05-16T06:21:52.599Z"
   },
   {
    "duration": 542,
    "start_time": "2022-05-16T06:21:53.136Z"
   },
   {
    "duration": 375,
    "start_time": "2022-05-16T06:21:53.685Z"
   },
   {
    "duration": 524,
    "start_time": "2022-05-16T06:21:54.062Z"
   },
   {
    "duration": 519,
    "start_time": "2022-05-16T06:21:54.589Z"
   },
   {
    "duration": 324,
    "start_time": "2022-05-16T06:21:55.110Z"
   },
   {
    "duration": 547,
    "start_time": "2022-05-16T06:21:55.437Z"
   },
   {
    "duration": 321,
    "start_time": "2022-05-16T06:21:55.987Z"
   },
   {
    "duration": 897,
    "start_time": "2022-05-16T06:21:56.310Z"
   },
   {
    "duration": 4,
    "start_time": "2022-05-16T06:21:57.210Z"
   },
   {
    "duration": 18,
    "start_time": "2022-05-16T06:21:57.217Z"
   },
   {
    "duration": 9,
    "start_time": "2022-05-16T06:21:57.237Z"
   },
   {
    "duration": 8,
    "start_time": "2022-05-16T06:22:07.122Z"
   },
   {
    "duration": 15,
    "start_time": "2022-05-16T06:22:07.918Z"
   }
  ],
  "kernelspec": {
   "display_name": "Python 3 (ipykernel)",
   "language": "python",
   "name": "python3"
  },
  "language_info": {
   "codemirror_mode": {
    "name": "ipython",
    "version": 3
   },
   "file_extension": ".py",
   "mimetype": "text/x-python",
   "name": "python",
   "nbconvert_exporter": "python",
   "pygments_lexer": "ipython3",
   "version": "3.9.7"
  },
  "toc": {
   "base_numbering": 1,
   "nav_menu": {},
   "number_sections": true,
   "sideBar": true,
   "skip_h1_title": true,
   "title_cell": "Table of Contents",
   "title_sidebar": "Contents",
   "toc_cell": false,
   "toc_position": {},
   "toc_section_display": true,
   "toc_window_display": false
  }
 },
 "nbformat": 4,
 "nbformat_minor": 5
}
