{
 "cells": [
  {
   "cell_type": "markdown",
   "id": "d3257004",
   "metadata": {},
   "source": [
    "## Прогнозирование стоимости автомоблей"
   ]
  },
  {
   "cell_type": "markdown",
   "id": "c066c4fc",
   "metadata": {},
   "source": [
    "### Задача"
   ]
  },
  {
   "cell_type": "markdown",
   "id": "8a75f852",
   "metadata": {},
   "source": [
    "На основании исторических данных разработать модель, которая предсказывает рыночную стоимость автомобиля в зависимости от его характеристик."
   ]
  },
  {
   "cell_type": "markdown",
   "id": "a623f9e7",
   "metadata": {},
   "source": [
    "**Критерии оценки готовой модели:**\n",
    "- качество предсказания\n",
    "- время обучения модели\n",
    "- время предсказания"
   ]
  },
  {
   "cell_type": "markdown",
   "id": "da916cd8",
   "metadata": {},
   "source": [
    "**Доступные данные**</br>\n",
    "</br>\n",
    "**Признаки:**\n",
    "- DateCrawled — дата скачивания анкеты из базы\n",
    "- VenicleType — тип автомобильного кузова\n",
    "- RegistrationYear — год регистрации автомобиля\n",
    "- Gearbox — тип коробки передач\n",
    "- Power — мощность (л. с.)\n",
    "- Model — модель автомобиля\n",
    "- Kilometer — пробег (км)\n",
    "- RegistrationMonth — месяц регистрации автомобиля\n",
    "- FuelType — тип топлива\n",
    "- Brand — марка автомобиля\n",
    "- NotRepaired — была машина в ремонте или нет\n",
    "- DateCreated — дата создания анкеты\n",
    "- NumberOfPictures — количество фотографий автомобиля\n",
    "- PostalCode — почтовый индекс владельца анкеты (пользователя)\n",
    "- LastSeen — дата последней активности пользователя </br>\n",
    "</br>\n",
    "\n",
    "**Целевой признак:**\n",
    "- Price — цена (евро)"
   ]
  },
  {
   "cell_type": "markdown",
   "id": "2fcf36e3",
   "metadata": {},
   "source": [
    "### План работы"
   ]
  },
  {
   "cell_type": "markdown",
   "id": "65f26559",
   "metadata": {},
   "source": [
    "- Изучение данных \n",
    "- Предобработка и заполнение пропусков\n",
    "- Подготовка признаков\n",
    "- Исследование моделей\n",
    "- Итоговое тестирование"
   ]
  },
  {
   "cell_type": "markdown",
   "id": "69c31af7",
   "metadata": {},
   "source": [
    "### Резюме"
   ]
  },
  {
   "cell_type": "markdown",
   "id": "fd211921",
   "metadata": {},
   "source": [
    "Для работы предложены две модели:</b>\n",
    "</br>\n",
    "**Light GBM:**\n",
    "- RMSE на тестовой выборке - 1545 \n",
    "- время обучения - 34.9 c \n",
    "- время предсказания - 8.59 c \n",
    "\n",
    "**KNeighbors:**\n",
    "- RMSE на тестовой - выборке 1774 \n",
    "- время обучения - 2.01 c \n",
    "- время предсказания - 2.5 c "
   ]
  },
  {
   "cell_type": "code",
   "execution_count": 1,
   "id": "32f7c5eb",
   "metadata": {},
   "outputs": [
    {
     "name": "stdout",
     "output_type": "stream",
     "text": [
      "Requirement already satisfied: catboost in c:\\users\\trety\\anaconda3\\lib\\site-packages (1.0.6)\n",
      "Requirement already satisfied: scipy in c:\\users\\trety\\anaconda3\\lib\\site-packages (from catboost) (1.7.1)\n",
      "Requirement already satisfied: graphviz in c:\\users\\trety\\anaconda3\\lib\\site-packages (from catboost) (0.20.1)\n",
      "Requirement already satisfied: plotly in c:\\users\\trety\\anaconda3\\lib\\site-packages (from catboost) (5.10.0)\n",
      "Requirement already satisfied: numpy>=1.16.0 in c:\\users\\trety\\anaconda3\\lib\\site-packages (from catboost) (1.20.3)\n",
      "Requirement already satisfied: matplotlib in c:\\users\\trety\\anaconda3\\lib\\site-packages (from catboost) (3.4.3)\n",
      "Requirement already satisfied: pandas>=0.24.0 in c:\\users\\trety\\anaconda3\\lib\\site-packages (from catboost) (1.3.4)\n",
      "Requirement already satisfied: six in c:\\users\\trety\\anaconda3\\lib\\site-packages (from catboost) (1.16.0)\n",
      "Requirement already satisfied: pytz>=2017.3 in c:\\users\\trety\\anaconda3\\lib\\site-packages (from pandas>=0.24.0->catboost) (2021.3)\n",
      "Requirement already satisfied: python-dateutil>=2.7.3 in c:\\users\\trety\\anaconda3\\lib\\site-packages (from pandas>=0.24.0->catboost) (2.8.2)\n",
      "Requirement already satisfied: pillow>=6.2.0 in c:\\users\\trety\\anaconda3\\lib\\site-packages (from matplotlib->catboost) (8.4.0)\n",
      "Requirement already satisfied: kiwisolver>=1.0.1 in c:\\users\\trety\\anaconda3\\lib\\site-packages (from matplotlib->catboost) (1.3.1)\n",
      "Requirement already satisfied: pyparsing>=2.2.1 in c:\\users\\trety\\anaconda3\\lib\\site-packages (from matplotlib->catboost) (3.0.4)\n",
      "Requirement already satisfied: cycler>=0.10 in c:\\users\\trety\\anaconda3\\lib\\site-packages (from matplotlib->catboost) (0.10.0)\n",
      "Requirement already satisfied: tenacity>=6.2.0 in c:\\users\\trety\\anaconda3\\lib\\site-packages (from plotly->catboost) (8.0.1)\n"
     ]
    }
   ],
   "source": [
    "!pip install catboost"
   ]
  },
  {
   "cell_type": "code",
   "execution_count": 2,
   "id": "92fbf3bf",
   "metadata": {},
   "outputs": [
    {
     "name": "stdout",
     "output_type": "stream",
     "text": [
      "Requirement already satisfied: lightgbm in c:\\users\\trety\\anaconda3\\lib\\site-packages (3.3.2)\n",
      "Requirement already satisfied: scikit-learn!=0.22.0 in c:\\users\\trety\\anaconda3\\lib\\site-packages (from lightgbm) (0.24.2)\n",
      "Requirement already satisfied: scipy in c:\\users\\trety\\anaconda3\\lib\\site-packages (from lightgbm) (1.7.1)\n",
      "Requirement already satisfied: numpy in c:\\users\\trety\\anaconda3\\lib\\site-packages (from lightgbm) (1.20.3)\n",
      "Requirement already satisfied: wheel in c:\\users\\trety\\anaconda3\\lib\\site-packages (from lightgbm) (0.37.0)\n",
      "Requirement already satisfied: threadpoolctl>=2.0.0 in c:\\users\\trety\\anaconda3\\lib\\site-packages (from scikit-learn!=0.22.0->lightgbm) (2.2.0)\n",
      "Requirement already satisfied: joblib>=0.11 in c:\\users\\trety\\anaconda3\\lib\\site-packages (from scikit-learn!=0.22.0->lightgbm) (1.1.0)\n"
     ]
    }
   ],
   "source": [
    "!pip install lightgbm"
   ]
  },
  {
   "cell_type": "code",
   "execution_count": 3,
   "id": "95b1306f",
   "metadata": {},
   "outputs": [],
   "source": [
    "#для начала импортируем необходимые библиотеки\n",
    "\n",
    "import pandas as pd\n",
    "import numpy as np\n",
    "import matplotlib.pyplot as plt\n",
    "import seaborn as sns\n",
    "\n",
    "import pandas_profiling as pp\n",
    "from datetime import datetime\n",
    "import time\n",
    "\n",
    "from sklearn.model_selection import train_test_split\n",
    "\n",
    "from sklearn.preprocessing import OrdinalEncoder\n",
    "from sklearn.preprocessing import OneHotEncoder\n",
    "from sklearn.metrics import mean_squared_error\n",
    "from sklearn.metrics import make_scorer\n",
    "\n",
    "from sklearn.linear_model import LinearRegression\n",
    "from sklearn.linear_model import ElasticNet\n",
    "from sklearn.neighbors import KNeighborsRegressor\n",
    "from catboost import CatBoostRegressor\n",
    "from lightgbm import LGBMRegressor\n",
    "\n",
    "from sklearn.model_selection import cross_val_score\n",
    "from sklearn.model_selection import GridSearchCV\n",
    "\n",
    "from sklearn.dummy import DummyRegressor"
   ]
  },
  {
   "cell_type": "code",
   "execution_count": 4,
   "id": "6e3fab4c",
   "metadata": {},
   "outputs": [],
   "source": [
    "#определим константы \n",
    "\n",
    "RANDOM_STATE = 25"
   ]
  },
  {
   "cell_type": "code",
   "execution_count": 5,
   "id": "58ab4588",
   "metadata": {},
   "outputs": [],
   "source": [
    "#откроем файл с данными\n",
    "\n",
    "try:\n",
    "    data = pd.read_csv('datasets/autos.csv')\n",
    "except FileNotFoundError:\n",
    "    data = pd.read_csv('/datasets/autos.csv')"
   ]
  },
  {
   "cell_type": "markdown",
   "id": "dbd39ae6",
   "metadata": {},
   "source": [
    "## Изучение и предобработка данных"
   ]
  },
  {
   "cell_type": "markdown",
   "id": "19677ee6",
   "metadata": {},
   "source": [
    "### Первичный анализ данных"
   ]
  },
  {
   "cell_type": "markdown",
   "id": "87735e6f",
   "metadata": {},
   "source": [
    "Посмотрим на содержимое датасета, на котором будем обучать модель"
   ]
  },
  {
   "cell_type": "code",
   "execution_count": 6,
   "id": "8888da04",
   "metadata": {},
   "outputs": [
    {
     "name": "stdout",
     "output_type": "stream",
     "text": [
      "<class 'pandas.core.frame.DataFrame'>\n",
      "RangeIndex: 354369 entries, 0 to 354368\n",
      "Data columns (total 16 columns):\n",
      " #   Column             Non-Null Count   Dtype \n",
      "---  ------             --------------   ----- \n",
      " 0   DateCrawled        354369 non-null  object\n",
      " 1   Price              354369 non-null  int64 \n",
      " 2   VehicleType        316879 non-null  object\n",
      " 3   RegistrationYear   354369 non-null  int64 \n",
      " 4   Gearbox            334536 non-null  object\n",
      " 5   Power              354369 non-null  int64 \n",
      " 6   Model              334664 non-null  object\n",
      " 7   Kilometer          354369 non-null  int64 \n",
      " 8   RegistrationMonth  354369 non-null  int64 \n",
      " 9   FuelType           321474 non-null  object\n",
      " 10  Brand              354369 non-null  object\n",
      " 11  NotRepaired        283215 non-null  object\n",
      " 12  DateCreated        354369 non-null  object\n",
      " 13  NumberOfPictures   354369 non-null  int64 \n",
      " 14  PostalCode         354369 non-null  int64 \n",
      " 15  LastSeen           354369 non-null  object\n",
      "dtypes: int64(7), object(9)\n",
      "memory usage: 43.3+ MB\n"
     ]
    },
    {
     "data": {
      "text/html": [
       "<div>\n",
       "<style scoped>\n",
       "    .dataframe tbody tr th:only-of-type {\n",
       "        vertical-align: middle;\n",
       "    }\n",
       "\n",
       "    .dataframe tbody tr th {\n",
       "        vertical-align: top;\n",
       "    }\n",
       "\n",
       "    .dataframe thead th {\n",
       "        text-align: right;\n",
       "    }\n",
       "</style>\n",
       "<table border=\"1\" class=\"dataframe\">\n",
       "  <thead>\n",
       "    <tr style=\"text-align: right;\">\n",
       "      <th></th>\n",
       "      <th>DateCrawled</th>\n",
       "      <th>Price</th>\n",
       "      <th>VehicleType</th>\n",
       "      <th>RegistrationYear</th>\n",
       "      <th>Gearbox</th>\n",
       "      <th>Power</th>\n",
       "      <th>Model</th>\n",
       "      <th>Kilometer</th>\n",
       "      <th>RegistrationMonth</th>\n",
       "      <th>FuelType</th>\n",
       "      <th>Brand</th>\n",
       "      <th>NotRepaired</th>\n",
       "      <th>DateCreated</th>\n",
       "      <th>NumberOfPictures</th>\n",
       "      <th>PostalCode</th>\n",
       "      <th>LastSeen</th>\n",
       "    </tr>\n",
       "  </thead>\n",
       "  <tbody>\n",
       "    <tr>\n",
       "      <th>0</th>\n",
       "      <td>2016-03-24 11:52:17</td>\n",
       "      <td>480</td>\n",
       "      <td>NaN</td>\n",
       "      <td>1993</td>\n",
       "      <td>manual</td>\n",
       "      <td>0</td>\n",
       "      <td>golf</td>\n",
       "      <td>150000</td>\n",
       "      <td>0</td>\n",
       "      <td>petrol</td>\n",
       "      <td>volkswagen</td>\n",
       "      <td>NaN</td>\n",
       "      <td>2016-03-24 00:00:00</td>\n",
       "      <td>0</td>\n",
       "      <td>70435</td>\n",
       "      <td>2016-04-07 03:16:57</td>\n",
       "    </tr>\n",
       "    <tr>\n",
       "      <th>1</th>\n",
       "      <td>2016-03-24 10:58:45</td>\n",
       "      <td>18300</td>\n",
       "      <td>coupe</td>\n",
       "      <td>2011</td>\n",
       "      <td>manual</td>\n",
       "      <td>190</td>\n",
       "      <td>NaN</td>\n",
       "      <td>125000</td>\n",
       "      <td>5</td>\n",
       "      <td>gasoline</td>\n",
       "      <td>audi</td>\n",
       "      <td>yes</td>\n",
       "      <td>2016-03-24 00:00:00</td>\n",
       "      <td>0</td>\n",
       "      <td>66954</td>\n",
       "      <td>2016-04-07 01:46:50</td>\n",
       "    </tr>\n",
       "    <tr>\n",
       "      <th>2</th>\n",
       "      <td>2016-03-14 12:52:21</td>\n",
       "      <td>9800</td>\n",
       "      <td>suv</td>\n",
       "      <td>2004</td>\n",
       "      <td>auto</td>\n",
       "      <td>163</td>\n",
       "      <td>grand</td>\n",
       "      <td>125000</td>\n",
       "      <td>8</td>\n",
       "      <td>gasoline</td>\n",
       "      <td>jeep</td>\n",
       "      <td>NaN</td>\n",
       "      <td>2016-03-14 00:00:00</td>\n",
       "      <td>0</td>\n",
       "      <td>90480</td>\n",
       "      <td>2016-04-05 12:47:46</td>\n",
       "    </tr>\n",
       "    <tr>\n",
       "      <th>3</th>\n",
       "      <td>2016-03-17 16:54:04</td>\n",
       "      <td>1500</td>\n",
       "      <td>small</td>\n",
       "      <td>2001</td>\n",
       "      <td>manual</td>\n",
       "      <td>75</td>\n",
       "      <td>golf</td>\n",
       "      <td>150000</td>\n",
       "      <td>6</td>\n",
       "      <td>petrol</td>\n",
       "      <td>volkswagen</td>\n",
       "      <td>no</td>\n",
       "      <td>2016-03-17 00:00:00</td>\n",
       "      <td>0</td>\n",
       "      <td>91074</td>\n",
       "      <td>2016-03-17 17:40:17</td>\n",
       "    </tr>\n",
       "    <tr>\n",
       "      <th>4</th>\n",
       "      <td>2016-03-31 17:25:20</td>\n",
       "      <td>3600</td>\n",
       "      <td>small</td>\n",
       "      <td>2008</td>\n",
       "      <td>manual</td>\n",
       "      <td>69</td>\n",
       "      <td>fabia</td>\n",
       "      <td>90000</td>\n",
       "      <td>7</td>\n",
       "      <td>gasoline</td>\n",
       "      <td>skoda</td>\n",
       "      <td>no</td>\n",
       "      <td>2016-03-31 00:00:00</td>\n",
       "      <td>0</td>\n",
       "      <td>60437</td>\n",
       "      <td>2016-04-06 10:17:21</td>\n",
       "    </tr>\n",
       "  </tbody>\n",
       "</table>\n",
       "</div>"
      ],
      "text/plain": [
       "           DateCrawled  Price VehicleType  RegistrationYear Gearbox  Power  \\\n",
       "0  2016-03-24 11:52:17    480         NaN              1993  manual      0   \n",
       "1  2016-03-24 10:58:45  18300       coupe              2011  manual    190   \n",
       "2  2016-03-14 12:52:21   9800         suv              2004    auto    163   \n",
       "3  2016-03-17 16:54:04   1500       small              2001  manual     75   \n",
       "4  2016-03-31 17:25:20   3600       small              2008  manual     69   \n",
       "\n",
       "   Model  Kilometer  RegistrationMonth  FuelType       Brand NotRepaired  \\\n",
       "0   golf     150000                  0    petrol  volkswagen         NaN   \n",
       "1    NaN     125000                  5  gasoline        audi         yes   \n",
       "2  grand     125000                  8  gasoline        jeep         NaN   \n",
       "3   golf     150000                  6    petrol  volkswagen          no   \n",
       "4  fabia      90000                  7  gasoline       skoda          no   \n",
       "\n",
       "           DateCreated  NumberOfPictures  PostalCode             LastSeen  \n",
       "0  2016-03-24 00:00:00                 0       70435  2016-04-07 03:16:57  \n",
       "1  2016-03-24 00:00:00                 0       66954  2016-04-07 01:46:50  \n",
       "2  2016-03-14 00:00:00                 0       90480  2016-04-05 12:47:46  \n",
       "3  2016-03-17 00:00:00                 0       91074  2016-03-17 17:40:17  \n",
       "4  2016-03-31 00:00:00                 0       60437  2016-04-06 10:17:21  "
      ]
     },
     "metadata": {},
     "output_type": "display_data"
    },
    {
     "data": {
      "text/plain": [
       "None"
      ]
     },
     "metadata": {},
     "output_type": "display_data"
    },
    {
     "data": {
      "text/html": [
       "<div>\n",
       "<style scoped>\n",
       "    .dataframe tbody tr th:only-of-type {\n",
       "        vertical-align: middle;\n",
       "    }\n",
       "\n",
       "    .dataframe tbody tr th {\n",
       "        vertical-align: top;\n",
       "    }\n",
       "\n",
       "    .dataframe thead th {\n",
       "        text-align: right;\n",
       "    }\n",
       "</style>\n",
       "<table border=\"1\" class=\"dataframe\">\n",
       "  <thead>\n",
       "    <tr style=\"text-align: right;\">\n",
       "      <th></th>\n",
       "      <th>Price</th>\n",
       "      <th>RegistrationYear</th>\n",
       "      <th>Power</th>\n",
       "      <th>Kilometer</th>\n",
       "      <th>RegistrationMonth</th>\n",
       "      <th>NumberOfPictures</th>\n",
       "      <th>PostalCode</th>\n",
       "    </tr>\n",
       "  </thead>\n",
       "  <tbody>\n",
       "    <tr>\n",
       "      <th>count</th>\n",
       "      <td>354369.000000</td>\n",
       "      <td>354369.000000</td>\n",
       "      <td>354369.000000</td>\n",
       "      <td>354369.000000</td>\n",
       "      <td>354369.000000</td>\n",
       "      <td>354369.0</td>\n",
       "      <td>354369.000000</td>\n",
       "    </tr>\n",
       "    <tr>\n",
       "      <th>mean</th>\n",
       "      <td>4416.656776</td>\n",
       "      <td>2004.234448</td>\n",
       "      <td>110.094337</td>\n",
       "      <td>128211.172535</td>\n",
       "      <td>5.714645</td>\n",
       "      <td>0.0</td>\n",
       "      <td>50508.689087</td>\n",
       "    </tr>\n",
       "    <tr>\n",
       "      <th>std</th>\n",
       "      <td>4514.158514</td>\n",
       "      <td>90.227958</td>\n",
       "      <td>189.850405</td>\n",
       "      <td>37905.341530</td>\n",
       "      <td>3.726421</td>\n",
       "      <td>0.0</td>\n",
       "      <td>25783.096248</td>\n",
       "    </tr>\n",
       "    <tr>\n",
       "      <th>min</th>\n",
       "      <td>0.000000</td>\n",
       "      <td>1000.000000</td>\n",
       "      <td>0.000000</td>\n",
       "      <td>5000.000000</td>\n",
       "      <td>0.000000</td>\n",
       "      <td>0.0</td>\n",
       "      <td>1067.000000</td>\n",
       "    </tr>\n",
       "    <tr>\n",
       "      <th>25%</th>\n",
       "      <td>1050.000000</td>\n",
       "      <td>1999.000000</td>\n",
       "      <td>69.000000</td>\n",
       "      <td>125000.000000</td>\n",
       "      <td>3.000000</td>\n",
       "      <td>0.0</td>\n",
       "      <td>30165.000000</td>\n",
       "    </tr>\n",
       "    <tr>\n",
       "      <th>50%</th>\n",
       "      <td>2700.000000</td>\n",
       "      <td>2003.000000</td>\n",
       "      <td>105.000000</td>\n",
       "      <td>150000.000000</td>\n",
       "      <td>6.000000</td>\n",
       "      <td>0.0</td>\n",
       "      <td>49413.000000</td>\n",
       "    </tr>\n",
       "    <tr>\n",
       "      <th>75%</th>\n",
       "      <td>6400.000000</td>\n",
       "      <td>2008.000000</td>\n",
       "      <td>143.000000</td>\n",
       "      <td>150000.000000</td>\n",
       "      <td>9.000000</td>\n",
       "      <td>0.0</td>\n",
       "      <td>71083.000000</td>\n",
       "    </tr>\n",
       "    <tr>\n",
       "      <th>max</th>\n",
       "      <td>20000.000000</td>\n",
       "      <td>9999.000000</td>\n",
       "      <td>20000.000000</td>\n",
       "      <td>150000.000000</td>\n",
       "      <td>12.000000</td>\n",
       "      <td>0.0</td>\n",
       "      <td>99998.000000</td>\n",
       "    </tr>\n",
       "  </tbody>\n",
       "</table>\n",
       "</div>"
      ],
      "text/plain": [
       "               Price  RegistrationYear          Power      Kilometer  \\\n",
       "count  354369.000000     354369.000000  354369.000000  354369.000000   \n",
       "mean     4416.656776       2004.234448     110.094337  128211.172535   \n",
       "std      4514.158514         90.227958     189.850405   37905.341530   \n",
       "min         0.000000       1000.000000       0.000000    5000.000000   \n",
       "25%      1050.000000       1999.000000      69.000000  125000.000000   \n",
       "50%      2700.000000       2003.000000     105.000000  150000.000000   \n",
       "75%      6400.000000       2008.000000     143.000000  150000.000000   \n",
       "max     20000.000000       9999.000000   20000.000000  150000.000000   \n",
       "\n",
       "       RegistrationMonth  NumberOfPictures     PostalCode  \n",
       "count      354369.000000          354369.0  354369.000000  \n",
       "mean            5.714645               0.0   50508.689087  \n",
       "std             3.726421               0.0   25783.096248  \n",
       "min             0.000000               0.0    1067.000000  \n",
       "25%             3.000000               0.0   30165.000000  \n",
       "50%             6.000000               0.0   49413.000000  \n",
       "75%             9.000000               0.0   71083.000000  \n",
       "max            12.000000               0.0   99998.000000  "
      ]
     },
     "metadata": {},
     "output_type": "display_data"
    }
   ],
   "source": [
    "#выведем основную информацию о датасете\n",
    "display(data.head(), data.info(), data.describe())"
   ]
  },
  {
   "cell_type": "markdown",
   "id": "c3639e0e",
   "metadata": {},
   "source": [
    "Изучим основную информацию о признаках с помощью модуля pandasprofiling"
   ]
  },
  {
   "cell_type": "markdown",
   "id": "67e5865a",
   "metadata": {},
   "source": [
    "Изучим корреляцию численных признаков"
   ]
  },
  {
   "cell_type": "code",
   "execution_count": 8,
   "id": "f6b271db",
   "metadata": {},
   "outputs": [
    {
     "data": {
      "image/png": "[encoded data removed]",
      "text/plain": [
       "<Figure size 864x576 with 2 Axes>"
      ]
     },
     "metadata": {
      "needs_background": "light"
     },
     "output_type": "display_data"
    }
   ],
   "source": [
    "#выводим график корреляции\n",
    "fig = plt.figure(figsize=(12, 8))\n",
    "sns.heatmap(data.corr(), annot = True, vmin = -1, vmax = 1, center = 0, cmap= 'RdYlGn', linewidths = 1, linecolor = 'black')\n",
    "plt.show()"
   ]
  },
  {
   "cell_type": "markdown",
   "id": "bd4807de",
   "metadata": {},
   "source": [
    "Изучим уникальные значения и дубликаты"
   ]
  },
  {
   "cell_type": "code",
   "execution_count": 9,
   "id": "abf55a29",
   "metadata": {},
   "outputs": [
    {
     "data": {
      "text/plain": [
       "NumberOfPictures          1\n",
       "Gearbox                   2\n",
       "NotRepaired               2\n",
       "FuelType                  7\n",
       "VehicleType               8\n",
       "Kilometer                13\n",
       "RegistrationMonth        13\n",
       "Brand                    40\n",
       "DateCreated             109\n",
       "RegistrationYear        151\n",
       "Model                   250\n",
       "Power                   712\n",
       "Price                  3731\n",
       "PostalCode             8143\n",
       "LastSeen             179150\n",
       "DateCrawled          271174\n",
       "dtype: int64"
      ]
     },
     "execution_count": 9,
     "metadata": {},
     "output_type": "execute_result"
    }
   ],
   "source": [
    "#смотрим количество уникальных значений в каждом столбце\n",
    "data.nunique().sort_values()"
   ]
  },
  {
   "cell_type": "code",
   "execution_count": 10,
   "id": "93c16762",
   "metadata": {
    "scrolled": true
   },
   "outputs": [
    {
     "name": "stdout",
     "output_type": "stream",
     "text": [
      "Gearbox : ['manual' 'auto' nan]\n",
      "NotRepaired : [nan 'yes' 'no']\n",
      "FuelType : ['petrol' 'gasoline' nan 'lpg' 'other' 'hybrid' 'cng' 'electric']\n",
      "VehicleType : [nan 'coupe' 'suv' 'small' 'sedan' 'convertible' 'bus' 'wagon' 'other']\n",
      "Kilometer : [150000 125000  90000  40000  30000  70000   5000 100000  60000  20000\n",
      "  80000  50000  10000]\n",
      "Brand : ['volkswagen' 'audi' 'jeep' 'skoda' 'bmw' 'peugeot' 'ford' 'mazda'\n",
      " 'nissan' 'renault' 'mercedes_benz' 'opel' 'seat' 'citroen' 'honda' 'fiat'\n",
      " 'mini' 'smart' 'hyundai' 'sonstige_autos' 'alfa_romeo' 'subaru' 'volvo'\n",
      " 'mitsubishi' 'kia' 'suzuki' 'lancia' 'toyota' 'chevrolet' 'dacia'\n",
      " 'daihatsu' 'trabant' 'saab' 'chrysler' 'jaguar' 'daewoo' 'porsche'\n",
      " 'rover' 'land_rover' 'lada']\n"
     ]
    }
   ],
   "source": [
    "#для некоторых столбцов выведем уникальные значения\n",
    "list_of_columns = ['Gearbox', 'NotRepaired', 'FuelType', 'VehicleType', 'Kilometer', 'Brand']\n",
    "for name in list_of_columns:\n",
    "    print(name, ':', data[name].unique())"
   ]
  },
  {
   "cell_type": "markdown",
   "id": "7857e488",
   "metadata": {},
   "source": [
    "Интересный момент - в типе топлива совсем нет дизеля, а \"бензин\" встречается в двух вариантах написания - американоязычное 'gasoline' и британоязычное 'petrol'"
   ]
  },
  {
   "cell_type": "code",
   "execution_count": 11,
   "id": "94dfe3fc",
   "metadata": {},
   "outputs": [
    {
     "data": {
      "text/plain": [
       "4"
      ]
     },
     "execution_count": 11,
     "metadata": {},
     "output_type": "execute_result"
    }
   ],
   "source": [
    "#проверим явные дубликаты\n",
    "data.duplicated().sum()"
   ]
  },
  {
   "cell_type": "markdown",
   "id": "2660c895",
   "metadata": {},
   "source": [
    "### Выводы"
   ]
  },
  {
   "cell_type": "markdown",
   "id": "fa04d853",
   "metadata": {},
   "source": [
    "В нашем распоряжении датасет из 354 369 объектов с 16-ю признаками, включая целевой. 7 из этих признаков числовые, остальные - категориальные. В данных есть пропущенные и аномальные значения.</br>\n",
    "Мультиколлинеарности численных признаков нет, наибольшая корреляция у целевого признака с величиной пробега.</br>\n",
    "</br>\n",
    "Пропущенные значения:\n",
    "- VehicleType - 10,6%\n",
    "- Gearbox - 5,6%\n",
    "- Model - 5,6%\n",
    "- FuelType - 9,3%\n",
    "- NotRepaired - 10,1%</br>\n",
    "</br>\n",
    "\n",
    "Есть нули в колонках с мощностью двигателя, месяцем регистрации и ценой (целевой признак).</br>\n",
    "Экстремально большие значения есть в колонках - мощность двигателя, цена, год регистрации.</br>\n",
    "Столбец с числом картинок заполнен нулями.</br>\n",
    "Есть 4 дубликата.</br>\n",
    "</br>\n",
    "Далее мы заполним пропуски, удалим дубликаты, приведем названия и форматы столбцов к более удобному виду."
   ]
  },
  {
   "cell_type": "markdown",
   "id": "5234403f",
   "metadata": {},
   "source": [
    "### Предобработка данных"
   ]
  },
  {
   "cell_type": "markdown",
   "id": "08c5645b",
   "metadata": {},
   "source": [
    "Приведём все названия столбцов к нижнему регистру, удалим 4 явных дубликата и переведем столбцы с датами в формат datetime"
   ]
  },
  {
   "cell_type": "code",
   "execution_count": 12,
   "id": "384c06eb",
   "metadata": {},
   "outputs": [],
   "source": [
    "#зафиксируем размер и средние датасета до преобразований\n",
    "data_len_start = len(data)\n",
    "data_describe_start = data.describe()"
   ]
  },
  {
   "cell_type": "code",
   "execution_count": 13,
   "id": "3b3d825f",
   "metadata": {},
   "outputs": [],
   "source": [
    "#приводим названия колонок к нижнему регистру\n",
    "data.columns = map(str.lower, data.columns)"
   ]
  },
  {
   "cell_type": "code",
   "execution_count": 14,
   "id": "ca6b975d",
   "metadata": {},
   "outputs": [],
   "source": [
    "#удаляем дубликаты\n",
    "data.drop_duplicates(inplace=True);"
   ]
  },
  {
   "cell_type": "code",
   "execution_count": 15,
   "id": "2017cdb3",
   "metadata": {},
   "outputs": [],
   "source": [
    "#приводим столбцы с датами к нужному формату\n",
    "data['datecrawled'] = pd.to_datetime(data['datecrawled'], format='%Y-%m-%dT%H:%M:%S')\n",
    "data['datecreated'] = pd.to_datetime(data['datecreated'], format='%Y-%m-%dT%H:%M:%S')\n",
    "data['lastseen'] = pd.to_datetime(data['lastseen'], format='%Y-%m-%dT%H:%M:%S')"
   ]
  },
  {
   "cell_type": "markdown",
   "id": "5e697b7a",
   "metadata": {},
   "source": [
    "Пропуски будем заполнять, базируясь на информации о бренде, модели и годе регистрации автомобиля.</br>\n",
    "</br>\n",
    "Однако, пропуски в колонке с моделью автомобиля сложно заполнить достоверно, поэтому строки с пропусками в этой колонке мы удалим как неинформативные - это около 5.6% датасета.</br>"
   ]
  },
  {
   "cell_type": "code",
   "execution_count": 16,
   "id": "429f6906",
   "metadata": {},
   "outputs": [
    {
     "name": "stdout",
     "output_type": "stream",
     "text": [
      "Доля данных с пропущенным название модели 0.05560650741467131\n"
     ]
    }
   ],
   "source": [
    "print('Доля данных с пропущенным название модели', data.query('model != model')['brand'].count()/len(data))"
   ]
  },
  {
   "cell_type": "code",
   "execution_count": 17,
   "id": "450cd858",
   "metadata": {},
   "outputs": [],
   "source": [
    "#удаляем строки с пропущенными названиями моделей\n",
    "data = data.dropna(subset = ['model']).reset_index(drop=True);"
   ]
  },
  {
   "cell_type": "markdown",
   "id": "fa041dec",
   "metadata": {},
   "source": [
    "Определим функцию для заполнения пропусков: для каждого nan она будет группировать датасет по бренду, модели и году выпуска автомобиля и вычислять моду для столбца с пропущенным значением. </br>\n",
    "Если вдруг для сочетания бренд-модель-год не найдется данных, то заполнение будет вестись модой только по бренду."
   ]
  },
  {
   "cell_type": "code",
   "execution_count": 18,
   "id": "de1bf9d9",
   "metadata": {},
   "outputs": [],
   "source": [
    "def na_replace(column_name):\n",
    "    data[column_name].fillna(\n",
    "    data.groupby(['brand', 'model', 'registrationyear'])[column_name]\n",
    "    .transform(lambda x: x.value_counts().idxmax() if x.count() != 0 \n",
    "               else data.groupby('brand')[column_name].transform(lambda x: x.value_counts().idxmax())), inplace=True)\n",
    "    \n",
    "    return data"
   ]
  },
  {
   "cell_type": "code",
   "execution_count": 19,
   "id": "ad9833fc",
   "metadata": {},
   "outputs": [],
   "source": [
    "#заменим пропуски в данных о типе коробки\n",
    "na_replace('gearbox');"
   ]
  },
  {
   "cell_type": "code",
   "execution_count": 20,
   "id": "d6477242",
   "metadata": {},
   "outputs": [],
   "source": [
    "#восстановим тип топлива\n",
    "na_replace('fueltype');"
   ]
  },
  {
   "cell_type": "code",
   "execution_count": 21,
   "id": "6a5cfc3f",
   "metadata": {},
   "outputs": [],
   "source": [
    "#тип кузова\n",
    "na_replace('vehicletype');"
   ]
  },
  {
   "cell_type": "markdown",
   "id": "7e9afd55",
   "metadata": {},
   "source": [
    "Была ли машина в ремонте или нет - не зависит от модели и бренда, а также от других имеющихся у нас характеристик (хотя, чисто теоретически, можно сказать, что чем старше машина - тем больше веротяность, что она хотя бы раз потребовала серьезного ремонта, но мы оставим поиск этих зависимостей машинному обучению :). Для заполнения пропусков в столбце notrepaired создадим отдельную категорию 'noinfo'."
   ]
  },
  {
   "cell_type": "code",
   "execution_count": 22,
   "id": "0fd9a939",
   "metadata": {},
   "outputs": [],
   "source": [
    "data['notrepaired'].fillna('noinfo', inplace=True)"
   ]
  },
  {
   "cell_type": "code",
   "execution_count": 23,
   "id": "68eddb43",
   "metadata": {},
   "outputs": [
    {
     "data": {
      "image/png": "[encoded data removed]",
      "text/plain": [
       "<Figure size 576x432 with 1 Axes>"
      ]
     },
     "metadata": {
      "needs_background": "light"
     },
     "output_type": "display_data"
    }
   ],
   "source": [
    "plt.figure(figsize=(8,6))\n",
    "sns.set(style=\"whitegrid\")\n",
    "plt.title('Разброс годов регистрации автомобилей', fontsize=12)\n",
    "#plt.xlabel('')\n",
    "plt.ylabel('Год регистрации')\n",
    "sns.boxplot(data=data['registrationyear']);\n",
    "plt.show()"
   ]
  },
  {
   "cell_type": "code",
   "execution_count": 24,
   "id": "d490659d",
   "metadata": {},
   "outputs": [
    {
     "data": {
      "text/plain": [
       "Timestamp('2016-04-07 14:36:58')"
      ]
     },
     "metadata": {},
     "output_type": "display_data"
    },
    {
     "data": {
      "text/plain": [
       "Timestamp('2016-04-07 14:58:51')"
      ]
     },
     "metadata": {},
     "output_type": "display_data"
    }
   ],
   "source": [
    "display(data['datecrawled'].max(), data['lastseen'].max())"
   ]
  },
  {
   "cell_type": "markdown",
   "id": "37eb84d1",
   "metadata": {},
   "source": [
    "Как видим, разброс годов регистрации достаточно большой. Удалим машины, \"зарегистрированные\" ранее 1980го и позднее 2016 года: последняя дата скачивания данных из базы ограничеа 2016 годом, а машины, выпущенные 50-60-70 лет назад либо потеряли рыночную привлекательность, либо являются раритетом - но и в том, и в другом случае для обучения модели под наши цели они не пригодны."
   ]
  },
  {
   "cell_type": "code",
   "execution_count": 25,
   "id": "96754a00",
   "metadata": {},
   "outputs": [
    {
     "name": "stdout",
     "output_type": "stream",
     "text": [
      "Удалено 3.80% датасета\n"
     ]
    }
   ],
   "source": [
    "len_before = len(data)\n",
    "data = data.query('registrationyear <= 2016 & registrationyear >= 1960')\n",
    "delete_share = (len_before - len(data))/len_before\n",
    "print(f'Удалено {delete_share:.2%} датасета')"
   ]
  },
  {
   "cell_type": "code",
   "execution_count": 26,
   "id": "2c44de8e",
   "metadata": {
    "scrolled": true
   },
   "outputs": [
    {
     "data": {
      "image/png": "[encoded data removed]",
      "text/plain": [
       "<Figure size 576x432 with 1 Axes>"
      ]
     },
     "metadata": {},
     "output_type": "display_data"
    }
   ],
   "source": [
    "#выведем график еще раз\n",
    "plt.figure(figsize=(8,6))\n",
    "sns.set(style=\"whitegrid\")\n",
    "plt.title('Разброс годов регистрации автомобилей', fontsize=12)\n",
    "#plt.xlabel('')\n",
    "plt.ylabel('Год регистрации')\n",
    "sns.boxplot(data=data['registrationyear']);\n",
    "plt.show()"
   ]
  },
  {
   "cell_type": "code",
   "execution_count": 27,
   "id": "04b60373",
   "metadata": {},
   "outputs": [],
   "source": [
    "def age_category(age):\n",
    "    if age >= 2014:\n",
    "        return 'quite_new'\n",
    "    elif age >= 2010:\n",
    "        return 'not_new'\n",
    "    elif age >=2007:\n",
    "        return 'not_so_old'\n",
    "    elif age >= 2002:\n",
    "        return 'semi_old'\n",
    "    elif age >= 1997:\n",
    "        return 'old'\n",
    "    elif age >= 1987:\n",
    "        return 'hard_old'\n",
    "    elif age >= 1977:\n",
    "        return 'retro'\n",
    "    else:\n",
    "        return 'hard_retro'"
   ]
  },
  {
   "cell_type": "code",
   "execution_count": 28,
   "id": "e274a782",
   "metadata": {},
   "outputs": [],
   "source": [
    "data['age_category'] = data.apply(lambda x: age_category(x.registrationyear), axis=1)"
   ]
  },
  {
   "cell_type": "code",
   "execution_count": 29,
   "id": "2fb26651",
   "metadata": {},
   "outputs": [
    {
     "data": {
      "image/png": "[encoded data removed]",
      "text/plain": [
       "<Figure size 576x432 with 1 Axes>"
      ]
     },
     "metadata": {},
     "output_type": "display_data"
    }
   ],
   "source": [
    "#построим ящик с усами для значения пробега\n",
    "plt.figure(figsize=(8,6))\n",
    "sns.set(style=\"whitegrid\")\n",
    "plt.title('Разброс пробегов автомобилей', fontsize=12)\n",
    "plt.xlabel('Пробег, км')\n",
    "#plt.ylabel('')\n",
    "sns.boxplot(data=data['kilometer']);\n",
    "plt.show()"
   ]
  },
  {
   "cell_type": "markdown",
   "id": "7c2b104b",
   "metadata": {},
   "source": [
    "Видим, что есть выбросы в виде небольших пробегов - здесь речь может идти о новых машинах, поэтому удалять их не будем."
   ]
  },
  {
   "cell_type": "code",
   "execution_count": 30,
   "id": "1dd3f662",
   "metadata": {
    "scrolled": false
   },
   "outputs": [
    {
     "data": {
      "image/png": "[encoded data removed]",
      "text/plain": [
       "<Figure size 576x432 with 1 Axes>"
      ]
     },
     "metadata": {},
     "output_type": "display_data"
    }
   ],
   "source": [
    "#изучим значения мощности двигателя\n",
    "plt.figure(figsize=(8,6))\n",
    "sns.set(style=\"whitegrid\")\n",
    "plt.title('Разброс значений мощности двигателя', fontsize=12)\n",
    "plt.xlabel('Мощность, л.с.')\n",
    "#plt.ylabel('')\n",
    "sns.boxplot(data=data['power']);\n",
    "plt.show()"
   ]
  },
  {
   "cell_type": "code",
   "execution_count": 88,
   "id": "d4edb931",
   "metadata": {},
   "outputs": [
    {
     "data": {
      "image/png": "[encoded data removed]",
      "text/plain": [
       "<Figure size 432x288 with 1 Axes>"
      ]
     },
     "metadata": {},
     "output_type": "display_data"
    }
   ],
   "source": [
    "data.query('power == 0').groupby('notrepaired')['price'].hist(bins=100, legend=True);\n",
    "plt.title('Стоимость машин с нулевой мощностью', fontsize=12)\n",
    "plt.xlabel('Цена, евро')\n",
    "plt.ylabel('Частота')\n",
    "plt.show()"
   ]
  },
  {
   "cell_type": "code",
   "execution_count": 32,
   "id": "e8b1154c",
   "metadata": {},
   "outputs": [
    {
     "data": {
      "text/plain": [
       "notrepaired\n",
       "no        11442\n",
       "noinfo    15441\n",
       "yes        3913\n",
       "Name: price, dtype: int64"
      ]
     },
     "execution_count": 32,
     "metadata": {},
     "output_type": "execute_result"
    }
   ],
   "source": [
    "data.query('power == 0').groupby('notrepaired')['price'].count()"
   ]
  },
  {
   "cell_type": "markdown",
   "id": "574a91fd",
   "metadata": {},
   "source": [
    "Беглый обзор информации о самых мощных двигателях для гражданских моделей говорит о том, что двигатели мощностью меньше 50 и больше 300 л.с. на современном рынке встречаются редко. Возможно, произошли опечатки при заполнении формы. Кроме того, в этом столбце большое количество нулей, которое, по сути, аналогично пропускам."
   ]
  },
  {
   "cell_type": "code",
   "execution_count": 33,
   "id": "2c8819d3",
   "metadata": {},
   "outputs": [],
   "source": [
    "anomal_share = (\n",
    "    (data.query('notrepaired == \"no\" and power < 50 and power <= 500')['power'].count() \n",
    "     + data.query('notrepaired == \"noinfo\" and power < 50 and power <= 500')['power'].count())/len(data)\n",
    ")"
   ]
  },
  {
   "cell_type": "code",
   "execution_count": 34,
   "id": "c75880c2",
   "metadata": {},
   "outputs": [
    {
     "name": "stdout",
     "output_type": "stream",
     "text": [
      "Доля аномальных значений в столбце power: 9.69% \n"
     ]
    }
   ],
   "source": [
    "print(f'Доля аномальных значений в столбце power: {anomal_share:.2%} ')"
   ]
  },
  {
   "cell_type": "markdown",
   "id": "63c9d196",
   "metadata": {},
   "source": [
    "\n",
    "<div class=\"alert alert-block alert-info\">\n",
    "<b>Совет:</b> Как думаешь а машины с 0-ой мощностью могут быть просто без двигателя? А верхнюю границу я бы пересмотрел, разве 300 л.с. кажутся неадекватными?\n",
    "</div>\n"
   ]
  },
  {
   "cell_type": "markdown",
   "id": "0273903d",
   "metadata": {},
   "source": [
    "<font color='darkviolet' style='font-size:14px; font-weight:bold'>Вообще не подумала про такой вариант. Такое может быть. Но мне кажется, что даже для такого большого датасета количество нулей всё равно великовато - то есть тут, возможно, есть и машины без двигателя, и пропуски, и просто неаккуратность заполнения. Вопрос в том, как их дифференцировать? В первую очередь, это будет видно по цене, во-вторую, по отметке о ремонте. Я беру информацию о ремонте как основную - если машина не ремонтировалась или нет информации, априори считаем нулевое значение мощности ошибкой. Если же машина ремонтировалась, оставляем всё как есть. Верхнюю границу поменяла на 500 л.с. </font>"
   ]
  },
  {
   "cell_type": "code",
   "execution_count": 35,
   "id": "ddb8bbe0",
   "metadata": {},
   "outputs": [],
   "source": [
    "#приравняем все значения меньше 50 и больше 300 к нулю\n",
    "#data['power'] = data['power'].apply(lambda x: 0 if x <= 50 or x >= 500 else x)"
   ]
  },
  {
   "cell_type": "code",
   "execution_count": 36,
   "id": "33e165ea",
   "metadata": {},
   "outputs": [],
   "source": [
    "def power_check(df):\n",
    "    if df.loc['notrepaired'] == 'no' or df.loc['notrepaired'] == 'noinfo':\n",
    "        if df.loc['power'] <= 50 or df.loc['power'] >= 500:\n",
    "            return np.nan\n",
    "        else:\n",
    "            return df.loc['power']\n",
    "    if df.loc['notrepaired'] == 'yes':\n",
    "        if df.loc['power'] >= 500:\n",
    "            return np.nan\n",
    "        else:\n",
    "            return df.loc['power']"
   ]
  },
  {
   "cell_type": "code",
   "execution_count": 37,
   "id": "b75213b9",
   "metadata": {},
   "outputs": [],
   "source": [
    "data['power'] = data.apply(power_check, axis=1)"
   ]
  },
  {
   "cell_type": "code",
   "execution_count": 38,
   "id": "662e965b",
   "metadata": {},
   "outputs": [],
   "source": [
    "#нули заменим на nan\n",
    "#data['power'] = data['power'].replace(0, np.nan)"
   ]
  },
  {
   "cell_type": "code",
   "execution_count": 39,
   "id": "db3cd34a",
   "metadata": {},
   "outputs": [],
   "source": [
    "#заполним пропуски ранее созданной функцией\n",
    "na_replace('power');"
   ]
  },
  {
   "cell_type": "code",
   "execution_count": 40,
   "id": "db44d699",
   "metadata": {},
   "outputs": [
    {
     "data": {
      "image/png": "[encoded data removed]",
      "text/plain": [
       "<Figure size 576x432 with 1 Axes>"
      ]
     },
     "metadata": {},
     "output_type": "display_data"
    }
   ],
   "source": [
    "#выведем график еще раз\n",
    "plt.figure(figsize=(8,6))\n",
    "sns.set(style=\"whitegrid\")\n",
    "plt.title('Разброс значений мощности двигателя', fontsize=12)\n",
    "plt.xlabel('Мощность, л.с.')\n",
    "#plt.ylabel('')\n",
    "sns.boxplot(data=data['power']);\n",
    "plt.show()"
   ]
  },
  {
   "cell_type": "code",
   "execution_count": 41,
   "id": "965ca435",
   "metadata": {},
   "outputs": [
    {
     "data": {
      "image/png": "[encoded data removed]",
      "text/plain": [
       "<Figure size 576x432 with 1 Axes>"
      ]
     },
     "metadata": {},
     "output_type": "display_data"
    }
   ],
   "source": [
    "#и наконец выведем ящик с усами для цены\n",
    "plt.figure(figsize=(8,6))\n",
    "sns.set(style=\"whitegrid\")\n",
    "plt.title('Разброс цен', fontsize=12)\n",
    "plt.xlabel('Стоимость машины, евро')\n",
    "#plt.ylabel('')\n",
    "sns.boxplot(data=data['price']);\n",
    "plt.show()"
   ]
  },
  {
   "cell_type": "markdown",
   "id": "1b3bead4",
   "metadata": {},
   "source": [
    "Видим, что в выборке есть и очень большие цены и нули. Нули посчитаем аномалией - вряд ли кто-то хочет отдать машину бесплатно. Посчитаем нижней границей стоимости 50 евро."
   ]
  },
  {
   "cell_type": "code",
   "execution_count": 42,
   "id": "880e7d8b",
   "metadata": {},
   "outputs": [
    {
     "data": {
      "image/png": "[encoded data removed]",
      "text/plain": [
       "<Figure size 432x288 with 1 Axes>"
      ]
     },
     "metadata": {},
     "output_type": "display_data"
    }
   ],
   "source": [
    "data['price'].hist(bins=50);\n",
    "plt.title('Гистограмма цен на автомобили', fontsize=12)\n",
    "plt.xlabel('Стоимость, евро')\n",
    "plt.ylabel('Частота')\n",
    "plt.show()"
   ]
  },
  {
   "cell_type": "code",
   "execution_count": 43,
   "id": "4ab1d4cc",
   "metadata": {},
   "outputs": [
    {
     "name": "stdout",
     "output_type": "stream",
     "text": [
      "Доля нулевых значений в столбце price: 2.48% \n"
     ]
    }
   ],
   "source": [
    "anomal_share = data.query('price <= 0')['brand'].count()/len(data)\n",
    "print(f'Доля нулевых значений в столбце price: {anomal_share:.2%} ')"
   ]
  },
  {
   "cell_type": "code",
   "execution_count": 44,
   "id": "f7497213",
   "metadata": {},
   "outputs": [
    {
     "name": "stdout",
     "output_type": "stream",
     "text": [
      "Доля цен менее 50 евро: 2.95% \n"
     ]
    }
   ],
   "source": [
    "anomal_share = data.query('price <= 50')['brand'].count()/len(data)\n",
    "print(f'Доля цен менее 50 евро: {anomal_share:.2%} ')"
   ]
  },
  {
   "cell_type": "code",
   "execution_count": 45,
   "id": "9dc98c6a",
   "metadata": {},
   "outputs": [
    {
     "name": "stdout",
     "output_type": "stream",
     "text": [
      "Удалено 2.86% датасета\n"
     ]
    }
   ],
   "source": [
    "len_before = len(data)\n",
    "data = data.query('price >= 50')\n",
    "delete_share = (len_before - len(data))/len_before\n",
    "print(f'Удалено {delete_share:.2%} датасета')"
   ]
  },
  {
   "cell_type": "markdown",
   "id": "15935c1b",
   "metadata": {},
   "source": [
    "\n",
    "<div class=\"alert alert-block alert-info\">\n",
    "<b>Совет:</b>  \n",
    "    Самое интересное, что на нескольких сайтов по продажам подержанных автомобилей в Германии (страну можно определить по почтовым индексам, большинство из них из Германии) показало, что цены начинаются действительно с 0 и 1 евро, но это единичные объявления и не понятно, то ли это ошибка при заполнении формы, то ли машины на металлолом. Но я  все-таки склоняюсь к тому, чтобы избавиться от таких данных\n",
    "</div>\n"
   ]
  },
  {
   "cell_type": "markdown",
   "id": "82be08e1",
   "metadata": {},
   "source": [
    "Выведем общую информацию об итоговом датасете."
   ]
  },
  {
   "cell_type": "code",
   "execution_count": 46,
   "id": "8ab7e22a",
   "metadata": {},
   "outputs": [
    {
     "name": "stdout",
     "output_type": "stream",
     "text": [
      "<class 'pandas.core.frame.DataFrame'>\n",
      "Int64Index: 312736 entries, 0 to 334659\n",
      "Data columns (total 17 columns):\n",
      " #   Column             Non-Null Count   Dtype         \n",
      "---  ------             --------------   -----         \n",
      " 0   datecrawled        312736 non-null  datetime64[ns]\n",
      " 1   price              312736 non-null  int64         \n",
      " 2   vehicletype        312736 non-null  object        \n",
      " 3   registrationyear   312736 non-null  int64         \n",
      " 4   gearbox            312736 non-null  object        \n",
      " 5   power              312736 non-null  float64       \n",
      " 6   model              312736 non-null  object        \n",
      " 7   kilometer          312736 non-null  int64         \n",
      " 8   registrationmonth  312736 non-null  int64         \n",
      " 9   fueltype           312736 non-null  object        \n",
      " 10  brand              312736 non-null  object        \n",
      " 11  notrepaired        312736 non-null  object        \n",
      " 12  datecreated        312736 non-null  datetime64[ns]\n",
      " 13  numberofpictures   312736 non-null  int64         \n",
      " 14  postalcode         312736 non-null  int64         \n",
      " 15  lastseen           312736 non-null  datetime64[ns]\n",
      " 16  age_category       312736 non-null  object        \n",
      "dtypes: datetime64[ns](3), float64(1), int64(6), object(7)\n",
      "memory usage: 42.9+ MB\n"
     ]
    }
   ],
   "source": [
    "data.info()"
   ]
  },
  {
   "cell_type": "code",
   "execution_count": 47,
   "id": "b99a1929",
   "metadata": {},
   "outputs": [
    {
     "name": "stdout",
     "output_type": "stream",
     "text": [
      "В процессе предобработки удалено: 11.75% данных\n"
     ]
    }
   ],
   "source": [
    "data_len_finshare = (data_len_start - len(data))/data_len_start\n",
    "print(f'В процессе предобработки удалено: {data_len_finshare:.2%} данных')"
   ]
  },
  {
   "cell_type": "markdown",
   "id": "c44d11bf",
   "metadata": {},
   "source": [
    "<font color='darkviolet' style='font-size:14px; font-weight:bold'> Объем удаленных данных увеличился после удаления данных с годом >= 2017</font>"
   ]
  },
  {
   "cell_type": "markdown",
   "id": "55964ec7",
   "metadata": {},
   "source": [
    "<div class=\"alert alert-block alert-success\">\n",
    "<b>Успех:</b> Вполне допустимо\n",
    "</div>\n"
   ]
  },
  {
   "cell_type": "code",
   "execution_count": 48,
   "id": "7e14d79c",
   "metadata": {
    "scrolled": false
   },
   "outputs": [
    {
     "data": {
      "text/plain": [
       "'Средние значения до предобработки:'"
      ]
     },
     "metadata": {},
     "output_type": "display_data"
    },
    {
     "data": {
      "text/plain": [
       "price                  4688.649580\n",
       "registrationyear       2002.783530\n",
       "power                   118.230133\n",
       "kilometer            128528.599202\n",
       "registrationmonth         5.901163\n",
       "numberofpictures          0.000000\n",
       "postalcode            50914.415942\n",
       "Name: mean, dtype: float64"
      ]
     },
     "metadata": {},
     "output_type": "display_data"
    },
    {
     "data": {
      "text/plain": [
       "'Средние значения после предобработки:'"
      ]
     },
     "metadata": {},
     "output_type": "display_data"
    },
    {
     "data": {
      "text/plain": [
       "Price                  4416.656776\n",
       "RegistrationYear       2004.234448\n",
       "Power                   110.094337\n",
       "Kilometer            128211.172535\n",
       "RegistrationMonth         5.714645\n",
       "NumberOfPictures          0.000000\n",
       "PostalCode            50508.689087\n",
       "Name: mean, dtype: float64"
      ]
     },
     "metadata": {},
     "output_type": "display_data"
    }
   ],
   "source": [
    "display(\"Средние значения до предобработки:\", data.describe().loc['mean', :], 'Средние значения после предобработки:', data_describe_start.loc['mean', :])"
   ]
  },
  {
   "cell_type": "markdown",
   "id": "dc578db5",
   "metadata": {},
   "source": [
    "### Выводы"
   ]
  },
  {
   "cell_type": "markdown",
   "id": "cfbf3ce0",
   "metadata": {},
   "source": [
    "Была проведена предварительная обработка данных, заполнение пропусков и удаление выбросов. В процессе было удалено 9,0% данных, а средние значения численных переменных изменились не сильно. </br>\n",
    "Предобработка столбцов datecrawled, registrationmonth, datecreated, numberofpictures, postalcode и lastseen не проводилась, т.к. эти данные не будут участовать в обучении."
   ]
  },
  {
   "cell_type": "markdown",
   "id": "91f3e185",
   "metadata": {},
   "source": [
    "<div class=\"alert alert-block alert-success\">\n",
    "<b>Успех:</b>  Хорошая, внимательная предобработка - идем дальше\n",
    "    \n",
    "</div>\n"
   ]
  },
  {
   "cell_type": "markdown",
   "id": "1a5ef147",
   "metadata": {},
   "source": [
    "## Подготовка и отбор признаков"
   ]
  },
  {
   "cell_type": "markdown",
   "id": "25a30c7a",
   "metadata": {},
   "source": [
    "**Изучение целевого признака**"
   ]
  },
  {
   "cell_type": "markdown",
   "id": "7e57691c",
   "metadata": {},
   "source": [
    "Выведем информацию о целевом признаке и его зависимости от остальных признаков:"
   ]
  },
  {
   "cell_type": "code",
   "execution_count": 49,
   "id": "33b298fe",
   "metadata": {},
   "outputs": [
    {
     "data": {
      "image/png": "[encoded data removed]",
      "text/plain": [
       "<Figure size 576x360 with 1 Axes>"
      ]
     },
     "metadata": {},
     "output_type": "display_data"
    }
   ],
   "source": [
    "plt.figure(figsize=(8,5))\n",
    "sns.set(style=\"whitegrid\")\n",
    "sns.histplot(data['price'], bins=30, color='b', kde=True, stat='density');\n",
    "plt.title('Гистограмма разброса цен', fontsize=12)\n",
    "plt.show()"
   ]
  },
  {
   "cell_type": "code",
   "execution_count": 50,
   "id": "8611bd1a",
   "metadata": {},
   "outputs": [],
   "source": [
    "list_of_features = ['vehicletype', 'registrationyear', 'gearbox', 'kilometer', 'fueltype', 'brand', 'notrepaired']"
   ]
  },
  {
   "cell_type": "code",
   "execution_count": 51,
   "id": "e632f2cf",
   "metadata": {
    "scrolled": true
   },
   "outputs": [
    {
     "data": {
      "image/png": "[encoded data removed]",
      "text/plain": [
       "<Figure size 576x360 with 1 Axes>"
      ]
     },
     "metadata": {},
     "output_type": "display_data"
    },
    {
     "data": {
      "image/png": "[encoded data removed]",
      "text/plain": [
       "<Figure size 576x360 with 1 Axes>"
      ]
     },
     "metadata": {},
     "output_type": "display_data"
    },
    {
     "data": {
      "image/png": "[encoded data removed]",
      "text/plain": [
       "<Figure size 576x360 with 1 Axes>"
      ]
     },
     "metadata": {},
     "output_type": "display_data"
    },
    {
     "data": {
      "image/png": "[encoded data removed]",
      "text/plain": [
       "<Figure size 576x360 with 1 Axes>"
      ]
     },
     "metadata": {},
     "output_type": "display_data"
    },
    {
     "data": {
      "image/png": "[encoded data removed]",
      "text/plain": [
       "<Figure size 576x360 with 1 Axes>"
      ]
     },
     "metadata": {},
     "output_type": "display_data"
    },
    {
     "data": {
      "image/png": "[encoded data removed]",
      "text/plain": [
       "<Figure size 576x360 with 1 Axes>"
      ]
     },
     "metadata": {},
     "output_type": "display_data"
    },
    {
     "data": {
      "image/png": "[encoded data removed]",
      "text/plain": [
       "<Figure size 576x360 with 1 Axes>"
      ]
     },
     "metadata": {},
     "output_type": "display_data"
    }
   ],
   "source": [
    "for feature in list_of_features:\n",
    "    plt.figure(figsize=(8,5))\n",
    "    sns.set(style=\"whitegrid\")\n",
    "    sns.barplot(x=data.groupby(feature)['price'].median().sort_values(ascending=False).index, y=data.groupby(feature)['price'].median().sort_values(ascending=False));\n",
    "    plt.title(feature, fontsize=12)\n",
    "    plt.xticks(rotation = 90)\n",
    "    plt.show()"
   ]
  },
  {
   "cell_type": "code",
   "execution_count": 52,
   "id": "15eedcf4",
   "metadata": {},
   "outputs": [
    {
     "data": {
      "image/png": "[encoded data removed]",
      "text/plain": [
       "<Figure size 576x360 with 1 Axes>"
      ]
     },
     "metadata": {},
     "output_type": "display_data"
    }
   ],
   "source": [
    "plt.figure(figsize=(8,5))\n",
    "sns.set(style=\"darkgrid\")\n",
    "ax = sns.barplot(x=data.groupby('power')['price'].median().sort_values(ascending=False).index, y=data.groupby('power')['price'].median().sort_values(ascending=False));\n",
    "plt.title('How price depend on power', fontsize=12)\n",
    "plt.xticks(range(0, 251, 20))\n",
    "#ax.set_xticklabels([])\n",
    "#ax.grid([0, 50, 100, 150, 200, 250, 300])\n",
    "plt.xticks(rotation = 90)\n",
    "plt.show()"
   ]
  },
  {
   "cell_type": "markdown",
   "id": "177c7fb4",
   "metadata": {},
   "source": [
    "Видим, что более половины цен лежат в диапазоне до 2700 евро (это мы видели и раньше из описательной статистики датасета), а 75% цен лежат в диапазоне до 6400 евро. Однако в данных мы видим две \"аномалии\" с общепринятой точки зрения - машины с небольшим пробегом имеют очень низкую цену. Так же, как и машины, зарегистрированные в 2016 года - хотя обычно более новые автомобили стоят дороже.</br>\n",
    "Кроме того, средняя цена на gasoline и petrol сильно различается, хотя и то, и другое - \"бензин\". Не исключено, что речь идет о разных регионах с разными ценовыми политиками."
   ]
  },
  {
   "cell_type": "markdown",
   "id": "bf6e0071",
   "metadata": {},
   "source": [
    "Изучим зависимость цены от пробега"
   ]
  },
  {
   "cell_type": "code",
   "execution_count": 53,
   "id": "7b30f59e",
   "metadata": {},
   "outputs": [
    {
     "data": {
      "text/plain": [
       "kilometer\n",
       "5000       1500.0\n",
       "10000     11250.0\n",
       "20000      9199.0\n",
       "30000      9300.0\n",
       "40000      9307.0\n",
       "50000      8500.0\n",
       "60000      7950.0\n",
       "70000      7200.0\n",
       "80000      6499.0\n",
       "90000      5550.0\n",
       "100000     4998.0\n",
       "125000     3850.0\n",
       "150000     2200.0\n",
       "Name: price, dtype: float64"
      ]
     },
     "execution_count": 53,
     "metadata": {},
     "output_type": "execute_result"
    }
   ],
   "source": [
    "data.groupby('kilometer')['price'].median()"
   ]
  },
  {
   "cell_type": "code",
   "execution_count": 54,
   "id": "2dfafe9f",
   "metadata": {},
   "outputs": [
    {
     "data": {
      "text/plain": [
       "<AxesSubplot:xlabel='registrationyear'>"
      ]
     },
     "execution_count": 54,
     "metadata": {},
     "output_type": "execute_result"
    },
    {
     "data": {
      "image/png": "[encoded data removed]",
      "text/plain": [
       "<Figure size 432x288 with 1 Axes>"
      ]
     },
     "metadata": {},
     "output_type": "display_data"
    }
   ],
   "source": [
    "data.query('kilometer <= 5000').groupby('registrationyear')['price'].median().plot(kind='bar')"
   ]
  },
  {
   "cell_type": "markdown",
   "id": "30e85044",
   "metadata": {},
   "source": [
    "Во-первых, пробег в датасете дается дискретными значениями (вероятно, при заполнении в базе нужно указать диапазон, который потом записывается по верхней границе). Во-вторых, в диапазон \"5000 и меньше\" попало много старых машин с невысокой ценой - то ли владельцы всю жизнь хранили их в гараже, то ли не потрудились заполнить реальный пробег. В итоге средняя цена для диапазона 5000 очень низкая - но график распределения цен по годам внутри этого пробега вполне соответствует графику по всему датасету."
   ]
  },
  {
   "cell_type": "markdown",
   "id": "27539bf6",
   "metadata": {},
   "source": [
    "Посмотрим, как дела обстоят с ценами за 2016 год"
   ]
  },
  {
   "cell_type": "code",
   "execution_count": 55,
   "id": "85bdcb48",
   "metadata": {},
   "outputs": [
    {
     "data": {
      "text/plain": [
       "registrationyear\n",
       "2016    1000.0\n",
       "Name: price, dtype: float64"
      ]
     },
     "execution_count": 55,
     "metadata": {},
     "output_type": "execute_result"
    }
   ],
   "source": [
    "data.query('registrationyear >= 2016').groupby(['registrationyear'])['price'].median()"
   ]
  },
  {
   "cell_type": "code",
   "execution_count": 56,
   "id": "1106cbec",
   "metadata": {
    "scrolled": true
   },
   "outputs": [
    {
     "data": {
      "image/png": "[encoded data removed]",
      "text/plain": [
       "<Figure size 576x360 with 1 Axes>"
      ]
     },
     "metadata": {},
     "output_type": "display_data"
    },
    {
     "data": {
      "image/png": "[encoded data removed]",
      "text/plain": [
       "<Figure size 576x360 with 1 Axes>"
      ]
     },
     "metadata": {},
     "output_type": "display_data"
    },
    {
     "data": {
      "image/png": "[encoded data removed]",
      "text/plain": [
       "<Figure size 576x360 with 1 Axes>"
      ]
     },
     "metadata": {},
     "output_type": "display_data"
    },
    {
     "data": {
      "image/png": "[encoded data removed]",
      "text/plain": [
       "<Figure size 576x360 with 1 Axes>"
      ]
     },
     "metadata": {},
     "output_type": "display_data"
    },
    {
     "data": {
      "image/png": "[encoded data removed]",
      "text/plain": [
       "<Figure size 576x360 with 1 Axes>"
      ]
     },
     "metadata": {},
     "output_type": "display_data"
    },
    {
     "data": {
      "image/png": "[encoded data removed]",
      "text/plain": [
       "<Figure size 576x360 with 1 Axes>"
      ]
     },
     "metadata": {},
     "output_type": "display_data"
    },
    {
     "data": {
      "image/png": "[encoded data removed]",
      "text/plain": [
       "<Figure size 576x360 with 1 Axes>"
      ]
     },
     "metadata": {},
     "output_type": "display_data"
    }
   ],
   "source": [
    "for feature in list_of_features:\n",
    "    plt.figure(figsize=(8,5))\n",
    "    sns.set(style=\"whitegrid\")\n",
    "    sns.barplot(x=data.query('registrationyear >= 2016')\n",
    "                .groupby(feature)['price'].median().sort_values(ascending=False).index, \n",
    "                y=data.query('registrationyear >= 2016').groupby(feature)['price'].median().sort_values(ascending=False));\n",
    "    plt.title(feature, fontsize=12)\n",
    "    plt.xticks(rotation = 90)\n",
    "    plt.show()"
   ]
  },
  {
   "cell_type": "code",
   "execution_count": 57,
   "id": "354cf070",
   "metadata": {},
   "outputs": [
    {
     "name": "stdout",
     "output_type": "stream",
     "text": [
      "Соотношение gasoline/petrol в общем датасете: 0.44853412821190053\n",
      "Соотношение gasoline/petrol c 2016 года: 0.20831350150721878\n"
     ]
    }
   ],
   "source": [
    "print('Соотношение gasoline/petrol в общем датасете:', data.query('fueltype == \"gasoline\" ')['price'].count()/data.query('fueltype == \"petrol\" ')['price'].count())\n",
    "print('Соотношение gasoline/petrol c 2016 года:', data.query('fueltype == \"gasoline\" and registrationyear >= 2016')['price'].count()/data.query('fueltype == \"petrol\" and registrationyear >= 2016')['price'].count())"
   ]
  },
  {
   "cell_type": "markdown",
   "id": "d4009e1d",
   "metadata": {},
   "source": [
    "Нельзя сказать однозначно, что на снижение цены за последние годы повлиял какой-то конкретный фактор. В данных за 201 год доля автомобилей с типом топлива gasoline заметно меньше, чем в общем по датасету, меньше машин с пробегом 20к и 30к. Возможно, это особенность рынка, возможно за последние годы у нас есть не все данные.</br>\n",
    "В текущем проекте, когда тестовая выборка создается из имеющегося массива данных, на результат эта особенность скорее всего не повлияет. Но в реальной работе алгоритм может давать сбои при предсказании цен на машины с маленьким возрастом и пробегом."
   ]
  },
  {
   "cell_type": "markdown",
   "id": "2ce9c6c8",
   "metadata": {},
   "source": [
    "<font color='darkviolet' style='font-size:14px; font-weight:bold'>После удаления данных за 2017+ года стало видно, что в 2016м выставлено мало новых машин с небольшим пробегом, поэтому цены выглядят так странно. В целом, наверное, это не должно оказывать сильного влияния, но в реальном проекте это всё равно стоило бы держать на контроле</font>"
   ]
  },
  {
   "cell_type": "markdown",
   "id": "3cbfceb8",
   "metadata": {},
   "source": [
    "<div class=\"alert alert-block alert-success\">\n",
    "<b>Успех:</b> Согласнн\n",
    "</div>\n"
   ]
  },
  {
   "cell_type": "markdown",
   "id": "21f1b68d",
   "metadata": {},
   "source": [
    "**Отбор и подготовка признаков**"
   ]
  },
  {
   "cell_type": "markdown",
   "id": "1d053187",
   "metadata": {},
   "source": [
    "Подготовим два датасета - в один из них включим колонку 'postalcode', чтобы понять, влияет ли регион на результат.</br>\n",
    "Разобьем данные на обучающую и тестовую выборки, закодируем категориальные признаки."
   ]
  },
  {
   "cell_type": "code",
   "execution_count": 58,
   "id": "8f51b79a",
   "metadata": {},
   "outputs": [],
   "source": [
    "data_work = data[['vehicletype', 'registrationyear', 'gearbox', 'power', 'model', 'kilometer', 'fueltype', 'brand', 'notrepaired', 'age_category']]\n",
    "target = data['price']"
   ]
  },
  {
   "cell_type": "code",
   "execution_count": 59,
   "id": "e7d2efd4",
   "metadata": {},
   "outputs": [],
   "source": [
    "data_train, data_test, target_train, target_test = train_test_split(data_work, target, test_size = 0.20, random_state=RANDOM_STATE)"
   ]
  },
  {
   "cell_type": "code",
   "execution_count": 60,
   "id": "95904d6e",
   "metadata": {},
   "outputs": [
    {
     "data": {
      "text/plain": [
       "OrdinalEncoder(handle_unknown='use_encoded_value', unknown_value=-1)"
      ]
     },
     "execution_count": 60,
     "metadata": {},
     "output_type": "execute_result"
    }
   ],
   "source": [
    "encoder = OrdinalEncoder(handle_unknown='use_encoded_value', unknown_value=-1)\n",
    "encoder.fit(data_train)"
   ]
  },
  {
   "cell_type": "markdown",
   "id": "5fa44734",
   "metadata": {},
   "source": [
    "<div class=\"alert alert-block alert-danger\">\n",
    "    \n",
    "<b>Ошибка:</b> OE - хорошо, но у нас там линейная регрессия\n",
    "  \n",
    "</div>"
   ]
  },
  {
   "cell_type": "markdown",
   "id": "f9aa88e5",
   "metadata": {},
   "source": [
    "<font color='darkviolet' style='font-size:14px; font-weight:bold'>Добавила OHE ниже</font>"
   ]
  },
  {
   "cell_type": "code",
   "execution_count": 62,
   "id": "572de63f",
   "metadata": {},
   "outputs": [],
   "source": [
    "data_train_ord = pd.DataFrame(encoder.transform(data_train), columns=data_train.columns)\n",
    "data_test_ord = pd.DataFrame(encoder.transform(data_test), columns=data_test.columns)"
   ]
  },
  {
   "cell_type": "code",
   "execution_count": 63,
   "id": "4b5b3d7f",
   "metadata": {},
   "outputs": [],
   "source": [
    "data_train_ohe = pd.get_dummies(data_train, drop_first=True)\n",
    "data_test_ohe = pd.get_dummies(data_test, drop_first=True)"
   ]
  },
  {
   "cell_type": "code",
   "execution_count": 64,
   "id": "9a325897",
   "metadata": {},
   "outputs": [
    {
     "data": {
      "text/html": [
       "<div>\n",
       "<style scoped>\n",
       "    .dataframe tbody tr th:only-of-type {\n",
       "        vertical-align: middle;\n",
       "    }\n",
       "\n",
       "    .dataframe tbody tr th {\n",
       "        vertical-align: top;\n",
       "    }\n",
       "\n",
       "    .dataframe thead th {\n",
       "        text-align: right;\n",
       "    }\n",
       "</style>\n",
       "<table border=\"1\" class=\"dataframe\">\n",
       "  <thead>\n",
       "    <tr style=\"text-align: right;\">\n",
       "      <th></th>\n",
       "      <th>vehicletype</th>\n",
       "      <th>registrationyear</th>\n",
       "      <th>gearbox</th>\n",
       "      <th>power</th>\n",
       "      <th>model</th>\n",
       "      <th>kilometer</th>\n",
       "      <th>fueltype</th>\n",
       "      <th>brand</th>\n",
       "      <th>notrepaired</th>\n",
       "      <th>age_category</th>\n",
       "    </tr>\n",
       "  </thead>\n",
       "  <tbody>\n",
       "    <tr>\n",
       "      <th>0</th>\n",
       "      <td>4.0</td>\n",
       "      <td>17.0</td>\n",
       "      <td>1.0</td>\n",
       "      <td>72.0</td>\n",
       "      <td>166.0</td>\n",
       "      <td>7.0</td>\n",
       "      <td>6.0</td>\n",
       "      <td>24.0</td>\n",
       "      <td>0.0</td>\n",
       "      <td>6.0</td>\n",
       "    </tr>\n",
       "    <tr>\n",
       "      <th>1</th>\n",
       "      <td>4.0</td>\n",
       "      <td>49.0</td>\n",
       "      <td>1.0</td>\n",
       "      <td>125.0</td>\n",
       "      <td>11.0</td>\n",
       "      <td>12.0</td>\n",
       "      <td>2.0</td>\n",
       "      <td>2.0</td>\n",
       "      <td>1.0</td>\n",
       "      <td>3.0</td>\n",
       "    </tr>\n",
       "    <tr>\n",
       "      <th>2</th>\n",
       "      <td>7.0</td>\n",
       "      <td>47.0</td>\n",
       "      <td>1.0</td>\n",
       "      <td>83.0</td>\n",
       "      <td>42.0</td>\n",
       "      <td>12.0</td>\n",
       "      <td>2.0</td>\n",
       "      <td>24.0</td>\n",
       "      <td>0.0</td>\n",
       "      <td>3.0</td>\n",
       "    </tr>\n",
       "    <tr>\n",
       "      <th>3</th>\n",
       "      <td>5.0</td>\n",
       "      <td>49.0</td>\n",
       "      <td>1.0</td>\n",
       "      <td>42.0</td>\n",
       "      <td>169.0</td>\n",
       "      <td>7.0</td>\n",
       "      <td>6.0</td>\n",
       "      <td>9.0</td>\n",
       "      <td>0.0</td>\n",
       "      <td>3.0</td>\n",
       "    </tr>\n",
       "    <tr>\n",
       "      <th>4</th>\n",
       "      <td>2.0</td>\n",
       "      <td>41.0</td>\n",
       "      <td>1.0</td>\n",
       "      <td>100.0</td>\n",
       "      <td>11.0</td>\n",
       "      <td>12.0</td>\n",
       "      <td>6.0</td>\n",
       "      <td>2.0</td>\n",
       "      <td>0.0</td>\n",
       "      <td>4.0</td>\n",
       "    </tr>\n",
       "  </tbody>\n",
       "</table>\n",
       "</div>"
      ],
      "text/plain": [
       "   vehicletype  registrationyear  gearbox  power  model  kilometer  fueltype  \\\n",
       "0          4.0              17.0      1.0   72.0  166.0        7.0       6.0   \n",
       "1          4.0              49.0      1.0  125.0   11.0       12.0       2.0   \n",
       "2          7.0              47.0      1.0   83.0   42.0       12.0       2.0   \n",
       "3          5.0              49.0      1.0   42.0  169.0        7.0       6.0   \n",
       "4          2.0              41.0      1.0  100.0   11.0       12.0       6.0   \n",
       "\n",
       "   brand  notrepaired  age_category  \n",
       "0   24.0          0.0           6.0  \n",
       "1    2.0          1.0           3.0  \n",
       "2   24.0          0.0           3.0  \n",
       "3    9.0          0.0           3.0  \n",
       "4    2.0          0.0           4.0  "
      ]
     },
     "execution_count": 64,
     "metadata": {},
     "output_type": "execute_result"
    }
   ],
   "source": [
    "data_train_ord.head()"
   ]
  },
  {
   "cell_type": "code",
   "execution_count": 65,
   "id": "f64b0f55",
   "metadata": {},
   "outputs": [
    {
     "data": {
      "text/html": [
       "<div>\n",
       "<style scoped>\n",
       "    .dataframe tbody tr th:only-of-type {\n",
       "        vertical-align: middle;\n",
       "    }\n",
       "\n",
       "    .dataframe tbody tr th {\n",
       "        vertical-align: top;\n",
       "    }\n",
       "\n",
       "    .dataframe thead th {\n",
       "        text-align: right;\n",
       "    }\n",
       "</style>\n",
       "<table border=\"1\" class=\"dataframe\">\n",
       "  <thead>\n",
       "    <tr style=\"text-align: right;\">\n",
       "      <th></th>\n",
       "      <th>registrationyear</th>\n",
       "      <th>power</th>\n",
       "      <th>kilometer</th>\n",
       "      <th>vehicletype_convertible</th>\n",
       "      <th>vehicletype_coupe</th>\n",
       "      <th>vehicletype_other</th>\n",
       "      <th>vehicletype_sedan</th>\n",
       "      <th>vehicletype_small</th>\n",
       "      <th>vehicletype_suv</th>\n",
       "      <th>vehicletype_wagon</th>\n",
       "      <th>...</th>\n",
       "      <th>brand_volvo</th>\n",
       "      <th>notrepaired_noinfo</th>\n",
       "      <th>notrepaired_yes</th>\n",
       "      <th>age_category_hard_retro</th>\n",
       "      <th>age_category_not_new</th>\n",
       "      <th>age_category_not_so_old</th>\n",
       "      <th>age_category_old</th>\n",
       "      <th>age_category_quite_new</th>\n",
       "      <th>age_category_retro</th>\n",
       "      <th>age_category_semi_old</th>\n",
       "    </tr>\n",
       "  </thead>\n",
       "  <tbody>\n",
       "    <tr>\n",
       "      <th>286109</th>\n",
       "      <td>1977</td>\n",
       "      <td>90.0</td>\n",
       "      <td>70000</td>\n",
       "      <td>0</td>\n",
       "      <td>0</td>\n",
       "      <td>0</td>\n",
       "      <td>1</td>\n",
       "      <td>0</td>\n",
       "      <td>0</td>\n",
       "      <td>0</td>\n",
       "      <td>...</td>\n",
       "      <td>0</td>\n",
       "      <td>0</td>\n",
       "      <td>0</td>\n",
       "      <td>0</td>\n",
       "      <td>0</td>\n",
       "      <td>0</td>\n",
       "      <td>0</td>\n",
       "      <td>0</td>\n",
       "      <td>1</td>\n",
       "      <td>0</td>\n",
       "    </tr>\n",
       "    <tr>\n",
       "      <th>207306</th>\n",
       "      <td>2009</td>\n",
       "      <td>143.0</td>\n",
       "      <td>150000</td>\n",
       "      <td>0</td>\n",
       "      <td>0</td>\n",
       "      <td>0</td>\n",
       "      <td>1</td>\n",
       "      <td>0</td>\n",
       "      <td>0</td>\n",
       "      <td>0</td>\n",
       "      <td>...</td>\n",
       "      <td>0</td>\n",
       "      <td>1</td>\n",
       "      <td>0</td>\n",
       "      <td>0</td>\n",
       "      <td>0</td>\n",
       "      <td>1</td>\n",
       "      <td>0</td>\n",
       "      <td>0</td>\n",
       "      <td>0</td>\n",
       "      <td>0</td>\n",
       "    </tr>\n",
       "    <tr>\n",
       "      <th>145198</th>\n",
       "      <td>2007</td>\n",
       "      <td>101.0</td>\n",
       "      <td>150000</td>\n",
       "      <td>0</td>\n",
       "      <td>0</td>\n",
       "      <td>0</td>\n",
       "      <td>0</td>\n",
       "      <td>0</td>\n",
       "      <td>0</td>\n",
       "      <td>1</td>\n",
       "      <td>...</td>\n",
       "      <td>0</td>\n",
       "      <td>0</td>\n",
       "      <td>0</td>\n",
       "      <td>0</td>\n",
       "      <td>0</td>\n",
       "      <td>1</td>\n",
       "      <td>0</td>\n",
       "      <td>0</td>\n",
       "      <td>0</td>\n",
       "      <td>0</td>\n",
       "    </tr>\n",
       "    <tr>\n",
       "      <th>196046</th>\n",
       "      <td>2009</td>\n",
       "      <td>60.0</td>\n",
       "      <td>70000</td>\n",
       "      <td>0</td>\n",
       "      <td>0</td>\n",
       "      <td>0</td>\n",
       "      <td>0</td>\n",
       "      <td>1</td>\n",
       "      <td>0</td>\n",
       "      <td>0</td>\n",
       "      <td>...</td>\n",
       "      <td>0</td>\n",
       "      <td>0</td>\n",
       "      <td>0</td>\n",
       "      <td>0</td>\n",
       "      <td>0</td>\n",
       "      <td>1</td>\n",
       "      <td>0</td>\n",
       "      <td>0</td>\n",
       "      <td>0</td>\n",
       "      <td>0</td>\n",
       "    </tr>\n",
       "    <tr>\n",
       "      <th>104787</th>\n",
       "      <td>2001</td>\n",
       "      <td>118.0</td>\n",
       "      <td>150000</td>\n",
       "      <td>0</td>\n",
       "      <td>1</td>\n",
       "      <td>0</td>\n",
       "      <td>0</td>\n",
       "      <td>0</td>\n",
       "      <td>0</td>\n",
       "      <td>0</td>\n",
       "      <td>...</td>\n",
       "      <td>0</td>\n",
       "      <td>0</td>\n",
       "      <td>0</td>\n",
       "      <td>0</td>\n",
       "      <td>0</td>\n",
       "      <td>0</td>\n",
       "      <td>1</td>\n",
       "      <td>0</td>\n",
       "      <td>0</td>\n",
       "      <td>0</td>\n",
       "    </tr>\n",
       "  </tbody>\n",
       "</table>\n",
       "<p>5 rows × 313 columns</p>\n",
       "</div>"
      ],
      "text/plain": [
       "        registrationyear  power  kilometer  vehicletype_convertible  \\\n",
       "286109              1977   90.0      70000                        0   \n",
       "207306              2009  143.0     150000                        0   \n",
       "145198              2007  101.0     150000                        0   \n",
       "196046              2009   60.0      70000                        0   \n",
       "104787              2001  118.0     150000                        0   \n",
       "\n",
       "        vehicletype_coupe  vehicletype_other  vehicletype_sedan  \\\n",
       "286109                  0                  0                  1   \n",
       "207306                  0                  0                  1   \n",
       "145198                  0                  0                  0   \n",
       "196046                  0                  0                  0   \n",
       "104787                  1                  0                  0   \n",
       "\n",
       "        vehicletype_small  vehicletype_suv  vehicletype_wagon  ...  \\\n",
       "286109                  0                0                  0  ...   \n",
       "207306                  0                0                  0  ...   \n",
       "145198                  0                0                  1  ...   \n",
       "196046                  1                0                  0  ...   \n",
       "104787                  0                0                  0  ...   \n",
       "\n",
       "        brand_volvo  notrepaired_noinfo  notrepaired_yes  \\\n",
       "286109            0                   0                0   \n",
       "207306            0                   1                0   \n",
       "145198            0                   0                0   \n",
       "196046            0                   0                0   \n",
       "104787            0                   0                0   \n",
       "\n",
       "        age_category_hard_retro  age_category_not_new  \\\n",
       "286109                        0                     0   \n",
       "207306                        0                     0   \n",
       "145198                        0                     0   \n",
       "196046                        0                     0   \n",
       "104787                        0                     0   \n",
       "\n",
       "        age_category_not_so_old  age_category_old  age_category_quite_new  \\\n",
       "286109                        0                 0                       0   \n",
       "207306                        1                 0                       0   \n",
       "145198                        1                 0                       0   \n",
       "196046                        1                 0                       0   \n",
       "104787                        0                 1                       0   \n",
       "\n",
       "        age_category_retro  age_category_semi_old  \n",
       "286109                   1                      0  \n",
       "207306                   0                      0  \n",
       "145198                   0                      0  \n",
       "196046                   0                      0  \n",
       "104787                   0                      0  \n",
       "\n",
       "[5 rows x 313 columns]"
      ]
     },
     "execution_count": 65,
     "metadata": {},
     "output_type": "execute_result"
    }
   ],
   "source": [
    "data_train_ohe.head()"
   ]
  },
  {
   "cell_type": "code",
   "execution_count": 66,
   "id": "65972083",
   "metadata": {},
   "outputs": [],
   "source": [
    "data_work_geo = data[['vehicletype', 'registrationyear', 'gearbox', 'power', 'model', 'kilometer', 'fueltype', 'brand', 'notrepaired', 'postalcode', 'age_category']]\n",
    "target_geo = data['price']"
   ]
  },
  {
   "cell_type": "code",
   "execution_count": 67,
   "id": "8deead92",
   "metadata": {},
   "outputs": [],
   "source": [
    "data_train_geo, data_test_geo, target_train_geo, target_test_geo = train_test_split(data_work_geo, target_geo, test_size = 0.20, random_state=RANDOM_STATE)"
   ]
  },
  {
   "cell_type": "code",
   "execution_count": 68,
   "id": "d112bed9",
   "metadata": {},
   "outputs": [
    {
     "data": {
      "text/plain": [
       "OrdinalEncoder(handle_unknown='use_encoded_value', unknown_value=-1)"
      ]
     },
     "execution_count": 68,
     "metadata": {},
     "output_type": "execute_result"
    }
   ],
   "source": [
    "encoder = OrdinalEncoder(handle_unknown='use_encoded_value', unknown_value=-1)\n",
    "encoder.fit(data_train_geo)"
   ]
  },
  {
   "cell_type": "code",
   "execution_count": 69,
   "id": "56021365",
   "metadata": {},
   "outputs": [],
   "source": [
    "data_train_geo_ord = pd.DataFrame(encoder.transform(data_train_geo), columns=data_train_geo.columns)\n",
    "data_test_geo_ord = pd.DataFrame(encoder.transform(data_test_geo), columns=data_test_geo.columns)"
   ]
  },
  {
   "cell_type": "code",
   "execution_count": 70,
   "id": "4d0595c5",
   "metadata": {},
   "outputs": [],
   "source": [
    "data_train_geo_ohe = pd.get_dummies(data_train_geo, drop_first=True)\n",
    "data_test_geo_ohe = pd.get_dummies(data_test_geo, drop_first=True)"
   ]
  },
  {
   "cell_type": "markdown",
   "id": "642f1675",
   "metadata": {},
   "source": [
    "### Выводы"
   ]
  },
  {
   "cell_type": "markdown",
   "id": "d5cd64ec",
   "metadata": {},
   "source": [
    "Мы изучили зависимость целевого признака от остальных признаков и обнаружили нестандартные зависимости, которые (теоретически) могут ухудшить работу модели в будущем на определенных данных.</br>\n",
    "Для обучения моделей мы подготовили две выборки - в почтовым индексом и без, разбили их на обучающую и тестовую выборки и закодировали категориальные переменные с помощью метода OrdinalEncoder()."
   ]
  },
  {
   "cell_type": "markdown",
   "id": "23858011",
   "metadata": {},
   "source": [
    "## Обучение моделей"
   ]
  },
  {
   "cell_type": "markdown",
   "id": "1ad0cef1",
   "metadata": {},
   "source": [
    "<font color='darkviolet' style='font-size:14px; font-weight:bold'>Здесь поменяла данные на OHE для линейных моделей, везде добавила расчёт времени обучения и времени предсказания (и добавила их в таблицу). Попробовала обучить Кэтбуст с категориальными фичами без кодирования руками - но это оказалось очень долго, поэтому оставила его только для пробы с параметрами по умолчанию.</font>"
   ]
  },
  {
   "cell_type": "markdown",
   "id": "88ef6382",
   "metadata": {},
   "source": [
    "Рассмотрим несколько моделей - линейную регрессию, ElasticNet, метод ближайших соседей, CatBoost и LightGBM. В качестве метрики будем использовать RMSE. Для подбора параметров используем GridSearch, для оценки результатов - кросс-валидацию. Для каждой модели будем фиксировать метрику и время работы алгоритма."
   ]
  },
  {
   "cell_type": "code",
   "execution_count": 71,
   "id": "a869c295",
   "metadata": {},
   "outputs": [],
   "source": [
    "#определим метрику\n",
    "def rmse(target, predict):\n",
    "    return mean_squared_error(target, predict) ** 0.5"
   ]
  },
  {
   "cell_type": "code",
   "execution_count": 72,
   "id": "aeefa7e2",
   "metadata": {},
   "outputs": [],
   "source": [
    "#сделаем из неё скорер\n",
    "scoring = make_scorer(rmse, greater_is_better = False)"
   ]
  },
  {
   "cell_type": "markdown",
   "id": "05dc1423",
   "metadata": {},
   "source": [
    "**Линейные модели - простая линейная регрессия и ElasticNet**"
   ]
  },
  {
   "cell_type": "code",
   "execution_count": 73,
   "id": "a505e6ea",
   "metadata": {},
   "outputs": [
    {
     "name": "stdout",
     "output_type": "stream",
     "text": [
      "RMSE линейной регрессии: -2264.7594581134413\n",
      "Время обучения алгоритма: 0:00:05.873629\n",
      "Время предсказания: 0:00:00.390534\n",
      "Wall time: 32.8 s\n"
     ]
    }
   ],
   "source": [
    "%%time\n",
    "\n",
    "lr = LinearRegression()\n",
    "result = cross_val_score(lr, data_train_ohe, target_train, cv=5, scoring=scoring)\n",
    "\n",
    "time_fit_start = datetime.now()\n",
    "lr.fit(data_train_ohe, target_train)\n",
    "time_fit_end = datetime.now()\n",
    "time_fit_diff = time_fit_end - time_fit_start\n",
    "\n",
    "time_pred_start = datetime.now()\n",
    "lr.predict(data_train_ohe)\n",
    "time_pred_end = datetime.now()\n",
    "time_pred_diff = time_pred_end - time_pred_start\n",
    "\n",
    "print('RMSE линейной регрессии:', result.mean())\n",
    "print('Время обучения алгоритма:', time_fit_diff)\n",
    "print('Время предсказания:', time_pred_diff)"
   ]
  },
  {
   "cell_type": "markdown",
   "id": "94d585c2",
   "metadata": {},
   "source": [
    "<div class=\"alert alert-block alert-danger\">\n",
    "    \n",
    "<b>Ошибка:</b> Линейную регресию нельзя использовать вместе с порядковыми данными. Для нее отдельно нужно использовать OHE\n",
    "  \n",
    "</div>"
   ]
  },
  {
   "cell_type": "markdown",
   "id": "286ef22e",
   "metadata": {},
   "source": [
    "<font color='darkviolet' style='font-size:14px; font-weight:bold'>Для всех линейных моделей поменяла данные для обучения на датасет с OHE</font>"
   ]
  },
  {
   "cell_type": "code",
   "execution_count": 74,
   "id": "d91a810d",
   "metadata": {},
   "outputs": [
    {
     "data": {
      "text/html": [
       "<div>\n",
       "<style scoped>\n",
       "    .dataframe tbody tr th:only-of-type {\n",
       "        vertical-align: middle;\n",
       "    }\n",
       "\n",
       "    .dataframe tbody tr th {\n",
       "        vertical-align: top;\n",
       "    }\n",
       "\n",
       "    .dataframe thead th {\n",
       "        text-align: right;\n",
       "    }\n",
       "</style>\n",
       "<table border=\"1\" class=\"dataframe\">\n",
       "  <thead>\n",
       "    <tr style=\"text-align: right;\">\n",
       "      <th></th>\n",
       "      <th>model</th>\n",
       "      <th>RMSE</th>\n",
       "      <th>fit time</th>\n",
       "      <th>pred time</th>\n",
       "    </tr>\n",
       "  </thead>\n",
       "  <tbody>\n",
       "    <tr>\n",
       "      <th>0</th>\n",
       "      <td>LinearRegression</td>\n",
       "      <td>-2264.759458</td>\n",
       "      <td>0 days 00:00:05.873629</td>\n",
       "      <td>0 days 00:00:00.390534</td>\n",
       "    </tr>\n",
       "  </tbody>\n",
       "</table>\n",
       "</div>"
      ],
      "text/plain": [
       "              model         RMSE               fit time              pred time\n",
       "0  LinearRegression -2264.759458 0 days 00:00:05.873629 0 days 00:00:00.390534"
      ]
     },
     "execution_count": 74,
     "metadata": {},
     "output_type": "execute_result"
    }
   ],
   "source": [
    "#создадим таблицу для фиксации результатов\n",
    "score_table = pd.DataFrame([['LinearRegression', result.mean(), time_fit_diff, time_pred_diff]], columns=['model', 'RMSE', 'fit time', 'pred time'])\n",
    "score_table"
   ]
  },
  {
   "cell_type": "code",
   "execution_count": 75,
   "id": "268638c3",
   "metadata": {},
   "outputs": [
    {
     "name": "stdout",
     "output_type": "stream",
     "text": [
      "RMSE линейной регрессии: -2263.752662719454\n",
      "Время обучения алгоритма: 0:00:05.906129\n",
      "Время предсказания: 0:00:00.374912\n",
      "Wall time: 32.2 s\n"
     ]
    }
   ],
   "source": [
    "%%time\n",
    "\n",
    "#также попробуем работу линейной регрессии на данных с почтовым кодом\n",
    "lr = LinearRegression()\n",
    "result = cross_val_score(lr, data_train_geo_ohe, target_train_geo, cv=5, scoring=scoring)\n",
    "\n",
    "time_fit_start = datetime.now()\n",
    "lr.fit(data_train_geo_ohe, target_train_geo)\n",
    "time_fit_end = datetime.now()\n",
    "time_fit_diff = time_fit_end - time_fit_start\n",
    "\n",
    "time_pred_start = datetime.now()\n",
    "lr.predict(data_train_geo_ohe)\n",
    "time_pred_end = datetime.now()\n",
    "time_pred_diff = time_pred_end - time_pred_start\n",
    "\n",
    "print('RMSE линейной регрессии:', result.mean())\n",
    "print('Время обучения алгоритма:', time_fit_diff)\n",
    "print('Время предсказания:', time_pred_diff)\n",
    "score_table = (score_table.append({'model': 'LinearRegression geo', 'RMSE': result.mean(), \n",
    "                                   'fit time': time_fit_diff, 'pred time': time_pred_diff}, ignore_index=True));"
   ]
  },
  {
   "cell_type": "code",
   "execution_count": 76,
   "id": "7c7d14a9",
   "metadata": {},
   "outputs": [
    {
     "name": "stdout",
     "output_type": "stream",
     "text": [
      "ElasticNet(alpha=0.1, l1_ratio=0.9, random_state=25)\n",
      "RMSE ElasticNet: -2384.6243738478015\n",
      "Время обучения алгоритма: 0:00:14.073007\n",
      "Время предсказания: 0:00:00.374913\n",
      "Wall time: 6min 5s\n"
     ]
    }
   ],
   "source": [
    "%%time\n",
    "\n",
    "#модель ElasticNet с подбором параметров \n",
    "elastic = ElasticNet(random_state=RANDOM_STATE)\n",
    "grid_params = {'alpha': [0.1, 0.5, 0.7, 0.9],\n",
    "              'l1_ratio': [0.1, 0.3, 0.5, 0.9]}\n",
    "elastic2 = GridSearchCV(elastic, grid_params, scoring=scoring, cv=5)\n",
    "elastic2.fit(data_train_ohe, target_train)\n",
    "\n",
    "print(elastic2.best_estimator_)\n",
    "\n",
    "result = cross_val_score(elastic2.best_estimator_, data_train_ohe, target_train, cv=5, scoring=scoring)\n",
    "\n",
    "time_fit_start = datetime.now()\n",
    "model = elastic2.best_estimator_\n",
    "model.fit(data_train_ohe, target_train)\n",
    "time_fit_end = datetime.now()\n",
    "time_fit_diff = time_fit_end - time_fit_start\n",
    "\n",
    "time_pred_start = datetime.now()\n",
    "model.predict(data_train_ohe)\n",
    "time_pred_end = datetime.now()\n",
    "time_pred_diff = time_pred_end - time_pred_start\n",
    "\n",
    "print('RMSE ElasticNet:', result.mean())\n",
    "print('Время обучения алгоритма:', time_fit_diff)\n",
    "print('Время предсказания:', time_pred_diff)\n",
    "score_table = (score_table.append({'model': 'ElasticNet', 'RMSE': result.mean(), \n",
    "                                   'fit time': time_fit_diff, 'pred time': time_pred_diff}, ignore_index=True));"
   ]
  },
  {
   "cell_type": "code",
   "execution_count": 77,
   "id": "9a0bd715",
   "metadata": {},
   "outputs": [
    {
     "name": "stdout",
     "output_type": "stream",
     "text": [
      "ElasticNet(alpha=0.1, l1_ratio=0.9, random_state=25)\n",
      "RMSE ElasticNet: -2383.569247105074\n",
      "Время обучения алгоритма: 0:00:18.045040\n",
      "Время предсказания: 0:00:00.343669\n",
      "Wall time: 6min 39s\n"
     ]
    }
   ],
   "source": [
    "%%time\n",
    "\n",
    "#модель ElasticNet с подбором параметров для модели с почтовыми индексами \n",
    "elastic = ElasticNet(random_state=RANDOM_STATE)\n",
    "grid_params = {'alpha': [0.1, 0.5, 0.7, 0.9],\n",
    "              'l1_ratio': [0.1, 0.3, 0.5, 0.9]}\n",
    "elastic2 = GridSearchCV(elastic, grid_params, scoring=scoring, cv=5)\n",
    "elastic2.fit(data_train_geo_ohe, target_train_geo)\n",
    "\n",
    "print(elastic2.best_estimator_)\n",
    "\n",
    "result = cross_val_score(elastic2.best_estimator_, data_train_geo_ohe, target_train_geo, cv=5, scoring=scoring)\n",
    "\n",
    "time_fit_start = datetime.now()\n",
    "model = elastic2.best_estimator_\n",
    "model.fit(data_train_geo_ohe, target_train)\n",
    "time_fit_end = datetime.now()\n",
    "time_fit_diff = time_fit_end - time_fit_start\n",
    "\n",
    "time_pred_start = datetime.now()\n",
    "model.predict(data_train_geo_ohe)\n",
    "time_pred_end = datetime.now()\n",
    "time_pred_diff = time_pred_end - time_pred_start\n",
    "\n",
    "print('RMSE ElasticNet:', result.mean())\n",
    "print('Время обучения алгоритма:', time_fit_diff)\n",
    "print('Время предсказания:', time_pred_diff)\n",
    "score_table = (score_table.append({'model': 'ElasticNet geo', 'RMSE': result.mean(), \n",
    "                                   'fit time': time_fit_diff, 'pred time': time_pred_diff}, ignore_index=True));"
   ]
  },
  {
   "cell_type": "markdown",
   "id": "e924f7bb",
   "metadata": {},
   "source": [
    "Update: после использования правильной кодировки категориальных переменных линейные модели показали результат RMSE < 2500. Почтовые коды дают совсем незначительное улучшение и дальше мы не будем их пробовать, чтобы сэкономить время на расчеты.</b>\n",
    "</b>\n",
    "Простая линеная модель и линейная модель с регуляризацией не позволили перешагнуть заданый порог RMSE = 2500. Почтовые коды в данных улучшают метрику незначительно."
   ]
  },
  {
   "cell_type": "markdown",
   "id": "9943e988",
   "metadata": {},
   "source": [
    "**Метод ближайших соседей**"
   ]
  },
  {
   "cell_type": "code",
   "execution_count": 80,
   "id": "7730c7c6",
   "metadata": {},
   "outputs": [
    {
     "name": "stdout",
     "output_type": "stream",
     "text": [
      "RMSE KNR: -1778.597444806018\n",
      "Время обучения алгоритма: 0:00:01.961957\n",
      "Время предсказания: 0:00:09.482785\n",
      "Wall time: 28.8 s\n"
     ]
    }
   ],
   "source": [
    "%%time\n",
    "knr = KNeighborsRegressor()\n",
    "#grid_params = {'n_neighbors': [3, 5, 7, 10],\n",
    "#              'leaf_size': [20, 30, 40]}\n",
    "#knr2 = GridSearchCV(knr, grid_params, scoring=scoring, cv=3)\n",
    "#knr2.fit(data_train_ohe, target_train)\n",
    "\n",
    "#print(knr2.best_estimator_)\n",
    "\n",
    "result = cross_val_score(knr, data_train_ord, target_train, cv=5, scoring=scoring)\n",
    "\n",
    "time_fit_start = datetime.now()\n",
    "#model = knr2.best_estimator_\n",
    "knr.fit(data_train_ord, target_train)\n",
    "time_fit_end = datetime.now()\n",
    "time_fit_diff = time_fit_end - time_fit_start\n",
    "\n",
    "time_pred_start = datetime.now()\n",
    "knr.predict(data_train_ord)\n",
    "time_pred_end = datetime.now()\n",
    "time_pred_diff = time_pred_end - time_pred_start\n",
    "\n",
    "print('RMSE KNR:', result.mean())\n",
    "print('Время обучения алгоритма:', time_fit_diff)\n",
    "print('Время предсказания:', time_pred_diff)\n",
    "score_table = (score_table.append({'model': 'KNeighborsRegressor', 'RMSE': result.mean(), \n",
    "                                   'fit time': time_fit_diff, 'pred time': time_pred_diff}, ignore_index=True));"
   ]
  },
  {
   "cell_type": "code",
   "execution_count": 83,
   "id": "feb2cd51",
   "metadata": {},
   "outputs": [
    {
     "name": "stdout",
     "output_type": "stream",
     "text": [
      "RMSE KNR: -3263.011987548142\n",
      "Время обучения алгоритма: 0:00:02.231037\n",
      "Время предсказания: 0:00:09.880921\n",
      "Wall time: 24 s\n"
     ]
    }
   ],
   "source": [
    "%%time\n",
    "\n",
    "knr = KNeighborsRegressor()\n",
    "#grid_params = {'n_neighbors': [1, 3, 5, 7, 10],\n",
    "#              'leaf_size': [20, 30, 40]}\n",
    "#knr2 = GridSearchCV(knr, grid_params, scoring=scoring, cv=5)\n",
    "#knr2.fit(data_train_geo_ord, target_train_geo)\n",
    "\n",
    "#print(knr2.best_estimator_)\n",
    "\n",
    "result = cross_val_score(knr, data_train_geo_ord, target_train_geo, cv=5, scoring=scoring)\n",
    "\n",
    "time_fit_start = datetime.now()\n",
    "#model = knr2.best_estimator_\n",
    "knr.fit(data_train_ord, target_train)\n",
    "time_fit_end = datetime.now()\n",
    "time_fit_diff = time_fit_end - time_fit_start\n",
    "\n",
    "time_pred_start = datetime.now()\n",
    "knr.predict(data_train_ord)\n",
    "time_pred_end = datetime.now()\n",
    "time_pred_diff = time_pred_end - time_pred_start\n",
    "\n",
    "print('RMSE KNR:', result.mean())\n",
    "print('Время обучения алгоритма:', time_fit_diff)\n",
    "print('Время предсказания:', time_pred_diff)\n",
    "score_table = (score_table.append({'model': 'KNeighborsRegressor geo', 'RMSE': result.mean(), \n",
    "                                   'fit time': time_fit_diff, 'pred time': time_pred_diff}, ignore_index=True));"
   ]
  },
  {
   "cell_type": "markdown",
   "id": "3aedf0fe",
   "metadata": {},
   "source": [
    "<font color='darkviolet' style='font-size:14px; font-weight:bold'> Убрала подбор параметров для KN, т.к. существенного улучшения он не давал, а время увеличивалось намного </font>"
   ]
  },
  {
   "cell_type": "markdown",
   "id": "f1e385a0",
   "metadata": {},
   "source": [
    "Метод ближайших соседей позволил достичь RMSE < 2500. При включени в датасет почтовых кодов результат резко ухудшился - возможно из-за масштаба этого признака. Здесь теоретически можно попробовать улучшить результат с помощью масштабирования, если другие модели не дадут результат лучше"
   ]
  },
  {
   "cell_type": "markdown",
   "id": "e60bcdf1",
   "metadata": {},
   "source": [
    "**CatBoost**"
   ]
  },
  {
   "cell_type": "code",
   "execution_count": 84,
   "id": "96b789ff",
   "metadata": {},
   "outputs": [
    {
     "name": "stdout",
     "output_type": "stream",
     "text": [
      "RMSE CatBoost: -1607.826339027628\n",
      "Время обучения алгоритма: 0:00:26.707191\n",
      "Время предсказания: 0:00:00.140593\n",
      "Wall time: 2min 15s\n"
     ]
    }
   ],
   "source": [
    "%%time\n",
    "\n",
    "cat = CatBoostRegressor(silent=True)\n",
    "result = cross_val_score(cat, data_train_ord, target_train, cv=5, scoring=scoring);\n",
    "\n",
    "time_fit_start = datetime.now()\n",
    "cat.fit(data_train_ord, target_train)\n",
    "time_fit_end = datetime.now()\n",
    "time_fit_diff = time_fit_end - time_fit_start\n",
    "\n",
    "time_pred_start = datetime.now()\n",
    "cat.predict(data_train_ord)\n",
    "time_pred_end = datetime.now()\n",
    "time_pred_diff = time_pred_end - time_pred_start\n",
    "\n",
    "print('RMSE CatBoost:', result.mean())\n",
    "print('Время обучения алгоритма:', time_fit_diff)\n",
    "print('Время предсказания:', time_pred_diff)\n",
    "score_table = (score_table.append({'model': 'CatBoost simple', 'RMSE': result.mean(), \n",
    "                                   'fit time': time_fit_diff, 'pred time': time_pred_diff}, ignore_index=True));"
   ]
  },
  {
   "cell_type": "code",
   "execution_count": 87,
   "id": "fa57db29",
   "metadata": {},
   "outputs": [
    {
     "name": "stdout",
     "output_type": "stream",
     "text": [
      "RMSE CatBoost: -1601.1498812986943\n",
      "Время обучения алгоритма: 0:03:46.160044\n",
      "Время предсказания: 0:00:01.715111\n",
      "Wall time: 18min 54s\n"
     ]
    }
   ],
   "source": [
    "%%time\n",
    "\n",
    "cat = CatBoostRegressor(silent=True, cat_features=[0, 2, 4, 6, 7, 8, 9])\n",
    "result = cross_val_score(cat, data_train, target_train, cv=5, scoring=scoring);\n",
    "\n",
    "time_fit_start = datetime.now()\n",
    "cat.fit(data_train, target_train)\n",
    "time_fit_end = datetime.now()\n",
    "time_fit_diff = time_fit_end - time_fit_start\n",
    "\n",
    "time_pred_start = datetime.now()\n",
    "cat.predict(data_train)\n",
    "time_pred_end = datetime.now()\n",
    "time_pred_diff = time_pred_end - time_pred_start\n",
    "\n",
    "print('RMSE CatBoost:', result.mean())\n",
    "print('Время обучения алгоритма:', time_fit_diff)\n",
    "print('Время предсказания:', time_pred_diff)\n",
    "score_table = (score_table.append({'model': 'CatBoost simple cat', 'RMSE': result.mean(), \n",
    "                                   'fit time': time_fit_diff, 'pred time': time_pred_diff}, ignore_index=True));"
   ]
  },
  {
   "cell_type": "code",
   "execution_count": 113,
   "id": "9d2569ce",
   "metadata": {},
   "outputs": [
    {
     "data": {
      "text/plain": [
       "registrationyear    29.340132\n",
       "power               18.644030\n",
       "brand               10.975442\n",
       "kilometer           10.579257\n",
       "age_category         8.670233\n",
       "vehicletype          7.457741\n",
       "model                6.064155\n",
       "notrepaired          3.555182\n",
       "fueltype             2.740893\n",
       "gearbox              1.972935\n",
       "dtype: float64"
      ]
     },
     "execution_count": 113,
     "metadata": {},
     "output_type": "execute_result"
    }
   ],
   "source": [
    "feature_importans_cat = pd.Series(cat.get_feature_importance(), index=data_train_ord.columns).sort_values(ascending=False)\n",
    "feature_importans_cat"
   ]
  },
  {
   "cell_type": "code",
   "execution_count": 114,
   "id": "f5f84669",
   "metadata": {},
   "outputs": [
    {
     "data": {
      "image/png": "[encoded data removed]",
      "text/plain": [
       "<Figure size 576x360 with 1 Axes>"
      ]
     },
     "metadata": {},
     "output_type": "display_data"
    }
   ],
   "source": [
    "plt.figure(figsize=(8,5))\n",
    "sns.set(style=\"whitegrid\")\n",
    "sns.barplot(x=feature_importans_cat, y=feature_importans_cat.index);\n",
    "plt.title(feature, fontsize=12)\n",
    "plt.xticks(rotation = 90)\n",
    "plt.show()"
   ]
  },
  {
   "cell_type": "markdown",
   "id": "6a4e8a67",
   "metadata": {},
   "source": [
    "<font color='darkviolet' style='font-size:14px; font-weight:bold'>Получается, что для модели наиболее важными являются мощность - год регистрации - категория машины (сделанная из года регистрации) - километраж. В дальнейшем для улучшения качества работы модели можно было бы плотнее поработать с этими признаками - например, с алгоритмом обработки мощности, границами разбиения на категории по году итд. </font></br>\n",
    "<font color='darkviolet' style='font-size:14px; font-weight:bold'> Выполнение ячеек не по порядку, потому что я забыла про график к feature importance, делала его самым последним в этом разделе. Обычно я прохожу все ячейки по порядку, тут просто очень долгое время обучения) </font>"
   ]
  },
  {
   "cell_type": "code",
   "execution_count": 94,
   "id": "ecefb1e3",
   "metadata": {
    "scrolled": true
   },
   "outputs": [
    {
     "name": "stdout",
     "output_type": "stream",
     "text": [
      "\n",
      "bestTest = 1735.459275\n",
      "bestIteration = 999\n",
      "\n",
      "0:\tloss: 1735.4592749\tbest: 1735.4592749 (0)\ttotal: 20.1s\tremaining: 8m 43s\n",
      "\n",
      "bestTest = 1645.40555\n",
      "bestIteration = 999\n",
      "\n",
      "1:\tloss: 1645.4055500\tbest: 1645.4055500 (1)\ttotal: 40.8s\tremaining: 8m 30s\n",
      "\n",
      "bestTest = 1603.456526\n",
      "bestIteration = 992\n",
      "\n",
      "2:\tloss: 1603.4565257\tbest: 1603.4565257 (2)\ttotal: 1m 1s\tremaining: 8m 10s\n",
      "\n",
      "bestTest = 1734.966852\n",
      "bestIteration = 999\n",
      "\n",
      "3:\tloss: 1734.9668519\tbest: 1603.4565257 (2)\ttotal: 1m 22s\tremaining: 7m 53s\n",
      "\n",
      "bestTest = 1649.864599\n",
      "bestIteration = 999\n",
      "\n",
      "4:\tloss: 1649.8645992\tbest: 1603.4565257 (2)\ttotal: 1m 42s\tremaining: 7m 32s\n",
      "\n",
      "bestTest = 1597.386555\n",
      "bestIteration = 991\n",
      "\n",
      "5:\tloss: 1597.3865551\tbest: 1597.3865551 (5)\ttotal: 2m 2s\tremaining: 7m 10s\n",
      "\n",
      "bestTest = 1734.995016\n",
      "bestIteration = 999\n",
      "\n",
      "6:\tloss: 1734.9950164\tbest: 1597.3865551 (5)\ttotal: 2m 23s\tremaining: 6m 50s\n",
      "\n",
      "bestTest = 1647.966405\n",
      "bestIteration = 998\n",
      "\n",
      "7:\tloss: 1647.9664052\tbest: 1597.3865551 (5)\ttotal: 2m 45s\tremaining: 6m 34s\n",
      "\n",
      "bestTest = 1602.738433\n",
      "bestIteration = 999\n",
      "\n",
      "8:\tloss: 1602.7384331\tbest: 1597.3865551 (5)\ttotal: 3m 6s\tremaining: 6m 13s\n",
      "\n",
      "bestTest = 1596.739209\n",
      "bestIteration = 999\n",
      "\n",
      "9:\tloss: 1596.7392088\tbest: 1596.7392088 (9)\ttotal: 3m 59s\tremaining: 6m 46s\n",
      "\n",
      "bestTest = 1555.59036\n",
      "bestIteration = 996\n",
      "\n",
      "10:\tloss: 1555.5903596\tbest: 1555.5903596 (10)\ttotal: 4m 50s\tremaining: 7m 2s\n",
      "\n",
      "bestTest = 1576.264817\n",
      "bestIteration = 775\n",
      "\n",
      "11:\tloss: 1576.2648171\tbest: 1555.5903596 (10)\ttotal: 5m 42s\tremaining: 7m 8s\n",
      "\n",
      "bestTest = 1597.062503\n",
      "bestIteration = 999\n",
      "\n",
      "12:\tloss: 1597.0625029\tbest: 1555.5903596 (10)\ttotal: 6m 35s\tremaining: 7m 6s\n",
      "\n",
      "bestTest = 1559.999036\n",
      "bestIteration = 999\n",
      "\n",
      "13:\tloss: 1559.9990364\tbest: 1555.5903596 (10)\ttotal: 7m 34s\tremaining: 7m 2s\n",
      "\n",
      "bestTest = 1575.820212\n",
      "bestIteration = 516\n",
      "\n",
      "14:\tloss: 1575.8202120\tbest: 1555.5903596 (10)\ttotal: 8m 33s\tremaining: 6m 50s\n",
      "\n",
      "bestTest = 1601.038167\n",
      "bestIteration = 999\n",
      "\n",
      "15:\tloss: 1601.0381667\tbest: 1555.5903596 (10)\ttotal: 9m 23s\tremaining: 6m 27s\n",
      "\n",
      "bestTest = 1556.178594\n",
      "bestIteration = 998\n",
      "\n",
      "16:\tloss: 1556.1785944\tbest: 1555.5903596 (10)\ttotal: 10m 16s\tremaining: 6m 2s\n",
      "\n",
      "bestTest = 1563.577794\n",
      "bestIteration = 843\n",
      "\n",
      "17:\tloss: 1563.5777944\tbest: 1555.5903596 (10)\ttotal: 11m 5s\tremaining: 5m 32s\n",
      "\n",
      "bestTest = 1573.036231\n",
      "bestIteration = 999\n",
      "\n",
      "18:\tloss: 1573.0362311\tbest: 1555.5903596 (10)\ttotal: 12m 46s\tremaining: 5m 22s\n",
      "\n",
      "bestTest = 1555.921817\n",
      "bestIteration = 999\n",
      "\n",
      "19:\tloss: 1555.9218174\tbest: 1555.5903596 (10)\ttotal: 14m 36s\tremaining: 5m 6s\n",
      "\n",
      "bestTest = 1586.832564\n",
      "bestIteration = 507\n",
      "\n",
      "20:\tloss: 1586.8325638\tbest: 1555.5903596 (10)\ttotal: 16m 19s\tremaining: 4m 39s\n",
      "\n",
      "bestTest = 1574.453353\n",
      "bestIteration = 999\n",
      "\n",
      "21:\tloss: 1574.4533532\tbest: 1555.5903596 (10)\ttotal: 19m 22s\tremaining: 4m 24s\n",
      "\n",
      "bestTest = 1552.870708\n",
      "bestIteration = 991\n",
      "\n",
      "22:\tloss: 1552.8707080\tbest: 1552.8707080 (22)\ttotal: 23m 1s\tremaining: 4m\n",
      "\n",
      "bestTest = 1580.522991\n",
      "bestIteration = 494\n",
      "\n",
      "23:\tloss: 1580.5229907\tbest: 1552.8707080 (22)\ttotal: 25m 18s\tremaining: 3m 9s\n",
      "\n",
      "bestTest = 1575.544671\n",
      "bestIteration = 999\n",
      "\n",
      "24:\tloss: 1575.5446715\tbest: 1552.8707080 (22)\ttotal: 27m 25s\tremaining: 2m 11s\n",
      "\n",
      "bestTest = 1552.45775\n",
      "bestIteration = 987\n",
      "\n",
      "25:\tloss: 1552.4577495\tbest: 1552.4577495 (25)\ttotal: 29m 9s\tremaining: 1m 7s\n",
      "\n",
      "bestTest = 1572.422174\n",
      "bestIteration = 373\n",
      "\n",
      "26:\tloss: 1572.4221739\tbest: 1552.4577495 (25)\ttotal: 30m 55s\tremaining: 0us\n",
      "Estimating final quality...\n",
      "Training on fold [0/3]\n",
      "\n",
      "bestTest = 1554.656226\n",
      "bestIteration = 926\n",
      "\n",
      "Training on fold [1/3]\n",
      "\n",
      "bestTest = 1546.46866\n",
      "bestIteration = 986\n",
      "\n",
      "Training on fold [2/3]\n",
      "\n",
      "bestTest = 1558.57462\n",
      "bestIteration = 997\n",
      "\n",
      "{'depth': 12, 'learning_rate': 0.1, 'l2_leaf_reg': 1.0}\n",
      "Wall time: 37min 35s\n"
     ]
    }
   ],
   "source": [
    "%%time\n",
    "\n",
    "#подберем параметры\n",
    "cat = CatBoostRegressor(silent=True)\n",
    "\n",
    "grid = {'learning_rate': [0.03, 0.1, 0.3],\n",
    "        'depth': [5, 10, 12],\n",
    "        'l2_leaf_reg': [0.3, 0.5, 1.0]}\n",
    "\n",
    "grid_search_result = cat.grid_search(grid, X=data_train_ord, y=target_train)\n",
    "print(grid_search_result['params'])"
   ]
  },
  {
   "cell_type": "code",
   "execution_count": 95,
   "id": "b3423b3c",
   "metadata": {},
   "outputs": [
    {
     "name": "stdout",
     "output_type": "stream",
     "text": [
      "RMSE CatBoost с подбором параметров: -1542.2856372467224\n",
      "Время обучения алгоритма: 0:01:50.441762\n",
      "Время предсказания: 0:00:01.848079\n"
     ]
    }
   ],
   "source": [
    "cat2 = CatBoostRegressor(depth=12, learning_rate=0.1, l2_leaf_reg=1.0, silent=True)\n",
    "result = cross_val_score(cat2, data_train_ord, target_train, cv=5, scoring=scoring);\n",
    "\n",
    "time_fit_start = datetime.now()\n",
    "cat2.fit(data_train_ord, target_train)\n",
    "time_fit_end = datetime.now()\n",
    "time_fit_diff = time_fit_end - time_fit_start\n",
    "\n",
    "time_pred_start = datetime.now()\n",
    "cat2.predict(data_train_ord)\n",
    "time_pred_end = datetime.now()\n",
    "time_pred_diff = time_pred_end - time_pred_start\n",
    "\n",
    "print('RMSE CatBoost с подбором параметров:', result.mean())\n",
    "print('Время обучения алгоритма:', time_fit_diff)\n",
    "print('Время предсказания:', time_pred_diff)\n",
    "score_table = (score_table.append({'model': 'CatBoost customized', 'RMSE': result.mean(), \n",
    "                                   'fit time': time_fit_diff, 'pred time': time_pred_diff}, ignore_index=True));"
   ]
  },
  {
   "cell_type": "markdown",
   "id": "ecab6452",
   "metadata": {},
   "source": [
    "Даже без подбора гиперпараметров CatBoost дал результат лучше, чем метод ближайших соседей. Однако время работы алоритма заметно больше, чем у ближайших соседей."
   ]
  },
  {
   "cell_type": "markdown",
   "id": "08f96c3c",
   "metadata": {},
   "source": [
    "**Light GBM**"
   ]
  },
  {
   "cell_type": "markdown",
   "id": "da05b4ea",
   "metadata": {},
   "source": [
    "<div class=\"alert alert-block alert-info\">\n",
    "    \n",
    "<b>Совет:</b> Установки и импорты лучше перенести в начало ноутбука\n",
    "  \n",
    "</div>"
   ]
  },
  {
   "cell_type": "markdown",
   "id": "181ab3cb",
   "metadata": {},
   "source": [
    "<font color='darkviolet' style='font-size:14px; font-weight:bold'>Перенесла</font>"
   ]
  },
  {
   "cell_type": "code",
   "execution_count": 96,
   "id": "87b12ab4",
   "metadata": {},
   "outputs": [
    {
     "name": "stdout",
     "output_type": "stream",
     "text": [
      "RMSE LGBM simple: -1693.6502799938407\n",
      "Время обучения алгоритма: 0:00:01.308239\n",
      "Время предсказания: 0:00:00.624854\n",
      "Wall time: 7.77 s\n"
     ]
    }
   ],
   "source": [
    "%%time\n",
    "\n",
    "#LGBM без подбора гиперпараметров\n",
    "lgbm = LGBMRegressor()\n",
    "result = cross_val_score(lgbm, data_train_ord, target_train, cv=5, scoring=scoring);\n",
    "\n",
    "time_fit_start = datetime.now()\n",
    "lgbm.fit(data_train_ord, target_train)\n",
    "time_fit_end = datetime.now()\n",
    "time_fit_diff = time_fit_end - time_fit_start\n",
    "\n",
    "time_pred_start = datetime.now()\n",
    "lgbm.predict(data_train_ord)\n",
    "time_pred_end = datetime.now()\n",
    "time_pred_diff = time_pred_end - time_pred_start\n",
    "\n",
    "print('RMSE LGBM simple:', result.mean())\n",
    "print('Время обучения алгоритма:', time_fit_diff)\n",
    "print('Время предсказания:', time_pred_diff)\n",
    "score_table = (score_table.append({'model': 'LGBM simple', 'RMSE': result.mean(), \n",
    "                                   'fit time': time_fit_diff, 'pred time': time_pred_diff}, ignore_index=True));"
   ]
  },
  {
   "cell_type": "markdown",
   "id": "b68c332d",
   "metadata": {},
   "source": [
    "Подберем boosting_type, n_estimators, learning_rate и max_depth последовательно, чтобы уменьшить время"
   ]
  },
  {
   "cell_type": "code",
   "execution_count": 97,
   "id": "8c33d79f",
   "metadata": {},
   "outputs": [
    {
     "name": "stdout",
     "output_type": "stream",
     "text": [
      "LGBMRegressor(boosting_type='goss')\n",
      "LGMB customized: -1690.8069759353996\n",
      "Wall time: 22.4 s\n"
     ]
    }
   ],
   "source": [
    "%%time\n",
    "\n",
    "lgbm = LGBMRegressor()\n",
    "grid_params = {'boosting_type': ['goss', 'gbdt']}\n",
    "lgbm2 = GridSearchCV(lgbm, grid_params, scoring=scoring)\n",
    "lgbm2.fit(data_train_ord, target_train)\n",
    "\n",
    "print(lgbm2.best_estimator_)\n",
    "\n",
    "result = cross_val_score(lgbm2.best_estimator_, data_train_ord, target_train, cv=5, scoring=scoring);\n",
    "\n",
    "print('LGMB customized:', result.mean())"
   ]
  },
  {
   "cell_type": "code",
   "execution_count": 98,
   "id": "a1e5940a",
   "metadata": {},
   "outputs": [
    {
     "name": "stdout",
     "output_type": "stream",
     "text": [
      "LGBMRegressor(boosting_type='goss', n_estimators=2000)\n",
      "LGMB customized: -1541.1873787261352\n",
      "Wall time: 14min 44s\n"
     ]
    }
   ],
   "source": [
    "%%time\n",
    "\n",
    "lgbm = LGBMRegressor()\n",
    "grid_params = {'boosting_type': ['goss'],\n",
    "              'n_estimators': [100, 500, 1000, 2000, 3000, 5000]}\n",
    "lgbm2 = GridSearchCV(lgbm, grid_params, scoring=scoring)\n",
    "lgbm2.fit(data_train_ord, target_train)\n",
    "\n",
    "print(lgbm2.best_estimator_)\n",
    "\n",
    "result = cross_val_score(lgbm2.best_estimator_, data_train_ord, target_train, cv=5, scoring=scoring);\n",
    "\n",
    "print('LGMB customized:', result.mean())"
   ]
  },
  {
   "cell_type": "code",
   "execution_count": 100,
   "id": "5fdc7f02",
   "metadata": {},
   "outputs": [
    {
     "name": "stdout",
     "output_type": "stream",
     "text": [
      "LGBMRegressor(boosting_type='goss', n_estimators=2000)\n",
      "LGMB customized: -1541.1873787261352\n",
      "Wall time: 8min 39s\n"
     ]
    }
   ],
   "source": [
    "%%time\n",
    "\n",
    "lgbm = LGBMRegressor()\n",
    "grid_params = {'boosting_type': ['goss'],\n",
    "              'n_estimators': [2000],\n",
    "              'learning_rate': [0.01, 0.1, 0.3]}\n",
    "lgbm2 = GridSearchCV(lgbm, grid_params, scoring=scoring)\n",
    "lgbm2.fit(data_train_ord, target_train)\n",
    "\n",
    "print(lgbm2.best_estimator_)\n",
    "\n",
    "result = cross_val_score(lgbm2.best_estimator_, data_train_ord, target_train, cv=5, scoring=scoring);\n",
    "\n",
    "print('LGMB customized:', result.mean())"
   ]
  },
  {
   "cell_type": "code",
   "execution_count": 101,
   "id": "9837ba64",
   "metadata": {},
   "outputs": [
    {
     "name": "stdout",
     "output_type": "stream",
     "text": [
      "LGBMRegressor(boosting_type='goss', max_depth=10, n_estimators=3000)\n",
      "RMSE LGBM customized: -1541.763576936349\n",
      "Время обучения алгоритма: 0:00:45.832032\n",
      "Время предсказания: 0:00:38.817538\n",
      "Wall time: 19min 11s\n"
     ]
    }
   ],
   "source": [
    "%%time\n",
    "\n",
    "lgbm = LGBMRegressor()\n",
    "grid_params = {'boosting_type': ['goss'],\n",
    "              'n_estimators': [3000],\n",
    "              'max_depth': [3, 5, 10, 12, 15]}\n",
    "lgbm2 = GridSearchCV(lgbm, grid_params, scoring=scoring)\n",
    "lgbm2.fit(data_train_ord, target_train)\n",
    "\n",
    "print(lgbm2.best_estimator_)\n",
    "\n",
    "result = cross_val_score(lgbm2.best_estimator_, data_train_ord, target_train, cv=5, scoring=scoring);\n",
    "\n",
    "time_fit_start = datetime.now()\n",
    "model = lgbm2.best_estimator_\n",
    "model.fit(data_train_geo_ohe, target_train)\n",
    "time_fit_end = datetime.now()\n",
    "time_fit_diff = time_fit_end - time_fit_start\n",
    "\n",
    "time_pred_start = datetime.now()\n",
    "model.predict(data_train_geo_ohe)\n",
    "time_pred_end = datetime.now()\n",
    "time_pred_diff = time_pred_end - time_pred_start\n",
    "\n",
    "print('RMSE LGBM customized:', result.mean())\n",
    "print('Время обучения алгоритма:', time_fit_diff)\n",
    "print('Время предсказания:', time_pred_diff)\n",
    "score_table = (score_table.append({'model': 'LGBM customized', 'RMSE': result.mean(), \n",
    "                                   'fit time': time_fit_diff, 'pred time': time_pred_diff}, ignore_index=True));\n"
   ]
  },
  {
   "cell_type": "markdown",
   "id": "e2369b8f",
   "metadata": {},
   "source": [
    "LGBM дал наилучший результат из всех опробованных моделей, оторвавшись от CatBoost на единицу). Длительность его работы заметно выше ближайших соседей, но сравнима с CatBoost."
   ]
  },
  {
   "cell_type": "markdown",
   "id": "04ebdb43",
   "metadata": {},
   "source": [
    "**Проверка модели на адекватность**"
   ]
  },
  {
   "cell_type": "code",
   "execution_count": 102,
   "id": "bdeff652",
   "metadata": {},
   "outputs": [
    {
     "name": "stdout",
     "output_type": "stream",
     "text": [
      "Dummy: -4552.327506403274\n"
     ]
    }
   ],
   "source": [
    "dummy = DummyRegressor(strategy='mean')\n",
    "dummy.fit(data_train_ord, target_train)\n",
    "result = cross_val_score(dummy, data_train_ord, target_train, cv=5, scoring=scoring)\n",
    "print('Dummy:', result.mean())"
   ]
  },
  {
   "cell_type": "code",
   "execution_count": 103,
   "id": "6efa60bb",
   "metadata": {},
   "outputs": [
    {
     "data": {
      "text/html": [
       "<div>\n",
       "<style scoped>\n",
       "    .dataframe tbody tr th:only-of-type {\n",
       "        vertical-align: middle;\n",
       "    }\n",
       "\n",
       "    .dataframe tbody tr th {\n",
       "        vertical-align: top;\n",
       "    }\n",
       "\n",
       "    .dataframe thead th {\n",
       "        text-align: right;\n",
       "    }\n",
       "</style>\n",
       "<table border=\"1\" class=\"dataframe\">\n",
       "  <thead>\n",
       "    <tr style=\"text-align: right;\">\n",
       "      <th></th>\n",
       "      <th>model</th>\n",
       "      <th>RMSE</th>\n",
       "      <th>fit time</th>\n",
       "      <th>pred time</th>\n",
       "    </tr>\n",
       "  </thead>\n",
       "  <tbody>\n",
       "    <tr>\n",
       "      <th>5</th>\n",
       "      <td>KNeighborsRegressor geo</td>\n",
       "      <td>-3263.011988</td>\n",
       "      <td>0 days 00:00:02.231037</td>\n",
       "      <td>0 days 00:00:09.880921</td>\n",
       "    </tr>\n",
       "    <tr>\n",
       "      <th>2</th>\n",
       "      <td>ElasticNet</td>\n",
       "      <td>-2384.624374</td>\n",
       "      <td>0 days 00:00:14.073007</td>\n",
       "      <td>0 days 00:00:00.374913</td>\n",
       "    </tr>\n",
       "    <tr>\n",
       "      <th>3</th>\n",
       "      <td>ElasticNet geo</td>\n",
       "      <td>-2383.569247</td>\n",
       "      <td>0 days 00:00:18.045040</td>\n",
       "      <td>0 days 00:00:00.343669</td>\n",
       "    </tr>\n",
       "    <tr>\n",
       "      <th>0</th>\n",
       "      <td>LinearRegression</td>\n",
       "      <td>-2264.759458</td>\n",
       "      <td>0 days 00:00:05.873629</td>\n",
       "      <td>0 days 00:00:00.390534</td>\n",
       "    </tr>\n",
       "    <tr>\n",
       "      <th>1</th>\n",
       "      <td>LinearRegression geo</td>\n",
       "      <td>-2263.752663</td>\n",
       "      <td>0 days 00:00:05.906129</td>\n",
       "      <td>0 days 00:00:00.374912</td>\n",
       "    </tr>\n",
       "    <tr>\n",
       "      <th>4</th>\n",
       "      <td>KNeighborsRegressor</td>\n",
       "      <td>-1778.597445</td>\n",
       "      <td>0 days 00:00:01.961957</td>\n",
       "      <td>0 days 00:00:09.482785</td>\n",
       "    </tr>\n",
       "    <tr>\n",
       "      <th>9</th>\n",
       "      <td>LGBM simple</td>\n",
       "      <td>-1693.650280</td>\n",
       "      <td>0 days 00:00:01.308239</td>\n",
       "      <td>0 days 00:00:00.624854</td>\n",
       "    </tr>\n",
       "    <tr>\n",
       "      <th>6</th>\n",
       "      <td>CatBoost simple</td>\n",
       "      <td>-1607.826339</td>\n",
       "      <td>0 days 00:00:26.707191</td>\n",
       "      <td>0 days 00:00:00.140593</td>\n",
       "    </tr>\n",
       "    <tr>\n",
       "      <th>7</th>\n",
       "      <td>CatBoost simple cat</td>\n",
       "      <td>-1601.149881</td>\n",
       "      <td>0 days 00:03:46.160044</td>\n",
       "      <td>0 days 00:00:01.715111</td>\n",
       "    </tr>\n",
       "    <tr>\n",
       "      <th>8</th>\n",
       "      <td>CatBoost customized</td>\n",
       "      <td>-1542.285637</td>\n",
       "      <td>0 days 00:01:50.441762</td>\n",
       "      <td>0 days 00:00:01.848079</td>\n",
       "    </tr>\n",
       "    <tr>\n",
       "      <th>10</th>\n",
       "      <td>LGBM customized</td>\n",
       "      <td>-1541.763577</td>\n",
       "      <td>0 days 00:00:45.832032</td>\n",
       "      <td>0 days 00:00:38.817538</td>\n",
       "    </tr>\n",
       "  </tbody>\n",
       "</table>\n",
       "</div>"
      ],
      "text/plain": [
       "                      model         RMSE               fit time  \\\n",
       "5   KNeighborsRegressor geo -3263.011988 0 days 00:00:02.231037   \n",
       "2                ElasticNet -2384.624374 0 days 00:00:14.073007   \n",
       "3            ElasticNet geo -2383.569247 0 days 00:00:18.045040   \n",
       "0          LinearRegression -2264.759458 0 days 00:00:05.873629   \n",
       "1      LinearRegression geo -2263.752663 0 days 00:00:05.906129   \n",
       "4       KNeighborsRegressor -1778.597445 0 days 00:00:01.961957   \n",
       "9               LGBM simple -1693.650280 0 days 00:00:01.308239   \n",
       "6           CatBoost simple -1607.826339 0 days 00:00:26.707191   \n",
       "7       CatBoost simple cat -1601.149881 0 days 00:03:46.160044   \n",
       "8       CatBoost customized -1542.285637 0 days 00:01:50.441762   \n",
       "10          LGBM customized -1541.763577 0 days 00:00:45.832032   \n",
       "\n",
       "                pred time  \n",
       "5  0 days 00:00:09.880921  \n",
       "2  0 days 00:00:00.374913  \n",
       "3  0 days 00:00:00.343669  \n",
       "0  0 days 00:00:00.390534  \n",
       "1  0 days 00:00:00.374912  \n",
       "4  0 days 00:00:09.482785  \n",
       "9  0 days 00:00:00.624854  \n",
       "6  0 days 00:00:00.140593  \n",
       "7  0 days 00:00:01.715111  \n",
       "8  0 days 00:00:01.848079  \n",
       "10 0 days 00:00:38.817538  "
      ]
     },
     "execution_count": 103,
     "metadata": {},
     "output_type": "execute_result"
    }
   ],
   "source": [
    "score_table.sort_values('RMSE')"
   ]
  },
  {
   "cell_type": "markdown",
   "id": "c5d7a5dd",
   "metadata": {},
   "source": [
    "### Выводы"
   ]
  },
  {
   "cell_type": "markdown",
   "id": "c7b18e9c",
   "metadata": {},
   "source": [
    "Мы обучили 5 моделей: линейную регрессию, ElasticNet, CatBoost, LGBM и метод ближайших соседей. Лучший результат показал Light GBM - однако у модели достаточно большое время обучения. У метода ближайших соседей точность ниже, но время работы выше. Для тестирования опробуем две эти модели и сравним не только результат, но и время работы.</br>\n",
    "Включение почтового индекса в данные не дает значимого улучшения RMSE."
   ]
  },
  {
   "cell_type": "markdown",
   "id": "22cda498",
   "metadata": {},
   "source": [
    "<div class=\"alert alert-block alert-success\">\n",
    "    \n",
    "<b>Успех:</b> Хорошо проделан достаточно лаконично шаг! <br>Кросс-валидационные методы успешно примеенены<br> Радует большое количество моделей и подходов, наличие информативной таблицы "
   ]
  },
  {
   "cell_type": "markdown",
   "id": "b7e64410",
   "metadata": {},
   "source": [
    "<div class=\"alert alert-block alert-danger\">\n",
    "    \n",
    "<b>Ошибка:</b>   Мы должны получить время обучения и скорость предсказания отдельно друг от друга. Кстати ты их можешь вытаскивать из GridSearchCV, там есть все данные метрики в аттрибуте cv_results_).Ппотом проводится анализ и выбирается наилучшая модель. И только затем для одной наилучшей модели  проводится тестирование. \n",
    "  \n",
    "</div>"
   ]
  },
  {
   "cell_type": "markdown",
   "id": "96552db8",
   "metadata": {},
   "source": [
    "<font color='darkviolet' style='font-size:14px; font-weight:bold'>Время обучения и предсказания отдельно сделала, внесла их в табличку выше</font>"
   ]
  },
  {
   "cell_type": "markdown",
   "id": "35e0d8d3",
   "metadata": {},
   "source": [
    "\n",
    "\n",
    "<div class=\"alert alert-block alert-info\">\n",
    "<b>Совет:</b> \n",
    "\n",
    "Также если говорить, что можно ещё улучшить в подобных проектах, то я бы выделил такие моменты:<br>\n",
    "    \n",
    "1) Для понимания, а какие в итоге факторы важны при моделировании, можно выводить их важность, использую feature_importances_, ну и график заодно. Это будет смотреться очнь здорово: результативная метрика и график важности факторов)))\n",
    "    \n",
    "2) У нас разный возраст машин. Есть гипотеза, что для разных возрастов - своё ценообразование. Поэтому, можно попробовать ввести фактор \"тип возраста\" (ретро, супер-ретро, старая, новая... надо подумать..)..<br>\n",
    "\n",
    "3) У некоторых моделей семейства бустингов, есть внутренний метод кодировки данных, который хорошо было бы попробовать\n",
    "\n",
    "</div>\n"
   ]
  },
  {
   "cell_type": "markdown",
   "id": "ae59f181",
   "metadata": {},
   "source": [
    "<font color='darkviolet' style='font-size:14px; font-weight:bold'>Сделала график для фич на примере кэтбуста, ввела категории выше. Для кэтбуста и LGBM это дало улучшение метрики примерно на 10 единиц по сравнению с прошлым варианом проекта, для KN - на пять. Для кэтбуста попробовала внутреннюю кодировку данных для модели по умолчанию, результат лучше, чем при использовании OrdinalEncoder, но время возросло существенно.</font>"
   ]
  },
  {
   "cell_type": "markdown",
   "id": "f7d607a4",
   "metadata": {},
   "source": [
    "## Тестирование моделей"
   ]
  },
  {
   "cell_type": "markdown",
   "id": "42926758",
   "metadata": {},
   "source": [
    "**Метод ближайших соседей**"
   ]
  },
  {
   "cell_type": "code",
   "execution_count": 120,
   "id": "3bf70173",
   "metadata": {},
   "outputs": [
    {
     "name": "stdout",
     "output_type": "stream",
     "text": [
      "Wall time: 2.01 s\n"
     ]
    },
    {
     "data": {
      "text/plain": [
       "KNeighborsRegressor()"
      ]
     },
     "execution_count": 120,
     "metadata": {},
     "output_type": "execute_result"
    }
   ],
   "source": [
    "%%time\n",
    "knr_last = knr\n",
    "knr_last.fit(data_train_ord, target_train)"
   ]
  },
  {
   "cell_type": "code",
   "execution_count": 121,
   "id": "87dc8668",
   "metadata": {},
   "outputs": [
    {
     "name": "stdout",
     "output_type": "stream",
     "text": [
      "Wall time: 2.5 s\n"
     ]
    }
   ],
   "source": [
    "%%time\n",
    "predictions = knr_last.predict(data_test_ord)"
   ]
  },
  {
   "cell_type": "code",
   "execution_count": 122,
   "id": "19e0f4c6",
   "metadata": {},
   "outputs": [
    {
     "name": "stdout",
     "output_type": "stream",
     "text": [
      "RMSE на тестовой выборке для ближайших соседей: 1774.1360254610997\n"
     ]
    }
   ],
   "source": [
    "print('RMSE на тестовой выборке для ближайших соседей:', rmse(target_test, predictions))"
   ]
  },
  {
   "cell_type": "markdown",
   "id": "0f577f1e",
   "metadata": {},
   "source": [
    "**Light GBM**"
   ]
  },
  {
   "cell_type": "code",
   "execution_count": 123,
   "id": "6d810ef9",
   "metadata": {},
   "outputs": [
    {
     "name": "stdout",
     "output_type": "stream",
     "text": [
      "Wall time: 34.9 s\n"
     ]
    },
    {
     "data": {
      "text/plain": [
       "LGBMRegressor(boosting_type='goss', max_depth=10, n_estimators=3000)"
      ]
     },
     "execution_count": 123,
     "metadata": {},
     "output_type": "execute_result"
    }
   ],
   "source": [
    "%%time\n",
    "lgbm_last = lgbm2.best_estimator_\n",
    "lgbm_last.fit(data_train_ord, target_train)"
   ]
  },
  {
   "cell_type": "code",
   "execution_count": 124,
   "id": "458996d2",
   "metadata": {},
   "outputs": [
    {
     "name": "stdout",
     "output_type": "stream",
     "text": [
      "Wall time: 8.59 s\n"
     ]
    }
   ],
   "source": [
    "%%time\n",
    "predictions = lgbm_last.predict(data_test_ord)"
   ]
  },
  {
   "cell_type": "code",
   "execution_count": 125,
   "id": "f705a371",
   "metadata": {},
   "outputs": [
    {
     "name": "stdout",
     "output_type": "stream",
     "text": [
      "RMSE на тестовой выборке для ближайших соседей: 1544.5425675148722\n"
     ]
    }
   ],
   "source": [
    "print('RMSE на тестовой выборке для ближайших соседей:', rmse(target_test, predictions))"
   ]
  },
  {
   "cell_type": "markdown",
   "id": "7ff099fa",
   "metadata": {},
   "source": [
    "## Общий вывод"
   ]
  },
  {
   "cell_type": "markdown",
   "id": "6e8d687a",
   "metadata": {},
   "source": [
    "В данном проекте была разработана модель, предсказывающая рыночную стоимость автомобиля по его характеристиками.</br>\n",
    "Была проведена предобработка данных, удаление неинформативных объектов и выбросов, восстановление пропусков. Всего в процессе предобработки удалено 9% датасета. Обучение и тестирование проводилось на 322 365 записях.</br>\n",
    "Были отобраны признаки, проведено кодирование категориальных признаков, изучено влияние почтового индекса на точность предсказания (низкое).</br>\n",
    "Для обучения были рассмотрены: LinearRegression, ElasticNet, KNeighborsRegressor, CatBoostRegressor, LGBMRegressor. Лучшие результаты по точности и времени работы показали LGBM и KNeighbors."
   ]
  },
  {
   "cell_type": "code",
   "execution_count": null,
   "id": "ac3d849e",
   "metadata": {},
   "outputs": [],
   "source": []
  }
 ],
 "metadata": {
  "kernelspec": {
   "display_name": "Python 3 (ipykernel)",
   "language": "python",
   "name": "python3"
  },
  "language_info": {
   "codemirror_mode": {
    "name": "ipython",
    "version": 3
   },
   "file_extension": ".py",
   "mimetype": "text/x-python",
   "name": "python",
   "nbconvert_exporter": "python",
   "pygments_lexer": "ipython3",
   "version": "3.9.7"
  },
  "toc": {
   "base_numbering": 1,
   "nav_menu": {},
   "number_sections": true,
   "sideBar": true,
   "skip_h1_title": true,
   "title_cell": "Table of Contents",
   "title_sidebar": "Contents",
   "toc_cell": false,
   "toc_position": {},
   "toc_section_display": true,
   "toc_window_display": false
  }
 },
 "nbformat": 4,
 "nbformat_minor": 5
}
